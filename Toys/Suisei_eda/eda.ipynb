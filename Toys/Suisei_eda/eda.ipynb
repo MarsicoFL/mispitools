{
 "cells": [
  {
   "cell_type": "markdown",
   "id": "d4ae67dc",
   "metadata": {},
   "source": [
    "# EDA of victimas-accionar-represivo-ilegal.csv"
   ]
  },
  {
   "cell_type": "markdown",
   "id": "f48a2860",
   "metadata": {},
   "source": [
    "## Python Environment Setup"
   ]
  },
  {
   "cell_type": "markdown",
   "id": "06606110",
   "metadata": {},
   "source": [
    "This project uses a Python virtual environment to keep dependencies isolated.  \n",
    "\n",
    "### 1. Create and activate the virtual environment\n",
    "\n",
    "```bash\n",
    "# From the project root\n",
    "cd Toys/Suisei_eda\n",
    "\n",
    "# Create the venv inside this folder\n",
    "python3 -m venv venv\n",
    "\n",
    "# Activate it\n",
    "source venv/bin/activate   # macOS / Linux / zsh\n",
    "# On Windows (cmd): venv\\Scripts\\activate\n",
    "# On Windows (PowerShell): venv\\Scripts\\Activate.ps1\n",
    "```\n",
    "\n",
    "You should now see `(venv)` in your terminal prompt.\n",
    "\n",
    "---\n",
    "\n",
    "### 2. Install dependencies\n",
    "\n",
    "```bash\n",
    "pip install --upgrade pip\n",
    "pip install -r requirements.txt\n",
    "```\n",
    "\n",
    "---\n",
    "\n",
    "### 3. Running notebooks or scripts\n",
    "\n",
    "* Open the project in your IDE (VS Code, PyCharm, etc.).\n",
    "* Select the Python interpreter inside the venv:\n",
    "\n",
    "  * macOS / Linux: `Toys/Suisei_eda/venv/bin/python`\n",
    "  * Windows: `Toys\\Suisei_eda\\venv\\Scripts\\python.exe`\n",
    "* Open notebooks or Python scripts — they will run using this environment.\n",
    "\n",
    "> No JupyterLab server is required. The venv is automatically used by your IDE.\n",
    "\n",
    "---\n",
    "\n",
    "### 4. (Optional) Register the venv as a Jupyter kernel\n",
    "\n",
    "If you want to use it inside Jupyter:\n",
    "\n",
    "```bash\n",
    "source venv/bin/activate\n",
    "pip install ipykernel\n",
    "python -m ipykernel install --user --name=suisei-venv --display-name \"Python (Suisei venv)\"\n",
    "```\n",
    "\n",
    "* `--name` is internal; `--display-name` is what shows in Jupyter.\n",
    "* Open JupyterLab or Notebook and select **Python (Suisei venv)** from the kernel menu.\n"
   ]
  },
  {
   "cell_type": "code",
   "execution_count": 49,
   "id": "0d95f378",
   "metadata": {},
   "outputs": [],
   "source": [
    "# imports \n",
    "import numpy as np\n",
    "import pandas as pd\n",
    "import matplotlib.pyplot as plt\n",
    "import plotly.express as px\n",
    "from plotly.subplots import make_subplots\n",
    "import plotly.graph_objects as go\n",
    "import re\n"
   ]
  },
  {
   "cell_type": "markdown",
   "id": "c61a125b",
   "metadata": {},
   "source": [
    "## Data ingestion and cleaning"
   ]
  },
  {
   "cell_type": "code",
   "execution_count": 50,
   "id": "e7cc06fe",
   "metadata": {},
   "outputs": [
    {
     "name": "stdout",
     "output_type": "stream",
     "text": [
      "<class 'pandas.core.frame.DataFrame'>\n",
      "RangeIndex: 8632 entries, 0 to 8631\n",
      "Data columns (total 15 columns):\n",
      " #   Column                                      Non-Null Count  Dtype \n",
      "---  ------                                      --------------  ----- \n",
      " 0   anio_denuncia                               8632 non-null   int64 \n",
      " 1   tipificacion_ruvte                          8632 non-null   object\n",
      " 2   id_unico_ruvte                              8632 non-null   object\n",
      " 3   apellido_paterno_nombres                    8632 non-null   object\n",
      " 4   apellido_materno                            8330 non-null   object\n",
      " 5   apellido_casada                             1024 non-null   object\n",
      " 6   edad_al_momento_del_hecho                   8632 non-null   object\n",
      " 7   documentos                                  8632 non-null   object\n",
      " 8   anio_nacimiento                             8632 non-null   object\n",
      " 9   provincia_pais_nacimiento                   8632 non-null   object\n",
      " 10  nacionalidad                                8632 non-null   object\n",
      " 11  embarazo                                    335 non-null    object\n",
      " 12  fecha_lugar_detencion_secuestro             8624 non-null   object\n",
      " 13  fecha_lugar_asesinato_o_hallazgo_de_restos  8626 non-null   object\n",
      " 14  fotografia                                  8632 non-null   object\n",
      "dtypes: int64(1), object(14)\n",
      "memory usage: 1011.7+ KB\n",
      "None\n"
     ]
    },
    {
     "data": {
      "text/html": [
       "<div>\n",
       "<style scoped>\n",
       "    .dataframe tbody tr th:only-of-type {\n",
       "        vertical-align: middle;\n",
       "    }\n",
       "\n",
       "    .dataframe tbody tr th {\n",
       "        vertical-align: top;\n",
       "    }\n",
       "\n",
       "    .dataframe thead th {\n",
       "        text-align: right;\n",
       "    }\n",
       "</style>\n",
       "<table border=\"1\" class=\"dataframe\">\n",
       "  <thead>\n",
       "    <tr style=\"text-align: right;\">\n",
       "      <th></th>\n",
       "      <th>anio_denuncia</th>\n",
       "      <th>tipificacion_ruvte</th>\n",
       "      <th>id_unico_ruvte</th>\n",
       "      <th>apellido_paterno_nombres</th>\n",
       "      <th>apellido_materno</th>\n",
       "      <th>apellido_casada</th>\n",
       "      <th>edad_al_momento_del_hecho</th>\n",
       "      <th>documentos</th>\n",
       "      <th>anio_nacimiento</th>\n",
       "      <th>provincia_pais_nacimiento</th>\n",
       "      <th>nacionalidad</th>\n",
       "      <th>embarazo</th>\n",
       "      <th>fecha_lugar_detencion_secuestro</th>\n",
       "      <th>fecha_lugar_asesinato_o_hallazgo_de_restos</th>\n",
       "      <th>fotografia</th>\n",
       "    </tr>\n",
       "  </thead>\n",
       "  <tbody>\n",
       "    <tr>\n",
       "      <th>0</th>\n",
       "      <td>1984</td>\n",
       "      <td>DESAPARICION FORZADA</td>\n",
       "      <td>ID 5389</td>\n",
       "      <td>ABACHIAN  JUAN CARLOS</td>\n",
       "      <td>BEDROSSIAN</td>\n",
       "      <td>NaN</td>\n",
       "      <td>26 años</td>\n",
       "      <td>LE 8293245</td>\n",
       "      <td>1950</td>\n",
       "      <td>BUENOS AIRES</td>\n",
       "      <td>ARGENTINA</td>\n",
       "      <td>NaN</td>\n",
       "      <td>26/12/1976   LA PLATA  BUENOS AIRES</td>\n",
       "      <td>---</td>\n",
       "      <td>Sí</td>\n",
       "    </tr>\n",
       "    <tr>\n",
       "      <th>1</th>\n",
       "      <td>1984</td>\n",
       "      <td>DESAPARICION FORZADA</td>\n",
       "      <td>ID 87</td>\n",
       "      <td>ABAD  ANA CATALINA</td>\n",
       "      <td>SCARLATA</td>\n",
       "      <td>PERUCCA</td>\n",
       "      <td>24 años</td>\n",
       "      <td>LC 10048122</td>\n",
       "      <td>1951</td>\n",
       "      <td>MENDOZA</td>\n",
       "      <td>ARGENTINA</td>\n",
       "      <td>NaN</td>\n",
       "      <td>15/08/1976   CORDOBA  CAPITAL  CORDOBA</td>\n",
       "      <td>---</td>\n",
       "      <td>Sí</td>\n",
       "    </tr>\n",
       "    <tr>\n",
       "      <th>2</th>\n",
       "      <td>1984</td>\n",
       "      <td>DESAPARICION FORZADA</td>\n",
       "      <td>ID 11788</td>\n",
       "      <td>ABAD  JULIO RICARDO</td>\n",
       "      <td>CORONEL</td>\n",
       "      <td>NaN</td>\n",
       "      <td>21 años</td>\n",
       "      <td>DNI 10283544</td>\n",
       "      <td>1954</td>\n",
       "      <td>TUCUMAN</td>\n",
       "      <td>ARGENTINA</td>\n",
       "      <td>NaN</td>\n",
       "      <td>NOV/1976   CAPITAL FEDERAL</td>\n",
       "      <td>---</td>\n",
       "      <td>No</td>\n",
       "    </tr>\n",
       "    <tr>\n",
       "      <th>3</th>\n",
       "      <td>1984</td>\n",
       "      <td>ASESINATO</td>\n",
       "      <td>ID 9907</td>\n",
       "      <td>ABAD  OSCAR GERARDO</td>\n",
       "      <td>DOMATO</td>\n",
       "      <td>NaN</td>\n",
       "      <td>25 años</td>\n",
       "      <td>DNI 10353245</td>\n",
       "      <td>1951</td>\n",
       "      <td>BUENOS AIRES</td>\n",
       "      <td>ARGENTINA</td>\n",
       "      <td>NaN</td>\n",
       "      <td>08/10/1976   LA PLATA  BUENOS AIRES</td>\n",
       "      <td>21/10/1976   GRAL. MANSILLA (BARTOLOME BAVIO) ...</td>\n",
       "      <td>No</td>\n",
       "    </tr>\n",
       "    <tr>\n",
       "      <th>4</th>\n",
       "      <td>1984</td>\n",
       "      <td>DESAPARICION FORZADA</td>\n",
       "      <td>ID 89</td>\n",
       "      <td>ABAD  ROBERTO RODOLFO TOMAS</td>\n",
       "      <td>ZABALA</td>\n",
       "      <td>NaN</td>\n",
       "      <td>23 años</td>\n",
       "      <td>DNI 10650064</td>\n",
       "      <td>1953</td>\n",
       "      <td>CAPITAL FEDERAL</td>\n",
       "      <td>ARGENTINA</td>\n",
       "      <td>NaN</td>\n",
       "      <td>09/08/1976   FLORIDA  VICENTE LOPEZ  BUENOS AIRES</td>\n",
       "      <td>---</td>\n",
       "      <td>Sí</td>\n",
       "    </tr>\n",
       "  </tbody>\n",
       "</table>\n",
       "</div>"
      ],
      "text/plain": [
       "   anio_denuncia    tipificacion_ruvte id_unico_ruvte  \\\n",
       "0           1984  DESAPARICION FORZADA        ID 5389   \n",
       "1           1984  DESAPARICION FORZADA          ID 87   \n",
       "2           1984  DESAPARICION FORZADA       ID 11788   \n",
       "3           1984             ASESINATO        ID 9907   \n",
       "4           1984  DESAPARICION FORZADA          ID 89   \n",
       "\n",
       "      apellido_paterno_nombres apellido_materno apellido_casada  \\\n",
       "0        ABACHIAN  JUAN CARLOS       BEDROSSIAN             NaN   \n",
       "1           ABAD  ANA CATALINA         SCARLATA         PERUCCA   \n",
       "2          ABAD  JULIO RICARDO          CORONEL             NaN   \n",
       "3          ABAD  OSCAR GERARDO           DOMATO             NaN   \n",
       "4  ABAD  ROBERTO RODOLFO TOMAS           ZABALA             NaN   \n",
       "\n",
       "  edad_al_momento_del_hecho    documentos anio_nacimiento  \\\n",
       "0                   26 años    LE 8293245            1950   \n",
       "1                   24 años   LC 10048122            1951   \n",
       "2                   21 años  DNI 10283544            1954   \n",
       "3                   25 años  DNI 10353245            1951   \n",
       "4                   23 años  DNI 10650064            1953   \n",
       "\n",
       "  provincia_pais_nacimiento nacionalidad embarazo  \\\n",
       "0              BUENOS AIRES    ARGENTINA      NaN   \n",
       "1                   MENDOZA    ARGENTINA      NaN   \n",
       "2                   TUCUMAN    ARGENTINA      NaN   \n",
       "3              BUENOS AIRES    ARGENTINA      NaN   \n",
       "4           CAPITAL FEDERAL    ARGENTINA      NaN   \n",
       "\n",
       "                     fecha_lugar_detencion_secuestro  \\\n",
       "0                26/12/1976   LA PLATA  BUENOS AIRES   \n",
       "1             15/08/1976   CORDOBA  CAPITAL  CORDOBA   \n",
       "2                         NOV/1976   CAPITAL FEDERAL   \n",
       "3                08/10/1976   LA PLATA  BUENOS AIRES   \n",
       "4  09/08/1976   FLORIDA  VICENTE LOPEZ  BUENOS AIRES   \n",
       "\n",
       "          fecha_lugar_asesinato_o_hallazgo_de_restos fotografia  \n",
       "0                                                ---         Sí  \n",
       "1                                                ---         Sí  \n",
       "2                                                ---         No  \n",
       "3  21/10/1976   GRAL. MANSILLA (BARTOLOME BAVIO) ...         No  \n",
       "4                                                ---         Sí  "
      ]
     },
     "execution_count": 50,
     "metadata": {},
     "output_type": "execute_result"
    }
   ],
   "source": [
    "# ingest data and inspect columns\n",
    "\n",
    "df_raw = pd.read_csv('victimas-accionar-represivo-ilegal.csv')\n",
    "df_clean = df_raw.copy()\n",
    "\n",
    "print(df_raw.info())\n",
    "df_raw.head()\n"
   ]
  },
  {
   "cell_type": "markdown",
   "id": "6bfca720",
   "metadata": {},
   "source": [
    "The following cells clean and process the data as follows:\n",
    "- `tipificacion_ruvte`: This column describes the case, and stores values such as 'DESAPARICION FORZADA' and 'ASESINATO', often with extra details. I encoded the values into the following broader categories and added an other/unknown option to handle missing values:\n",
    "    - 'Child disappearance'\n",
    "    - 'Forced disappearance'\n",
    "    - 'Child murder'\n",
    "    - 'Murder' \n",
    "    - 'Negligent death'\n",
    "    - 'Born in captivity disappearance'\n",
    "    - 'Other / Unknown'\n",
    "- `id_unico_ruvte`: This column stores the case ID in the format 'ID xxxx'. I processed the values to be stored as ints by extracting the numeric portion.\n",
    "- `edad_al_momento_del_hecho`: This column stores the age of the missing person at time of incident in the format 'xx año(s)/mes(es)/día(s)'. I processed the values to be stored as ints in years using floor division for months and days.\n",
    "- `fecha_lugar_detencion_secuestro` and `fecha_lugar_asesinato_o_hallazgo_de_restos`: These columns store the date and location of the disappearance/murder combined. I split each into separate date and location columns (`fecha_detencion`, `lugar_detencion`, `fecha_asesinato`, `lugar_asesinato`) and parsed the dates into datetime objects. I also encoded ambiguous dates such as 'fines/09/1976' to approximated dates like '28/09/1976' and handled complex Spanish date formats and ranges.\n",
    "- `embarazo`: This column contains pregnancy status information. I normalized the values into standardized categories:\n",
    "    - 'Probably pregnant'\n",
    "    - 'Pregnant - stillbirth'\n",
    "    - 'Pregnant - child born in captivity'\n",
    "    - 'Pregnant - detained'\n",
    "    - 'Pregnant (confirmed)'\n",
    "    - 'No data'\n",
    "- `nacionalidad`: This column contained nationality information with some entries marked as naturalized (e.g., 'ARGENTINA (NATURALIZADA)'). I normalized these by extracting the base nationality and created a separate `naturalizada` boolean column to indicate naturalization status.\n",
    "- `anio_nacimiento`: Birth year column with 'sin datos' entries converted to missing values and remaining values converted to integers.\n",
    "- `fotografia`: Boolean column indicating whether a photograph exists, converted from 'Sì'/'No' to True/False.\n",
    "- String columns (`apellido_paterno_nombres`, `apellido_materno`, `apellido_casada`, `documentos`, `provincia_pais_nacimiento`): Converted to pandas string dtype for consistency.\n",
    "- `periodo`: Created a new categorical variable that classifies cases into historical periods based on detention dates: 'Pre-dictadura' (before March 24, 1976), 'Dictadura' (March 24, 1976 - December 10, 1983), and 'Post-dictadura' (after December 10, 1983)."
   ]
  },
  {
   "cell_type": "code",
   "execution_count": 51,
   "id": "2e449780",
   "metadata": {},
   "outputs": [
    {
     "name": "stdout",
     "output_type": "stream",
     "text": [
      "Unique values in column 'tipificacion_ruvte': ['DESAPARICION FORZADA' 'ASESINATO'\n",
      " 'ASESINATO / PROCEDENTE POR APLICACION DE ART. 6º DE LA LEY 24.823'\n",
      " 'DESAPARICION FORZADA / PROBADO EL DECESO'\n",
      " 'DESAPARICION FORZADA / EXHUMADOS E IDENTIFICADOS SUS RESTOS'\n",
      " 'ASESINATO / PROBADO EN CAUSA JUDICIAL'\n",
      " 'DESAPARICION FORZADA / CON INFORMACION SOBRE EL DECESO (NO PROBADO)'\n",
      " 'NIÑA \"DESAPARECIDA\" JUNTO A PADRES O ALLEGADOS'\n",
      " 'DESAPARICION FORZADA / INVESTIGADO EN CAUSA JUDICIAL'\n",
      " 'DESAPARICION FORZADA / EN INVESTIGACION'\n",
      " 'ASESINATO / EXHUMADOS E IDENTIFICADOS SUS RESTOS'\n",
      " 'NIÑO ASESINADO JUNTO A PADRES O ALLEGADOS'\n",
      " 'NIÑA ASESINADA JUNTO A PADRES O ALLEGADOS'\n",
      " 'NIÑO \"DESAPARECIDO\" JUNTO A PADRES O ALLEGADOS'\n",
      " 'ASESINATO / PROCEDENTE POR RESOLUCION JUDICIAL'\n",
      " 'ASESINATO / INVESTIGADO EN CAUSA JUDICIAL'\n",
      " 'DESAPARICION FORZADA / A DETERMINAR TIPIFICACION'\n",
      " 'NIÑO FALLECIDO POR TRATO NEGLIGENTE'\n",
      " 'ASESINATO / PROCEDENTE POR ACTO ADMINISTRATIVO EN APLICACION DE ART. 6º DE LA LEY 24.823'\n",
      " 'DESAPARICION FORZADA (NIÑA) / EXHUMADOS E IDENTIFICADOS SUS RESTOS'\n",
      " 'DESAPARICION FORZADA (NIÑO) / EXHUMADOS E IDENTIFICADOS SUS RESTOS'\n",
      " 'DESAPARICION FORZADA / PROBADO EN CAUSA JUDICIAL'\n",
      " 'NIÑA NACIDA EN CAUTIVERIO \"DESAPARECIDA\"'\n",
      " 'NIÑO ASESINADO JUNTO A PADRES O ALLEGADOS / EXHUMADOS E IDENTIFICADOS SUS RESTOS'] \n"
     ]
    },
    {
     "data": {
      "text/html": [
       "<div>\n",
       "<style scoped>\n",
       "    .dataframe tbody tr th:only-of-type {\n",
       "        vertical-align: middle;\n",
       "    }\n",
       "\n",
       "    .dataframe tbody tr th {\n",
       "        vertical-align: top;\n",
       "    }\n",
       "\n",
       "    .dataframe thead th {\n",
       "        text-align: right;\n",
       "    }\n",
       "</style>\n",
       "<table border=\"1\" class=\"dataframe\">\n",
       "  <thead>\n",
       "    <tr style=\"text-align: right;\">\n",
       "      <th></th>\n",
       "      <th>anio_denuncia</th>\n",
       "      <th>tipificacion_ruvte</th>\n",
       "      <th>id_unico_ruvte</th>\n",
       "      <th>apellido_paterno_nombres</th>\n",
       "      <th>apellido_materno</th>\n",
       "      <th>apellido_casada</th>\n",
       "      <th>edad_al_momento_del_hecho</th>\n",
       "      <th>documentos</th>\n",
       "      <th>anio_nacimiento</th>\n",
       "      <th>provincia_pais_nacimiento</th>\n",
       "      <th>nacionalidad</th>\n",
       "      <th>embarazo</th>\n",
       "      <th>fecha_lugar_detencion_secuestro</th>\n",
       "      <th>fecha_lugar_asesinato_o_hallazgo_de_restos</th>\n",
       "      <th>fotografia</th>\n",
       "    </tr>\n",
       "  </thead>\n",
       "  <tbody>\n",
       "    <tr>\n",
       "      <th>0</th>\n",
       "      <td>1984</td>\n",
       "      <td>Forced disappearance</td>\n",
       "      <td>ID 5389</td>\n",
       "      <td>ABACHIAN  JUAN CARLOS</td>\n",
       "      <td>BEDROSSIAN</td>\n",
       "      <td>NaN</td>\n",
       "      <td>26 años</td>\n",
       "      <td>LE 8293245</td>\n",
       "      <td>1950</td>\n",
       "      <td>BUENOS AIRES</td>\n",
       "      <td>ARGENTINA</td>\n",
       "      <td>NaN</td>\n",
       "      <td>26/12/1976   LA PLATA  BUENOS AIRES</td>\n",
       "      <td>---</td>\n",
       "      <td>Sí</td>\n",
       "    </tr>\n",
       "    <tr>\n",
       "      <th>1</th>\n",
       "      <td>1984</td>\n",
       "      <td>Forced disappearance</td>\n",
       "      <td>ID 87</td>\n",
       "      <td>ABAD  ANA CATALINA</td>\n",
       "      <td>SCARLATA</td>\n",
       "      <td>PERUCCA</td>\n",
       "      <td>24 años</td>\n",
       "      <td>LC 10048122</td>\n",
       "      <td>1951</td>\n",
       "      <td>MENDOZA</td>\n",
       "      <td>ARGENTINA</td>\n",
       "      <td>NaN</td>\n",
       "      <td>15/08/1976   CORDOBA  CAPITAL  CORDOBA</td>\n",
       "      <td>---</td>\n",
       "      <td>Sí</td>\n",
       "    </tr>\n",
       "    <tr>\n",
       "      <th>2</th>\n",
       "      <td>1984</td>\n",
       "      <td>Forced disappearance</td>\n",
       "      <td>ID 11788</td>\n",
       "      <td>ABAD  JULIO RICARDO</td>\n",
       "      <td>CORONEL</td>\n",
       "      <td>NaN</td>\n",
       "      <td>21 años</td>\n",
       "      <td>DNI 10283544</td>\n",
       "      <td>1954</td>\n",
       "      <td>TUCUMAN</td>\n",
       "      <td>ARGENTINA</td>\n",
       "      <td>NaN</td>\n",
       "      <td>NOV/1976   CAPITAL FEDERAL</td>\n",
       "      <td>---</td>\n",
       "      <td>No</td>\n",
       "    </tr>\n",
       "    <tr>\n",
       "      <th>3</th>\n",
       "      <td>1984</td>\n",
       "      <td>Murder</td>\n",
       "      <td>ID 9907</td>\n",
       "      <td>ABAD  OSCAR GERARDO</td>\n",
       "      <td>DOMATO</td>\n",
       "      <td>NaN</td>\n",
       "      <td>25 años</td>\n",
       "      <td>DNI 10353245</td>\n",
       "      <td>1951</td>\n",
       "      <td>BUENOS AIRES</td>\n",
       "      <td>ARGENTINA</td>\n",
       "      <td>NaN</td>\n",
       "      <td>08/10/1976   LA PLATA  BUENOS AIRES</td>\n",
       "      <td>21/10/1976   GRAL. MANSILLA (BARTOLOME BAVIO) ...</td>\n",
       "      <td>No</td>\n",
       "    </tr>\n",
       "    <tr>\n",
       "      <th>4</th>\n",
       "      <td>1984</td>\n",
       "      <td>Forced disappearance</td>\n",
       "      <td>ID 89</td>\n",
       "      <td>ABAD  ROBERTO RODOLFO TOMAS</td>\n",
       "      <td>ZABALA</td>\n",
       "      <td>NaN</td>\n",
       "      <td>23 años</td>\n",
       "      <td>DNI 10650064</td>\n",
       "      <td>1953</td>\n",
       "      <td>CAPITAL FEDERAL</td>\n",
       "      <td>ARGENTINA</td>\n",
       "      <td>NaN</td>\n",
       "      <td>09/08/1976   FLORIDA  VICENTE LOPEZ  BUENOS AIRES</td>\n",
       "      <td>---</td>\n",
       "      <td>Sí</td>\n",
       "    </tr>\n",
       "  </tbody>\n",
       "</table>\n",
       "</div>"
      ],
      "text/plain": [
       "   anio_denuncia    tipificacion_ruvte id_unico_ruvte  \\\n",
       "0           1984  Forced disappearance        ID 5389   \n",
       "1           1984  Forced disappearance          ID 87   \n",
       "2           1984  Forced disappearance       ID 11788   \n",
       "3           1984                Murder        ID 9907   \n",
       "4           1984  Forced disappearance          ID 89   \n",
       "\n",
       "      apellido_paterno_nombres apellido_materno apellido_casada  \\\n",
       "0        ABACHIAN  JUAN CARLOS       BEDROSSIAN             NaN   \n",
       "1           ABAD  ANA CATALINA         SCARLATA         PERUCCA   \n",
       "2          ABAD  JULIO RICARDO          CORONEL             NaN   \n",
       "3          ABAD  OSCAR GERARDO           DOMATO             NaN   \n",
       "4  ABAD  ROBERTO RODOLFO TOMAS           ZABALA             NaN   \n",
       "\n",
       "  edad_al_momento_del_hecho    documentos anio_nacimiento  \\\n",
       "0                   26 años    LE 8293245            1950   \n",
       "1                   24 años   LC 10048122            1951   \n",
       "2                   21 años  DNI 10283544            1954   \n",
       "3                   25 años  DNI 10353245            1951   \n",
       "4                   23 años  DNI 10650064            1953   \n",
       "\n",
       "  provincia_pais_nacimiento nacionalidad embarazo  \\\n",
       "0              BUENOS AIRES    ARGENTINA      NaN   \n",
       "1                   MENDOZA    ARGENTINA      NaN   \n",
       "2                   TUCUMAN    ARGENTINA      NaN   \n",
       "3              BUENOS AIRES    ARGENTINA      NaN   \n",
       "4           CAPITAL FEDERAL    ARGENTINA      NaN   \n",
       "\n",
       "                     fecha_lugar_detencion_secuestro  \\\n",
       "0                26/12/1976   LA PLATA  BUENOS AIRES   \n",
       "1             15/08/1976   CORDOBA  CAPITAL  CORDOBA   \n",
       "2                         NOV/1976   CAPITAL FEDERAL   \n",
       "3                08/10/1976   LA PLATA  BUENOS AIRES   \n",
       "4  09/08/1976   FLORIDA  VICENTE LOPEZ  BUENOS AIRES   \n",
       "\n",
       "          fecha_lugar_asesinato_o_hallazgo_de_restos fotografia  \n",
       "0                                                ---         Sí  \n",
       "1                                                ---         Sí  \n",
       "2                                                ---         No  \n",
       "3  21/10/1976   GRAL. MANSILLA (BARTOLOME BAVIO) ...         No  \n",
       "4                                                ---         Sí  "
      ]
     },
     "execution_count": 51,
     "metadata": {},
     "output_type": "execute_result"
    }
   ],
   "source": [
    "# encode/normalize tipificacion_ruvte\n",
    "\n",
    "# find unique vals in tipificacion_ruvte\n",
    "print(f\"Unique values in column '{'tipificacion_ruvte'}': {df_raw['tipificacion_ruvte'].unique()} \")\n",
    "\n",
    "# function to aggregate case typles into broader categories\n",
    "def normalize_case_type(value):\n",
    "    val = value.upper()\n",
    "    if 'DESAPARICION FORZADA' in val:\n",
    "        if 'NIÑO' in val or 'NIÑA' in val:\n",
    "            return 'Child disappearance'\n",
    "        return 'Forced disappearance'\n",
    "    elif 'ASESINATO' in val:\n",
    "        if 'NIÑO' in val or 'NIÑA' in val:\n",
    "            return 'Child murder'\n",
    "        return 'Murder'\n",
    "    elif 'NEGLIGENTE' in val:\n",
    "        return 'Negligent death'\n",
    "    elif 'NACIDA EN CAUTIVERIO' in val:\n",
    "        return 'Born in captivity disappearance'\n",
    "    else:\n",
    "        return 'Other / Unknown'\n",
    "\n",
    "df_clean['tipificacion_ruvte'] = df_raw['tipificacion_ruvte'].apply(normalize_case_type).astype('string')\n",
    "\n",
    "df_clean.head()\n"
   ]
  },
  {
   "cell_type": "code",
   "execution_count": 28,
   "id": "52a0f547",
   "metadata": {},
   "outputs": [
    {
     "name": "stdout",
     "output_type": "stream",
     "text": [
      "Unique values in column 'id_unico_ruvte': ['ID 5389' 'ID 87' 'ID 11788' ... 'ID 10263' 'ID 5384' 'ID 7789'] \n"
     ]
    },
    {
     "data": {
      "text/html": [
       "<div>\n",
       "<style scoped>\n",
       "    .dataframe tbody tr th:only-of-type {\n",
       "        vertical-align: middle;\n",
       "    }\n",
       "\n",
       "    .dataframe tbody tr th {\n",
       "        vertical-align: top;\n",
       "    }\n",
       "\n",
       "    .dataframe thead th {\n",
       "        text-align: right;\n",
       "    }\n",
       "</style>\n",
       "<table border=\"1\" class=\"dataframe\">\n",
       "  <thead>\n",
       "    <tr style=\"text-align: right;\">\n",
       "      <th></th>\n",
       "      <th>anio_denuncia</th>\n",
       "      <th>tipificacion_ruvte</th>\n",
       "      <th>id_unico_ruvte</th>\n",
       "      <th>apellido_paterno_nombres</th>\n",
       "      <th>apellido_materno</th>\n",
       "      <th>apellido_casada</th>\n",
       "      <th>edad_al_momento_del_hecho</th>\n",
       "      <th>documentos</th>\n",
       "      <th>anio_nacimiento</th>\n",
       "      <th>provincia_pais_nacimiento</th>\n",
       "      <th>nacionalidad</th>\n",
       "      <th>embarazo</th>\n",
       "      <th>fecha_lugar_detencion_secuestro</th>\n",
       "      <th>fecha_lugar_asesinato_o_hallazgo_de_restos</th>\n",
       "      <th>fotografia</th>\n",
       "    </tr>\n",
       "  </thead>\n",
       "  <tbody>\n",
       "    <tr>\n",
       "      <th>0</th>\n",
       "      <td>1984</td>\n",
       "      <td>Forced disappearance</td>\n",
       "      <td>5389</td>\n",
       "      <td>ABACHIAN  JUAN CARLOS</td>\n",
       "      <td>BEDROSSIAN</td>\n",
       "      <td>NaN</td>\n",
       "      <td>26 años</td>\n",
       "      <td>LE 8293245</td>\n",
       "      <td>1950</td>\n",
       "      <td>BUENOS AIRES</td>\n",
       "      <td>ARGENTINA</td>\n",
       "      <td>NaN</td>\n",
       "      <td>26/12/1976   LA PLATA  BUENOS AIRES</td>\n",
       "      <td>---</td>\n",
       "      <td>Sí</td>\n",
       "    </tr>\n",
       "    <tr>\n",
       "      <th>1</th>\n",
       "      <td>1984</td>\n",
       "      <td>Forced disappearance</td>\n",
       "      <td>87</td>\n",
       "      <td>ABAD  ANA CATALINA</td>\n",
       "      <td>SCARLATA</td>\n",
       "      <td>PERUCCA</td>\n",
       "      <td>24 años</td>\n",
       "      <td>LC 10048122</td>\n",
       "      <td>1951</td>\n",
       "      <td>MENDOZA</td>\n",
       "      <td>ARGENTINA</td>\n",
       "      <td>NaN</td>\n",
       "      <td>15/08/1976   CORDOBA  CAPITAL  CORDOBA</td>\n",
       "      <td>---</td>\n",
       "      <td>Sí</td>\n",
       "    </tr>\n",
       "    <tr>\n",
       "      <th>2</th>\n",
       "      <td>1984</td>\n",
       "      <td>Forced disappearance</td>\n",
       "      <td>11788</td>\n",
       "      <td>ABAD  JULIO RICARDO</td>\n",
       "      <td>CORONEL</td>\n",
       "      <td>NaN</td>\n",
       "      <td>21 años</td>\n",
       "      <td>DNI 10283544</td>\n",
       "      <td>1954</td>\n",
       "      <td>TUCUMAN</td>\n",
       "      <td>ARGENTINA</td>\n",
       "      <td>NaN</td>\n",
       "      <td>NOV/1976   CAPITAL FEDERAL</td>\n",
       "      <td>---</td>\n",
       "      <td>No</td>\n",
       "    </tr>\n",
       "    <tr>\n",
       "      <th>3</th>\n",
       "      <td>1984</td>\n",
       "      <td>Murder</td>\n",
       "      <td>9907</td>\n",
       "      <td>ABAD  OSCAR GERARDO</td>\n",
       "      <td>DOMATO</td>\n",
       "      <td>NaN</td>\n",
       "      <td>25 años</td>\n",
       "      <td>DNI 10353245</td>\n",
       "      <td>1951</td>\n",
       "      <td>BUENOS AIRES</td>\n",
       "      <td>ARGENTINA</td>\n",
       "      <td>NaN</td>\n",
       "      <td>08/10/1976   LA PLATA  BUENOS AIRES</td>\n",
       "      <td>21/10/1976   GRAL. MANSILLA (BARTOLOME BAVIO) ...</td>\n",
       "      <td>No</td>\n",
       "    </tr>\n",
       "    <tr>\n",
       "      <th>4</th>\n",
       "      <td>1984</td>\n",
       "      <td>Forced disappearance</td>\n",
       "      <td>89</td>\n",
       "      <td>ABAD  ROBERTO RODOLFO TOMAS</td>\n",
       "      <td>ZABALA</td>\n",
       "      <td>NaN</td>\n",
       "      <td>23 años</td>\n",
       "      <td>DNI 10650064</td>\n",
       "      <td>1953</td>\n",
       "      <td>CAPITAL FEDERAL</td>\n",
       "      <td>ARGENTINA</td>\n",
       "      <td>NaN</td>\n",
       "      <td>09/08/1976   FLORIDA  VICENTE LOPEZ  BUENOS AIRES</td>\n",
       "      <td>---</td>\n",
       "      <td>Sí</td>\n",
       "    </tr>\n",
       "  </tbody>\n",
       "</table>\n",
       "</div>"
      ],
      "text/plain": [
       "   anio_denuncia    tipificacion_ruvte  id_unico_ruvte  \\\n",
       "0           1984  Forced disappearance            5389   \n",
       "1           1984  Forced disappearance              87   \n",
       "2           1984  Forced disappearance           11788   \n",
       "3           1984                Murder            9907   \n",
       "4           1984  Forced disappearance              89   \n",
       "\n",
       "      apellido_paterno_nombres apellido_materno apellido_casada  \\\n",
       "0        ABACHIAN  JUAN CARLOS       BEDROSSIAN             NaN   \n",
       "1           ABAD  ANA CATALINA         SCARLATA         PERUCCA   \n",
       "2          ABAD  JULIO RICARDO          CORONEL             NaN   \n",
       "3          ABAD  OSCAR GERARDO           DOMATO             NaN   \n",
       "4  ABAD  ROBERTO RODOLFO TOMAS           ZABALA             NaN   \n",
       "\n",
       "  edad_al_momento_del_hecho    documentos anio_nacimiento  \\\n",
       "0                   26 años    LE 8293245            1950   \n",
       "1                   24 años   LC 10048122            1951   \n",
       "2                   21 años  DNI 10283544            1954   \n",
       "3                   25 años  DNI 10353245            1951   \n",
       "4                   23 años  DNI 10650064            1953   \n",
       "\n",
       "  provincia_pais_nacimiento nacionalidad embarazo  \\\n",
       "0              BUENOS AIRES    ARGENTINA      NaN   \n",
       "1                   MENDOZA    ARGENTINA      NaN   \n",
       "2                   TUCUMAN    ARGENTINA      NaN   \n",
       "3              BUENOS AIRES    ARGENTINA      NaN   \n",
       "4           CAPITAL FEDERAL    ARGENTINA      NaN   \n",
       "\n",
       "                     fecha_lugar_detencion_secuestro  \\\n",
       "0                26/12/1976   LA PLATA  BUENOS AIRES   \n",
       "1             15/08/1976   CORDOBA  CAPITAL  CORDOBA   \n",
       "2                         NOV/1976   CAPITAL FEDERAL   \n",
       "3                08/10/1976   LA PLATA  BUENOS AIRES   \n",
       "4  09/08/1976   FLORIDA  VICENTE LOPEZ  BUENOS AIRES   \n",
       "\n",
       "          fecha_lugar_asesinato_o_hallazgo_de_restos fotografia  \n",
       "0                                                ---         Sí  \n",
       "1                                                ---         Sí  \n",
       "2                                                ---         No  \n",
       "3  21/10/1976   GRAL. MANSILLA (BARTOLOME BAVIO) ...         No  \n",
       "4                                                ---         Sí  "
      ]
     },
     "execution_count": 28,
     "metadata": {},
     "output_type": "execute_result"
    }
   ],
   "source": [
    "# extract id_unico_ruvte as int\n",
    "\n",
    "# find unique vals in id_unico_ruvte\n",
    "print(f\"Unique values in column '{'id_unico_ruvte'}': {df_raw['id_unico_ruvte'].unique()} \")\n",
    "\n",
    "# function to extract ID as int\n",
    "def extract_id(value):\n",
    "    if 'ID' in value:\n",
    "        return int(value.split(' ')[1])\n",
    "    else:\n",
    "        return pd.NA\n",
    "\n",
    "df_clean['id_unico_ruvte'] = df_raw['id_unico_ruvte'].apply(extract_id)\n",
    "df_clean.head() "
   ]
  },
  {
   "cell_type": "code",
   "execution_count": 29,
   "id": "5e5b3502",
   "metadata": {},
   "outputs": [
    {
     "name": "stdout",
     "output_type": "stream",
     "text": [
      "Unique values in column 'edad_al_momento_del_hecho': ['26 años' '24 años' '21 años' '25 años' '23 años' '54 años' '27 años'\n",
      " '19 años' '33 años' '40 años' '43 años' '29 años' '35 años' '32 años'\n",
      " '42 años' '30 años' '17 años' '36 años' '22 años' '50 años' '65 años'\n",
      " '20 años' '34 años' '28 años' 'sin datos' '16 años' '39 años' '56 años'\n",
      " '48 años' '31 años' '37 años' '18 años' '55 años' '58 años' '38 años'\n",
      " '63 años' '1 año' '57 años' '53 años' '5 meses' '15 años' '59 años'\n",
      " '51 años' '47 años' '52 años' '13 años' '67 años' '60 años' '41 años'\n",
      " '3 años' '5 años' '44 años' '45 años' '49 años' '14 años' '61 años'\n",
      " '3 meses' '4 años' '68 años' '64 años' '62 años' '1 mes' '46 años'\n",
      " '6 años' '66 años' '74 años' '69 años' '73 años' '1 día' '7 años'\n",
      " '77 años' '4 meses' '5 días' '72 años' '9 años' '70 años' '80 años'\n",
      " '81 años' '76 años' '7 meses'] \n"
     ]
    },
    {
     "data": {
      "text/html": [
       "<div>\n",
       "<style scoped>\n",
       "    .dataframe tbody tr th:only-of-type {\n",
       "        vertical-align: middle;\n",
       "    }\n",
       "\n",
       "    .dataframe tbody tr th {\n",
       "        vertical-align: top;\n",
       "    }\n",
       "\n",
       "    .dataframe thead th {\n",
       "        text-align: right;\n",
       "    }\n",
       "</style>\n",
       "<table border=\"1\" class=\"dataframe\">\n",
       "  <thead>\n",
       "    <tr style=\"text-align: right;\">\n",
       "      <th></th>\n",
       "      <th>anio_denuncia</th>\n",
       "      <th>tipificacion_ruvte</th>\n",
       "      <th>id_unico_ruvte</th>\n",
       "      <th>apellido_paterno_nombres</th>\n",
       "      <th>apellido_materno</th>\n",
       "      <th>apellido_casada</th>\n",
       "      <th>edad_al_momento_del_hecho</th>\n",
       "      <th>documentos</th>\n",
       "      <th>anio_nacimiento</th>\n",
       "      <th>provincia_pais_nacimiento</th>\n",
       "      <th>nacionalidad</th>\n",
       "      <th>embarazo</th>\n",
       "      <th>fecha_lugar_detencion_secuestro</th>\n",
       "      <th>fecha_lugar_asesinato_o_hallazgo_de_restos</th>\n",
       "      <th>fotografia</th>\n",
       "    </tr>\n",
       "  </thead>\n",
       "  <tbody>\n",
       "    <tr>\n",
       "      <th>0</th>\n",
       "      <td>1984</td>\n",
       "      <td>Forced disappearance</td>\n",
       "      <td>5389</td>\n",
       "      <td>ABACHIAN  JUAN CARLOS</td>\n",
       "      <td>BEDROSSIAN</td>\n",
       "      <td>NaN</td>\n",
       "      <td>26</td>\n",
       "      <td>LE 8293245</td>\n",
       "      <td>1950</td>\n",
       "      <td>BUENOS AIRES</td>\n",
       "      <td>ARGENTINA</td>\n",
       "      <td>NaN</td>\n",
       "      <td>26/12/1976   LA PLATA  BUENOS AIRES</td>\n",
       "      <td>---</td>\n",
       "      <td>Sí</td>\n",
       "    </tr>\n",
       "    <tr>\n",
       "      <th>1</th>\n",
       "      <td>1984</td>\n",
       "      <td>Forced disappearance</td>\n",
       "      <td>87</td>\n",
       "      <td>ABAD  ANA CATALINA</td>\n",
       "      <td>SCARLATA</td>\n",
       "      <td>PERUCCA</td>\n",
       "      <td>24</td>\n",
       "      <td>LC 10048122</td>\n",
       "      <td>1951</td>\n",
       "      <td>MENDOZA</td>\n",
       "      <td>ARGENTINA</td>\n",
       "      <td>NaN</td>\n",
       "      <td>15/08/1976   CORDOBA  CAPITAL  CORDOBA</td>\n",
       "      <td>---</td>\n",
       "      <td>Sí</td>\n",
       "    </tr>\n",
       "    <tr>\n",
       "      <th>2</th>\n",
       "      <td>1984</td>\n",
       "      <td>Forced disappearance</td>\n",
       "      <td>11788</td>\n",
       "      <td>ABAD  JULIO RICARDO</td>\n",
       "      <td>CORONEL</td>\n",
       "      <td>NaN</td>\n",
       "      <td>21</td>\n",
       "      <td>DNI 10283544</td>\n",
       "      <td>1954</td>\n",
       "      <td>TUCUMAN</td>\n",
       "      <td>ARGENTINA</td>\n",
       "      <td>NaN</td>\n",
       "      <td>NOV/1976   CAPITAL FEDERAL</td>\n",
       "      <td>---</td>\n",
       "      <td>No</td>\n",
       "    </tr>\n",
       "    <tr>\n",
       "      <th>3</th>\n",
       "      <td>1984</td>\n",
       "      <td>Murder</td>\n",
       "      <td>9907</td>\n",
       "      <td>ABAD  OSCAR GERARDO</td>\n",
       "      <td>DOMATO</td>\n",
       "      <td>NaN</td>\n",
       "      <td>25</td>\n",
       "      <td>DNI 10353245</td>\n",
       "      <td>1951</td>\n",
       "      <td>BUENOS AIRES</td>\n",
       "      <td>ARGENTINA</td>\n",
       "      <td>NaN</td>\n",
       "      <td>08/10/1976   LA PLATA  BUENOS AIRES</td>\n",
       "      <td>21/10/1976   GRAL. MANSILLA (BARTOLOME BAVIO) ...</td>\n",
       "      <td>No</td>\n",
       "    </tr>\n",
       "    <tr>\n",
       "      <th>4</th>\n",
       "      <td>1984</td>\n",
       "      <td>Forced disappearance</td>\n",
       "      <td>89</td>\n",
       "      <td>ABAD  ROBERTO RODOLFO TOMAS</td>\n",
       "      <td>ZABALA</td>\n",
       "      <td>NaN</td>\n",
       "      <td>23</td>\n",
       "      <td>DNI 10650064</td>\n",
       "      <td>1953</td>\n",
       "      <td>CAPITAL FEDERAL</td>\n",
       "      <td>ARGENTINA</td>\n",
       "      <td>NaN</td>\n",
       "      <td>09/08/1976   FLORIDA  VICENTE LOPEZ  BUENOS AIRES</td>\n",
       "      <td>---</td>\n",
       "      <td>Sí</td>\n",
       "    </tr>\n",
       "  </tbody>\n",
       "</table>\n",
       "</div>"
      ],
      "text/plain": [
       "   anio_denuncia    tipificacion_ruvte  id_unico_ruvte  \\\n",
       "0           1984  Forced disappearance            5389   \n",
       "1           1984  Forced disappearance              87   \n",
       "2           1984  Forced disappearance           11788   \n",
       "3           1984                Murder            9907   \n",
       "4           1984  Forced disappearance              89   \n",
       "\n",
       "      apellido_paterno_nombres apellido_materno apellido_casada  \\\n",
       "0        ABACHIAN  JUAN CARLOS       BEDROSSIAN             NaN   \n",
       "1           ABAD  ANA CATALINA         SCARLATA         PERUCCA   \n",
       "2          ABAD  JULIO RICARDO          CORONEL             NaN   \n",
       "3          ABAD  OSCAR GERARDO           DOMATO             NaN   \n",
       "4  ABAD  ROBERTO RODOLFO TOMAS           ZABALA             NaN   \n",
       "\n",
       "   edad_al_momento_del_hecho    documentos anio_nacimiento  \\\n",
       "0                         26    LE 8293245            1950   \n",
       "1                         24   LC 10048122            1951   \n",
       "2                         21  DNI 10283544            1954   \n",
       "3                         25  DNI 10353245            1951   \n",
       "4                         23  DNI 10650064            1953   \n",
       "\n",
       "  provincia_pais_nacimiento nacionalidad embarazo  \\\n",
       "0              BUENOS AIRES    ARGENTINA      NaN   \n",
       "1                   MENDOZA    ARGENTINA      NaN   \n",
       "2                   TUCUMAN    ARGENTINA      NaN   \n",
       "3              BUENOS AIRES    ARGENTINA      NaN   \n",
       "4           CAPITAL FEDERAL    ARGENTINA      NaN   \n",
       "\n",
       "                     fecha_lugar_detencion_secuestro  \\\n",
       "0                26/12/1976   LA PLATA  BUENOS AIRES   \n",
       "1             15/08/1976   CORDOBA  CAPITAL  CORDOBA   \n",
       "2                         NOV/1976   CAPITAL FEDERAL   \n",
       "3                08/10/1976   LA PLATA  BUENOS AIRES   \n",
       "4  09/08/1976   FLORIDA  VICENTE LOPEZ  BUENOS AIRES   \n",
       "\n",
       "          fecha_lugar_asesinato_o_hallazgo_de_restos fotografia  \n",
       "0                                                ---         Sí  \n",
       "1                                                ---         Sí  \n",
       "2                                                ---         No  \n",
       "3  21/10/1976   GRAL. MANSILLA (BARTOLOME BAVIO) ...         No  \n",
       "4                                                ---         Sí  "
      ]
     },
     "execution_count": 29,
     "metadata": {},
     "output_type": "execute_result"
    }
   ],
   "source": [
    "# extract edad_al_momento_del_hecho as int\n",
    "\n",
    "# find unique vals in edad_al_momento_del_hecho\n",
    "print(f\"Unique values in column '{'edad_al_momento_del_hecho'}': {df_raw['edad_al_momento_del_hecho'].unique()} \")\n",
    "\n",
    "# function to extract age in years\n",
    "def extract_age(value):\n",
    "    if 'año' in value:\n",
    "        return int(value.split(' ')[0])\n",
    "    elif 'mes' in value:\n",
    "        return int(value.split(' ')[0]) // 12\n",
    "    elif 'día' in value:\n",
    "        return int(value.split(' ')[0]) // 365\n",
    "    else:\n",
    "        return pd.NA\n",
    "\n",
    "df_clean['edad_al_momento_del_hecho'] = df_raw['edad_al_momento_del_hecho'].apply(extract_age).astype('Int64')\n",
    "df_clean.head()"
   ]
  },
  {
   "cell_type": "code",
   "execution_count": 30,
   "id": "2ea332d2",
   "metadata": {},
   "outputs": [],
   "source": [
    "# function to convert mixed date formats to datetime\n",
    "\n",
    "def parse_mixed_dates(date_str):\n",
    "    if pd.isna(date_str) or date_str in ['---', '', 'nan', 'sin', 'Sin']:\n",
    "        return pd.NaT\n",
    "    \n",
    "    date_str = str(date_str).strip()\n",
    "    \n",
    "    # handle special case: just \"2ª\" \n",
    "    if date_str == '2ª':\n",
    "        return pd.NaT  # ambiguous, treat as missing\n",
    "    \n",
    "    # handle Spanish ordinals (1º = 1st, 2º = 2nd, etc.)\n",
    "    date_str = date_str.replace('1º', '01').replace('2º', '02').replace('3º', '03')\n",
    "    date_str = date_str.replace('2ª', '02')  # handle \"2ª\" -> \"02\"\n",
    "    \n",
    "    # translate Spanish months to English\n",
    "    spanish_months = {\n",
    "        'ENE': 'JAN', 'FEB': 'FEB', 'MAR': 'MAR', 'ABR': 'APR',\n",
    "        'MAY': 'MAY', 'JUN': 'JUN', 'JUL': 'JUL', 'AGO': 'AUG',\n",
    "        'SEP': 'SEP', 'OCT': 'OCT', 'NOV': 'NOV', 'DIC': 'DEC'\n",
    "    }\n",
    "    \n",
    "    for spanish, english in spanish_months.items():\n",
    "        date_str = date_str.replace(spanish, english)\n",
    "    \n",
    "    # handle Spanish text patterns including \"fines\" (end of period)\n",
    "    if 'med' in date_str.lower():\n",
    "        date_str = date_str.replace('med', '15').replace('MED', '15')\n",
    "    if 'fin' in date_str.lower() or 'fines' in date_str.lower():\n",
    "        date_str = date_str.replace('fin', '28').replace('FIN', '28').replace('fines', '28')\n",
    "    if 'princ' in date_str.lower():\n",
    "        date_str = date_str.replace('princ', '01').replace('PRINC', '01')\n",
    "    \n",
    "    # handle \"AÑO/YYYY\" and \"AÑOS/YYYY-YY\" patterns\n",
    "    if 'AÑO' in date_str.upper():\n",
    "        if 'AÑOS/' in date_str.upper():\n",
    "            year_part = date_str.upper().replace('AÑOS/', '')\n",
    "            if '-' in year_part:\n",
    "                first_year = year_part.split('-')[0]\n",
    "            else:\n",
    "                first_year = year_part\n",
    "        else:\n",
    "            first_year = date_str.upper().replace('AÑO/', '')\n",
    "        \n",
    "        try:\n",
    "            return pd.to_datetime(first_year, format='%Y')\n",
    "        except:\n",
    "            pass\n",
    "    \n",
    "    # handle date ranges with dashes\n",
    "    if '-' in date_str and '/' in date_str:\n",
    "        parts = date_str.split('-')\n",
    "        if len(parts) == 2:\n",
    "            first_part = parts[0]\n",
    "            \n",
    "            # complex day ranges like \"31/01-18/02/1977\" \n",
    "            if date_str.count('/') >= 3:\n",
    "                if first_part.count('/') == 1:  # \"31/01\" from \"31/01-18/02/1977\"\n",
    "                    year = date_str.split('/')[-1]\n",
    "                    complete_date = f\"{first_part}/{year}\"\n",
    "                    try:\n",
    "                        return pd.to_datetime(complete_date, format='%d/%m/%Y')\n",
    "                    except:\n",
    "                        pass\n",
    "                elif first_part.count('/') == 2:  # \"08/07/1976\" from \"08/07-31/12/1976\"\n",
    "                    try:\n",
    "                        return pd.to_datetime(first_part, format='%d/%m/%Y')\n",
    "                    except:\n",
    "                        pass\n",
    "            \n",
    "            # day ranges like \"02-04/11/1977\"\n",
    "            elif date_str.count('/') == 2 and first_part.isdigit():\n",
    "                month_year = '/'.join(date_str.split('/')[1:])\n",
    "                reconstructed = f\"{first_part}/{month_year}\"\n",
    "                try:\n",
    "                    return pd.to_datetime(reconstructed, format='%d/%m/%Y')\n",
    "                except:\n",
    "                    pass\n",
    "            \n",
    "            # month ranges like \"FEB-MAR/1977\"\n",
    "            elif date_str.count('/') == 1:\n",
    "                first_part = first_part + '/' + date_str.split('/')[-1]\n",
    "                try:\n",
    "                    return pd.to_datetime(first_part, format='%b/%Y')\n",
    "                except:\n",
    "                    pass\n",
    "            \n",
    "            # year ranges like \"NOV/1975-ABR/1976\"\n",
    "            else:\n",
    "                try:\n",
    "                    return pd.to_datetime(first_part, format='%b/%Y')\n",
    "                except:\n",
    "                    pass\n",
    "    \n",
    "    # try common formats\n",
    "    formats = ['%d/%m/%Y', '%m/%Y', '%Y', '%b/%Y', '%B/%Y']\n",
    "    \n",
    "    for fmt in formats:\n",
    "        try:\n",
    "            return pd.to_datetime(date_str, format=fmt)\n",
    "        except:\n",
    "            continue\n",
    "    \n",
    "    # fallback: let pandas infer\n",
    "    try:\n",
    "        return pd.to_datetime(date_str, dayfirst=True, errors='coerce')\n",
    "    except:\n",
    "        return pd.NaT"
   ]
  },
  {
   "cell_type": "code",
   "execution_count": 31,
   "id": "267abec9",
   "metadata": {},
   "outputs": [
    {
     "name": "stdout",
     "output_type": "stream",
     "text": [
      "Date range: 1962-08-23 00:00:00 to 1983-05-14 00:00:00\n",
      "Invalid dates: 1132\n",
      "Sample failed dates:\n",
      "['---', '---', '---', '---', '---', '---', '---', '---', '---', '---']\n",
      "Failed date strings after split:\n",
      "0\n",
      "---              1076\n",
      "2ª                  4\n",
      "fines/1975          4\n",
      "fines/12/1976       2\n",
      "fines/10/1976       2\n",
      "fines/07/1977       2\n",
      "fines/01/1977       2\n",
      "sin                 2\n",
      "fines/06/1976       2\n",
      "fines/1977          2\n",
      "Name: count, dtype: int64\n",
      "\n",
      "Failure breakdown:\n",
      "- Null/missing original values: 8\n",
      "- Total parsing failures: 1132\n"
     ]
    }
   ],
   "source": [
    "# split fecha_lugar_detencion_secuestro into date and location \n",
    "\n",
    "df_clean[['fecha_detencion', 'lugar_detencion']] = df_raw['fecha_lugar_detencion_secuestro'].str.split(' ', n=1, expand=True)\n",
    "df_clean['lugar_detencion'] = df_clean['lugar_detencion'].astype('string')\n",
    "\n",
    "# clean date columns\n",
    "df_clean['fecha_detencion'] = df_clean['fecha_detencion'].apply(parse_mixed_dates)\n",
    "\n",
    "print(f\"Date range: {df_clean['fecha_detencion'].min()} to {df_clean['fecha_detencion'].max()}\")\n",
    "print(f\"Invalid dates: {df_clean['fecha_detencion'].isna().sum()}\")\n",
    "\n",
    "# diagnose failed date parsing\n",
    "failed_dates = df_clean[df_clean['fecha_detencion'].isna()]['fecha_detencion'].copy()\n",
    "print(\"Sample failed dates:\")\n",
    "print(df_raw.loc[failed_dates.index, 'fecha_lugar_detencion_secuestro'].head(10).tolist())\n",
    "\n",
    "# check what the original split produced for failed cases\n",
    "failed_originals = df_raw.loc[failed_dates.index, 'fecha_lugar_detencion_secuestro'].str.split(' ', n=1, expand=True)[0]\n",
    "print(\"Failed date strings after split:\")\n",
    "print(failed_originals.value_counts().head(10))\n",
    "\n",
    "# Check if failures are due to missing/null values vs parsing issues\n",
    "print(f\"\\nFailure breakdown:\")\n",
    "print(f\"- Null/missing original values: {df_raw.loc[failed_dates.index, 'fecha_lugar_detencion_secuestro'].isna().sum()}\")\n",
    "print(f\"- Total parsing failures: {len(failed_dates)}\")\n",
    "#df_clean.head()"
   ]
  },
  {
   "cell_type": "code",
   "execution_count": 32,
   "id": "13d9adb9",
   "metadata": {},
   "outputs": [
    {
     "name": "stdout",
     "output_type": "stream",
     "text": [
      "Date range: 1967-01-12 00:00:00 to 1983-05-14 00:00:00\n",
      "Invalid dates: 6221\n",
      "Sample failed dates:\n",
      "['---', '---', '---', '---', '---', '---', '---', '---', nan, '---']\n",
      "Failed date strings after split:\n",
      "0\n",
      "---              6070\n",
      "sin               139\n",
      "fines/1975          1\n",
      "Sin                 1\n",
      "fines/1978          1\n",
      "fines/04/1978       1\n",
      "fines/02/1977       1\n",
      "fines/08/1978       1\n",
      "Name: count, dtype: int64\n",
      "\n",
      "Failure breakdown:\n",
      "- Null/missing original values: 0\n",
      "- Total parsing failures: 6221\n"
     ]
    }
   ],
   "source": [
    "# split fecha_lugar_asesinato_o_hallazgo_de_restos into date and location\n",
    "\n",
    "df_clean[['fecha_asesinato', 'lugar_asesinato']] = df_raw['fecha_lugar_asesinato_o_hallazgo_de_restos'].str.split(' ', n=1, expand=True)\n",
    "df_clean['lugar_asesinato'] = df_clean['lugar_asesinato'].astype('string')\n",
    "\n",
    "# clean date columns\n",
    "df_clean['fecha_asesinato'] = df_clean['fecha_asesinato'].apply(parse_mixed_dates)\n",
    "\n",
    "print(f\"Date range: {df_clean['fecha_asesinato'].min()} to {df_clean['fecha_asesinato'].max()}\")\n",
    "print(f\"Invalid dates: {df_clean['fecha_asesinato'].isna().sum()}\")\n",
    "\n",
    "# diagnose failed date parsing\n",
    "failed_dates = df_clean[df_clean['fecha_asesinato'].isna()]['fecha_asesinato'].copy()\n",
    "print(\"Sample failed dates:\")\n",
    "print(df_raw.loc[failed_dates.index, 'fecha_lugar_asesinato_o_hallazgo_de_restos'].head(10).tolist())\n",
    "\n",
    "# check what the original split produced for failed cases\n",
    "failed_originals = df_raw.loc[failed_dates.index, 'fecha_lugar_asesinato_o_hallazgo_de_restos'].str.split(' ', n=1, expand=True)[0]\n",
    "print(\"Failed date strings after split:\")\n",
    "print(failed_originals.value_counts().head(10))\n",
    "\n",
    "# Check if failures are due to missing/null values vs parsing issues\n",
    "print(f\"\\nFailure breakdown:\")\n",
    "print(f\"- Null/missing original values: {df_raw.loc[failed_dates.index, 'fecha_lugar_detencion_secuestro'].isna().sum()}\")\n",
    "print(f\"- Total parsing failures: {len(failed_dates)}\")\n"
   ]
  },
  {
   "cell_type": "code",
   "execution_count": 33,
   "id": "fd28020b",
   "metadata": {},
   "outputs": [],
   "source": [
    "# function to clean place names and extract province\n",
    "\n",
    "# list of Argentine provinces / common place tokens (upper-case)\n",
    "arg_provinces = [\n",
    "    \"CIUDAD AUTONOMA DE BUENOS AIRES\", \"CAPITAL FEDERAL\", \"BUENOS AIRES\",\n",
    "    \"CATAMARCA\", \"CHACO\", \"CHUBUT\", \"CORDOBA\", \"CORRIENTES\", \"ENTRE RIOS\",\n",
    "    \"FORMOSA\", \"JUJUY\", \"LA PAMPA\", \"LA RIOJA\", \"MENDOZA\", \"MISIONES\",\n",
    "    \"NEUQUEN\", \"RIO NEGRO\", \"SALTA\", \"SAN JUAN\", \"SAN LUIS\", \"SANTA CRUZ\",\n",
    "    \"SANTA FE\", \"SANTIAGO DEL ESTERO\", \"TIERRA DEL FUEGO\", \"TUCUMAN\"\n",
    "]\n",
    "# sort by length to prefer longer matches first (e.g. \"TIERRA DEL FUEGO\" before \"FUEGO\")\n",
    "arg_provinces = sorted(arg_provinces, key=lambda x: -len(x))\n",
    "\n",
    "def clean_place_and_extract_province(raw_place):\n",
    "    if pd.isna(raw_place):\n",
    "        return pd.NA, pd.NA\n",
    "    s = str(raw_place).strip()\n",
    "    # mark common \"empty\" tokens as missing\n",
    "    if s == \"\" or s == \"---\" or s.lower().startswith(\"sin datos\"):\n",
    "        return pd.NA, pd.NA\n",
    "\n",
    "    # normalize spacing and punctuation, uppercase\n",
    "    s = re.sub(r\"[\\.,;\\/\\\\\\(\\)\\[\\]]\", \" \", s)         # remove common punctuation\n",
    "    s = re.sub(r\"\\s+\", \" \", s).strip().upper()\n",
    "\n",
    "    # remove stray leading numeric tokens or ordinal markers like \"1\" or \"1º\" or \"2ª\"\n",
    "    s = re.sub(r\"^(?:\\d+º?ª?\\s+)+\", \"\", s)\n",
    "    s = re.sub(r\"^\\d+\\s*\", \"\", s)\n",
    "\n",
    "    # common normalization: CAPITAL FEDERAL -> CIUDAD AUTONOMA DE BUENOS AIRES\n",
    "    s = s.replace(\"CAPITAL FEDERAL\", \"CIUDAD AUTONOMA DE BUENOS AIRES\")\n",
    "    s = s.replace(\"CABA\", \"CIUDAD AUTONOMA DE BUENOS AIRES\")\n",
    "\n",
    "    # Try to find a known province substring\n",
    "    province_found = pd.NA\n",
    "    for p in arg_provinces:\n",
    "        if p in s:\n",
    "            province_found = p\n",
    "            break\n",
    "\n",
    "    # fallback: use last token (word) if nothing matched\n",
    "    if pd.isna(province_found):\n",
    "        tokens = s.split()\n",
    "        province_found = tokens[-1] if tokens else pd.NA\n",
    "\n",
    "    return s, province_found\n",
    "\n"
   ]
  },
  {
   "cell_type": "code",
   "execution_count": 34,
   "id": "21b10187",
   "metadata": {},
   "outputs": [
    {
     "name": "stdout",
     "output_type": "stream",
     "text": [
      "\n",
      "--- Post-cleaning lugar_detencion diagnostics ---\n",
      "Missing/empty lugar_detencion_clean: 1133 / 8632\n",
      "\n",
      "Top cleaned lugar_detencion (head 20):\n",
      "lugar_detencion_clean\n",
      "CIUDAD AUTONOMA DE BUENOS AIRES                      1929\n",
      "CORDOBA CAPITAL CORDOBA                               532\n",
      "LA PLATA BUENOS AIRES                                 421\n",
      "SAN MIGUEL DE TUCUMAN CAPITAL TUCUMAN                 285\n",
      "ROSARIO SANTA FE                                      241\n",
      "MAR DEL PLATA GRAL PUEYRREDON BUENOS AIRES            220\n",
      "BAHIA BLANCA BUENOS AIRES                              69\n",
      "CAMPANA BUENOS AIRES                                   58\n",
      "SALTA CAPITAL SALTA                                    54\n",
      "MENDOZA CAPITAL MENDOZA                                54\n",
      "ZARATE BUENOS AIRES                                    53\n",
      "RAMOS MEJIA LA MATANZA BUENOS AIRES                    52\n",
      "CASEROS TRES DE FEBRERO BUENOS AIRES                   51\n",
      "MORON BUENOS AIRES                                     49\n",
      "GRAL SAN MARTIN BUENOS AIRES                           49\n",
      "CIUDAD AUTONOMA DE BUENOS AIRES GRAN BUENOS AIRES      47\n",
      "BOULOGNE SUR MER SAN ISIDRO BUENOS AIRES               47\n",
      "SAN SALVADOR DE JUJUY DR MANUEL BELGRANO JUJUY         46\n",
      "AVELLANEDA BUENOS AIRES                                45\n",
      "SAN JUSTO LA MATANZA BUENOS AIRES                      41\n",
      "Name: count, dtype: int64\n",
      "\n",
      "Provincia_detencion_simple distribution:\n",
      "provincia_detencion_simple\n",
      "BUENOS AIRES                       3238\n",
      "CIUDAD AUTONOMA DE BUENOS AIRES    2009\n",
      "Other                              1290\n",
      "TUCUMAN                             673\n",
      "CORDOBA                             645\n",
      "SANTA FE                            344\n",
      "MENDOZA                             143\n",
      "SALTA                                92\n",
      "JUJUY                                69\n",
      "SANTIAGO DEL ESTERO                  34\n",
      "CORRIENTES                           34\n",
      "SAN JUAN                             31\n",
      "CHACO                                30\n",
      "Name: count, dtype: int64\n"
     ]
    }
   ],
   "source": [
    "# apply to lugar_detencion \n",
    "src_ld = df_clean.get('lugar_detencion', df_raw.get('fecha_lugar_detencion_secuestro', pd.Series([pd.NA]*len(df_clean))))\n",
    "cleaned = df_clean['lugar_detencion'].fillna(df_raw.get('fecha_lugar_detencion_secuestro', pd.Series([pd.NA]*len(df_clean))))\n",
    "res = cleaned.apply(lambda x: clean_place_and_extract_province(x))\n",
    "df_clean['lugar_detencion_clean'] = [r[0] for r in res]\n",
    "df_clean['provincia_detencion'] = [r[1] for r in res]\n",
    "\n",
    "# simplified province: keep top N, else 'Other'\n",
    "top_provinces = df_clean['provincia_detencion'].value_counts().head(12).index\n",
    "df_clean['provincia_detencion_simple'] = df_clean['provincia_detencion'].apply(lambda x: x if x in top_provinces else 'Other')\n",
    "\n",
    "# quick diagnostics after improved cleaning\n",
    "print(\"\\n--- Post-cleaning lugar_detencion diagnostics ---\")\n",
    "ld = df_clean['lugar_detencion_clean'].fillna('').str.strip()\n",
    "print(f\"Missing/empty lugar_detencion_clean: {(ld=='').sum()} / {len(df_clean)}\")\n",
    "print(\"\\nTop cleaned lugar_detencion (head 20):\")\n",
    "print(df_clean['lugar_detencion_clean'].value_counts(dropna=True).head(20))\n",
    "\n",
    "print(\"\\nProvincia_detencion_simple distribution:\")\n",
    "print(df_clean['provincia_detencion_simple'].value_counts(dropna=False).head(20))\n"
   ]
  },
  {
   "cell_type": "code",
   "execution_count": 35,
   "id": "fa329148",
   "metadata": {},
   "outputs": [
    {
     "name": "stdout",
     "output_type": "stream",
     "text": [
      "\n",
      "--- Post-cleaning lugar_asesinato diagnostics ---\n",
      "Missing/empty lugar_asesinato_clean: 6078 / 8632\n",
      "\n",
      "Top cleaned lugar_asesinato (head 20):\n",
      "lugar_asesinato_clean\n",
      "CIUDAD AUTONOMA DE BUENOS AIRES                         265\n",
      "CORDOBA CAPITAL CORDOBA                                 185\n",
      "ROSARIO SANTA FE                                        131\n",
      "LA PLATA BUENOS AIRES                                    86\n",
      "DATOS FECHA TUCUMAN                                      77\n",
      "BERNAL QUILMES BUENOS AIRES                              57\n",
      "MAR DEL PLATA GRAL PUEYRREDON BUENOS AIRES               48\n",
      "SANTA FE LA CAPITAL SANTA FE                             46\n",
      "DATOS FECHA AVELLANEDA BUENOS AIRES                      44\n",
      "BAHIA BLANCA BUENOS AIRES                                41\n",
      "SAN MIGUEL DE TUCUMAN CAPITAL TUCUMAN                    41\n",
      "AVELLANEDA BUENOS AIRES                                  35\n",
      "FATIMA PILAR BUENOS AIRES                                23\n",
      "CIUDADELA TRES DE FEBRERO BUENOS AIRES                   22\n",
      "SARANDI AVELLANEDA BUENOS AIRES                          21\n",
      "VILLA DOMINICO AVELLANEDA BUENOS AIRES                   18\n",
      "EZEIZA EX PARTIDO DE ESTEBAN ECHEVERRIA BUENOS AIRES     17\n",
      "FORMOSA FORMOSA                                          17\n",
      "MARGARITA BELEN 1º DE MAYO CHACO                         17\n",
      "TEMPERLEY LOMAS DE ZAMORA BUENOS AIRES                   17\n",
      "Name: count, dtype: int64\n",
      "\n",
      "Provincia_asesinato_simple distribution:\n",
      "provincia_asesinato_simple\n",
      "Other                              6153\n",
      "BUENOS AIRES                       1269\n",
      "SANTA FE                            286\n",
      "CORDOBA                             272\n",
      "CIUDAD AUTONOMA DE BUENOS AIRES     266\n",
      "TUCUMAN                             232\n",
      "SALTA                                33\n",
      "FORMOSA                              23\n",
      "CHACO                                22\n",
      "MENDOZA                              22\n",
      "CHUBUT                               19\n",
      "CATAMARCA                            18\n",
      "URUGUAY                              17\n",
      "Name: count, dtype: int64\n"
     ]
    }
   ],
   "source": [
    "# apply same logic to lugar_asesinato\n",
    "cleaned_a = df_clean['lugar_asesinato'].fillna(df_raw.get('fecha_lugar_asesinato_o_hallazgo_de_restos', pd.Series([pd.NA]*len(df_clean))))\n",
    "res_a = cleaned_a.apply(lambda x: clean_place_and_extract_province(x))\n",
    "df_clean['lugar_asesinato_clean'] = [r[0] for r in res_a]\n",
    "df_clean['provincia_asesinato'] = [r[1] for r in res_a]\n",
    "top_provinces_a = df_clean['provincia_asesinato'].value_counts().head(12).index\n",
    "df_clean['provincia_asesinato_simple'] = df_clean['provincia_asesinato'].apply(lambda x: x if x in top_provinces_a else 'Other')\n",
    "\n",
    "print(\"\\n--- Post-cleaning lugar_asesinato diagnostics ---\")\n",
    "la = df_clean['lugar_asesinato_clean'].fillna('').str.strip()\n",
    "print(f\"Missing/empty lugar_asesinato_clean: {(la=='').sum()} / {len(df_clean)}\")\n",
    "print(\"\\nTop cleaned lugar_asesinato (head 20):\")\n",
    "print(df_clean['lugar_asesinato_clean'].value_counts(dropna=True).head(20))\n",
    "\n",
    "print(\"\\nProvincia_asesinato_simple distribution:\")\n",
    "print(df_clean['provincia_asesinato_simple'].value_counts(dropna=False).head(20))\n"
   ]
  },
  {
   "cell_type": "code",
   "execution_count": 36,
   "id": "39583ab3",
   "metadata": {},
   "outputs": [],
   "source": [
    "# drop obsolete raw place/date columns now that cleaned versions exist\n",
    "cols_to_drop = [\n",
    "    'lugar_detencion', 'lugar_asesinato',\n",
    "    'fecha_lugar_detencion_secuestro', 'fecha_lugar_asesinato_o_hallazgo_de_restos',\n",
    "    'provincia_detencion', 'provincia_asesinato'\n",
    "]\n",
    "existing_to_drop = [c for c in cols_to_drop if c in df_clean.columns]\n",
    "df_clean.drop(columns=existing_to_drop, inplace=True, errors='ignore')"
   ]
  },
  {
   "cell_type": "code",
   "execution_count": 37,
   "id": "5fa30f2d",
   "metadata": {},
   "outputs": [],
   "source": [
    "# normalize 'embarazo' column\n",
    "\n",
    "def normalize_embarazo(value):\n",
    "    if pd.isna(value):\n",
    "        return 'No data'\n",
    "    v = value.upper()\n",
    "    if 'PROBABLE' in v or 'APARENTE' in v:\n",
    "        return 'Probably pregnant'\n",
    "    elif 'SIN VIDA' in v:\n",
    "        return 'Pregnant - stillbirth'\n",
    "    elif 'CAUTIVERIO' in v:\n",
    "        return 'Pregnant - child born in captivity'\n",
    "    elif 'RECLUSION' in v:\n",
    "        return 'Pregnant -  detained'\n",
    "    elif 'EMBARAZADA' in v:\n",
    "        return 'Pregnant (confirmed)'\n",
    "    else:\n",
    "        return 'No data'\n",
    "\n",
    "df_clean['embarazo'] = df_raw['embarazo'].apply(normalize_embarazo).astype('string')\n"
   ]
  },
  {
   "cell_type": "code",
   "execution_count": 38,
   "id": "ed46973c",
   "metadata": {},
   "outputs": [
    {
     "name": "stdout",
     "output_type": "stream",
     "text": [
      "Nationality value counts:\n",
      "nacionalidad\n",
      "ARGENTINA         8129\n",
      "URUGUAYA           154\n",
      "CHILENA             83\n",
      "PARAGUAYA           76\n",
      "ITALIANA            44\n",
      "ESPAÑOLA            43\n",
      "BOLIVIANA           31\n",
      "PERUANA             21\n",
      "BRASILEÑA           10\n",
      "FRANCESA             8\n",
      "COLOMBIANA           4\n",
      "ESTADOUNIDENSE       3\n",
      "ALEMANA              3\n",
      "BRITANICA            3\n",
      "VENEZOLANA           2\n",
      "POLACA               2\n",
      "CUBANA               2\n",
      "MEXICANA             2\n",
      "CHECOESLOVACA        2\n",
      "RUMANA               1\n",
      "PORTUGUESA           1\n",
      "GUATEMALTECA         1\n",
      "SUECA                1\n",
      "JAPONESA             1\n",
      "AUSTRIACA            1\n",
      "YUGOESLAVA           1\n",
      "GRIEGA               1\n",
      "SUIZA                1\n",
      "FINLANDESA           1\n",
      "Name: count, dtype: Int64\n",
      "\n",
      "Naturalized people: 73\n",
      "Naturalized by nationality:\n",
      "nacionalidad\n",
      "ARGENTINA    72\n",
      "URUGUAYA      1\n",
      "Name: count, dtype: Int64\n"
     ]
    }
   ],
   "source": [
    "# normalize 'nacionalidad' column \n",
    "\n",
    "def normalize_nacionalidad(value):\n",
    "    if pd.isna(value):\n",
    "        return 'Unknown', False\n",
    "    \n",
    "    v = value.upper().strip()\n",
    "    \n",
    "    # Check if any nationality is naturalized\n",
    "    if 'NATURALIZAD' in v:\n",
    "        # Extract the base nationality (remove the naturalization part)\n",
    "        if 'ARGENTINA' in v:\n",
    "            return 'ARGENTINA', True\n",
    "        elif 'URUGUAYA' in v:\n",
    "            return 'URUGUAYA', True\n",
    "        else:\n",
    "            # Fallback: remove the parenthetical part\n",
    "            base_nationality = v.split('(')[0].strip()\n",
    "            return base_nationality, True\n",
    "    else:\n",
    "        # Not naturalized, return as-is\n",
    "        return v, False\n",
    "\n",
    "# Apply the function and split results\n",
    "nationality_data = df_raw['nacionalidad'].apply(normalize_nacionalidad)\n",
    "df_clean['nacionalidad'] = [x[0] for x in nationality_data]\n",
    "df_clean['naturalizada'] = [x[1] for x in nationality_data]\n",
    "\n",
    "# Convert to appropriate dtypes\n",
    "df_clean['nacionalidad'] = df_clean['nacionalidad'].astype('string')\n",
    "df_clean['naturalizada'] = df_clean['naturalizada'].astype('boolean')\n",
    "\n",
    "# Check results\n",
    "print(\"Nationality value counts:\")\n",
    "print(df_clean['nacionalidad'].value_counts())\n",
    "print(f\"\\nNaturalized people: {df_clean['naturalizada'].sum()}\")\n",
    "print(f\"Naturalized by nationality:\")\n",
    "print(df_clean[df_clean['naturalizada'] == True]['nacionalidad'].value_counts())"
   ]
  },
  {
   "cell_type": "code",
   "execution_count": 39,
   "id": "8962c935",
   "metadata": {},
   "outputs": [],
   "source": [
    "# convert other columns to strings/ints/booleans as needed\n",
    "\n",
    "string_cols = ['apellido_paterno_nombres', 'apellido_materno', 'apellido_casada', 'documentos', 'provincia_pais_nacimiento']\n",
    "\n",
    "for col in string_cols:\n",
    "    df_clean[col] = df_raw[col].astype('string')\n",
    "\n",
    "def convert_to_int(value):\n",
    "    if value == 'sin datos':\n",
    "        return pd.NA\n",
    "    else:\n",
    "        return int(value)\n",
    "        \n",
    "df_clean['anio_nacimiento'] = df_raw['anio_nacimiento'].apply(convert_to_int).astype('Int64')\n",
    "\n",
    "def convert_to_bool(value):\n",
    "    if value == 'Sì':\n",
    "        return True\n",
    "    elif value == 'No':\n",
    "        return False\n",
    "    else:\n",
    "        return pd.NA\n",
    "\n",
    "df_clean['fotografia'] = df_raw['fotografia'].map({'Sì': True, 'No': False}).astype('boolean')"
   ]
  },
  {
   "cell_type": "code",
   "execution_count": 40,
   "id": "d04c3938",
   "metadata": {},
   "outputs": [],
   "source": [
    "# categorize by historical periods of fecha_detencion\n",
    "df_clean['periodo'] = pd.cut(\n",
    "    df_clean['fecha_detencion'],\n",
    "    bins=[pd.Timestamp('1900-01-01'),\n",
    "          pd.Timestamp('1976-03-24'),\n",
    "          pd.Timestamp('1983-12-10'),\n",
    "          pd.Timestamp('2100-01-01')],\n",
    "    labels=['Pre-dictadura', 'Dictadura', 'Post-dictadura']\n",
    ")\n"
   ]
  },
  {
   "cell_type": "code",
   "execution_count": null,
   "id": "6ac7ce70",
   "metadata": {},
   "outputs": [
    {
     "name": "stdout",
     "output_type": "stream",
     "text": [
      "<class 'pandas.core.frame.DataFrame'>\n",
      "RangeIndex: 8632 entries, 0 to 8631\n",
      "Data columns (total 21 columns):\n",
      " #   Column                      Non-Null Count  Dtype         \n",
      "---  ------                      --------------  -----         \n",
      " 0   anio_denuncia               8632 non-null   int64         \n",
      " 1   tipificacion_ruvte          8632 non-null   string        \n",
      " 2   id_unico_ruvte              8632 non-null   int64         \n",
      " 3   apellido_paterno_nombres    8632 non-null   string        \n",
      " 4   apellido_materno            8330 non-null   string        \n",
      " 5   apellido_casada             1024 non-null   string        \n",
      " 6   edad_al_momento_del_hecho   8557 non-null   Int64         \n",
      " 7   documentos                  8632 non-null   string        \n",
      " 8   anio_nacimiento             8472 non-null   Int64         \n",
      " 9   provincia_pais_nacimiento   8632 non-null   string        \n",
      " 10  nacionalidad                8632 non-null   string        \n",
      " 11  embarazo                    8632 non-null   string        \n",
      " 12  fotografia                  1763 non-null   boolean       \n",
      " 13  fecha_detencion             7500 non-null   datetime64[ns]\n",
      " 14  fecha_asesinato             2411 non-null   datetime64[ns]\n",
      " 15  lugar_detencion_clean       7499 non-null   object        \n",
      " 16  provincia_detencion_simple  8632 non-null   object        \n",
      " 17  lugar_asesinato_clean       2554 non-null   object        \n",
      " 18  provincia_asesinato_simple  8632 non-null   object        \n",
      " 19  naturalizada                8632 non-null   boolean       \n",
      " 20  periodo                     7500 non-null   category      \n",
      "dtypes: Int64(2), boolean(2), category(1), datetime64[ns](2), int64(2), object(4), string(8)\n",
      "memory usage: 1.2+ MB\n",
      "None\n"
     ]
    },
    {
     "data": {
      "text/html": [
       "<div>\n",
       "<style scoped>\n",
       "    .dataframe tbody tr th:only-of-type {\n",
       "        vertical-align: middle;\n",
       "    }\n",
       "\n",
       "    .dataframe tbody tr th {\n",
       "        vertical-align: top;\n",
       "    }\n",
       "\n",
       "    .dataframe thead th {\n",
       "        text-align: right;\n",
       "    }\n",
       "</style>\n",
       "<table border=\"1\" class=\"dataframe\">\n",
       "  <thead>\n",
       "    <tr style=\"text-align: right;\">\n",
       "      <th></th>\n",
       "      <th>anio_denuncia</th>\n",
       "      <th>tipificacion_ruvte</th>\n",
       "      <th>id_unico_ruvte</th>\n",
       "      <th>apellido_paterno_nombres</th>\n",
       "      <th>apellido_materno</th>\n",
       "      <th>apellido_casada</th>\n",
       "      <th>edad_al_momento_del_hecho</th>\n",
       "      <th>documentos</th>\n",
       "      <th>anio_nacimiento</th>\n",
       "      <th>provincia_pais_nacimiento</th>\n",
       "      <th>...</th>\n",
       "      <th>embarazo</th>\n",
       "      <th>fotografia</th>\n",
       "      <th>fecha_detencion</th>\n",
       "      <th>fecha_asesinato</th>\n",
       "      <th>lugar_detencion_clean</th>\n",
       "      <th>provincia_detencion_simple</th>\n",
       "      <th>lugar_asesinato_clean</th>\n",
       "      <th>provincia_asesinato_simple</th>\n",
       "      <th>naturalizada</th>\n",
       "      <th>periodo</th>\n",
       "    </tr>\n",
       "  </thead>\n",
       "  <tbody>\n",
       "    <tr>\n",
       "      <th>0</th>\n",
       "      <td>1984</td>\n",
       "      <td>Forced disappearance</td>\n",
       "      <td>5389</td>\n",
       "      <td>ABACHIAN  JUAN CARLOS</td>\n",
       "      <td>BEDROSSIAN</td>\n",
       "      <td>&lt;NA&gt;</td>\n",
       "      <td>26</td>\n",
       "      <td>LE 8293245</td>\n",
       "      <td>1950</td>\n",
       "      <td>BUENOS AIRES</td>\n",
       "      <td>...</td>\n",
       "      <td>No data</td>\n",
       "      <td>&lt;NA&gt;</td>\n",
       "      <td>1976-12-26</td>\n",
       "      <td>NaT</td>\n",
       "      <td>LA PLATA BUENOS AIRES</td>\n",
       "      <td>BUENOS AIRES</td>\n",
       "      <td>&lt;NA&gt;</td>\n",
       "      <td>Other</td>\n",
       "      <td>False</td>\n",
       "      <td>Dictadura</td>\n",
       "    </tr>\n",
       "    <tr>\n",
       "      <th>1</th>\n",
       "      <td>1984</td>\n",
       "      <td>Forced disappearance</td>\n",
       "      <td>87</td>\n",
       "      <td>ABAD  ANA CATALINA</td>\n",
       "      <td>SCARLATA</td>\n",
       "      <td>PERUCCA</td>\n",
       "      <td>24</td>\n",
       "      <td>LC 10048122</td>\n",
       "      <td>1951</td>\n",
       "      <td>MENDOZA</td>\n",
       "      <td>...</td>\n",
       "      <td>No data</td>\n",
       "      <td>&lt;NA&gt;</td>\n",
       "      <td>1976-08-15</td>\n",
       "      <td>NaT</td>\n",
       "      <td>CORDOBA CAPITAL CORDOBA</td>\n",
       "      <td>CORDOBA</td>\n",
       "      <td>&lt;NA&gt;</td>\n",
       "      <td>Other</td>\n",
       "      <td>False</td>\n",
       "      <td>Dictadura</td>\n",
       "    </tr>\n",
       "    <tr>\n",
       "      <th>2</th>\n",
       "      <td>1984</td>\n",
       "      <td>Forced disappearance</td>\n",
       "      <td>11788</td>\n",
       "      <td>ABAD  JULIO RICARDO</td>\n",
       "      <td>CORONEL</td>\n",
       "      <td>&lt;NA&gt;</td>\n",
       "      <td>21</td>\n",
       "      <td>DNI 10283544</td>\n",
       "      <td>1954</td>\n",
       "      <td>TUCUMAN</td>\n",
       "      <td>...</td>\n",
       "      <td>No data</td>\n",
       "      <td>False</td>\n",
       "      <td>1976-11-01</td>\n",
       "      <td>NaT</td>\n",
       "      <td>CIUDAD AUTONOMA DE BUENOS AIRES</td>\n",
       "      <td>CIUDAD AUTONOMA DE BUENOS AIRES</td>\n",
       "      <td>&lt;NA&gt;</td>\n",
       "      <td>Other</td>\n",
       "      <td>False</td>\n",
       "      <td>Dictadura</td>\n",
       "    </tr>\n",
       "    <tr>\n",
       "      <th>3</th>\n",
       "      <td>1984</td>\n",
       "      <td>Murder</td>\n",
       "      <td>9907</td>\n",
       "      <td>ABAD  OSCAR GERARDO</td>\n",
       "      <td>DOMATO</td>\n",
       "      <td>&lt;NA&gt;</td>\n",
       "      <td>25</td>\n",
       "      <td>DNI 10353245</td>\n",
       "      <td>1951</td>\n",
       "      <td>BUENOS AIRES</td>\n",
       "      <td>...</td>\n",
       "      <td>No data</td>\n",
       "      <td>False</td>\n",
       "      <td>1976-10-08</td>\n",
       "      <td>1976-10-21</td>\n",
       "      <td>LA PLATA BUENOS AIRES</td>\n",
       "      <td>BUENOS AIRES</td>\n",
       "      <td>GRAL MANSILLA BARTOLOME BAVIO MAGDALENA BUENOS...</td>\n",
       "      <td>BUENOS AIRES</td>\n",
       "      <td>False</td>\n",
       "      <td>Dictadura</td>\n",
       "    </tr>\n",
       "    <tr>\n",
       "      <th>4</th>\n",
       "      <td>1984</td>\n",
       "      <td>Forced disappearance</td>\n",
       "      <td>89</td>\n",
       "      <td>ABAD  ROBERTO RODOLFO TOMAS</td>\n",
       "      <td>ZABALA</td>\n",
       "      <td>&lt;NA&gt;</td>\n",
       "      <td>23</td>\n",
       "      <td>DNI 10650064</td>\n",
       "      <td>1953</td>\n",
       "      <td>CAPITAL FEDERAL</td>\n",
       "      <td>...</td>\n",
       "      <td>No data</td>\n",
       "      <td>&lt;NA&gt;</td>\n",
       "      <td>1976-08-09</td>\n",
       "      <td>NaT</td>\n",
       "      <td>FLORIDA VICENTE LOPEZ BUENOS AIRES</td>\n",
       "      <td>BUENOS AIRES</td>\n",
       "      <td>&lt;NA&gt;</td>\n",
       "      <td>Other</td>\n",
       "      <td>False</td>\n",
       "      <td>Dictadura</td>\n",
       "    </tr>\n",
       "  </tbody>\n",
       "</table>\n",
       "<p>5 rows × 21 columns</p>\n",
       "</div>"
      ],
      "text/plain": [
       "   anio_denuncia    tipificacion_ruvte  id_unico_ruvte  \\\n",
       "0           1984  Forced disappearance            5389   \n",
       "1           1984  Forced disappearance              87   \n",
       "2           1984  Forced disappearance           11788   \n",
       "3           1984                Murder            9907   \n",
       "4           1984  Forced disappearance              89   \n",
       "\n",
       "      apellido_paterno_nombres apellido_materno apellido_casada  \\\n",
       "0        ABACHIAN  JUAN CARLOS       BEDROSSIAN            <NA>   \n",
       "1           ABAD  ANA CATALINA         SCARLATA         PERUCCA   \n",
       "2          ABAD  JULIO RICARDO          CORONEL            <NA>   \n",
       "3          ABAD  OSCAR GERARDO           DOMATO            <NA>   \n",
       "4  ABAD  ROBERTO RODOLFO TOMAS           ZABALA            <NA>   \n",
       "\n",
       "   edad_al_momento_del_hecho    documentos  anio_nacimiento  \\\n",
       "0                         26    LE 8293245             1950   \n",
       "1                         24   LC 10048122             1951   \n",
       "2                         21  DNI 10283544             1954   \n",
       "3                         25  DNI 10353245             1951   \n",
       "4                         23  DNI 10650064             1953   \n",
       "\n",
       "  provincia_pais_nacimiento  ... embarazo fotografia  fecha_detencion  \\\n",
       "0              BUENOS AIRES  ...  No data       <NA>       1976-12-26   \n",
       "1                   MENDOZA  ...  No data       <NA>       1976-08-15   \n",
       "2                   TUCUMAN  ...  No data      False       1976-11-01   \n",
       "3              BUENOS AIRES  ...  No data      False       1976-10-08   \n",
       "4           CAPITAL FEDERAL  ...  No data       <NA>       1976-08-09   \n",
       "\n",
       "  fecha_asesinato               lugar_detencion_clean  \\\n",
       "0             NaT               LA PLATA BUENOS AIRES   \n",
       "1             NaT             CORDOBA CAPITAL CORDOBA   \n",
       "2             NaT     CIUDAD AUTONOMA DE BUENOS AIRES   \n",
       "3      1976-10-21               LA PLATA BUENOS AIRES   \n",
       "4             NaT  FLORIDA VICENTE LOPEZ BUENOS AIRES   \n",
       "\n",
       "        provincia_detencion_simple  \\\n",
       "0                     BUENOS AIRES   \n",
       "1                          CORDOBA   \n",
       "2  CIUDAD AUTONOMA DE BUENOS AIRES   \n",
       "3                     BUENOS AIRES   \n",
       "4                     BUENOS AIRES   \n",
       "\n",
       "                               lugar_asesinato_clean  \\\n",
       "0                                               <NA>   \n",
       "1                                               <NA>   \n",
       "2                                               <NA>   \n",
       "3  GRAL MANSILLA BARTOLOME BAVIO MAGDALENA BUENOS...   \n",
       "4                                               <NA>   \n",
       "\n",
       "  provincia_asesinato_simple naturalizada    periodo  \n",
       "0                      Other        False  Dictadura  \n",
       "1                      Other        False  Dictadura  \n",
       "2                      Other        False  Dictadura  \n",
       "3               BUENOS AIRES        False  Dictadura  \n",
       "4                      Other        False  Dictadura  \n",
       "\n",
       "[5 rows x 21 columns]"
      ]
     },
     "execution_count": 41,
     "metadata": {},
     "output_type": "execute_result"
    }
   ],
   "source": [
    "# view final cleaned dataframe info and head\n",
    "print(df_clean.info())\n",
    "df_clean.head()\n"
   ]
  },
  {
   "cell_type": "markdown",
   "id": "3a10708c",
   "metadata": {},
   "source": [
    "## Exploratory Analysis"
   ]
  },
  {
   "cell_type": "markdown",
   "id": "ce0be175",
   "metadata": {},
   "source": [
    "### Demographics"
   ]
  },
  {
   "cell_type": "code",
   "execution_count": 42,
   "id": "66ee8a26",
   "metadata": {},
   "outputs": [
    {
     "data": {
      "application/vnd.plotly.v1+json": {
       "config": {
        "plotlyServerURL": "https://plot.ly"
       },
       "data": [
        {
         "bingroup": "x",
         "hovertemplate": "Age at Detention/Disappearance=%{x}<br>count=%{y}<extra></extra>",
         "legendgroup": "",
         "marker": {
          "color": "#636efa",
          "pattern": {
           "shape": ""
          }
         },
         "name": "",
         "nbinsx": 30,
         "orientation": "v",
         "showlegend": false,
         "type": "histogram",
         "x": {
          "bdata": "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",
          "dtype": "f8"
         },
         "xaxis": "x",
         "yaxis": "y"
        }
       ],
       "layout": {
        "bargap": 0.1,
        "barmode": "relative",
        "legend": {
         "tracegroupgap": 0
        },
        "template": {
         "data": {
          "bar": [
           {
            "error_x": {
             "color": "#2a3f5f"
            },
            "error_y": {
             "color": "#2a3f5f"
            },
            "marker": {
             "line": {
              "color": "#E5ECF6",
              "width": 0.5
             },
             "pattern": {
              "fillmode": "overlay",
              "size": 10,
              "solidity": 0.2
             }
            },
            "type": "bar"
           }
          ],
          "barpolar": [
           {
            "marker": {
             "line": {
              "color": "#E5ECF6",
              "width": 0.5
             },
             "pattern": {
              "fillmode": "overlay",
              "size": 10,
              "solidity": 0.2
             }
            },
            "type": "barpolar"
           }
          ],
          "carpet": [
           {
            "aaxis": {
             "endlinecolor": "#2a3f5f",
             "gridcolor": "white",
             "linecolor": "white",
             "minorgridcolor": "white",
             "startlinecolor": "#2a3f5f"
            },
            "baxis": {
             "endlinecolor": "#2a3f5f",
             "gridcolor": "white",
             "linecolor": "white",
             "minorgridcolor": "white",
             "startlinecolor": "#2a3f5f"
            },
            "type": "carpet"
           }
          ],
          "choropleth": [
           {
            "colorbar": {
             "outlinewidth": 0,
             "ticks": ""
            },
            "type": "choropleth"
           }
          ],
          "contour": [
           {
            "colorbar": {
             "outlinewidth": 0,
             "ticks": ""
            },
            "colorscale": [
             [
              0,
              "#0d0887"
             ],
             [
              0.1111111111111111,
              "#46039f"
             ],
             [
              0.2222222222222222,
              "#7201a8"
             ],
             [
              0.3333333333333333,
              "#9c179e"
             ],
             [
              0.4444444444444444,
              "#bd3786"
             ],
             [
              0.5555555555555556,
              "#d8576b"
             ],
             [
              0.6666666666666666,
              "#ed7953"
             ],
             [
              0.7777777777777778,
              "#fb9f3a"
             ],
             [
              0.8888888888888888,
              "#fdca26"
             ],
             [
              1,
              "#f0f921"
             ]
            ],
            "type": "contour"
           }
          ],
          "contourcarpet": [
           {
            "colorbar": {
             "outlinewidth": 0,
             "ticks": ""
            },
            "type": "contourcarpet"
           }
          ],
          "heatmap": [
           {
            "colorbar": {
             "outlinewidth": 0,
             "ticks": ""
            },
            "colorscale": [
             [
              0,
              "#0d0887"
             ],
             [
              0.1111111111111111,
              "#46039f"
             ],
             [
              0.2222222222222222,
              "#7201a8"
             ],
             [
              0.3333333333333333,
              "#9c179e"
             ],
             [
              0.4444444444444444,
              "#bd3786"
             ],
             [
              0.5555555555555556,
              "#d8576b"
             ],
             [
              0.6666666666666666,
              "#ed7953"
             ],
             [
              0.7777777777777778,
              "#fb9f3a"
             ],
             [
              0.8888888888888888,
              "#fdca26"
             ],
             [
              1,
              "#f0f921"
             ]
            ],
            "type": "heatmap"
           }
          ],
          "histogram": [
           {
            "marker": {
             "pattern": {
              "fillmode": "overlay",
              "size": 10,
              "solidity": 0.2
             }
            },
            "type": "histogram"
           }
          ],
          "histogram2d": [
           {
            "colorbar": {
             "outlinewidth": 0,
             "ticks": ""
            },
            "colorscale": [
             [
              0,
              "#0d0887"
             ],
             [
              0.1111111111111111,
              "#46039f"
             ],
             [
              0.2222222222222222,
              "#7201a8"
             ],
             [
              0.3333333333333333,
              "#9c179e"
             ],
             [
              0.4444444444444444,
              "#bd3786"
             ],
             [
              0.5555555555555556,
              "#d8576b"
             ],
             [
              0.6666666666666666,
              "#ed7953"
             ],
             [
              0.7777777777777778,
              "#fb9f3a"
             ],
             [
              0.8888888888888888,
              "#fdca26"
             ],
             [
              1,
              "#f0f921"
             ]
            ],
            "type": "histogram2d"
           }
          ],
          "histogram2dcontour": [
           {
            "colorbar": {
             "outlinewidth": 0,
             "ticks": ""
            },
            "colorscale": [
             [
              0,
              "#0d0887"
             ],
             [
              0.1111111111111111,
              "#46039f"
             ],
             [
              0.2222222222222222,
              "#7201a8"
             ],
             [
              0.3333333333333333,
              "#9c179e"
             ],
             [
              0.4444444444444444,
              "#bd3786"
             ],
             [
              0.5555555555555556,
              "#d8576b"
             ],
             [
              0.6666666666666666,
              "#ed7953"
             ],
             [
              0.7777777777777778,
              "#fb9f3a"
             ],
             [
              0.8888888888888888,
              "#fdca26"
             ],
             [
              1,
              "#f0f921"
             ]
            ],
            "type": "histogram2dcontour"
           }
          ],
          "mesh3d": [
           {
            "colorbar": {
             "outlinewidth": 0,
             "ticks": ""
            },
            "type": "mesh3d"
           }
          ],
          "parcoords": [
           {
            "line": {
             "colorbar": {
              "outlinewidth": 0,
              "ticks": ""
             }
            },
            "type": "parcoords"
           }
          ],
          "pie": [
           {
            "automargin": true,
            "type": "pie"
           }
          ],
          "scatter": [
           {
            "fillpattern": {
             "fillmode": "overlay",
             "size": 10,
             "solidity": 0.2
            },
            "type": "scatter"
           }
          ],
          "scatter3d": [
           {
            "line": {
             "colorbar": {
              "outlinewidth": 0,
              "ticks": ""
             }
            },
            "marker": {
             "colorbar": {
              "outlinewidth": 0,
              "ticks": ""
             }
            },
            "type": "scatter3d"
           }
          ],
          "scattercarpet": [
           {
            "marker": {
             "colorbar": {
              "outlinewidth": 0,
              "ticks": ""
             }
            },
            "type": "scattercarpet"
           }
          ],
          "scattergeo": [
           {
            "marker": {
             "colorbar": {
              "outlinewidth": 0,
              "ticks": ""
             }
            },
            "type": "scattergeo"
           }
          ],
          "scattergl": [
           {
            "marker": {
             "colorbar": {
              "outlinewidth": 0,
              "ticks": ""
             }
            },
            "type": "scattergl"
           }
          ],
          "scattermap": [
           {
            "marker": {
             "colorbar": {
              "outlinewidth": 0,
              "ticks": ""
             }
            },
            "type": "scattermap"
           }
          ],
          "scattermapbox": [
           {
            "marker": {
             "colorbar": {
              "outlinewidth": 0,
              "ticks": ""
             }
            },
            "type": "scattermapbox"
           }
          ],
          "scatterpolar": [
           {
            "marker": {
             "colorbar": {
              "outlinewidth": 0,
              "ticks": ""
             }
            },
            "type": "scatterpolar"
           }
          ],
          "scatterpolargl": [
           {
            "marker": {
             "colorbar": {
              "outlinewidth": 0,
              "ticks": ""
             }
            },
            "type": "scatterpolargl"
           }
          ],
          "scatterternary": [
           {
            "marker": {
             "colorbar": {
              "outlinewidth": 0,
              "ticks": ""
             }
            },
            "type": "scatterternary"
           }
          ],
          "surface": [
           {
            "colorbar": {
             "outlinewidth": 0,
             "ticks": ""
            },
            "colorscale": [
             [
              0,
              "#0d0887"
             ],
             [
              0.1111111111111111,
              "#46039f"
             ],
             [
              0.2222222222222222,
              "#7201a8"
             ],
             [
              0.3333333333333333,
              "#9c179e"
             ],
             [
              0.4444444444444444,
              "#bd3786"
             ],
             [
              0.5555555555555556,
              "#d8576b"
             ],
             [
              0.6666666666666666,
              "#ed7953"
             ],
             [
              0.7777777777777778,
              "#fb9f3a"
             ],
             [
              0.8888888888888888,
              "#fdca26"
             ],
             [
              1,
              "#f0f921"
             ]
            ],
            "type": "surface"
           }
          ],
          "table": [
           {
            "cells": {
             "fill": {
              "color": "#EBF0F8"
             },
             "line": {
              "color": "white"
             }
            },
            "header": {
             "fill": {
              "color": "#C8D4E3"
             },
             "line": {
              "color": "white"
             }
            },
            "type": "table"
           }
          ]
         },
         "layout": {
          "annotationdefaults": {
           "arrowcolor": "#2a3f5f",
           "arrowhead": 0,
           "arrowwidth": 1
          },
          "autotypenumbers": "strict",
          "coloraxis": {
           "colorbar": {
            "outlinewidth": 0,
            "ticks": ""
           }
          },
          "colorscale": {
           "diverging": [
            [
             0,
             "#8e0152"
            ],
            [
             0.1,
             "#c51b7d"
            ],
            [
             0.2,
             "#de77ae"
            ],
            [
             0.3,
             "#f1b6da"
            ],
            [
             0.4,
             "#fde0ef"
            ],
            [
             0.5,
             "#f7f7f7"
            ],
            [
             0.6,
             "#e6f5d0"
            ],
            [
             0.7,
             "#b8e186"
            ],
            [
             0.8,
             "#7fbc41"
            ],
            [
             0.9,
             "#4d9221"
            ],
            [
             1,
             "#276419"
            ]
           ],
           "sequential": [
            [
             0,
             "#0d0887"
            ],
            [
             0.1111111111111111,
             "#46039f"
            ],
            [
             0.2222222222222222,
             "#7201a8"
            ],
            [
             0.3333333333333333,
             "#9c179e"
            ],
            [
             0.4444444444444444,
             "#bd3786"
            ],
            [
             0.5555555555555556,
             "#d8576b"
            ],
            [
             0.6666666666666666,
             "#ed7953"
            ],
            [
             0.7777777777777778,
             "#fb9f3a"
            ],
            [
             0.8888888888888888,
             "#fdca26"
            ],
            [
             1,
             "#f0f921"
            ]
           ],
           "sequentialminus": [
            [
             0,
             "#0d0887"
            ],
            [
             0.1111111111111111,
             "#46039f"
            ],
            [
             0.2222222222222222,
             "#7201a8"
            ],
            [
             0.3333333333333333,
             "#9c179e"
            ],
            [
             0.4444444444444444,
             "#bd3786"
            ],
            [
             0.5555555555555556,
             "#d8576b"
            ],
            [
             0.6666666666666666,
             "#ed7953"
            ],
            [
             0.7777777777777778,
             "#fb9f3a"
            ],
            [
             0.8888888888888888,
             "#fdca26"
            ],
            [
             1,
             "#f0f921"
            ]
           ]
          },
          "colorway": [
           "#636efa",
           "#EF553B",
           "#00cc96",
           "#ab63fa",
           "#FFA15A",
           "#19d3f3",
           "#FF6692",
           "#B6E880",
           "#FF97FF",
           "#FECB52"
          ],
          "font": {
           "color": "#2a3f5f"
          },
          "geo": {
           "bgcolor": "white",
           "lakecolor": "white",
           "landcolor": "#E5ECF6",
           "showlakes": true,
           "showland": true,
           "subunitcolor": "white"
          },
          "hoverlabel": {
           "align": "left"
          },
          "hovermode": "closest",
          "mapbox": {
           "style": "light"
          },
          "paper_bgcolor": "white",
          "plot_bgcolor": "#E5ECF6",
          "polar": {
           "angularaxis": {
            "gridcolor": "white",
            "linecolor": "white",
            "ticks": ""
           },
           "bgcolor": "#E5ECF6",
           "radialaxis": {
            "gridcolor": "white",
            "linecolor": "white",
            "ticks": ""
           }
          },
          "scene": {
           "xaxis": {
            "backgroundcolor": "#E5ECF6",
            "gridcolor": "white",
            "gridwidth": 2,
            "linecolor": "white",
            "showbackground": true,
            "ticks": "",
            "zerolinecolor": "white"
           },
           "yaxis": {
            "backgroundcolor": "#E5ECF6",
            "gridcolor": "white",
            "gridwidth": 2,
            "linecolor": "white",
            "showbackground": true,
            "ticks": "",
            "zerolinecolor": "white"
           },
           "zaxis": {
            "backgroundcolor": "#E5ECF6",
            "gridcolor": "white",
            "gridwidth": 2,
            "linecolor": "white",
            "showbackground": true,
            "ticks": "",
            "zerolinecolor": "white"
           }
          },
          "shapedefaults": {
           "line": {
            "color": "#2a3f5f"
           }
          },
          "ternary": {
           "aaxis": {
            "gridcolor": "white",
            "linecolor": "white",
            "ticks": ""
           },
           "baxis": {
            "gridcolor": "white",
            "linecolor": "white",
            "ticks": ""
           },
           "bgcolor": "#E5ECF6",
           "caxis": {
            "gridcolor": "white",
            "linecolor": "white",
            "ticks": ""
           }
          },
          "title": {
           "x": 0.05
          },
          "xaxis": {
           "automargin": true,
           "gridcolor": "white",
           "linecolor": "white",
           "ticks": "",
           "title": {
            "standoff": 15
           },
           "zerolinecolor": "white",
           "zerolinewidth": 2
          },
          "yaxis": {
           "automargin": true,
           "gridcolor": "white",
           "linecolor": "white",
           "ticks": "",
           "title": {
            "standoff": 15
           },
           "zerolinecolor": "white",
           "zerolinewidth": 2
          }
         }
        },
        "title": {
         "text": "Histogram of Age at Detention/Disappearance"
        },
        "xaxis": {
         "anchor": "y",
         "domain": [
          0,
          1
         ],
         "title": {
          "text": "Age at Detention/Disappearance"
         }
        },
        "yaxis": {
         "anchor": "x",
         "domain": [
          0,
          1
         ],
         "title": {
          "text": "count"
         }
        }
       }
      }
     },
     "metadata": {},
     "output_type": "display_data"
    }
   ],
   "source": [
    "# histogram for age at disappearance\n",
    "fig = px.histogram(df_clean, x='edad_al_momento_del_hecho', nbins=30, \n",
    "                   title='Histogram of Age at Detention/Disappearance',\n",
    "                   labels={'edad_al_momento_del_hecho': 'Age at Detention/Disappearance'})\n",
    "fig.update_layout(bargap=0.1)\n",
    "fig.show()"
   ]
  },
  {
   "cell_type": "code",
   "execution_count": 43,
   "id": "a131ec29",
   "metadata": {},
   "outputs": [
    {
     "data": {
      "application/vnd.plotly.v1+json": {
       "config": {
        "plotlyServerURL": "https://plot.ly"
       },
       "data": [
        {
         "hovertemplate": "Category=%{x}<br>Number of Cases=%{y}<extra></extra>",
         "legendgroup": "",
         "marker": {
          "color": "#636efa",
          "pattern": {
           "shape": ""
          }
         },
         "name": "",
         "orientation": "v",
         "showlegend": false,
         "textposition": "auto",
         "type": "bar",
         "x": [
          "Argentina",
          "Others"
         ],
         "xaxis": "x",
         "y": {
          "bdata": "wR/3AQ==",
          "dtype": "i2"
         },
         "yaxis": "y"
        }
       ],
       "layout": {
        "barmode": "relative",
        "legend": {
         "tracegroupgap": 0
        },
        "template": {
         "data": {
          "bar": [
           {
            "error_x": {
             "color": "#2a3f5f"
            },
            "error_y": {
             "color": "#2a3f5f"
            },
            "marker": {
             "line": {
              "color": "#E5ECF6",
              "width": 0.5
             },
             "pattern": {
              "fillmode": "overlay",
              "size": 10,
              "solidity": 0.2
             }
            },
            "type": "bar"
           }
          ],
          "barpolar": [
           {
            "marker": {
             "line": {
              "color": "#E5ECF6",
              "width": 0.5
             },
             "pattern": {
              "fillmode": "overlay",
              "size": 10,
              "solidity": 0.2
             }
            },
            "type": "barpolar"
           }
          ],
          "carpet": [
           {
            "aaxis": {
             "endlinecolor": "#2a3f5f",
             "gridcolor": "white",
             "linecolor": "white",
             "minorgridcolor": "white",
             "startlinecolor": "#2a3f5f"
            },
            "baxis": {
             "endlinecolor": "#2a3f5f",
             "gridcolor": "white",
             "linecolor": "white",
             "minorgridcolor": "white",
             "startlinecolor": "#2a3f5f"
            },
            "type": "carpet"
           }
          ],
          "choropleth": [
           {
            "colorbar": {
             "outlinewidth": 0,
             "ticks": ""
            },
            "type": "choropleth"
           }
          ],
          "contour": [
           {
            "colorbar": {
             "outlinewidth": 0,
             "ticks": ""
            },
            "colorscale": [
             [
              0,
              "#0d0887"
             ],
             [
              0.1111111111111111,
              "#46039f"
             ],
             [
              0.2222222222222222,
              "#7201a8"
             ],
             [
              0.3333333333333333,
              "#9c179e"
             ],
             [
              0.4444444444444444,
              "#bd3786"
             ],
             [
              0.5555555555555556,
              "#d8576b"
             ],
             [
              0.6666666666666666,
              "#ed7953"
             ],
             [
              0.7777777777777778,
              "#fb9f3a"
             ],
             [
              0.8888888888888888,
              "#fdca26"
             ],
             [
              1,
              "#f0f921"
             ]
            ],
            "type": "contour"
           }
          ],
          "contourcarpet": [
           {
            "colorbar": {
             "outlinewidth": 0,
             "ticks": ""
            },
            "type": "contourcarpet"
           }
          ],
          "heatmap": [
           {
            "colorbar": {
             "outlinewidth": 0,
             "ticks": ""
            },
            "colorscale": [
             [
              0,
              "#0d0887"
             ],
             [
              0.1111111111111111,
              "#46039f"
             ],
             [
              0.2222222222222222,
              "#7201a8"
             ],
             [
              0.3333333333333333,
              "#9c179e"
             ],
             [
              0.4444444444444444,
              "#bd3786"
             ],
             [
              0.5555555555555556,
              "#d8576b"
             ],
             [
              0.6666666666666666,
              "#ed7953"
             ],
             [
              0.7777777777777778,
              "#fb9f3a"
             ],
             [
              0.8888888888888888,
              "#fdca26"
             ],
             [
              1,
              "#f0f921"
             ]
            ],
            "type": "heatmap"
           }
          ],
          "histogram": [
           {
            "marker": {
             "pattern": {
              "fillmode": "overlay",
              "size": 10,
              "solidity": 0.2
             }
            },
            "type": "histogram"
           }
          ],
          "histogram2d": [
           {
            "colorbar": {
             "outlinewidth": 0,
             "ticks": ""
            },
            "colorscale": [
             [
              0,
              "#0d0887"
             ],
             [
              0.1111111111111111,
              "#46039f"
             ],
             [
              0.2222222222222222,
              "#7201a8"
             ],
             [
              0.3333333333333333,
              "#9c179e"
             ],
             [
              0.4444444444444444,
              "#bd3786"
             ],
             [
              0.5555555555555556,
              "#d8576b"
             ],
             [
              0.6666666666666666,
              "#ed7953"
             ],
             [
              0.7777777777777778,
              "#fb9f3a"
             ],
             [
              0.8888888888888888,
              "#fdca26"
             ],
             [
              1,
              "#f0f921"
             ]
            ],
            "type": "histogram2d"
           }
          ],
          "histogram2dcontour": [
           {
            "colorbar": {
             "outlinewidth": 0,
             "ticks": ""
            },
            "colorscale": [
             [
              0,
              "#0d0887"
             ],
             [
              0.1111111111111111,
              "#46039f"
             ],
             [
              0.2222222222222222,
              "#7201a8"
             ],
             [
              0.3333333333333333,
              "#9c179e"
             ],
             [
              0.4444444444444444,
              "#bd3786"
             ],
             [
              0.5555555555555556,
              "#d8576b"
             ],
             [
              0.6666666666666666,
              "#ed7953"
             ],
             [
              0.7777777777777778,
              "#fb9f3a"
             ],
             [
              0.8888888888888888,
              "#fdca26"
             ],
             [
              1,
              "#f0f921"
             ]
            ],
            "type": "histogram2dcontour"
           }
          ],
          "mesh3d": [
           {
            "colorbar": {
             "outlinewidth": 0,
             "ticks": ""
            },
            "type": "mesh3d"
           }
          ],
          "parcoords": [
           {
            "line": {
             "colorbar": {
              "outlinewidth": 0,
              "ticks": ""
             }
            },
            "type": "parcoords"
           }
          ],
          "pie": [
           {
            "automargin": true,
            "type": "pie"
           }
          ],
          "scatter": [
           {
            "fillpattern": {
             "fillmode": "overlay",
             "size": 10,
             "solidity": 0.2
            },
            "type": "scatter"
           }
          ],
          "scatter3d": [
           {
            "line": {
             "colorbar": {
              "outlinewidth": 0,
              "ticks": ""
             }
            },
            "marker": {
             "colorbar": {
              "outlinewidth": 0,
              "ticks": ""
             }
            },
            "type": "scatter3d"
           }
          ],
          "scattercarpet": [
           {
            "marker": {
             "colorbar": {
              "outlinewidth": 0,
              "ticks": ""
             }
            },
            "type": "scattercarpet"
           }
          ],
          "scattergeo": [
           {
            "marker": {
             "colorbar": {
              "outlinewidth": 0,
              "ticks": ""
             }
            },
            "type": "scattergeo"
           }
          ],
          "scattergl": [
           {
            "marker": {
             "colorbar": {
              "outlinewidth": 0,
              "ticks": ""
             }
            },
            "type": "scattergl"
           }
          ],
          "scattermap": [
           {
            "marker": {
             "colorbar": {
              "outlinewidth": 0,
              "ticks": ""
             }
            },
            "type": "scattermap"
           }
          ],
          "scattermapbox": [
           {
            "marker": {
             "colorbar": {
              "outlinewidth": 0,
              "ticks": ""
             }
            },
            "type": "scattermapbox"
           }
          ],
          "scatterpolar": [
           {
            "marker": {
             "colorbar": {
              "outlinewidth": 0,
              "ticks": ""
             }
            },
            "type": "scatterpolar"
           }
          ],
          "scatterpolargl": [
           {
            "marker": {
             "colorbar": {
              "outlinewidth": 0,
              "ticks": ""
             }
            },
            "type": "scatterpolargl"
           }
          ],
          "scatterternary": [
           {
            "marker": {
             "colorbar": {
              "outlinewidth": 0,
              "ticks": ""
             }
            },
            "type": "scatterternary"
           }
          ],
          "surface": [
           {
            "colorbar": {
             "outlinewidth": 0,
             "ticks": ""
            },
            "colorscale": [
             [
              0,
              "#0d0887"
             ],
             [
              0.1111111111111111,
              "#46039f"
             ],
             [
              0.2222222222222222,
              "#7201a8"
             ],
             [
              0.3333333333333333,
              "#9c179e"
             ],
             [
              0.4444444444444444,
              "#bd3786"
             ],
             [
              0.5555555555555556,
              "#d8576b"
             ],
             [
              0.6666666666666666,
              "#ed7953"
             ],
             [
              0.7777777777777778,
              "#fb9f3a"
             ],
             [
              0.8888888888888888,
              "#fdca26"
             ],
             [
              1,
              "#f0f921"
             ]
            ],
            "type": "surface"
           }
          ],
          "table": [
           {
            "cells": {
             "fill": {
              "color": "#EBF0F8"
             },
             "line": {
              "color": "white"
             }
            },
            "header": {
             "fill": {
              "color": "#C8D4E3"
             },
             "line": {
              "color": "white"
             }
            },
            "type": "table"
           }
          ]
         },
         "layout": {
          "annotationdefaults": {
           "arrowcolor": "#2a3f5f",
           "arrowhead": 0,
           "arrowwidth": 1
          },
          "autotypenumbers": "strict",
          "coloraxis": {
           "colorbar": {
            "outlinewidth": 0,
            "ticks": ""
           }
          },
          "colorscale": {
           "diverging": [
            [
             0,
             "#8e0152"
            ],
            [
             0.1,
             "#c51b7d"
            ],
            [
             0.2,
             "#de77ae"
            ],
            [
             0.3,
             "#f1b6da"
            ],
            [
             0.4,
             "#fde0ef"
            ],
            [
             0.5,
             "#f7f7f7"
            ],
            [
             0.6,
             "#e6f5d0"
            ],
            [
             0.7,
             "#b8e186"
            ],
            [
             0.8,
             "#7fbc41"
            ],
            [
             0.9,
             "#4d9221"
            ],
            [
             1,
             "#276419"
            ]
           ],
           "sequential": [
            [
             0,
             "#0d0887"
            ],
            [
             0.1111111111111111,
             "#46039f"
            ],
            [
             0.2222222222222222,
             "#7201a8"
            ],
            [
             0.3333333333333333,
             "#9c179e"
            ],
            [
             0.4444444444444444,
             "#bd3786"
            ],
            [
             0.5555555555555556,
             "#d8576b"
            ],
            [
             0.6666666666666666,
             "#ed7953"
            ],
            [
             0.7777777777777778,
             "#fb9f3a"
            ],
            [
             0.8888888888888888,
             "#fdca26"
            ],
            [
             1,
             "#f0f921"
            ]
           ],
           "sequentialminus": [
            [
             0,
             "#0d0887"
            ],
            [
             0.1111111111111111,
             "#46039f"
            ],
            [
             0.2222222222222222,
             "#7201a8"
            ],
            [
             0.3333333333333333,
             "#9c179e"
            ],
            [
             0.4444444444444444,
             "#bd3786"
            ],
            [
             0.5555555555555556,
             "#d8576b"
            ],
            [
             0.6666666666666666,
             "#ed7953"
            ],
            [
             0.7777777777777778,
             "#fb9f3a"
            ],
            [
             0.8888888888888888,
             "#fdca26"
            ],
            [
             1,
             "#f0f921"
            ]
           ]
          },
          "colorway": [
           "#636efa",
           "#EF553B",
           "#00cc96",
           "#ab63fa",
           "#FFA15A",
           "#19d3f3",
           "#FF6692",
           "#B6E880",
           "#FF97FF",
           "#FECB52"
          ],
          "font": {
           "color": "#2a3f5f"
          },
          "geo": {
           "bgcolor": "white",
           "lakecolor": "white",
           "landcolor": "#E5ECF6",
           "showlakes": true,
           "showland": true,
           "subunitcolor": "white"
          },
          "hoverlabel": {
           "align": "left"
          },
          "hovermode": "closest",
          "mapbox": {
           "style": "light"
          },
          "paper_bgcolor": "white",
          "plot_bgcolor": "#E5ECF6",
          "polar": {
           "angularaxis": {
            "gridcolor": "white",
            "linecolor": "white",
            "ticks": ""
           },
           "bgcolor": "#E5ECF6",
           "radialaxis": {
            "gridcolor": "white",
            "linecolor": "white",
            "ticks": ""
           }
          },
          "scene": {
           "xaxis": {
            "backgroundcolor": "#E5ECF6",
            "gridcolor": "white",
            "gridwidth": 2,
            "linecolor": "white",
            "showbackground": true,
            "ticks": "",
            "zerolinecolor": "white"
           },
           "yaxis": {
            "backgroundcolor": "#E5ECF6",
            "gridcolor": "white",
            "gridwidth": 2,
            "linecolor": "white",
            "showbackground": true,
            "ticks": "",
            "zerolinecolor": "white"
           },
           "zaxis": {
            "backgroundcolor": "#E5ECF6",
            "gridcolor": "white",
            "gridwidth": 2,
            "linecolor": "white",
            "showbackground": true,
            "ticks": "",
            "zerolinecolor": "white"
           }
          },
          "shapedefaults": {
           "line": {
            "color": "#2a3f5f"
           }
          },
          "ternary": {
           "aaxis": {
            "gridcolor": "white",
            "linecolor": "white",
            "ticks": ""
           },
           "baxis": {
            "gridcolor": "white",
            "linecolor": "white",
            "ticks": ""
           },
           "bgcolor": "#E5ECF6",
           "caxis": {
            "gridcolor": "white",
            "linecolor": "white",
            "ticks": ""
           }
          },
          "title": {
           "x": 0.05
          },
          "xaxis": {
           "automargin": true,
           "gridcolor": "white",
           "linecolor": "white",
           "ticks": "",
           "title": {
            "standoff": 15
           },
           "zerolinecolor": "white",
           "zerolinewidth": 2
          },
          "yaxis": {
           "automargin": true,
           "gridcolor": "white",
           "linecolor": "white",
           "ticks": "",
           "title": {
            "standoff": 15
           },
           "zerolinecolor": "white",
           "zerolinewidth": 2
          }
         }
        },
        "title": {
         "text": "Nationality Distribution: Argentina vs Others"
        },
        "xaxis": {
         "anchor": "y",
         "domain": [
          0,
          1
         ],
         "title": {
          "text": "Category"
         }
        },
        "yaxis": {
         "anchor": "x",
         "domain": [
          0,
          1
         ],
         "title": {
          "text": "Number of Cases"
         }
        }
       }
      }
     },
     "metadata": {},
     "output_type": "display_data"
    }
   ],
   "source": [
    "# nationality count bar chart: Argentina vs others \n",
    "\n",
    "argentina_count = (df_clean['nacionalidad'] == 'ARGENTINA').sum()\n",
    "other_count = (df_clean['nacionalidad'] != 'ARGENTINA').sum()\n",
    "\n",
    "# Create data for plotting\n",
    "plot_data = pd.DataFrame({\n",
    "    'Category': ['Argentina', 'Others'],\n",
    "    'Count': [argentina_count, other_count]\n",
    "})\n",
    "\n",
    "fig = px.bar(plot_data, x='Category', y='Count',\n",
    "             title='Nationality Distribution: Argentina vs Others',\n",
    "             labels={'Count': 'Number of Cases'})\n",
    "fig.show()"
   ]
  },
  {
   "cell_type": "markdown",
   "id": "bf320769",
   "metadata": {},
   "source": [
    "### Temporal Information    "
   ]
  },
  {
   "cell_type": "code",
   "execution_count": 44,
   "id": "2cef7ba7",
   "metadata": {},
   "outputs": [
    {
     "data": {
      "application/vnd.plotly.v1+json": {
       "config": {
        "plotlyServerURL": "https://plot.ly"
       },
       "data": [
        {
         "coloraxis": "coloraxis",
         "customdata": {
          "bdata": "AAAAAAAAAAAAAAAAAAAAAAAAAAAAAAAAAAAAAAAAAAAAAAAAAAAAAAAAAAAAAAAAAAAAAAAAAAAAAAAAAAAAAAEAAQADAAIAAgAAAAAAAAABAAAAAAAAAAAAAAAAAAAAAAAAAAAAAAAAAAAAAAAAAAAAAAAAAAAAAAAAAAAAAAAAAAAAAAAAAAAAAAAAAAAAAAAAAAAAAAAAAAAAAAAAAAAAAAAAAAAAAAAAAAAAAAAAAAAAAAAAAAAAAAAAAAAAAAAAAAAAAAAAAAAAAAAAAAAAAAAAAAAAAAAAAAAAAAAAAAAAAAAAAAAAAAAAAAAAAAAAAAAAAAAAAAAAAAAAAAAAAAAAAAAAAAAAAAAAAAAAAAAAAAAAAAEAAAAAAAAAAAAAAAAAAAAAAAAAAAAAAAAAAAAAAAAAAAAAAAAAAAAAAAAAAAAAAAAAAAAAAAAAAAAAAAAAAAAAAAAAAAAAAAAAAAAAAAAAAAAAAAAAAAAAAAAAAAAAAAAAAAAAAAAAAAAAAAAAAAAAAAAAAAAAAAAAAAAAAAAAAAAAAAAAAAAAAAAAAAAAAAAAAAAAAAAAAAAAAAAAAAAAAAAAAAAAAAAAAAAAAAAAAAAAAAAAAAAAAAAAAAAAAAAAAAAAAAAAAAAAAAAAAAAAAAAAAAAAAAAAAAAAAAAAAAAAAAAAAAAAAAAAAAAAAAAAAAAAAAAAAAAAAAAAAAAAAAAAAAAAAAAAAAAAAAAAAAAAAAAAAAAAAAAAAAAAAAAAAAAAAAAAAAAAAAAAAAAAAAAAAAAAAAAAAAAAAAAAAAAAAAAAAAAAAAAAAAAAAAAAAAAAAAAAAAAAAAAAAAAAAAAAAAAAAAAAAAAAAAAAAAAAAAAAAAAAAAAAAAAAAAAAAAAAAAAAAAAAAAAAAAAAAAAAAAAAAAAAAAAAAAAAAAAAAAAAAAAAAAAAAAAAAAAAAAAAAAAAAAAAAAAAAAAAAAAAAAAAAAAAAAAAAAAAAAAAAAAAAAAAAAAAAAAAAAAAAAAAAAAAAAAAAAAAAAAAAAAAAAAAAAAAAAAAAAAAAAAAAAAAAAAAAAAAAAAAAAAAAAAAAAAAAAAAAAAAAAAAAAAAAAAAAAAAAAAAAAAAAAAAAAAAAAAAAAAAAAAAAAAAAAAAAAAAAAAAAAIAAwAAAAAAAAAAAAAAAAAAAAAAAAAAAAAAAAAAAAAAAAAAAAAAAAAAAAAAAAAAAAAAAAAAAAAAAAAAAAAAAAAAAAAAAAAAAAAAAAAAAAAAAAAAAAAAAAAAAAIAAgAEAAsAEwAFAAcAAwADAAQAAAAAAAIAAQAAAAAAAAAAAAAAAAAAAAAAAAAAAAAAAAAAAAAAAAAAAAAAAAAAAAAAAAAAAAAAAAAAAAAAAAAAAAAAAAAAAAAAAQAAAAAAAAACAAEAAgAKABYAGgAIAAMABAAAAAAAAAABAAAAAAABAAAAAAAAAAAAAAAAAAAAAAAAAAAAAAAAAAAAAAAAAAAAAAAAAAAAAAAAAAAAAAAAAAAAAQAAAAAAAQAAAAAAAAAAAAIACAAIABQANABzAEIASAAYAA8ABwAAAAUAAQAAAAEAAAABAAIAAAAAAAAAAAAAAAAAAAAAAAAAAAAAAAAAAAAAAAAAAAAAAAAAAAAAAAAAAAAAAAEAAQAAAAAAAAAAAAAAAAADAAcADwAlAFwA6wCxAIEALQAxAAcABAACAAEAAAAAAAAAAAAAAAAAAAAAAAEAAAAAAAAAAAAAAAAAAAAAAAAAAAAAAAAAAAAAAAAAAAAAAAAAAAABAAAAAQAAAAAAAAABAAAAAgACAAkAGwA5AIkAfQBmACEAGgAEAAMAAQACAAEAAAAAAAAAAQAAAAAAAAAAAAAAAAAAAAAAAAAAAAAAAAAAAAAAAAAAAAAAAAAAAAAAAAAAAAAAAAADAAEAAQABAAAAAAAAAAMADAAQACoAdQD6AN4AtQBlADAAGgAHAAcABAABAAAAAAAAAAAAAAAAAAAAAAAAAAAAAAAAAAAAAAAAAAAAAAAAAAAAAAAAAAAAAAAAAAAAAAAAAAAAAQAAAAAAAAAAAAAAAgAAAAYACgAYADAAeABTAE8AMgAYABMABQAAAAMAAgAAAAAAAAAAAAAAAAAAAAAAAAAAAAAAAAAAAAAAAAAAAAAAAAAAAAAAAAAAAAAAAAAAAAAAAAABAAEAAAAAAAAAAAABAAMAAwANABkAIQBxANAAlQCdAFcAMgAZAAQABAAEAAYAAgAAAAAAAAAAAAAAAAAAAAAAAAAAAAAAAAAAAAAAAAAAAAAAAAAAAAAAAAAAAAAAAAABAAAAAgADAAAAAAAAAAAAAAAAAAEACQAPABkAWACDAIYAawBPACAAFAAKAAoABQAHAAMAAAABAAAAAAAAAAAAAAAAAAAAAAAAAAAAAAAAAAAAAAAAAAAAAAAAAAAAAAAAAAAAAAAAAAEAAAAAAAAAAAABAAAAAAAAAAYACQAKABwAPwAuACYAHQASAAkABAAAAAIABAACAAEAAAAAAAAAAAAAAAAAAAAAAAAAAAAAAAAAAAAAAAAAAAAAAAAAAAAAAAAAAAAAAAAAAAAAAAEAAAAAAAAAAAAAAAAAAgADAAoACgA4AGEAQgBQAC8AFwAMAAMABgABAAYAAwAAAAEAAgAAAAAAAAAAAAAAAAAAAAAAAAAAAAAAAAAAAAAAAAAAAAAAAAAAAAAAAAAAAAAAAQAAAAEAAAAAAAAAAQABAAEACQAIABIAIwBKADsAMgAoABkADQABAAYABAACAAEAAQABAAAAAgAAAAEAAAAAAAAAAAAAAAAAAAAAAAAAAAAAAAAAAAAAAAAAAAAAAAAAAAAAAAAAAQAAAAAAAAAAAAAAAAAAAAAAAgAEABYAHwAXABIADgAJAAUAAAABAAEAAQABAAEAAAAAAAAAAAAAAAAAAAAAAAAAAAAAAAAAAAAAAAAAAAAAAAAAAAAAAAAAAAAAAAAAAAAAAAAAAAAAAAAAAAAAAAAAAQAEAAYABgAZADoAIQAkABgADAAPAAQAAwACAAAAAAAAAAEAAAAAAAAAAAAAAAAAAAAAAAAAAAAAAAAAAAAAAAAAAAAAAAAAAAAAAAAAAAAAAAAAAQAAAAAAAAAAAAAAAAAAAAAAAQABAAYAEwAWAA0AEgAIAAkABAAAAAAAAAAAAAEAAAAAAAAAAAABAAAAAAAAAAAAAAAAAAAAAAAAAAAAAAAAAAAAAAAAAAAAAAAAAAAAAAAAAAAAAQAAAAAAAQAAAAAAAAAAAAAAAgAFABgAKAAQABcAEAAJAAsAAgABAAIAAgABAAEAAQAAAAAAAAABAAAAAAAAAAAAAAAAAAAAAAAAAAAAAAAAAAAAAAAAAAAAAAAAAAAAAAABAAAAAAAAAAAAAAAAAAAAAAACAAIABAAVABsAEgAWAAsABQAHAAEAAAAAAAAAAAABAAAAAAABAAAAAQAAAAAAAAAAAAAAAAAAAAAAAAAAAAAAAAAAAAAAAAAAAAAAAAAAAAAAAAAAAAAAAAAAAAAAAAABAAAAAQACAAIACAAHAA0ACgAEAAQABAABAAAAAgAAAAAAAAABAAAAAAAAAAAAAAAAAAAAAAAAAAAAAAAAAAAAAAAAAAAAAAAAAAAAAAAAAAAAAAAAAAAAAAAAAAAAAQAAAAAAAAAAAAEAAAADABMAFQAVABEABgAGAAQAAQACAAAAAQAAAAAAAAAAAAAAAQAAAAAAAAAAAAAAAAAAAAAAAAAAAAAAAAAAAAAAAAAAAAAAAAAAAAAAAAAAAAAAAAAAAAAAAAAAAAAAAAABAAAAAAAEAAsADgAHAAgAAgAAAAAAAAACAAAAAAAAAAAAAAAAAAAAAAAAAAAAAAAAAAAAAAAAAAAAAAAAAAAAAAAAAAAAAAAAAAAAAAAAAAAAAAAAAAAAAAAAAAAAAAAAAAAAAgAAAAUADAAUAA0ACAAIAAMAAgABAAIAAAACAAAAAAAAAAAAAAAAAAAAAAAAAAAAAAAAAAAAAAAAAAAAAAAAAAAAAAAAAAAAAAAAAAAAAAAAAAAAAAAAAAAAAAAAAAAAAQABAAEABgABAAkADgAMABEACAAFAAEAAAABAAAAAAAAAAAAAAAAAAAAAAAAAAAAAAAAAAAAAAAAAAAAAAAAAAAAAAAAAAAAAAAAAAAAAAAAAAAAAAAAAAAAAAAAAAAAAAAAAAAAAQABAAAAAQAAAAkACgADAAUAAAACAAEAAQAAAAAAAAAAAAAAAAAAAAAAAAAAAAAAAAAAAAAAAAAAAAAAAAAAAAAAAAAAAAAAAAAAAAAAAAAAAAAAAAAAAAAAAAAAAAAAAAAAAAEAAQAAAAEACAAMAAcADQAHAAMAAgAAAAAAAAAAAAAAAAAAAAAAAAAAAAAAAAAAAAAAAAAAAAAAAAAAAAAAAAAAAAAAAAAAAAAAAAAAAAAAAAAAAAAAAAAAAAAAAAAAAAAAAAAAAAAAAwACAAoABgADAAUABwACAAIAAAABAAAAAQAAAAAAAAAAAAAAAAAAAAAAAAAAAAAAAAAAAAAAAAAAAAAAAAAAAAAAAAAAAAAAAAAAAAAAAAAAAAAAAAAAAAAAAAAAAAAAAAAAAAEAAAADAAUABQAEAAEAAQAAAAAAAQAAAAAAAAAAAAAAAAAAAAAAAAAAAAAAAAAAAAAAAAAAAAAAAAAAAAAAAAAAAAAAAAAAAAAAAAAAAAAAAAAAAAAAAAAAAAAAAAAAAAAAAAABAAEABAAIAAkABgACAAAAAAABAAEAAAAAAAAAAAAAAAAAAAAAAAAAAAAAAAAAAAAAAAAAAAAAAAAAAAAAAAAAAAAAAAAAAAAAAAAAAAAAAAAAAAAAAAAAAAAAAAAAAAAAAAAAAQAAAAMAAgAFAAEAAwAAAAAAAAAAAAAAAAAAAAAAAAAAAAAAAAAAAAAAAAAAAAAAAAAAAAAAAAAAAAAAAAAAAAAAAAAAAAAAAAAAAAAAAAAAAAAAAAABAAAAAAAAAAAAAAAAAAMAAgAGAAIABwADAAIAAQACAAAAAAAAAAAAAAAAAAAAAAAAAAAAAAAAAAAAAAAAAAAAAAAAAAAAAAAAAAAAAAAAAAAAAAAAAAAAAAAAAAAAAAAAAAAAAAAAAAAAAAAAAAAAAAAAAAEABAAEAAIAAwAFAAEAAAAAAAAAAAAAAAIAAAAAAAAAAAAAAAAAAAAAAAAAAAAAAAAAAAAAAAAAAAAAAAAAAAAAAAAAAAAAAAAAAAAAAAAAAAAAAAAAAAAAAAAAAAAAAAAAAAAAAAMAAAABAAEAAQAAAAAAAQAAAAAAAAAAAAAAAAAAAAAAAAAAAAAAAAAAAAAAAAAAAAAAAAAAAAAAAAAAAAAAAAAAAAAAAAAAAAAAAAAAAAAAAAAAAAAAAAAAAAAAAQAAAAAAAAAAAAEABQACAAAAAAAAAAAAAAAAAAAAAAAAAAAAAAAAAAAAAAAAAAAAAAAAAAAAAAAAAAAAAAAAAAAAAAAAAAAAAAAAAAAAAAAAAAAAAAAAAAAAAAAAAAAAAAAAAAAAAQABAAAAAgAAAAAABAAAAAAAAQAAAAAAAQAAAAAAAAAAAAAAAAAAAAAAAAAAAAAAAAAAAAAAAAAAAAAAAAAAAAAAAAAAAAAAAAAAAAAAAAAAAAAAAAAAAAAAAQAAAAAAAAAAAAAAAAAAAAAAAAAAAAIAAQAAAAAAAAAAAAAAAAAAAAAAAAAAAAAAAAAAAAAAAAAAAAAAAAAAAAAAAAAAAAAAAAAAAAAAAAAAAAAAAAAAAAAAAAAAAAAAAAAAAAAAAAAAAAAAAAAAAAAAAAAAAAAAAAAAAAAAAAAAAAAAAAAAAAAAAAAAAAAAAAAAAAAAAAAAAAAAAAAAAAAAAAAAAAAAAAAAAAAAAAAAAAAAAAAAAAAAAAAAAAAAAAAAAAAAAAAAAAAAAAAAAAAAAAAAAAAAAAAAAAAAAAAAAAAAAAAAAAAAAAAAAAAAAAAAAAAAAAAAAAAAAAAAAAAAAAAAAAAAAAAAAAAAAAAAAAAAAAAAAAAAAAAAAAAAAAAAAAAAAAAAAAAAAAAAAAAAAAAAAAAAAAAAAAAAAAABAAAAAAAAAAAAAAAAAAAAAAAAAAAAAAAAAAAAAAAAAAAAAAAAAAAAAAAAAAAAAAAAAAAAAAAAAAAAAAAAAAAAAAAAAAAAAAAAAAAAAAAAAAAAAAAAAAAAAAAAAAAAAAAAAAEAAAAAAAAAAAAAAAAAAAAAAAAAAAAAAAAAAAAAAAAAAAAAAAAAAAAAAAAAAAAAAAAAAAAAAAAAAAAAAAAAAAAAAAAAAAAAAAAAAAAAAAAAAAAAAAAAAAAAAAAAAAAAAAAAAAAAAAAAAAABAAAAAAAAAAAAAAAAAAAAAAAAAAAAAAAAAAAAAAAAAAAAAAAAAAAAAAAAAAAAAAAAAAAAAAAAAAAAAAAAAAAAAAAAAAAAAAAAAAAAAAAAAAAAAAAAAAAAAAAAAAAAAAAAAAAAAAAAAAAAAAAAAAAAAAAAAAAAAAAAAAAAAAAAAAAAAAAAAAAAAAAAAAAAAAAAAAAAAAAAAAAAAAAAAAAAAAAAAAAAAAAAAAAAAAAAAAAAAAAAAAAAAAAAAAEAAAAAAAEAAAAAAAAAAAAAAAAAAAAAAAAAAAAAAAAAAAAAAAAAAAA=",
          "dtype": "i2",
          "shape": "50, 50, 1"
         },
         "hovertemplate": "Count: %{customdata[0]}<br>Year: %{x|%Y}<br>Age: %{y}<extra></extra>",
         "name": "0",
         "type": "heatmap",
         "x": [
          "1962-08-24T12:19:52.320000000",
          "1963-01-25T22:06:48.960000000",
          "1963-06-29T07:53:45.600000000",
          "1963-11-30T17:40:42.240000000",
          "1964-05-03T03:27:38.880000000",
          "1964-10-04T13:14:35.520000000",
          "1965-03-07T23:01:32.160000000",
          "1965-08-09T08:48:28.800000000",
          "1966-01-10T18:35:25.440000000",
          "1966-06-14T04:22:22.080000000",
          "1966-11-15T14:09:18.720000000",
          "1967-04-18T23:56:15.360000000",
          "1967-09-20T09:43:12.000000000",
          "1968-02-21T19:30:08.640000000",
          "1968-07-25T05:17:05.280000000",
          "1968-12-26T15:04:01.920000000",
          "1969-05-30T00:50:58.560000000",
          "1969-10-31T10:37:55.200000000",
          "1970-04-03T20:24:51.840000000",
          "1970-09-05T06:11:48.480000000",
          "1971-02-06T15:58:45.120000000",
          "1971-07-11T01:45:41.760000000",
          "1971-12-12T11:32:38.400000000",
          "1972-05-14T21:19:35.040000000",
          "1972-10-16T07:06:31.680000000",
          "1973-03-19T16:53:28.320000000",
          "1973-08-21T02:40:24.960000000",
          "1974-01-22T12:27:21.600000000",
          "1974-06-25T22:14:18.240000000",
          "1974-11-27T08:01:14.880000000",
          "1975-04-30T17:48:11.520000000",
          "1975-10-02T03:35:08.160000000",
          "1976-03-04T13:22:04.800000000",
          "1976-08-05T23:09:01.440000000",
          "1977-01-07T08:55:58.080000000",
          "1977-06-10T18:42:54.720000000",
          "1977-11-12T04:29:51.360000000",
          "1978-04-15T14:16:48.000000000",
          "1978-09-17T00:03:44.640000000",
          "1979-02-18T09:50:41.280000000",
          "1979-07-22T19:37:37.920000000",
          "1979-12-24T05:24:34.560000000",
          "1980-05-26T15:11:31.200000000",
          "1980-10-28T00:58:27.840000000",
          "1981-03-31T10:45:24.480000000",
          "1981-09-01T20:32:21.120000000",
          "1982-02-03T06:19:17.760000000",
          "1982-07-07T16:06:14.400000000",
          "1982-12-09T01:53:11.040000000",
          "1983-05-12T11:40:07.680000000"
         ],
         "xaxis": "x",
         "y": {
          "bdata": "7FG4HoXr6T9xPQrXo3ADQDQzMzMzMxBArkfhehSuFkAqXI/C9SgdQFK4HoXr0SFAkML1KFwPJUDNzMzMzEwoQAvXo3A9iitASeF6FK7HLkDD9ShcjwIxQOJ6FK5HoTJAAAAAAABANEAfhetRuN41QD4K16NwfTdAXI/C9SgcOUB8FK5H4bo6QJqZmZmZWTxAuR6F61H4PUDYo3A9Cpc/QHwUrkfhmkBACtejcD1qQUCamZmZmTlCQCpcj8L1CENAuB6F61HYQ0BI4XoUrqdEQNijcD0Kd0VAZmZmZmZGRkD2KFyPwhVHQIbrUbge5UdAFa5H4Xq0SECkcD0K14NJQDQzMzMzU0pAw/UoXI8iS0BSuB6F6/FLQOJ6FK5HwUxAcj0K16OQTUAAAAAAAGBOQJDC9ShcL09AIIXrUbj+T0DYo3A9CmdQQB+F61G4zlBAZ2ZmZmY2UUCuR+F6FJ5RQPYoXI/CBVJAPgrXo3BtUkCG61G4HtVSQM3MzMzMPFNAFa5H4XqkU0Bcj8L1KAxUQA==",
          "dtype": "f8"
         },
         "yaxis": "y",
         "z": {
          "bdata": "AAAAAAAAAAAAAAAAAAAAAAAAAAAAAAAAAAAAAAAAAAAAAAAAAAAAAAAAAAAAAAAAAAAAAAAAAAAAAAAAAAAAAAAAAAAAAAAAAAAAAAAAAAAAAAAAAAAAAAAAAAAAAAAAAAAAAAAAAAAAAAAAAAAAAAAAAAAAAAAAAAAAAAAAAAAAAAAAAAAAAAAAAAAAAAAAAAAAAAAAAAAAAAAAAAAAAAAAAAAAAAAAAAAAAAAAAAAAAAAAAAAAAAAAAAAAAAAAAAAAAAAAAAAAAAAAAAAAAAAAAAAAAAAAAAAAAAAAAAAAAAAAAAAAAAAAAAAAAAAAAAAAAAAAAAAAAAAAAAAAAO85+v5CLuY/7zn6/kIu5j/vOfr+Qi72PwsDrXrqk/E/CwOteuqT8T8AAAAAAAAAAAAAAAAAAAAAAAAAAAAAAADvOfr+Qi7mPwAAAAAAAAAAAAAAAAAAAAAAAAAAAAAAAAAAAAAAAAAAAAAAAAAAAAAAAAAAAAAAAAAAAAAAAAAAAAAAAAAAAAAAAAAAAAAAAAAAAAAAAAAAAAAAAAAAAAAAAAAAAAAAAAAAAAAAAAAAAAAAAAAAAAAAAAAAAAAAAAAAAAAAAAAAAAAAAAAAAAAAAAAAAAAAAAAAAAAAAAAAAAAAAAAAAAAAAAAAAAAAAAAAAAAAAAAAAAAAAAAAAAAAAAAAAAAAAAAAAAAAAAAAAAAAAAAAAAAAAAAAAAAAAAAAAAAAAAAAAAAAAAAAAAAAAAAAAAAAAAAAAAAAAAAAAAAAAAAAAAAAAAAAAAAAAAAAAAAAAAAAAAAAAAAAAAAAAAAAAAAAAAAAAAAAAAAAAAAAAAAAAAAAAAAAAAAAAAAAAAAAAAAAAAAAAAAAAAAAAAAAAAAAAAAAAAAAAAAAAAAAAAAAAAAAAAAAAAAAAAAAAAAAAAAAAAAAAAAAAAAAAAAAAAAAAAAAAAAAAAAAAAAAAAAAAAAAAAAAAAAAAAAAAAAAAAAAAAAAAAAAAAAAAAAAAAAAAAAAAAAAAAAAAAAAAAAAAAAAAAAAAAAAAAAAAAAAAAAAAAAAAAAAAAAAAAAAAAAAAAAAAAAAAAAAAAAAAAAAAAAAAAAAAAAAAAAAAAAAAAAAAAAAAAAAAAAAAAAAAAAAAAAAAAAAAAAAAAAAAAAAAAAAAAAAAAAAAAAAAAAAAAAAAAAAAAAAAAAAAAAAAAAAAAAAAAAAAAAAAAAAAAAAAAAAAAAAAAAAAAAAAAAAAAAAAAAAAAAAAAAAAAAAAAAAAAAAAAAAAAAAAAAAAAAAAAAAAAAAAAAAAAAAAAAAAAAAAAAAAAAAAAAAAAAAAAAAAAAAAAAAAAAAAAAAAAAAAAAAAAAAAAAAAAAAAAAAAAAAAAAAAAAAAAAAAAAAAAAAAAAAAAAAAAAAAAAAAAAAAAAAAAAAAAAAAAAAAAAAAAAAAAAAAAAAAAAAAAAAAAAAAAAAAAAAAAAAAAAAAAAAAAAAAAAAAAAAAO85+v5CLuY/AAAAAAAAAAAAAAAAAAAAAAAAAAAAAAAAAAAAAAAAAAAAAAAAAAAAAAAAAAAAAAAAAAAAAAAAAAAAAAAAAAAAAAAAAAAAAAAAAAAAAAAAAAAAAAAAAAAAAAAAAAAAAAAAAAAAAAAAAAAAAAAAAAAAAAAAAAAAAAAAAAAAAAAAAAAAAAAAAAAAAAAAAAAAAAAAAAAAAAAAAAAAAAAAAAAAAAAAAAAAAAAAAAAAAAAAAAAAAAAAAAAAAAAAAAAAAAAAAAAAAAAAAAAAAAAAAAAAAAAAAAAAAAAAAAAAAAAAAAAAAAAAAAAAAAAAAAAAAAAAAAAAAAAAAAAAAAAAAAAAAAAAAAAAAAAAAAAAAAAAAAAAAAAAAAAAAAAAAAAAAAAAAAAAAAAAAAAAAAAAAAAAAAAAAAAAAAAAAAAAAAAAAAAAAAAAAAAAAAAAAAAAAAAAAAAAAAAAAAAAAAAAAAAAAAAAAAAAAAAAAAAAAAAAAAAAAAAAAAAAAAAAAAAAAAAAAAAAAAAAAAAAAAAAAAAAAAAAAAAAAAAAAAAAAAAAAAAAAAAAAAAAAAAAAAAAAAAAAAAAAAAAAAAAAAAAAAAAAAAAAAAAAAAAAAAAAAAAAAAAAAAAAAAAAAAAAAAAAAAAAAAAAAAAAAAAAAAAAAAAAAAAAAAAAAAAAAAAAAAAAAAAAAAAAAAAAAAAAAAAAAAAAAAAAAAAAAAAAAAAAAAAAAAAAAAAAAAAAAAAAAAAAAAAAAAAAAAAAAAAAAAAAAAAAAAAAAAAAAAAAAAAAAAAAAAAAAAAAAAAAAAAAAAAAAAAAAAAAAAAAAAAAAAAAAAAAAAAAAAAAAAAAAAAAAAAAAAAAAAAAAAAAAAAAAAAAAAAAAAAAAAAAAAAAAAAAAAAAAAAAAAAAAAAAAAAAAAAAAAAAAAAAAAAAAAAAAAAAAAAAAAAAAAAAAAAAAAAAAAAAAAAAAAAAAAAAAAAAAAAAAAAAAAAAAAAAAAAAAAAAAAAAAAAAAAAAAAAAAAAAAAAAAAAAAAAAAAAAAAAAAAAAAAAAAAAAAAAAAAAAAAAAAAAAAAAAAAAAAAAAAAAAAAAAAAAAAAAAAAAAAAAAAAAAAAAAAAAAAAAAAAAAAAAAAAAAAAAAAAAAAAAAAAAAAAAAAAAAAAAAAAAAAAAAAAAAAAAAAAAAAAAAAAAAAAAAAAAAAAAAAAAAAAAAAAAAAAAAAAAAAAAAAAAAAAAAAAAAAAAAAAAAAAAAAAAAAAAAAAAAAAAAAAAAAAAAAAAAAAAAAAAAAAAAAAAAAAAAAAAAAAAAAAAAAAAAAAAAAAAAAAAAAAAAAAAAAAAAAAAAAAAAAAAAAAAAAAAAAAAAAAAAAAAAAAAAAAAAAAAAAAAAAAAAAAAAAAAAAAAAAAAAAAAAAAAAAAAAAAAAAAAAAAAAAAAAAAAAAAAAAAAAAAAAAAAAAAAAAAAAAAAAAAAAAAAAAAAAAAAAAAAAAAAAAAAAAAAAAAAAAAAAAAAAAAAAAAAAAAAAAAAAAAAAAAAAAAAAAAAAAAAAAAAAAAAAAAAAAAAAAAAAAAAAAAAAAAAAAAAAAAAAAAAAAAAAAAAAAAAAAAAAAAAAAAAAAAAAAAAAAAAAAAAAAAAAAAAAAAAAAAAAAAAAAAAAAAAAAAAAAAAAAAAAAAAAAAAAAAAAAAAAAAAAAAAAAAAAAAAAAAAAAAAAAAAAAAAAAAAAAAAAAAAAAAAAAAAAAAAAAAAAAAAAAAAAAAAAAAAAAAAAAAAAAAAAAAAAAAAAAAAAAAAAAAAAAAAAAAAAAAAAAAAAAAAAAAAAAAAAAAAAAAAAAAAAAAAAAAAAAAAAAAAAAAAAAAAAAAAAAAAAAAAAAAAAAAAAAAAAAAAAAAAAAAAAAAAAAAAAAAAAAAAAAAAAAAAAAAAAAAAAAAAAAAAAAAAAAAAAAAAAAAAAAAAAAAAAAAAAAAAAAAAAAAAAAAAAAAAAAAAAAAAAAAAAAAAAAAAAAAAAAAAAAAAAAAAAAAAAAAAAAAAAAAAAAAAAAAAAAAAAAAAAAAAAAAAAAAAAAAAAAAAAAAAAAAAAAAAAAAAAAAAAAAAAAAAAAAAAAAAAAAAAAAAAAAAAAAAAAAAAAAAAAAAAAAAAAAAAAAAAAAAAAAAAAAAAAAAAAAAAAAAAAAAAAAAAAAAAAAAAAAAAAAAAAAAAAAAAAAAAAAAAAAAAAAAAAAAAAAAAAAAAAAAAAAAAAAAAAAAAAAAAAAAAAAAAAAAAAAAAAAAAAAAAAAAAAAAAAAAAAAAAAAAAAAAAAAAAAAAAAAAAAAAAAAAAAAAAAAAAAAAAAAAAAAAAAAAAAAAAAAAAAAAAAAAAAAAAAAAAAAAAAAAAAAAAAAAAAAAAAAAAAAAAAAAAAAAAAAAAAAAAAAAAAAAAAAAAAAAAAAAAAAAAAAAAAAAAAAAAAAAAAAAAAAAAAAAAAAAAAAAAAAAAAAAAAAAAAAAAAAAAAAAAAAAAAAAAAAAAAAAAAAAAAAAAAAAAAAAAAAAAAAAAAAAAAAAAAAAAAAAAAAAAAAAAAAAAAAAAAAAAAAAAAAAAAAAAAAAAAAAAAAAAAAAAAAAAAAAAAAAAAAAAAAAAAAAAAAAAAAAAAAAAAAAAAAAAAAAAAAAAAAAAAAAAAAAAAAAAAAAAAAAAAAAAAAAAAAAAAAAAAAAAAAAAAAAAAAAAAAAAAAAAAAAAAAAAAAAAAAAAAAAAAAAAAAAAAAAAAAAAAAAAAAAAAAAAAAAAAAAAAAAAAAAAAAAAAAAAAAAAAAAAAAAAAAAAAAAAAAAAAAAAAAAAAAAAAAAAAAAAAAAAAAAAAAAAAAAAAAAAAAAAAAAAAAAAAAAAAAAAAAAAAAAAAAAAAAAAAAAAAAAAAAAAAAAAAAAAAAAAAAAAAAAAAAAAAAAAAAAAAAAAAAAAAAAAAAAAAAAAAAAAAAAAAAAAAAAAAAAAAAAAAAAAAAAAAAAAAAAAAAAAAAAAAAAAAAAAAAAAAAAAAAAAAAAAAAAAAAAAAAAAAAAAAAAAAAAAAAAAAAAAAAAAAAAAAAAAAAAAAAAAAAAAAAAAAAAAAAAAAAAAAAAAAAAAAAAAAAAAAAAAAAAAAAAAAAAAAsDrXrqk/E/7zn6/kIu9j8AAAAAAAAAAAAAAAAAAAAAAAAAAAAAAAAAAAAAAAAAAAAAAAAAAAAAAAAAAAAAAAAAAAAAAAAAAAAAAAAAAAAAAAAAAAAAAAAAAAAAAAAAAAAAAAAAAAAAAAAAAAAAAAAAAAAAAAAAAAAAAAAAAAAAAAAAAAAAAAAAAAAAAAAAAAAAAAAAAAAAAAAAAAAAAAAAAAAAAAAAAAAAAAAAAAAAAAAAAAAAAAAAAAAAAAAAAAAAAAAAAAAAAAAAAAAAAAAAAAAAAAAAAAAAAAAAAAAAAAAAAAAAAAAAAAAAAAAAAAAAAAAAAAAAAAAAAAAAAAAAAAAAAAAAAAAAAAAAAAAAAAAAAAAAAAAAAAAAAAAAAAAAAAAAAAAAAAAAAAAAAAAAAAAAAAAAAAAAAAAAAAAAAAAAAAAAAAAAAAAAAAAAAAAAAAAAAAAAAAAAAAAAAAAAAAAAAAAAAAsDrXrqk/E/CwOteuqT8T8zje33QcD5P32e07wW4QNAkeNze0L3B0ACICr6C6v8P3OrOz+yogBA7zn6/kIu9j/vOfr+Qi72PzON7fdBwPk/AAAAAAAAAAAAAAAAAAAAAAsDrXrqk/E/7zn6/kIu5j8AAAAAAAAAAAAAAAAAAAAAAAAAAAAAAAAAAAAAAAAAAAAAAAAAAAAAAAAAAAAAAAAAAAAAAAAAAAAAAAAAAAAAAAAAAAAAAAAAAAAAAAAAAAAAAAAAAAAAAAAAAAAAAAAAAAAAAAAAAAAAAAAAAAAAAAAAAAAAAAAAAAAAAAAAAAAAAAAAAAAAAAAAAAAAAAAAAAAAAAAAAAAAAAAAAAAAAAAAAAAAAAAAAAAAAAAAAAAAAAAAAAAAAAAAAAAAAAAAAAAAAAAAAAAAAAAAAAAAAAAAAAAAAAAAAAAAAAAAAAAAAAAAAAAAAAAAAAAAAAAAAAAAAAAAAAAAAAAAAAAA7zn6/kIu5j8AAAAAAAAAAAAAAAAAAAAAAAAAAAAAAAALA6166pPxP+85+v5CLuY/CwOteuqT8T9MN3+34y4DQPCz0f19FQlAkIQDuN9dCkALA6166pMBQO85+v5CLvY/M43t90HA+T8AAAAAAAAAAAAAAAAAAAAAAAAAAAAAAADvOfr+Qi7mPwAAAAAAAAAAAAAAAAAAAADvOfr+Qi7mPwAAAAAAAAAAAAAAAAAAAAAAAAAAAAAAAAAAAAAAAAAAAAAAAAAAAAAAAAAAAAAAAAAAAAAAAAAAAAAAAAAAAAAAAAAAAAAAAAAAAAAAAAAAAAAAAAAAAAAAAAAAAAAAAAAAAAAAAAAAAAAAAAAAAAAAAAAAAAAAAAAAAAAAAAAAAAAAAAAAAAAAAAAAAAAAAAAAAAAAAAAAAAAAAAAAAAAAAAAAAAAAAAAAAAAAAAAAAAAAAAAAAAAAAAAAAAAAAAAAAAAAAAAA7zn6/kIu5j8AAAAAAAAAAAAAAAAAAAAA7zn6/kIu5j8AAAAAAAAAAAAAAAAAAAAAAAAAAAAAAAAAAAAAAAAAAAsDrXrqk/E/CwOteuqTAUALA6166pMBQLGub5QuWwhAqzwiaCjDD0CLjaUlrQMTQC0RKPGa0RBA5i8iM24pEUAzje33QcAJQO85+v5CLgZAc6s7P7KiAEAAAAAAAAAAAAIgKvoLq/w/7zn6/kIu5j8AAAAAAAAAAO85+v5CLuY/AAAAAAAAAADvOfr+Qi7mPwsDrXrqk/E/AAAAAAAAAAAAAAAAAAAAAAAAAAAAAAAAAAAAAAAAAAAAAAAAAAAAAAAAAAAAAAAAAAAAAAAAAAAAAAAAAAAAAAAAAAAAAAAAAAAAAAAAAAAAAAAAAAAAAAAAAAAAAAAAAAAAAAAAAAAAAAAAAAAAAAAAAAAAAAAAAAAAAAAAAAAAAAAAAAAAAAAAAAAAAAAAAAAAAAAAAAAAAAAAAAAAAAAAAAAAAAAAAAAAAAAAAAAAAAAAAAAAAO85+v5CLuY/7zn6/kIu5j8AAAAAAAAAAAAAAAAAAAAAAAAAAAAAAAAAAAAAAAAAAAAAAAAAAAAAAAAAAAAAAADvOfr+Qi72P3OrOz+yogBA7zn6/kIuBkCoQcPFxhkNQHDW88JhIRJA9beFufbaFUA00o13JboUQLNwc/NaeBNAbEKQvQ6hDkCvG6y30ksPQHOrOz+yogBAM43t90HA+T8LA6166pPxP+85+v5CLuY/AAAAAAAAAAAAAAAAAAAAAAAAAAAAAAAAAAAAAAAAAAAAAAAAAAAAAAAAAAAAAAAAAAAAAAAAAAAAAAAAAAAAAO85+v5CLuY/AAAAAAAAAAAAAAAAAAAAAAAAAAAAAAAAAAAAAAAAAAAAAAAAAAAAAAAAAAAAAAAAAAAAAAAAAAAAAAAAAAAAAAAAAAAAAAAAAAAAAAAAAAAAAAAAAAAAAAAAAAAAAAAAAAAAAAAAAAAAAAAAAAAAAAAAAAAAAAAAAAAAAAAAAAAAAAAAAAAAAAAAAAAAAAAAAAAAAAAAAADvOfr+Qi7mPwAAAAAAAAAA7zn6/kIu5j8AAAAAAAAAAAAAAAAAAAAAAAAAAAAAAADvOfr+Qi7mPwAAAAAAAAAACwOteuqT8T8LA6166pPxPxZVtbuxawJAI0qW1lqoCkBNRsbF5D0QQPlhc/2BtRNAWV/CSFpYE0DsE1ll9okSQPYNuYH8NQxAkIQDuN9dCkAzje33QcD5P+85+v5CLvY/7zn6/kIu5j8LA6166pPxP+85+v5CLuY/AAAAAAAAAAAAAAAAAAAAAAAAAAAAAAAA7zn6/kIu5j8AAAAAAAAAAAAAAAAAAAAAAAAAAAAAAAAAAAAAAAAAAAAAAAAAAAAAAAAAAAAAAAAAAAAAAAAAAAAAAAAAAAAAAAAAAAAAAAAAAAAAAAAAAAAAAAAAAAAAAAAAAAAAAAAAAAAAAAAAAAAAAAAAAAAAAAAAAAAAAAAAAAAAAAAAAAAAAAAAAAAAAAAAAAAAAAAAAAAAAAAAAAAAAAAAAAAAAAAAAAAAAAAAAAAAAAAAAAAAAAAAAAAAAAAAAAAAAADvOfr+Qi72P+85+v5CLuY/7zn6/kIu5j/vOfr+Qi7mPwAAAAAAAAAAAAAAAAAAAAAAAAAAAAAAAO85+v5CLvY/UYwxKwSFBEB6f/rBa6oGQBHsFBbwFg5At3CmWS4VE0DiodRVEBoWQDYaCaPxoBVA/KMEIefQFEC9x4ff+H8SQFdaMq5yIg9AkIQDuN9dCkBzqzs/sqIAQHOrOz+yogBAM43t90HA+T/vOfr+Qi7mPwAAAAAAAAAAAAAAAAAAAAAAAAAAAAAAAAAAAAAAAAAAAAAAAAAAAAAAAAAAAAAAAAAAAAAAAAAAAAAAAAAAAAAAAAAAAAAAAAAAAAAAAAAAAAAAAAAAAAAAAAAAAAAAAAAAAAAAAAAAAAAAAAAAAAAAAAAAAAAAAAAAAAAAAAAAAAAAAAAAAAAAAAAAAAAAAAAAAAAAAAAAAAAAAAAAAAAAAAAAAAAAAAAAAAAAAAAAAAAAAAAAAAAAAAAAAAAAAAAAAAAAAAAAAAAAAAAAAAAAAAAAAAAAAAAAAAAAAAAA7zn6/kIu5j8AAAAAAAAAAAAAAAAAAAAAAAAAAAAAAAAAAAAAAAAAAAAAAAAAAAAACwOteuqT8T8AAAAAAAAAAFdaMq5yIv8/TDd/t+MuA0Azje33QcAJQFdaMq5yIg9ATDd/t+MuE0DUZfYJKLkRQESAeP0xhxFA/wBR/2B0D0Azje33QcAJQJHjc3tC9wdAAiAq+gur/D8AAAAAAAAAAO85+v5CLvY/CwOteuqT8T8AAAAAAAAAAAAAAAAAAAAAAAAAAAAAAAAAAAAAAAAAAAAAAAAAAAAAAAAAAAAAAAAAAAAAAAAAAAAAAAAAAAAAAAAAAAAAAAAAAAAAAAAAAAAAAAAAAAAAAAAAAAAAAAAAAAAAAAAAAAAAAAAAAAAAAAAAAAAAAAAAAAAAAAAAAAAAAAAAAAAAAAAAAAAAAAAAAAAAAAAAAAAAAAAAAAAAAAAAAAAAAAAAAAAAAAAAAAAAAAAAAAAAAAAAAAAAAAAAAAAAAAAAAAAAAAAAAAAAAAAAAAAAAADvOfr+Qi7mP+85+v5CLuY/AAAAAAAAAAAAAAAAAAAAAAAAAAAAAAAAAAAAAAAAAADvOfr+Qi7mP+85+v5CLvY/7zn6/kIu9j+nu9cWyhwFQM0a8OqUEApA9g25gfw1DECX4YwB3vESQDz1wd6MXhVAmk6B+uMKFECx+I7pGEAUQGBxXfvK6BFA/wBR/2B0D0DNGvDqlBAKQDON7fdBwPk/M43t90HA+T8zje33QcD5P1daMq5yIv8/CwOteuqT8T8AAAAAAAAAAAAAAAAAAAAAAAAAAAAAAAAAAAAAAAAAAAAAAAAAAAAAAAAAAAAAAAAAAAAAAAAAAAAAAAAAAAAAAAAAAAAAAAAAAAAAAAAAAAAAAAAAAAAAAAAAAAAAAAAAAAAAAAAAAAAAAAAAAAAAAAAAAAAAAAAAAAAAAAAAAAAAAAAAAAAAAAAAAAAAAAAAAAAAAAAAAAAAAAAAAAAAAAAAAAAAAAAAAAAAAAAAAAAAAAAAAAAAAAAAAAAAAADvOfr+Qi7mPwAAAAAAAAAACwOteuqT8T/vOfr+Qi72PwAAAAAAAAAAAAAAAAAAAAAAAAAAAAAAAAAAAAAAAAAAAAAAAAAAAAAAAAAAAAAAAO85+v5CLuY/FlW1u7FrAkDvOfr+Qi4GQM0a8OqUEApA9oquF130EUDkaik6/YcTQJUl/VkAnxNAxFDAm4C6EkBEgHj9MYcRQNG41fTY+AtAsa5vlC5bCEBMN3+34y4DQEw3f7fjLgNAAiAq+gur/D9zqzs/sqIAQO85+v5CLvY/AAAAAAAAAADvOfr+Qi7mPwAAAAAAAAAAAAAAAAAAAAAAAAAAAAAAAAAAAAAAAAAAAAAAAAAAAAAAAAAAAAAAAAAAAAAAAAAAAAAAAAAAAAAAAAAAAAAAAAAAAAAAAAAAAAAAAAAAAAAAAAAAAAAAAAAAAAAAAAAAAAAAAAAAAAAAAAAAAAAAAAAAAAAAAAAAAAAAAAAAAAAAAAAAAAAAAAAAAAAAAAAAAAAAAAAAAAAAAAAAAAAAAAAAAAAAAAAAAAAAAAAAAAAAAAAAAAAAAO85+v5CLuY/AAAAAAAAAAAAAAAAAAAAAAAAAAAAAAAAAAAAAAAAAADvOfr+Qi7mPwAAAAAAAAAAAAAAAAAAAAAAAAAAAAAAAFdaMq5yIv8/FlW1u7FrAkBMN3+34y4DQB/+zcs48ApAc6s7P7KiEEC28JAvGs0OQNYNiGj5Tg1Am9YL+aY1C0AsswQGNo4HQBZVtbuxawJAM43t90HA+T8AAAAAAAAAAAsDrXrqk/E/M43t90HA+T8LA6166pPxP+85+v5CLuY/AAAAAAAAAAAAAAAAAAAAAAAAAAAAAAAAAAAAAAAAAAAAAAAAAAAAAAAAAAAAAAAAAAAAAAAAAAAAAAAAAAAAAAAAAAAAAAAAAAAAAAAAAAAAAAAAAAAAAAAAAAAAAAAAAAAAAAAAAAAAAAAAAAAAAAAAAAAAAAAAAAAAAAAAAAAAAAAAAAAAAAAAAAAAAAAAAAAAAAAAAAAAAAAAAAAAAAAAAAAAAAAAAAAAAAAAAAAAAAAAAAAAAAAAAAAAAAAAAAAAAAAAAAAAAAAAAAAAAO85+v5CLuY/AAAAAAAAAAAAAAAAAAAAAAAAAAAAAAAAAAAAAAAAAAAAAAAAAAAAAAAAAAAAAAAACwOteuqT8T/vOfr+Qi72P0w3f7fjLgNATDd/t+MuA0BZmq2hFSwQQGp0+LYBVxJALREo8ZrREEALA6166pMRQHW7UDw4+A5A+SySfKdsCUBRjDErBIUEQO85+v5CLvY/V1oyrnIi/z/vOfr+Qi7mP1daMq5yIv8/7zn6/kIu9j8AAAAAAAAAAO85+v5CLuY/CwOteuqT8T8AAAAAAAAAAAAAAAAAAAAAAAAAAAAAAAAAAAAAAAAAAAAAAAAAAAAAAAAAAAAAAAAAAAAAAAAAAAAAAAAAAAAAAAAAAAAAAAAAAAAAAAAAAAAAAAAAAAAAAAAAAAAAAAAAAAAAAAAAAAAAAAAAAAAAAAAAAAAAAAAAAAAAAAAAAAAAAAAAAAAAAAAAAAAAAAAAAAAAAAAAAAAAAAAAAAAAAAAAAAAAAAAAAAAAAAAAAAAAAAAAAAAA7zn6/kIu5j8AAAAAAAAAAO85+v5CLuY/AAAAAAAAAAAAAAAAAAAAAAAAAAAAAAAA7zn6/kIu5j/vOfr+Qi7mP+85+v5CLuY/FlW1u7FrAkALA6166pMBQCyzBAY2jgdAAiAq+gurDEBcB6KaG0URQIsyZdybYBBA/wBR/2B0D0BOrI5FZbUNQM0a8OqUEApAp7vXFsocBUDvOfr+Qi7mP1daMq5yIv8/M43t90HA+T8LA6166pPxP+85+v5CLuY/7zn6/kIu5j/vOfr+Qi7mPwAAAAAAAAAACwOteuqT8T8AAAAAAAAAAO85+v5CLuY/AAAAAAAAAAAAAAAAAAAAAAAAAAAAAAAAAAAAAAAAAAAAAAAAAAAAAAAAAAAAAAAAAAAAAAAAAAAAAAAAAAAAAAAAAAAAAAAAAAAAAAAAAAAAAAAAAAAAAAAAAAAAAAAAAAAAAAAAAAAAAAAAAAAAAAAAAAAAAAAAAAAAAAAAAAAAAAAAAAAAAAAAAAAAAAAAAAAAAAAAAAAAAAAAAAAAAAAAAAAAAAAA7zn6/kIu5j8AAAAAAAAAAAAAAAAAAAAAAAAAAAAAAAAAAAAAAAAAAAAAAAAAAAAAAAAAAAAAAAAAAAAAAAAAAAAAAAAAAAAACwOteuqT8T8zje33QcD5P/Cz0f19FQlAa8i4vtO5C0D5LJJ8p2wJQCyzBAY2jgdAH0hNORaqBUAWVbW7sWsCQAIgKvoLq/w/AAAAAAAAAADvOfr+Qi7mP+85+v5CLuY/7zn6/kIu5j/vOfr+Qi7mP+85+v5CLuY/AAAAAAAAAAAAAAAAAAAAAAAAAAAAAAAAAAAAAAAAAAAAAAAAAAAAAAAAAAAAAAAAAAAAAAAAAAAAAAAAAAAAAAAAAAAAAAAAAAAAAAAAAAAAAAAAAAAAAAAAAAAAAAAAAAAAAAAAAAAAAAAAAAAAAAAAAAAAAAAAAAAAAAAAAAAAAAAAAAAAAAAAAAAAAAAAAAAAAAAAAAAAAAAAAAAAAAAAAAAAAAAAAAAAAAAAAAAAAAAAAAAAAAAAAAAAAAAAAAAAAAAAAAAAAAAAAAAAAAAAAAAAAAAAAAAAAAAAAAAAAAAAAAAAAAAAAAAAAAAAAAAAAAAAAAAAAAAAAAAAAAAAAAAAAAAA7zn6/kIu5j8zje33QcD5P1daMq5yIv8/V1oyrnIi/z/NGvDqlBAKQHkpx/llTxBA9g25gfw1DEC9xzruKOMMQDON7fdBwAlAUYwxKwSFBEDvOfr+Qi4GQDON7fdBwPk/7zn6/kIu9j8LA6166pPxPwAAAAAAAAAAAAAAAAAAAAAAAAAAAAAAAO85+v5CLuY/AAAAAAAAAAAAAAAAAAAAAAAAAAAAAAAAAAAAAAAAAAAAAAAAAAAAAAAAAAAAAAAAAAAAAAAAAAAAAAAAAAAAAAAAAAAAAAAAAAAAAAAAAAAAAAAAAAAAAAAAAAAAAAAAAAAAAAAAAAAAAAAAAAAAAAAAAAAAAAAAAAAAAAAAAAAAAAAAAAAAAAAAAAAAAAAAAAAAAAAAAAAAAAAAAAAAAAAAAAAAAAAAAAAAAAAAAAAAAAAAAAAAAAAAAAAAAAAA7zn6/kIu5j8AAAAAAAAAAAAAAAAAAAAAAAAAAAAAAAAAAAAAAAAAAAAAAAAAAAAAAAAAAAAAAAAAAAAAAAAAAAAAAAAAAAAA7zn6/kIu5j/vOfr+Qi7mP1daMq5yIv8/keNze0L3B0Dws9H9fRUJQKe71xbKHAVALLMEBjaOB0ALA6166pMBQBZVtbuxawJAM43t90HA+T8AAAAAAAAAAAAAAAAAAAAAAAAAAAAAAAAAAAAAAAAAAO85+v5CLuY/AAAAAAAAAAAAAAAAAAAAAAAAAAAAAAAAAAAAAAAAAADvOfr+Qi7mPwAAAAAAAAAAAAAAAAAAAAAAAAAAAAAAAAAAAAAAAAAAAAAAAAAAAAAAAAAAAAAAAAAAAAAAAAAAAAAAAAAAAAAAAAAAAAAAAAAAAAAAAAAAAAAAAAAAAAAAAAAAAAAAAAAAAAAAAAAAAAAAAAAAAAAAAAAAAAAAAAAAAAAAAAAAAAAAAAAAAAAAAAAAAAAAAAAAAAAAAAAAAAAAAAAAAAAAAAAAAAAAAAAAAAAAAAAA7zn6/kIu5j8AAAAAAAAAAAAAAAAAAAAA7zn6/kIu5j8AAAAAAAAAAAAAAAAAAAAAAAAAAAAAAAAAAAAAAAAAAAAAAAAAAAAACwOteuqT8T8CICr6C6v8PzON7fdBwAlATqyORWW1DUB6f/rBa6oGQPksknynbAlAen/6wWuqBkAWVbW7sWsCQH2e07wW4QNACwOteuqT8T/vOfr+Qi7mPwsDrXrqk/E/CwOteuqT8T/vOfr+Qi7mP+85+v5CLuY/7zn6/kIu5j8AAAAAAAAAAAAAAAAAAAAAAAAAAAAAAADvOfr+Qi7mPwAAAAAAAAAAAAAAAAAAAAAAAAAAAAAAAAAAAAAAAAAAAAAAAAAAAAAAAAAAAAAAAAAAAAAAAAAAAAAAAAAAAAAAAAAAAAAAAAAAAAAAAAAAAAAAAAAAAAAAAAAAAAAAAAAAAAAAAAAAAAAAAAAAAAAAAAAAAAAAAAAAAAAAAAAAAAAAAAAAAAAAAAAAAAAAAAAAAAAAAAAAAAAAAAAAAADvOfr+Qi7mPwAAAAAAAAAAAAAAAAAAAAAAAAAAAAAAAAAAAAAAAAAAAAAAAAAAAAAAAAAAAAAAAAAAAAAAAAAAAAAAAAAAAAALA6166pPxPwsDrXrqk/E/M43t90HA+T/IxT13dLoIQCNKltZaqApALLMEBjaOB0Dws9H9fRUJQH2e07wW4QNAAiAq+gur/D9zqzs/sqIAQO85+v5CLuY/AAAAAAAAAAAAAAAAAAAAAAAAAAAAAAAAAAAAAAAAAADvOfr+Qi7mPwAAAAAAAAAAAAAAAAAAAADvOfr+Qi7mPwAAAAAAAAAA7zn6/kIu5j8AAAAAAAAAAAAAAAAAAAAAAAAAAAAAAAAAAAAAAAAAAAAAAAAAAAAAAAAAAAAAAAAAAAAAAAAAAAAAAAAAAAAAAAAAAAAAAAAAAAAAAAAAAAAAAAAAAAAAAAAAAAAAAAAAAAAAAAAAAAAAAAAAAAAAAAAAAAAAAAAAAAAAAAAAAAAAAAAAAAAAAAAAAAAAAAAAAAAAAAAAAAAAAAAAAAAAAAAAAAAAAAAAAAAAAAAAAAAAAAAAAAAAAAAAAAAAAAAAAAAAAAAAAAAAAAAAAAAAAAAAAAAAAADvOfr+Qi7mPwAAAAAAAAAA7zn6/kIu5j8LA6166pPxPwsDrXrqk/E/CwOteuqTAUBzqzs/sqIAQKe71xbKHAVATDd/t+MuA0Azje33QcD5PzON7fdBwPk/M43t90HA+T/vOfr+Qi7mPwAAAAAAAAAACwOteuqT8T8AAAAAAAAAAAAAAAAAAAAAAAAAAAAAAADvOfr+Qi7mPwAAAAAAAAAAAAAAAAAAAAAAAAAAAAAAAAAAAAAAAAAAAAAAAAAAAAAAAAAAAAAAAAAAAAAAAAAAAAAAAAAAAAAAAAAAAAAAAAAAAAAAAAAAAAAAAAAAAAAAAAAAAAAAAAAAAAAAAAAAAAAAAAAAAAAAAAAAAAAAAAAAAAAAAAAAAAAAAAAAAAAAAAAAAAAAAAAAAAAAAAAAAAAAAAAAAAAAAAAAAAAAAAAAAAAAAAAAAAAAAAAAAAAAAAAAAAAAAAAAAAAAAAAAAAAAAAAAAAAAAAAAAAAAAAAAAAAAAAAA7zn6/kIu5j8AAAAAAAAAAAAAAAAAAAAAAAAAAAAAAAAAAAAAAAAAAO85+v5CLuY/AAAAAAAAAADvOfr+Qi72P5Hjc3tC9wdAyMU9d3S6CEDIxT13dLoIQIaRazp7HwdAV1oyrnIi/z9XWjKuciL/PzON7fdBwPk/7zn6/kIu5j8LA6166pPxPwAAAAAAAAAA7zn6/kIu5j8AAAAAAAAAAAAAAAAAAAAAAAAAAAAAAAAAAAAAAAAAAAAAAAAAAAAA7zn6/kIu5j8AAAAAAAAAAAAAAAAAAAAAAAAAAAAAAAAAAAAAAAAAAAAAAAAAAAAAAAAAAAAAAAAAAAAAAAAAAAAAAAAAAAAAAAAAAAAAAAAAAAAAAAAAAAAAAAAAAAAAAAAAAAAAAAAAAAAAAAAAAAAAAAAAAAAAAAAAAAAAAAAAAAAAAAAAAAAAAAAAAAAAAAAAAAAAAAAAAAAAAAAAAAAAAAAAAAAAAAAAAAAAAAAAAAAAAAAAAAAAAAAAAAAAAAAAAAAAAAAAAAAAAAAAAAAAAAAAAAAAAAAAAAAAAAAAAAAAAAAAAAAAAAAAAAAAAAAAAAAAAADvOfr+Qi7mPwAAAAAAAAAAAAAAAAAAAAAzje33QcD5P32e07wW4QNAH0hNORaqBUBzqzs/sqIAQAsDrXrqkwFACwOteuqT8T8AAAAAAAAAAAAAAAAAAAAAAAAAAAAAAAALA6166pPxPwAAAAAAAAAAAAAAAAAAAAAAAAAAAAAAAAAAAAAAAAAAAAAAAAAAAAAAAAAAAAAAAAAAAAAAAAAAAAAAAAAAAAAAAAAAAAAAAAAAAAAAAAAAAAAAAAAAAAAAAAAAAAAAAAAAAAAAAAAAAAAAAAAAAAAAAAAAAAAAAAAAAAAAAAAAAAAAAAAAAAAAAAAAAAAAAAAAAAAAAAAAAAAAAAAAAAAAAAAAAAAAAAAAAAAAAAAAAAAAAAAAAAAAAAAAAAAAAAAAAAAAAAAAAAAAAAAAAAAAAAAAAAAAAAAAAAAAAAAAAAAAAAAAAAAAAAAAAAAAAAAAAAAAAAAAAAAAAAAAAAAAAAAAAAAAAAAAAAAAAAAAAAAAAAAAAAAAAAAAAAAAAAAAAAAAAAAACwOteuqT8T8AAAAAAAAAAAIgKvoLq/w/UYwxKwSFBECxrm+ULlsIQKe71xbKHAVACwOteuqTAUALA6166pMBQO85+v5CLvY/CwOteuqT8T/vOfr+Qi7mPwsDrXrqk/E/AAAAAAAAAAALA6166pPxPwAAAAAAAAAAAAAAAAAAAAAAAAAAAAAAAAAAAAAAAAAAAAAAAAAAAAAAAAAAAAAAAAAAAAAAAAAAAAAAAAAAAAAAAAAAAAAAAAAAAAAAAAAAAAAAAAAAAAAAAAAAAAAAAAAAAAAAAAAAAAAAAAAAAAAAAAAAAAAAAAAAAAAAAAAAAAAAAAAAAAAAAAAAAAAAAAAAAAAAAAAAAAAAAAAAAAAAAAAAAAAAAAAAAAAAAAAAAAAAAAAAAAAAAAAAAAAAAAAAAAAAAAAAAAAAAAAAAAAAAAAAAAAAAAAAAAAAAAAAAAAAAAAAAAAAAAAAAAAAAAAAAAAAAAAAAAAAAAAAAAAAAAAAAAAAAAAAAAAAAAAA7zn6/kIu5j/vOfr+Qi7mP+85+v5CLuY/V1oyrnIi/z/vOfr+Qi7mPxZVtbuxawJAH0hNORaqBUBRjDErBIUEQIaRazp7HwdACwOteuqTAUACICr6C6v8P+85+v5CLuY/AAAAAAAAAADvOfr+Qi7mPwAAAAAAAAAAAAAAAAAAAAAAAAAAAAAAAAAAAAAAAAAAAAAAAAAAAAAAAAAAAAAAAAAAAAAAAAAAAAAAAAAAAAAAAAAAAAAAAAAAAAAAAAAAAAAAAAAAAAAAAAAAAAAAAAAAAAAAAAAAAAAAAAAAAAAAAAAAAAAAAAAAAAAAAAAAAAAAAAAAAAAAAAAAAAAAAAAAAAAAAAAAAAAAAAAAAAAAAAAAAAAAAAAAAAAAAAAAAAAAAAAAAAAAAAAAAAAAAAAAAAAAAAAAAAAAAAAAAAAAAAAAAAAAAAAAAAAAAAAAAAAAAAAAAAAAAAAAAAAAAAAAAAAAAAAAAAAAAAAAAAAAAAAAAAAAAAAAAAAAAAAAAAAAAAAAAAAAAAAAAAAAAAAAAAAAAAAA7zn6/kIu5j/vOfr+Qi7mPwAAAAAAAAAA7zn6/kIu5j8AAAAAAAAAABZVtbuxawJATDd/t+MuA0DvOfr+Qi72PwIgKvoLq/w/AAAAAAAAAAALA6166pPxP+85+v5CLuY/7zn6/kIu5j8AAAAAAAAAAAAAAAAAAAAAAAAAAAAAAAAAAAAAAAAAAAAAAAAAAAAAAAAAAAAAAAAAAAAAAAAAAAAAAAAAAAAAAAAAAAAAAAAAAAAAAAAAAAAAAAAAAAAAAAAAAAAAAAAAAAAAAAAAAAAAAAAAAAAAAAAAAAAAAAAAAAAAAAAAAAAAAAAAAAAAAAAAAAAAAAAAAAAAAAAAAAAAAAAAAAAAAAAAAAAAAAAAAAAAAAAAAAAAAAAAAAAAAAAAAAAAAAAAAAAAAAAAAAAAAAAAAAAAAAAAAAAAAAAAAAAAAAAAAAAAAAAAAAAAAAAAAAAAAAAAAAAAAAAAAAAAAAAAAAAAAAAAAAAAAAAAAAAAAAAAAAAAAAAAAAAAAAAAAAAAAAAAAAAAAAAAAO85+v5CLuY/7zn6/kIu5j8AAAAAAAAAAO85+v5CLuY/CwOteuqTAUBRjDErBIUEQHOrOz+yogBAp7vXFsocBUBzqzs/sqIAQO85+v5CLvY/CwOteuqT8T8AAAAAAAAAAAAAAAAAAAAAAAAAAAAAAAAAAAAAAAAAAAAAAAAAAAAAAAAAAAAAAAAAAAAAAAAAAAAAAAAAAAAAAAAAAAAAAAAAAAAAAAAAAAAAAAAAAAAAAAAAAAAAAAAAAAAAAAAAAAAAAAAAAAAAAAAAAAAAAAAAAAAAAAAAAAAAAAAAAAAAAAAAAAAAAAAAAAAAAAAAAAAAAAAAAAAAAAAAAAAAAAAAAAAAAAAAAAAAAAAAAAAAAAAAAAAAAAAAAAAAAAAAAAAAAAAAAAAAAAAAAAAAAAAAAAAAAAAAAAAAAAAAAAAAAAAAAAAAAAAAAAAAAAAAAAAAAAAAAAAAAAAAAAAAAAAAAAAAAAAAAAAAAAAAAAAAAAAAAAAAAAAAAAAAAAAAAAAAAAAAAAAAAAAAAAAAAAAAAAAAAAAAAAAAAAAAAAAA7zn6/kIu9j8LA6166pPxP0w3f7fjLgNAV1oyrnIi/z/vOfr+Qi72PwIgKvoLq/w/c6s7P7KiAEALA6166pPxPwsDrXrqk/E/AAAAAAAAAADvOfr+Qi7mPwAAAAAAAAAA7zn6/kIu5j8AAAAAAAAAAAAAAAAAAAAAAAAAAAAAAAAAAAAAAAAAAAAAAAAAAAAAAAAAAAAAAAAAAAAAAAAAAAAAAAAAAAAAAAAAAAAAAAAAAAAAAAAAAAAAAAAAAAAAAAAAAAAAAAAAAAAAAAAAAAAAAAAAAAAAAAAAAAAAAAAAAAAAAAAAAAAAAAAAAAAAAAAAAAAAAAAAAAAAAAAAAAAAAAAAAAAAAAAAAAAAAAAAAAAAAAAAAAAAAAAAAAAAAAAAAAAAAAAAAAAAAAAAAAAAAAAAAAAAAAAAAAAAAAAAAAAAAAAAAAAAAAAAAAAAAAAAAAAAAAAAAAAAAAAAAAAAAAAAAAAAAAAAAAAAAAAAAAAAAAAAAAAAAAAAAAAAAAAAAAAAAAAAAAAAAAAAAO85+v5CLuY/AAAAAAAAAADvOfr+Qi72PwIgKvoLq/w/AiAq+gur/D8zje33QcD5P+85+v5CLuY/7zn6/kIu5j8AAAAAAAAAAAAAAAAAAAAA7zn6/kIu5j8AAAAAAAAAAAAAAAAAAAAAAAAAAAAAAAAAAAAAAAAAAAAAAAAAAAAAAAAAAAAAAAAAAAAAAAAAAAAAAAAAAAAAAAAAAAAAAAAAAAAAAAAAAAAAAAAAAAAAAAAAAAAAAAAAAAAAAAAAAAAAAAAAAAAAAAAAAAAAAAAAAAAAAAAAAAAAAAAAAAAAAAAAAAAAAAAAAAAAAAAAAAAAAAAAAAAAAAAAAAAAAAAAAAAAAAAAAAAAAAAAAAAAAAAAAAAAAAAAAAAAAAAAAAAAAAAAAAAAAAAAAAAAAAAAAAAAAAAAAAAAAAAAAAAAAAAAAAAAAAAAAAAAAAAAAAAAAAAAAAAAAAAAAAAAAAAAAAAAAAAAAAAAAAAAAAAAAAAAAAAAAAAAAAAAAAAAAAAAAAAAAAAAAAAAAAAAAADvOfr+Qi7mP+85+v5CLuY/M43t90HA+T8LA6166pMBQBZVtbuxawJAV1oyrnIi/z8LA6166pPxPwAAAAAAAAAAAAAAAAAAAADvOfr+Qi7mP+85+v5CLuY/AAAAAAAAAAAAAAAAAAAAAAAAAAAAAAAAAAAAAAAAAAAAAAAAAAAAAAAAAAAAAAAAAAAAAAAAAAAAAAAAAAAAAAAAAAAAAAAAAAAAAAAAAAAAAAAAAAAAAAAAAAAAAAAAAAAAAAAAAAAAAAAAAAAAAAAAAAAAAAAAAAAAAAAAAAAAAAAAAAAAAAAAAAAAAAAAAAAAAAAAAAAAAAAAAAAAAAAAAAAAAAAAAAAAAAAAAAAAAAAAAAAAAAAAAAAAAAAAAAAAAAAAAAAAAAAAAAAAAAAAAAAAAAAAAAAAAAAAAAAAAAAAAAAAAAAAAAAAAAAAAAAAAAAAAAAAAAAAAAAAAAAAAAAAAAAAAAAAAAAAAAAAAAAAAAAAAAAAAAAAAAAAAAAAAAAAAAAAAAAAAAAAAAAAAAAAAAAA7zn6/kIu5j8AAAAAAAAAAO85+v5CLvY/CwOteuqT8T8CICr6C6v8P+85+v5CLuY/7zn6/kIu9j8AAAAAAAAAAAAAAAAAAAAAAAAAAAAAAAAAAAAAAAAAAAAAAAAAAAAAAAAAAAAAAAAAAAAAAAAAAAAAAAAAAAAAAAAAAAAAAAAAAAAAAAAAAAAAAAAAAAAAAAAAAAAAAAAAAAAAAAAAAAAAAAAAAAAAAAAAAAAAAAAAAAAAAAAAAAAAAAAAAAAAAAAAAAAAAAAAAAAAAAAAAAAAAAAAAAAAAAAAAAAAAAAAAAAAAAAAAAAAAAAAAAAAAAAAAAAAAAAAAAAAAAAAAAAAAAAAAAAAAAAAAAAAAAAAAAAAAAAAAAAAAAAAAAAAAAAAAAAAAAAAAAAAAAAAAAAAAAAAAAAAAAAAAAAAAAAAAAAAAAAAAAAAAAAAAAAAAAAAAAAAAADvOfr+Qi7mPwAAAAAAAAAAAAAAAAAAAAAAAAAAAAAAAAAAAAAAAAAAAAAAAAAAAAAAAAAAAAAAAO85+v5CLvY/CwOteuqT8T9XWjKuciL/PwsDrXrqk/E/c6s7P7KiAEDvOfr+Qi72PwsDrXrqk/E/7zn6/kIu5j8LA6166pPxPwAAAAAAAAAAAAAAAAAAAAAAAAAAAAAAAAAAAAAAAAAAAAAAAAAAAAAAAAAAAAAAAAAAAAAAAAAAAAAAAAAAAAAAAAAAAAAAAAAAAAAAAAAAAAAAAAAAAAAAAAAAAAAAAAAAAAAAAAAAAAAAAAAAAAAAAAAAAAAAAAAAAAAAAAAAAAAAAAAAAAAAAAAAAAAAAAAAAAAAAAAAAAAAAAAAAAAAAAAAAAAAAAAAAAAAAAAAAAAAAAAAAAAAAAAAAAAAAAAAAAAAAAAAAAAAAAAAAAAAAAAAAAAAAAAAAAAAAAAAAAAAAAAAAAAAAAAAAAAAAAAAAAAAAAAAAAAAAAAAAAAAAAAAAAAAAAAAAAAAAAAAAAAAAAAAAAAAAAAAAAAAAAAAAAAAAAAAAAAAAAAAAAAAAAAAAAAAAAAAAAAAAAAAAAAAAAAAAAAAAAAAAAAAAO85+v5CLuY/M43t90HA+T8zje33QcD5PwsDrXrqk/E/7zn6/kIu9j8CICr6C6v8P+85+v5CLuY/AAAAAAAAAAAAAAAAAAAAAAAAAAAAAAAAAAAAAAAAAAAAAAAAAAAAAAsDrXrqk/E/AAAAAAAAAAAAAAAAAAAAAAAAAAAAAAAAAAAAAAAAAAAAAAAAAAAAAAAAAAAAAAAAAAAAAAAAAAAAAAAAAAAAAAAAAAAAAAAAAAAAAAAAAAAAAAAAAAAAAAAAAAAAAAAAAAAAAAAAAAAAAAAAAAAAAAAAAAAAAAAAAAAAAAAAAAAAAAAAAAAAAAAAAAAAAAAAAAAAAAAAAAAAAAAAAAAAAAAAAAAAAAAAAAAAAAAAAAAAAAAAAAAAAAAAAAAAAAAAAAAAAAAAAAAAAAAAAAAAAAAAAAAAAAAAAAAAAAAAAAAAAAAAAAAAAAAAAAAAAAAAAAAAAAAAAAAAAAAAAAAAAAAAAAAAAAAAAAAAAAAAAAAAAAAAAAAAAAAAAAAAAAAAAAAAAAAAAAAAAAAAAAAAAO85+v5CLvY/AAAAAAAAAADvOfr+Qi7mP+85+v5CLuY/7zn6/kIu5j8AAAAAAAAAAAAAAAAAAAAA7zn6/kIu5j8AAAAAAAAAAAAAAAAAAAAAAAAAAAAAAAAAAAAAAAAAAAAAAAAAAAAAAAAAAAAAAAAAAAAAAAAAAAAAAAAAAAAAAAAAAAAAAAAAAAAAAAAAAAAAAAAAAAAAAAAAAAAAAAAAAAAAAAAAAAAAAAAAAAAAAAAAAAAAAAAAAAAAAAAAAAAAAAAAAAAAAAAAAAAAAAAAAAAAAAAAAAAAAAAAAAAAAAAAAAAAAAAAAAAAAAAAAAAAAAAAAAAAAAAAAAAAAAAAAAAAAAAAAAAAAAAAAAAAAAAAAAAAAAAAAAAAAAAAAAAAAAAAAAAAAAAAAAAAAAAAAAAAAAAAAAAAAAAAAAAAAAAAAAAAAAAAAAAAAAAAAAAAAAAAAAAAAAAAAAAAAAAAAAAAAAAAAAAAAAAAAAAA7zn6/kIu5j8AAAAAAAAAAAAAAAAAAAAAAAAAAAAAAAAAAAAAAAAAAO85+v5CLuY/AiAq+gur/D8LA6166pPxPwAAAAAAAAAAAAAAAAAAAAAAAAAAAAAAAAAAAAAAAAAAAAAAAAAAAAAAAAAAAAAAAAAAAAAAAAAAAAAAAAAAAAAAAAAAAAAAAAAAAAAAAAAAAAAAAAAAAAAAAAAAAAAAAAAAAAAAAAAAAAAAAAAAAAAAAAAAAAAAAAAAAAAAAAAAAAAAAAAAAAAAAAAAAAAAAAAAAAAAAAAAAAAAAAAAAAAAAAAAAAAAAAAAAAAAAAAAAAAAAAAAAAAAAAAAAAAAAAAAAAAAAAAAAAAAAAAAAAAAAAAAAAAAAAAAAAAAAAAAAAAAAAAAAAAAAAAAAAAAAAAAAAAAAAAAAAAAAAAAAAAAAAAAAAAAAAAAAAAAAAAAAAAAAAAAAAAAAAAAAAAAAAAAAAAAAAAAAAAAAAAAAAAAAAAAAAAAAAAAAAAAAAAAAAAAAAAAAAAAAAAAAAAAAAAAAAAAAAAA7zn6/kIu5j/vOfr+Qi7mPwAAAAAAAAAACwOteuqT8T8AAAAAAAAAAAAAAAAAAAAAM43t90HA+T8AAAAAAAAAAAAAAAAAAAAA7zn6/kIu5j8AAAAAAAAAAAAAAAAAAAAA7zn6/kIu5j8AAAAAAAAAAAAAAAAAAAAAAAAAAAAAAAAAAAAAAAAAAAAAAAAAAAAAAAAAAAAAAAAAAAAAAAAAAAAAAAAAAAAAAAAAAAAAAAAAAAAAAAAAAAAAAAAAAAAAAAAAAAAAAAAAAAAAAAAAAAAAAAAAAAAAAAAAAAAAAAAAAAAAAAAAAAAAAAAAAAAAAAAAAAAAAAAAAAAAAAAAAAAAAAAAAAAAAAAAAAAAAAAAAAAAAAAAAAAAAAAAAAAAAAAAAAAAAAAAAAAAAAAAAAAAAAAAAAAAAAAAAAAAAAAAAAAAAAAAAAAAAAAAAAAAAAAAAAAAAAAAAAAAAAAAAAAAAAAAAAAA7zn6/kIu5j8AAAAAAAAAAAAAAAAAAAAAAAAAAAAAAAAAAAAAAAAAAAAAAAAAAAAAAAAAAAAAAAAAAAAAAAAAAAAAAAAAAAAAAAAAAAAAAAAAAAAAAAAAAAsDrXrqk/E/7zn6/kIu5j8AAAAAAAAAAAAAAAAAAAAAAAAAAAAAAAAAAAAAAAAAAAAAAAAAAAAAAAAAAAAAAAAAAAAAAAAAAAAAAAAAAAAAAAAAAAAAAAAAAAAAAAAAAAAAAAAAAAAAAAAAAAAAAAAAAAAAAAAAAAAAAAAAAAAAAAAAAAAAAAAAAAAAAAAAAAAAAAAAAAAAAAAAAAAAAAAAAAAAAAAAAAAAAAAAAAAAAAAAAAAAAAAAAAAAAAAAAAAAAAAAAAAAAAAAAAAAAAAAAAAAAAAAAAAAAAAAAAAAAAAAAAAAAAAAAAAAAAAAAAAAAAAAAAAAAAAAAAAAAAAAAAAAAAAAAAAAAAAAAAAAAAAAAAAAAAAAAAAAAAAAAAAAAAAAAAAAAAAAAAAAAAAAAAAAAAAAAAAAAAAAAAAAAAAAAAAAAAAAAAAAAAAAAAAAAAAAAAAAAAAAAAAAAAAAAAAAAAAAAAAAAAAAAAAAAAAAAAAAAAAAAAAAAAAAAAAAAAAAAAAAAAAAAAAAAAAAAAAAAAAAAAAAAAAAAAAAAAAAAAAAAAAAAAAAAAAAAAAAAAAAAAAAAAAAAAAAAAAAAAAAAAAAAAAAAAAAAAAAAAAAAAAAAAAAAAAAAAAAAAAAAAAAAAAAAAAAAAAAAAAAAAAAAAAAAAAAAAAAAAAAAAAAAAAAAAAAAAAAAAAAAAAAAAAAAAAAAAAAAAAAAAAAAAAAAAAAAAAAAAAAAAAAAAAAAAAAAAAAAAAAAAAAAAAAAAAAAAAAAAAAAAAAAAAAAAAAAAAAAAAAAAAAAAAAAAAAAAAAAAAAAAAAAAAAAAAAAAAAAAAAAAAAAAAAAAAAAAAAAAAAAAAAAAAAAAAAAAAAAAAAAAAAAAAAAAAAAAAAAAAAAAAAAAAAAAAAAAAAAAAAAAAAAAAAAAAAAAAAAAAAAAAAAAAAAAAAAAAAAAAAAAAAAAAAAAAAAAAAAAAAAAAAAAAAAAAAAAAAAAAAAAAAAAAAAAAAAAAAAAAAAAAAAAAAAAAAAAAAAAAAAAAAAAAAAAAAAAAAAAAAAAAAAAAAAAAAAAAAAAAAAAAAAAAAAAAAAAAAAAAAAAAAAAAAAAAAAAAAAAAAAAAAAAAAAAAAAAAAAAAAAAAAAAAAAAAAAAAAAAAAAAAAAAAAAAAAAAAAAAAAAAAAAAAAAAAAAAAAAAAAAAAAAAAAAAAAAAAAAAAAAAAAAAAAAAAAAAAAAAAAAAAAAAAAAAAAAAAAAAAAAAAAAAAAAAAAAAAAAAAAAAAAAAAAAAAAAAAAAAAAAAAAAAAAAAAAAAAAAAAAAAAAAAAAAAAAAAAAAAAAAAAAAAAAAAAAAAAAAAAAAAAAAAAAAAAAAAAAAAAAAAAAAAAAAAAAAAAAAAAAAAAAAAAAAAAAAAAAAAAAAAAAAAAAAAAAAAAAAAAAAAAAAAAAAAAAAAAAAAAAAAAAAAAAAAAAAAAAAAAAAAAAAAAAAAAAAAAAAAAAAAAAAAAAAAAAAAAAAAAAAAAAAAAAAAAAAAAAAAAAAAAAAAAAAAAAAAAAAAAAAAAAAAAAAAAAAAAAAAAAAAAAAADvOfr+Qi7mPwAAAAAAAAAAAAAAAAAAAAAAAAAAAAAAAAAAAAAAAAAAAAAAAAAAAAAAAAAAAAAAAAAAAAAAAAAAAAAAAAAAAAAAAAAAAAAAAAAAAAAAAAAAAAAAAAAAAAAAAAAAAAAAAAAAAAAAAAAAAAAAAAAAAAAAAAAAAAAAAAAAAAAAAAAAAAAAAAAAAAAAAAAAAAAAAAAAAAAAAAAAAAAAAAAAAAAAAAAAAAAAAAAAAAAAAAAAAAAAAAAAAAAAAAAAAAAAAAAAAAAAAAAAAAAAAAAAAAAAAAAAAAAAAAAAAAAAAAAAAAAAAAAAAAAAAAAAAAAAAAAAAAAAAAAAAAAAAAAAAAAAAAAAAAAAAAAAAAAAAAAAAAAAAAAAAAAAAAAAAAAAAAAAAAAAAAAAAAAAAAAAAAAAAAAAAAAAAAAAAAAAAAAAAAAAAAAAAAAAAAAAAAAAAAAAAAAAAAAAAAAAAAAAAAAAAAAAAAAAAAAAAAAAAAAAAAAAAAAAAAAAAAAAAAAAAO85+v5CLuY/AAAAAAAAAAAAAAAAAAAAAAAAAAAAAAAAAAAAAAAAAAAAAAAAAAAAAAAAAAAAAAAAAAAAAAAAAAAAAAAAAAAAAAAAAAAAAAAAAAAAAAAAAAAAAAAAAAAAAAAAAAAAAAAAAAAAAAAAAAAAAAAAAAAAAAAAAAAAAAAAAAAAAAAAAAAAAAAAAAAAAAAAAAAAAAAAAAAAAAAAAAAAAAAAAAAAAAAAAAAAAAAAAAAAAAAAAAAAAAAAAAAAAAAAAAAAAAAAAAAAAAAAAAAAAAAAAAAAAAAAAAAAAAAAAAAAAAAAAAAAAAAAAAAAAAAAAAAAAAAAAAAAAAAAAAAAAAAAAAAAAAAAAAAAAAAAAAAAAAAAAAAAAAAAAAAAAAAAAAAAAAAAAAAAAAAAAAAAAAAAAAAAAAAAAAAAAAAAAAAAAAAAAAAAAAAAAAAAAAAAAAAAAAAAAAAAAAAAAAAAAAAAAAAAAAAAAAAAAAAAAAAAAAAAAAAAAAAAAAAAAAAAAAAAAAAAAAAAAAAAAAAAAAAAAAAAAAAAAAAAAAAAAAAAAAAAAADvOfr+Qi7mPwAAAAAAAAAAAAAAAAAAAAAAAAAAAAAAAAAAAAAAAAAAAAAAAAAAAAAAAAAAAAAAAAAAAAAAAAAAAAAAAAAAAAAAAAAAAAAAAAAAAAAAAAAAAAAAAAAAAAAAAAAAAAAAAAAAAAAAAAAAAAAAAAAAAAAAAAAAAAAAAAAAAAAAAAAAAAAAAAAAAAAAAAAAAAAAAAAAAAAAAAAAAAAAAAAAAAAAAAAAAAAAAAAAAAAAAAAAAAAAAAAAAAAAAAAAAAAAAAAAAAAAAAAAAAAAAAAAAAAAAAAAAAAAAAAAAAAAAAAAAAAAAAAAAAAAAAAAAAAAAAAAAAAAAAAAAAAAAAAAAAAAAAAAAAAAAAAAAAAAAAAAAAAAAAAAAAAAAAAAAAAAAAAAAAAAAAAAAAAAAAAAAAAAAAAAAAAAAAAAAAAAAAAAAAAAAAAAAAAAAAAAAAAAAAAAAAAAAAAAAAAAAAAAAAAAAAAAAAAAAAAAAAAAAAAAAAAAAAAAAAAAAAAAAAAAAAAAAAAAAAAAAAAAAAAAAAAAAAAAAAAAAAAAAAAAAAAAAAAAAAAAAAAAAAAAAAAAAAAAAAAAAAAAAAAAAAAAAAAAAAAAAAAAAAAAAAAAAAAAAAAAAAAAAAAAAAAAAAAAAAAAAAAAAAAAAAAAAAAAAAAAAAAAAAAAAAAAAAAAAAAAAAAAAAAAAAAAAAAAAAAAAAAAAAAAAAAAAAAAAAAAAAAAAAAAAAAAAAAAAAAAAAAAAAAAAAAAAAAAAAAAAAAAAAAAAAAAAAAAAAAAAAAAAAAAAAAAAAAAAAAAAAAAAAAAAAAAAAAAAAAAAAAAAAAAAAAAAAAAAAAAAAAAAAAAAAAAAAAAAAAAAAAAAAAAAAAAAAAAAAAAAAAAAAAAAAAAAAAAAAAAAAAAAAAAAAAAAAAAAAAAAAAAAAAAAAAAAAAAAAAAAAAAAAAAAAAAAAAAAAAAAAAAAAAAAAAAAAAAAAAAAAAAAAAAAO85+v5CLuY/AAAAAAAAAAAAAAAAAAAAAO85+v5CLuY/AAAAAAAAAAAAAAAAAAAAAAAAAAAAAAAAAAAAAAAAAAAAAAAAAAAAAAAAAAAAAAAAAAAAAAAAAAAAAAAAAAAAAAAAAAAAAAAAAAAAAAAAAAAAAAAAAAAAAAAAAAAAAAAAAAAAAAAAAAAAAAAAAAAAAAAAAAAAAAAAAAAAAAAAAAA=",
          "dtype": "f8",
          "shape": "50, 50"
         }
        }
       ],
       "layout": {
        "coloraxis": {
         "colorbar": {
          "title": {
           "text": "log(Count+1)"
          }
         },
         "colorscale": [
          [
           0,
           "#00224e"
          ],
          [
           0.1111111111111111,
           "#123570"
          ],
          [
           0.2222222222222222,
           "#3b496c"
          ],
          [
           0.3333333333333333,
           "#575d6d"
          ],
          [
           0.4444444444444444,
           "#707173"
          ],
          [
           0.5555555555555556,
           "#8a8678"
          ],
          [
           0.6666666666666666,
           "#a59c74"
          ],
          [
           0.7777777777777778,
           "#c3b369"
          ],
          [
           0.8888888888888888,
           "#e1cc55"
          ],
          [
           1,
           "#fee838"
          ]
         ]
        },
        "height": 500,
        "margin": {
         "b": 40,
         "l": 80,
         "r": 40,
         "t": 60
        },
        "template": {
         "data": {
          "bar": [
           {
            "error_x": {
             "color": "#2a3f5f"
            },
            "error_y": {
             "color": "#2a3f5f"
            },
            "marker": {
             "line": {
              "color": "#E5ECF6",
              "width": 0.5
             },
             "pattern": {
              "fillmode": "overlay",
              "size": 10,
              "solidity": 0.2
             }
            },
            "type": "bar"
           }
          ],
          "barpolar": [
           {
            "marker": {
             "line": {
              "color": "#E5ECF6",
              "width": 0.5
             },
             "pattern": {
              "fillmode": "overlay",
              "size": 10,
              "solidity": 0.2
             }
            },
            "type": "barpolar"
           }
          ],
          "carpet": [
           {
            "aaxis": {
             "endlinecolor": "#2a3f5f",
             "gridcolor": "white",
             "linecolor": "white",
             "minorgridcolor": "white",
             "startlinecolor": "#2a3f5f"
            },
            "baxis": {
             "endlinecolor": "#2a3f5f",
             "gridcolor": "white",
             "linecolor": "white",
             "minorgridcolor": "white",
             "startlinecolor": "#2a3f5f"
            },
            "type": "carpet"
           }
          ],
          "choropleth": [
           {
            "colorbar": {
             "outlinewidth": 0,
             "ticks": ""
            },
            "type": "choropleth"
           }
          ],
          "contour": [
           {
            "colorbar": {
             "outlinewidth": 0,
             "ticks": ""
            },
            "colorscale": [
             [
              0,
              "#0d0887"
             ],
             [
              0.1111111111111111,
              "#46039f"
             ],
             [
              0.2222222222222222,
              "#7201a8"
             ],
             [
              0.3333333333333333,
              "#9c179e"
             ],
             [
              0.4444444444444444,
              "#bd3786"
             ],
             [
              0.5555555555555556,
              "#d8576b"
             ],
             [
              0.6666666666666666,
              "#ed7953"
             ],
             [
              0.7777777777777778,
              "#fb9f3a"
             ],
             [
              0.8888888888888888,
              "#fdca26"
             ],
             [
              1,
              "#f0f921"
             ]
            ],
            "type": "contour"
           }
          ],
          "contourcarpet": [
           {
            "colorbar": {
             "outlinewidth": 0,
             "ticks": ""
            },
            "type": "contourcarpet"
           }
          ],
          "heatmap": [
           {
            "colorbar": {
             "outlinewidth": 0,
             "ticks": ""
            },
            "colorscale": [
             [
              0,
              "#0d0887"
             ],
             [
              0.1111111111111111,
              "#46039f"
             ],
             [
              0.2222222222222222,
              "#7201a8"
             ],
             [
              0.3333333333333333,
              "#9c179e"
             ],
             [
              0.4444444444444444,
              "#bd3786"
             ],
             [
              0.5555555555555556,
              "#d8576b"
             ],
             [
              0.6666666666666666,
              "#ed7953"
             ],
             [
              0.7777777777777778,
              "#fb9f3a"
             ],
             [
              0.8888888888888888,
              "#fdca26"
             ],
             [
              1,
              "#f0f921"
             ]
            ],
            "type": "heatmap"
           }
          ],
          "histogram": [
           {
            "marker": {
             "pattern": {
              "fillmode": "overlay",
              "size": 10,
              "solidity": 0.2
             }
            },
            "type": "histogram"
           }
          ],
          "histogram2d": [
           {
            "colorbar": {
             "outlinewidth": 0,
             "ticks": ""
            },
            "colorscale": [
             [
              0,
              "#0d0887"
             ],
             [
              0.1111111111111111,
              "#46039f"
             ],
             [
              0.2222222222222222,
              "#7201a8"
             ],
             [
              0.3333333333333333,
              "#9c179e"
             ],
             [
              0.4444444444444444,
              "#bd3786"
             ],
             [
              0.5555555555555556,
              "#d8576b"
             ],
             [
              0.6666666666666666,
              "#ed7953"
             ],
             [
              0.7777777777777778,
              "#fb9f3a"
             ],
             [
              0.8888888888888888,
              "#fdca26"
             ],
             [
              1,
              "#f0f921"
             ]
            ],
            "type": "histogram2d"
           }
          ],
          "histogram2dcontour": [
           {
            "colorbar": {
             "outlinewidth": 0,
             "ticks": ""
            },
            "colorscale": [
             [
              0,
              "#0d0887"
             ],
             [
              0.1111111111111111,
              "#46039f"
             ],
             [
              0.2222222222222222,
              "#7201a8"
             ],
             [
              0.3333333333333333,
              "#9c179e"
             ],
             [
              0.4444444444444444,
              "#bd3786"
             ],
             [
              0.5555555555555556,
              "#d8576b"
             ],
             [
              0.6666666666666666,
              "#ed7953"
             ],
             [
              0.7777777777777778,
              "#fb9f3a"
             ],
             [
              0.8888888888888888,
              "#fdca26"
             ],
             [
              1,
              "#f0f921"
             ]
            ],
            "type": "histogram2dcontour"
           }
          ],
          "mesh3d": [
           {
            "colorbar": {
             "outlinewidth": 0,
             "ticks": ""
            },
            "type": "mesh3d"
           }
          ],
          "parcoords": [
           {
            "line": {
             "colorbar": {
              "outlinewidth": 0,
              "ticks": ""
             }
            },
            "type": "parcoords"
           }
          ],
          "pie": [
           {
            "automargin": true,
            "type": "pie"
           }
          ],
          "scatter": [
           {
            "fillpattern": {
             "fillmode": "overlay",
             "size": 10,
             "solidity": 0.2
            },
            "type": "scatter"
           }
          ],
          "scatter3d": [
           {
            "line": {
             "colorbar": {
              "outlinewidth": 0,
              "ticks": ""
             }
            },
            "marker": {
             "colorbar": {
              "outlinewidth": 0,
              "ticks": ""
             }
            },
            "type": "scatter3d"
           }
          ],
          "scattercarpet": [
           {
            "marker": {
             "colorbar": {
              "outlinewidth": 0,
              "ticks": ""
             }
            },
            "type": "scattercarpet"
           }
          ],
          "scattergeo": [
           {
            "marker": {
             "colorbar": {
              "outlinewidth": 0,
              "ticks": ""
             }
            },
            "type": "scattergeo"
           }
          ],
          "scattergl": [
           {
            "marker": {
             "colorbar": {
              "outlinewidth": 0,
              "ticks": ""
             }
            },
            "type": "scattergl"
           }
          ],
          "scattermap": [
           {
            "marker": {
             "colorbar": {
              "outlinewidth": 0,
              "ticks": ""
             }
            },
            "type": "scattermap"
           }
          ],
          "scattermapbox": [
           {
            "marker": {
             "colorbar": {
              "outlinewidth": 0,
              "ticks": ""
             }
            },
            "type": "scattermapbox"
           }
          ],
          "scatterpolar": [
           {
            "marker": {
             "colorbar": {
              "outlinewidth": 0,
              "ticks": ""
             }
            },
            "type": "scatterpolar"
           }
          ],
          "scatterpolargl": [
           {
            "marker": {
             "colorbar": {
              "outlinewidth": 0,
              "ticks": ""
             }
            },
            "type": "scatterpolargl"
           }
          ],
          "scatterternary": [
           {
            "marker": {
             "colorbar": {
              "outlinewidth": 0,
              "ticks": ""
             }
            },
            "type": "scatterternary"
           }
          ],
          "surface": [
           {
            "colorbar": {
             "outlinewidth": 0,
             "ticks": ""
            },
            "colorscale": [
             [
              0,
              "#0d0887"
             ],
             [
              0.1111111111111111,
              "#46039f"
             ],
             [
              0.2222222222222222,
              "#7201a8"
             ],
             [
              0.3333333333333333,
              "#9c179e"
             ],
             [
              0.4444444444444444,
              "#bd3786"
             ],
             [
              0.5555555555555556,
              "#d8576b"
             ],
             [
              0.6666666666666666,
              "#ed7953"
             ],
             [
              0.7777777777777778,
              "#fb9f3a"
             ],
             [
              0.8888888888888888,
              "#fdca26"
             ],
             [
              1,
              "#f0f921"
             ]
            ],
            "type": "surface"
           }
          ],
          "table": [
           {
            "cells": {
             "fill": {
              "color": "#EBF0F8"
             },
             "line": {
              "color": "white"
             }
            },
            "header": {
             "fill": {
              "color": "#C8D4E3"
             },
             "line": {
              "color": "white"
             }
            },
            "type": "table"
           }
          ]
         },
         "layout": {
          "annotationdefaults": {
           "arrowcolor": "#2a3f5f",
           "arrowhead": 0,
           "arrowwidth": 1
          },
          "autotypenumbers": "strict",
          "coloraxis": {
           "colorbar": {
            "outlinewidth": 0,
            "ticks": ""
           }
          },
          "colorscale": {
           "diverging": [
            [
             0,
             "#8e0152"
            ],
            [
             0.1,
             "#c51b7d"
            ],
            [
             0.2,
             "#de77ae"
            ],
            [
             0.3,
             "#f1b6da"
            ],
            [
             0.4,
             "#fde0ef"
            ],
            [
             0.5,
             "#f7f7f7"
            ],
            [
             0.6,
             "#e6f5d0"
            ],
            [
             0.7,
             "#b8e186"
            ],
            [
             0.8,
             "#7fbc41"
            ],
            [
             0.9,
             "#4d9221"
            ],
            [
             1,
             "#276419"
            ]
           ],
           "sequential": [
            [
             0,
             "#0d0887"
            ],
            [
             0.1111111111111111,
             "#46039f"
            ],
            [
             0.2222222222222222,
             "#7201a8"
            ],
            [
             0.3333333333333333,
             "#9c179e"
            ],
            [
             0.4444444444444444,
             "#bd3786"
            ],
            [
             0.5555555555555556,
             "#d8576b"
            ],
            [
             0.6666666666666666,
             "#ed7953"
            ],
            [
             0.7777777777777778,
             "#fb9f3a"
            ],
            [
             0.8888888888888888,
             "#fdca26"
            ],
            [
             1,
             "#f0f921"
            ]
           ],
           "sequentialminus": [
            [
             0,
             "#0d0887"
            ],
            [
             0.1111111111111111,
             "#46039f"
            ],
            [
             0.2222222222222222,
             "#7201a8"
            ],
            [
             0.3333333333333333,
             "#9c179e"
            ],
            [
             0.4444444444444444,
             "#bd3786"
            ],
            [
             0.5555555555555556,
             "#d8576b"
            ],
            [
             0.6666666666666666,
             "#ed7953"
            ],
            [
             0.7777777777777778,
             "#fb9f3a"
            ],
            [
             0.8888888888888888,
             "#fdca26"
            ],
            [
             1,
             "#f0f921"
            ]
           ]
          },
          "colorway": [
           "#636efa",
           "#EF553B",
           "#00cc96",
           "#ab63fa",
           "#FFA15A",
           "#19d3f3",
           "#FF6692",
           "#B6E880",
           "#FF97FF",
           "#FECB52"
          ],
          "font": {
           "color": "#2a3f5f"
          },
          "geo": {
           "bgcolor": "white",
           "lakecolor": "white",
           "landcolor": "#E5ECF6",
           "showlakes": true,
           "showland": true,
           "subunitcolor": "white"
          },
          "hoverlabel": {
           "align": "left"
          },
          "hovermode": "closest",
          "mapbox": {
           "style": "light"
          },
          "paper_bgcolor": "white",
          "plot_bgcolor": "#E5ECF6",
          "polar": {
           "angularaxis": {
            "gridcolor": "white",
            "linecolor": "white",
            "ticks": ""
           },
           "bgcolor": "#E5ECF6",
           "radialaxis": {
            "gridcolor": "white",
            "linecolor": "white",
            "ticks": ""
           }
          },
          "scene": {
           "xaxis": {
            "backgroundcolor": "#E5ECF6",
            "gridcolor": "white",
            "gridwidth": 2,
            "linecolor": "white",
            "showbackground": true,
            "ticks": "",
            "zerolinecolor": "white"
           },
           "yaxis": {
            "backgroundcolor": "#E5ECF6",
            "gridcolor": "white",
            "gridwidth": 2,
            "linecolor": "white",
            "showbackground": true,
            "ticks": "",
            "zerolinecolor": "white"
           },
           "zaxis": {
            "backgroundcolor": "#E5ECF6",
            "gridcolor": "white",
            "gridwidth": 2,
            "linecolor": "white",
            "showbackground": true,
            "ticks": "",
            "zerolinecolor": "white"
           }
          },
          "shapedefaults": {
           "line": {
            "color": "#2a3f5f"
           }
          },
          "ternary": {
           "aaxis": {
            "gridcolor": "white",
            "linecolor": "white",
            "ticks": ""
           },
           "baxis": {
            "gridcolor": "white",
            "linecolor": "white",
            "ticks": ""
           },
           "bgcolor": "#E5ECF6",
           "caxis": {
            "gridcolor": "white",
            "linecolor": "white",
            "ticks": ""
           }
          },
          "title": {
           "x": 0.05
          },
          "xaxis": {
           "automargin": true,
           "gridcolor": "white",
           "linecolor": "white",
           "ticks": "",
           "title": {
            "standoff": 15
           },
           "zerolinecolor": "white",
           "zerolinewidth": 2
          },
          "yaxis": {
           "automargin": true,
           "gridcolor": "white",
           "linecolor": "white",
           "ticks": "",
           "title": {
            "standoff": 15
           },
           "zerolinecolor": "white",
           "zerolinewidth": 2
          }
         }
        },
        "title": {
         "text": "Age at Detention/Disappearance — Log Density"
        },
        "width": 900,
        "xaxis": {
         "anchor": "y",
         "constrain": "domain",
         "domain": [
          0,
          1
         ],
         "dtick": "M12",
         "range": [
          "1962-08-24T12:19:52.320000",
          "1983-05-12T11:40:07.680000"
         ],
         "scaleanchor": "y",
         "tickformat": "%Y",
         "title": {
          "text": "Year of Detention/Disappearance"
         }
        },
        "yaxis": {
         "anchor": "x",
         "autorange": true,
         "constrain": "domain",
         "domain": [
          0,
          1
         ],
         "title": {
          "text": "Age at Detention/Disappearance"
         }
        }
       }
      }
     },
     "metadata": {},
     "output_type": "display_data"
    }
   ],
   "source": [
    "# Age vs year of disappearance density heatmap \n",
    "df_plot = df_clean.copy()\n",
    "\n",
    "# drop rows with missing values used for the histogram\n",
    "df_plot2 = df_plot.dropna(subset=['fecha_detencion', 'edad_al_momento_del_hecho']).copy()\n",
    "if df_plot2.empty:\n",
    "    print(\"No data after dropping NA.\")\n",
    "else:\n",
    "    # convert datetimes to int64 (ns since epoch) and ages to float\n",
    "    x_vals = df_plot2['fecha_detencion'].values.astype('int64')\n",
    "    y_vals = df_plot2['edad_al_momento_del_hecho'].astype(float).values\n",
    "\n",
    "    # explicit ranges derived from the data (avoid autodetect problems)\n",
    "    x_min, x_max = int(np.nanmin(x_vals)), int(np.nanmax(x_vals))\n",
    "    pad = max(int((x_max - x_min) * 0.01), 1) if x_max > x_min else 1\n",
    "    x_range = [x_min - pad, x_max + pad]\n",
    "\n",
    "    y_min, y_max = int(np.nanmin(y_vals)), int(np.nanmax(y_vals))\n",
    "    y_range = [y_min, y_max if y_max > y_min else y_min + 1]\n",
    "\n",
    "    # compute 2D histogram\n",
    "    hist_data = np.histogram2d(x_vals, y_vals, bins=[50, 50], range=[x_range, y_range])\n",
    "    z = hist_data[0]                      # raw counts\n",
    "    z_log = np.log1p(z)                   # log(1 + count) for coloring\n",
    "\n",
    "    # map edges back to bin centers and convert x back to datetimes\n",
    "    x_edges, y_edges = hist_data[1], hist_data[2]\n",
    "    x_centers = 0.5 * (x_edges[:-1] + x_edges[1:])\n",
    "    y_centers = 0.5 * (y_edges[:-1] + y_edges[1:])\n",
    "    x_centers_dt = pd.to_datetime(x_centers)\n",
    "\n",
    "    # plot using log-scaled values for color but attach original counts to hover via customdata\n",
    "    fig = px.imshow(\n",
    "        z_log.T,                     # transpose so x=fecha, y=edad\n",
    "        x=x_centers_dt,\n",
    "        y=y_centers,\n",
    "        origin='lower',\n",
    "        color_continuous_scale='Cividis',\n",
    "        labels={'x': 'Year of Detention/Disappearance', 'y': 'Age at Detention/Disappearance', 'color': 'log(Count+1)'},\n",
    "        title='Age at Detention/Disappearance — Log Density'\n",
    "    )\n",
    "\n",
    "    # attach original integer counts for hover and set hover template\n",
    "    # use shape (rows, cols, 1) so hover can index scalar via %{customdata[0]}\n",
    "    fig.data[0].customdata = np.expand_dims(z.T.astype(int), axis=2)\n",
    "    fig.data[0].hovertemplate = \"Count: %{customdata[0]}<br>Year: %{x|%Y}<br>Age: %{y}<extra></extra>\"\n",
    "\n",
    "    # set x-axis limits to the histogram bin centers\n",
    "    fig.update_xaxes(dtick=\"M12\", tickformat=\"%Y\", range=[x_centers_dt[0], x_centers_dt[-1]])\n",
    "    fig.update_layout(width=900, height=500, margin=dict(l=80, r=40, t=60, b=40))\n",
    "    fig.show()\n"
   ]
  },
  {
   "cell_type": "code",
   "execution_count": 45,
   "id": "51cd37a2",
   "metadata": {},
   "outputs": [
    {
     "data": {
      "application/vnd.plotly.v1+json": {
       "config": {
        "plotlyServerURL": "https://plot.ly"
       },
       "data": [
        {
         "bingroup": "x",
         "hovertemplate": "periodo=Dictadura<br>fecha_detencion=%{x}<br>count=%{y}<extra></extra>",
         "legendgroup": "Dictadura",
         "marker": {
          "color": "#636efa",
          "pattern": {
           "shape": ""
          }
         },
         "name": "Dictadura",
         "nbinsx": 50,
         "orientation": "v",
         "showlegend": true,
         "type": "histogram",
         "x": [
          "1976-12-26T00:00:00.000000000",
          "1976-08-15T00:00:00.000000000",
          "1976-11-01T00:00:00.000000000",
          "1976-10-08T00:00:00.000000000",
          "1976-08-09T00:00:00.000000000",
          "1976-10-20T00:00:00.000000000",
          "1977-05-06T00:00:00.000000000",
          "1977-11-02T00:00:00.000000000",
          "1977-11-02T00:00:00.000000000",
          "1979-01-01T00:00:00.000000000",
          "1976-08-24T00:00:00.000000000",
          "1976-12-14T00:00:00.000000000",
          "1976-05-15T00:00:00.000000000",
          "1977-03-16T00:00:00.000000000",
          "1977-02-25T00:00:00.000000000",
          "1976-06-19T00:00:00.000000000",
          "1977-05-22T00:00:00.000000000",
          "1976-07-21T00:00:00.000000000",
          "1976-09-16T00:00:00.000000000",
          "1976-05-27T00:00:00.000000000",
          "1979-01-22T00:00:00.000000000",
          "1976-09-07T00:00:00.000000000",
          "1976-10-30T00:00:00.000000000",
          "1979-04-11T00:00:00.000000000",
          "1976-04-24T00:00:00.000000000",
          "1976-11-05T00:00:00.000000000",
          "1977-09-01T00:00:00.000000000",
          "1976-07-17T00:00:00.000000000",
          "1976-10-16T00:00:00.000000000",
          "1977-09-16T00:00:00.000000000",
          "1978-05-27T00:00:00.000000000",
          "1976-07-20T00:00:00.000000000",
          "1976-12-07T00:00:00.000000000",
          "1977-03-01T00:00:00.000000000",
          "1977-09-01T00:00:00.000000000",
          "1976-09-12T00:00:00.000000000",
          "1977-03-05T00:00:00.000000000",
          "1976-09-28T00:00:00.000000000",
          "1976-06-16T00:00:00.000000000",
          "1977-04-27T00:00:00.000000000",
          "1977-09-16T00:00:00.000000000",
          "1976-08-26T00:00:00.000000000",
          "1977-03-01T00:00:00.000000000",
          "1978-01-07T00:00:00.000000000",
          "1976-08-26T00:00:00.000000000",
          "1978-01-25T00:00:00.000000000",
          "1976-04-15T00:00:00.000000000",
          "1977-03-08T00:00:00.000000000",
          "1977-05-12T00:00:00.000000000",
          "1976-04-15T00:00:00.000000000",
          "1978-04-03T00:00:00.000000000",
          "1979-08-09T00:00:00.000000000",
          "1976-06-13T00:00:00.000000000",
          "1976-09-06T00:00:00.000000000",
          "1978-06-27T00:00:00.000000000",
          "1977-11-16T00:00:00.000000000",
          "1976-11-11T00:00:00.000000000",
          "1980-06-26T00:00:00.000000000",
          "1976-07-31T00:00:00.000000000",
          "1978-11-24T00:00:00.000000000",
          "1976-09-13T00:00:00.000000000",
          "1976-11-07T00:00:00.000000000",
          "1976-11-20T00:00:00.000000000",
          "1981-10-24T00:00:00.000000000",
          "1977-08-29T00:00:00.000000000",
          "1977-08-31T00:00:00.000000000",
          "1977-09-03T00:00:00.000000000",
          "1977-09-21T00:00:00.000000000",
          "1976-08-08T00:00:00.000000000",
          "1977-04-18T00:00:00.000000000",
          "1977-04-29T00:00:00.000000000",
          "1976-10-01T00:00:00.000000000",
          "1977-07-05T00:00:00.000000000",
          "1976-10-01T00:00:00.000000000",
          "1976-05-18T00:00:00.000000000",
          "1976-10-22T00:00:00.000000000",
          "1977-02-15T00:00:00.000000000",
          "1978-05-28T00:00:00.000000000",
          "1979-01-09T00:00:00.000000000",
          "1976-07-02T00:00:00.000000000",
          "1978-02-02T00:00:00.000000000",
          "1976-06-03T00:00:00.000000000",
          "1977-02-02T00:00:00.000000000",
          "1977-04-22T00:00:00.000000000",
          "1977-02-23T00:00:00.000000000",
          "1976-12-01T00:00:00.000000000",
          "1980-08-10T00:00:00.000000000",
          "1976-08-17T00:00:00.000000000",
          "1977-06-02T00:00:00.000000000",
          "1977-05-08T00:00:00.000000000",
          "1976-03-29T00:00:00.000000000",
          "1976-07-07T00:00:00.000000000",
          "1977-06-01T00:00:00.000000000",
          "1976-05-01T00:00:00.000000000",
          "1976-05-02T00:00:00.000000000",
          "1977-09-20T00:00:00.000000000",
          "1976-08-05T00:00:00.000000000",
          "1976-08-16T00:00:00.000000000",
          "1976-11-28T00:00:00.000000000",
          "1977-03-20T00:00:00.000000000",
          "1977-03-20T00:00:00.000000000",
          "1977-06-09T00:00:00.000000000",
          "1977-07-17T00:00:00.000000000",
          "1977-06-09T00:00:00.000000000",
          "1976-06-03T00:00:00.000000000",
          "1976-06-12T00:00:00.000000000",
          "1976-03-26T00:00:00.000000000",
          "1976-11-08T00:00:00.000000000",
          "1977-07-06T00:00:00.000000000",
          "1977-05-07T00:00:00.000000000",
          "1977-03-10T00:00:00.000000000",
          "1977-02-26T00:00:00.000000000",
          "1977-02-26T00:00:00.000000000",
          "1977-02-26T00:00:00.000000000",
          "1977-02-26T00:00:00.000000000",
          "1976-07-15T00:00:00.000000000",
          "1977-02-26T00:00:00.000000000",
          "1977-02-26T00:00:00.000000000",
          "1977-04-16T00:00:00.000000000",
          "1977-03-10T00:00:00.000000000",
          "1976-10-25T00:00:00.000000000",
          "1977-06-08T00:00:00.000000000",
          "1977-05-05T00:00:00.000000000",
          "1976-08-05T00:00:00.000000000",
          "1977-04-23T00:00:00.000000000",
          "1979-09-24T00:00:00.000000000",
          "1977-04-13T00:00:00.000000000",
          "1978-01-03T00:00:00.000000000",
          "1980-03-17T00:00:00.000000000",
          "1977-06-19T00:00:00.000000000",
          "1976-03-25T00:00:00.000000000",
          "1977-07-12T00:00:00.000000000",
          "1979-06-27T00:00:00.000000000",
          "1978-01-01T00:00:00.000000000",
          "1977-08-19T00:00:00.000000000",
          "1976-05-12T00:00:00.000000000",
          "1976-05-16T00:00:00.000000000",
          "1977-05-21T00:00:00.000000000",
          "1976-10-17T00:00:00.000000000",
          "1977-12-06T00:00:00.000000000",
          "1976-09-22T00:00:00.000000000",
          "1977-05-06T00:00:00.000000000",
          "1976-12-22T00:00:00.000000000",
          "1976-07-17T00:00:00.000000000",
          "1977-08-22T00:00:00.000000000",
          "1976-08-31T00:00:00.000000000",
          "1977-01-30T00:00:00.000000000",
          "1978-06-08T00:00:00.000000000",
          "1977-01-21T00:00:00.000000000",
          "1976-10-22T00:00:00.000000000",
          "1978-03-08T00:00:00.000000000",
          "1977-12-09T00:00:00.000000000",
          "1977-08-11T00:00:00.000000000",
          "1977-11-23T00:00:00.000000000",
          "1976-10-27T00:00:00.000000000",
          "1977-02-16T00:00:00.000000000",
          "1977-03-01T00:00:00.000000000",
          "1977-04-12T00:00:00.000000000",
          "1976-10-19T00:00:00.000000000",
          "1977-06-15T00:00:00.000000000",
          "1976-08-14T00:00:00.000000000",
          "1977-04-18T00:00:00.000000000",
          "1976-06-13T00:00:00.000000000",
          "1977-02-12T00:00:00.000000000",
          "1976-07-25T00:00:00.000000000",
          "1976-10-16T00:00:00.000000000",
          "1976-07-07T00:00:00.000000000",
          "1977-09-06T00:00:00.000000000",
          "1977-02-08T00:00:00.000000000",
          "1976-10-04T00:00:00.000000000",
          "1976-04-10T00:00:00.000000000",
          "1976-07-10T00:00:00.000000000",
          "1977-08-08T00:00:00.000000000",
          "1977-01-31T00:00:00.000000000",
          "1977-08-20T00:00:00.000000000",
          "1976-06-19T00:00:00.000000000",
          "1976-07-06T00:00:00.000000000",
          "1977-06-28T00:00:00.000000000",
          "1976-04-10T00:00:00.000000000",
          "1977-05-20T00:00:00.000000000",
          "1976-12-31T00:00:00.000000000",
          "1977-07-30T00:00:00.000000000",
          "1976-05-27T00:00:00.000000000",
          "1977-05-13T00:00:00.000000000",
          "1977-01-13T00:00:00.000000000",
          "1978-01-14T00:00:00.000000000",
          "1976-04-06T00:00:00.000000000",
          "1977-02-12T00:00:00.000000000",
          "1977-02-03T00:00:00.000000000",
          "1977-07-19T00:00:00.000000000",
          "1976-09-28T00:00:00.000000000",
          "1976-09-27T00:00:00.000000000",
          "1977-09-25T00:00:00.000000000",
          "1977-11-18T00:00:00.000000000",
          "1976-04-26T00:00:00.000000000",
          "1977-03-17T00:00:00.000000000",
          "1978-05-27T00:00:00.000000000",
          "1978-05-28T00:00:00.000000000",
          "1977-09-06T00:00:00.000000000",
          "1976-06-10T00:00:00.000000000",
          "1980-01-12T00:00:00.000000000",
          "1978-05-10T00:00:00.000000000",
          "1977-12-21T00:00:00.000000000",
          "1976-08-04T00:00:00.000000000",
          "1980-08-20T00:00:00.000000000",
          "1977-03-24T00:00:00.000000000",
          "1976-04-13T00:00:00.000000000",
          "1976-12-13T00:00:00.000000000",
          "1977-10-15T00:00:00.000000000",
          "1977-07-29T00:00:00.000000000",
          "1976-04-14T00:00:00.000000000",
          "1978-06-28T00:00:00.000000000",
          "1976-09-29T00:00:00.000000000",
          "1976-05-13T00:00:00.000000000",
          "1976-05-07T00:00:00.000000000",
          "1976-11-04T00:00:00.000000000",
          "1977-06-24T00:00:00.000000000",
          "1976-11-17T00:00:00.000000000",
          "1976-04-19T00:00:00.000000000",
          "1977-08-16T00:00:00.000000000",
          "1976-08-16T00:00:00.000000000",
          "1977-08-04T00:00:00.000000000",
          "1976-10-23T00:00:00.000000000",
          "1977-09-24T00:00:00.000000000",
          "1977-07-27T00:00:00.000000000",
          "1977-09-19T00:00:00.000000000",
          "1976-09-27T00:00:00.000000000",
          "1978-05-28T00:00:00.000000000",
          "1976-07-28T00:00:00.000000000",
          "1976-08-21T00:00:00.000000000",
          "1976-10-01T00:00:00.000000000",
          "1976-06-15T00:00:00.000000000",
          "1977-05-05T00:00:00.000000000",
          "1977-05-05T00:00:00.000000000",
          "1976-07-16T00:00:00.000000000",
          "1978-10-18T00:00:00.000000000",
          "1976-08-05T00:00:00.000000000",
          "1976-08-06T00:00:00.000000000",
          "1976-08-22T00:00:00.000000000",
          "1977-05-18T00:00:00.000000000",
          "1977-02-20T00:00:00.000000000",
          "1979-10-17T00:00:00.000000000",
          "1976-10-06T00:00:00.000000000",
          "1976-09-07T00:00:00.000000000",
          "1979-10-17T00:00:00.000000000",
          "1976-08-06T00:00:00.000000000",
          "1978-03-28T00:00:00.000000000",
          "1976-11-04T00:00:00.000000000",
          "1976-04-24T00:00:00.000000000",
          "1977-04-01T00:00:00.000000000",
          "1978-06-03T00:00:00.000000000",
          "1976-08-17T00:00:00.000000000",
          "1976-10-15T00:00:00.000000000",
          "1976-10-28T00:00:00.000000000",
          "1977-02-03T00:00:00.000000000",
          "1976-05-22T00:00:00.000000000",
          "1976-12-21T00:00:00.000000000",
          "1976-07-01T00:00:00.000000000",
          "1977-05-15T00:00:00.000000000",
          "1976-08-20T00:00:00.000000000",
          "1976-08-02T00:00:00.000000000",
          "1978-05-18T00:00:00.000000000",
          "1977-02-11T00:00:00.000000000",
          "1978-03-08T00:00:00.000000000",
          "1976-08-04T00:00:00.000000000",
          "1978-03-08T00:00:00.000000000",
          "1976-11-09T00:00:00.000000000",
          "1981-09-20T00:00:00.000000000",
          "1977-02-12T00:00:00.000000000",
          "1982-01-09T00:00:00.000000000",
          "1976-09-21T00:00:00.000000000",
          "1977-07-05T00:00:00.000000000",
          "1977-04-11T00:00:00.000000000",
          "1976-06-23T00:00:00.000000000",
          "1976-10-25T00:00:00.000000000",
          "1976-10-05T00:00:00.000000000",
          "1977-02-16T00:00:00.000000000",
          "1980-06-18T00:00:00.000000000",
          "1977-05-17T00:00:00.000000000",
          "1977-01-26T00:00:00.000000000",
          "1978-03-03T00:00:00.000000000",
          "1978-04-24T00:00:00.000000000",
          "1976-07-23T00:00:00.000000000",
          "1976-11-10T00:00:00.000000000",
          "1980-02-28T00:00:00.000000000",
          "1977-04-22T00:00:00.000000000",
          "1977-02-08T00:00:00.000000000",
          "1979-08-12T00:00:00.000000000",
          "1976-09-10T00:00:00.000000000",
          "1976-03-30T00:00:00.000000000",
          "1976-05-12T00:00:00.000000000",
          "1977-05-07T00:00:00.000000000",
          "1977-06-17T00:00:00.000000000",
          "1976-05-18T00:00:00.000000000",
          "1977-01-10T00:00:00.000000000",
          "1977-01-05T00:00:00.000000000",
          "1977-06-28T00:00:00.000000000",
          "1978-11-10T00:00:00.000000000",
          "1976-12-23T00:00:00.000000000",
          "1976-12-26T00:00:00.000000000",
          "1980-07-17T00:00:00.000000000",
          "1976-09-24T00:00:00.000000000",
          "1976-11-18T00:00:00.000000000",
          "1977-05-11T00:00:00.000000000",
          "1976-06-16T00:00:00.000000000",
          "1976-11-09T00:00:00.000000000",
          "1977-09-09T00:00:00.000000000",
          "1977-11-24T00:00:00.000000000",
          "1978-10-20T00:00:00.000000000",
          "1977-05-20T00:00:00.000000000",
          "1977-01-05T00:00:00.000000000",
          "1976-07-14T00:00:00.000000000",
          "1978-03-25T00:00:00.000000000",
          "1976-08-14T00:00:00.000000000",
          "1976-04-25T00:00:00.000000000",
          "1977-10-19T00:00:00.000000000",
          "1978-02-02T00:00:00.000000000",
          "1976-12-22T00:00:00.000000000",
          "1976-05-29T00:00:00.000000000",
          "1977-06-01T00:00:00.000000000",
          "1976-06-08T00:00:00.000000000",
          "1976-06-01T00:00:00.000000000",
          "1977-05-19T00:00:00.000000000",
          "1977-11-22T00:00:00.000000000",
          "1977-12-27T00:00:00.000000000",
          "1976-10-20T00:00:00.000000000",
          "1976-11-19T00:00:00.000000000",
          "1977-01-24T00:00:00.000000000",
          "1976-09-13T00:00:00.000000000",
          "1979-08-06T00:00:00.000000000",
          "1976-10-13T00:00:00.000000000",
          "1976-10-13T00:00:00.000000000",
          "1976-03-26T00:00:00.000000000",
          "1977-05-13T00:00:00.000000000",
          "1977-10-11T00:00:00.000000000",
          "1978-05-12T00:00:00.000000000",
          "1976-09-13T00:00:00.000000000",
          "1977-08-19T00:00:00.000000000",
          "1977-04-16T00:00:00.000000000",
          "1977-07-06T00:00:00.000000000",
          "1978-06-29T00:00:00.000000000",
          "1976-04-25T00:00:00.000000000",
          "1976-05-28T00:00:00.000000000",
          "1976-12-01T00:00:00.000000000",
          "1976-08-07T00:00:00.000000000",
          "1977-07-08T00:00:00.000000000",
          "1977-02-18T00:00:00.000000000",
          "1977-01-08T00:00:00.000000000",
          "1976-07-17T00:00:00.000000000",
          "1977-09-01T00:00:00.000000000",
          "1977-09-01T00:00:00.000000000",
          "1977-05-28T00:00:00.000000000",
          "1977-05-23T00:00:00.000000000",
          "1977-05-17T00:00:00.000000000",
          "1977-06-11T00:00:00.000000000",
          "1977-12-30T00:00:00.000000000",
          "1978-03-24T00:00:00.000000000",
          "1976-10-20T00:00:00.000000000",
          "1976-06-18T00:00:00.000000000",
          "1976-10-23T00:00:00.000000000",
          "1981-01-01T00:00:00.000000000",
          "1978-03-06T00:00:00.000000000",
          "1978-01-28T00:00:00.000000000",
          "1976-06-29T00:00:00.000000000",
          "1976-06-16T00:00:00.000000000",
          "1977-06-03T00:00:00.000000000",
          "1977-06-08T00:00:00.000000000",
          "1976-07-22T00:00:00.000000000",
          "1976-06-26T00:00:00.000000000",
          "1978-02-23T00:00:00.000000000",
          "1976-10-15T00:00:00.000000000",
          "1977-03-26T00:00:00.000000000",
          "1976-07-27T00:00:00.000000000",
          "1976-10-01T00:00:00.000000000",
          "1978-08-13T00:00:00.000000000",
          "1976-07-09T00:00:00.000000000",
          "1977-07-11T00:00:00.000000000",
          "1977-04-30T00:00:00.000000000",
          "1976-11-01T00:00:00.000000000",
          "1977-07-22T00:00:00.000000000",
          "1977-01-20T00:00:00.000000000",
          "1976-07-21T00:00:00.000000000",
          "1976-08-20T00:00:00.000000000",
          "1977-06-16T00:00:00.000000000",
          "1977-02-09T00:00:00.000000000",
          "1976-06-18T00:00:00.000000000",
          "1976-12-02T00:00:00.000000000",
          "1978-06-26T00:00:00.000000000",
          "1976-09-17T00:00:00.000000000",
          "1976-10-28T00:00:00.000000000",
          "1978-07-04T00:00:00.000000000",
          "1978-07-03T00:00:00.000000000",
          "1977-01-01T00:00:00.000000000",
          "1976-10-17T00:00:00.000000000",
          "1978-10-11T00:00:00.000000000",
          "1977-02-22T00:00:00.000000000",
          "1977-05-14T00:00:00.000000000",
          "1977-09-16T00:00:00.000000000",
          "1977-12-30T00:00:00.000000000",
          "1976-07-07T00:00:00.000000000",
          "1976-11-03T00:00:00.000000000",
          "1977-10-09T00:00:00.000000000",
          "1977-07-12T00:00:00.000000000",
          "1977-05-18T00:00:00.000000000",
          "1978-11-29T00:00:00.000000000",
          "1978-10-09T00:00:00.000000000",
          "1977-08-03T00:00:00.000000000",
          "1976-06-12T00:00:00.000000000",
          "1976-04-09T00:00:00.000000000",
          "1976-04-09T00:00:00.000000000",
          "1976-03-25T00:00:00.000000000",
          "1976-04-02T00:00:00.000000000",
          "1977-01-11T00:00:00.000000000",
          "1976-08-22T00:00:00.000000000",
          "1976-11-23T00:00:00.000000000",
          "1977-10-12T00:00:00.000000000",
          "1977-05-19T00:00:00.000000000",
          "1976-07-02T00:00:00.000000000",
          "1977-10-21T00:00:00.000000000",
          "1976-10-18T00:00:00.000000000",
          "1976-04-15T00:00:00.000000000",
          "1976-06-04T00:00:00.000000000",
          "1977-03-18T00:00:00.000000000",
          "1977-12-08T00:00:00.000000000",
          "1977-09-17T00:00:00.000000000",
          "1977-08-01T00:00:00.000000000",
          "1976-12-21T00:00:00.000000000",
          "1976-09-10T00:00:00.000000000",
          "1977-06-09T00:00:00.000000000",
          "1977-09-10T00:00:00.000000000",
          "1976-04-15T00:00:00.000000000",
          "1977-01-13T00:00:00.000000000",
          "1976-05-15T00:00:00.000000000",
          "1980-06-21T00:00:00.000000000",
          "1977-05-10T00:00:00.000000000",
          "1978-02-24T00:00:00.000000000",
          "1977-09-17T00:00:00.000000000",
          "1976-07-06T00:00:00.000000000",
          "1978-07-10T00:00:00.000000000",
          "1976-12-03T00:00:00.000000000",
          "1976-06-01T00:00:00.000000000",
          "1977-04-06T00:00:00.000000000",
          "1977-01-25T00:00:00.000000000",
          "1977-04-12T00:00:00.000000000",
          "1976-07-21T00:00:00.000000000",
          "1977-06-04T00:00:00.000000000",
          "1976-09-08T00:00:00.000000000",
          "1977-05-13T00:00:00.000000000",
          "1976-03-25T00:00:00.000000000",
          "1977-12-06T00:00:00.000000000",
          "1977-05-01T00:00:00.000000000",
          "1978-02-25T00:00:00.000000000",
          "1976-12-16T00:00:00.000000000",
          "1976-12-20T00:00:00.000000000",
          "1977-12-06T00:00:00.000000000",
          "1976-04-20T00:00:00.000000000",
          "1976-05-15T00:00:00.000000000",
          "1976-06-27T00:00:00.000000000",
          "1977-05-13T00:00:00.000000000",
          "1976-11-25T00:00:00.000000000",
          "1976-09-28T00:00:00.000000000",
          "1976-09-28T00:00:00.000000000",
          "1977-07-08T00:00:00.000000000",
          "1977-09-24T00:00:00.000000000",
          "1976-12-08T00:00:00.000000000",
          "1976-10-09T00:00:00.000000000",
          "1977-11-17T00:00:00.000000000",
          "1977-01-15T00:00:00.000000000",
          "1978-05-12T00:00:00.000000000",
          "1977-12-05T00:00:00.000000000",
          "1978-08-11T00:00:00.000000000",
          "1976-10-28T00:00:00.000000000",
          "1978-03-15T00:00:00.000000000",
          "1976-11-30T00:00:00.000000000",
          "1981-08-08T00:00:00.000000000",
          "1977-12-08T00:00:00.000000000",
          "1976-05-13T00:00:00.000000000",
          "1976-05-04T00:00:00.000000000",
          "1976-06-15T00:00:00.000000000",
          "1976-11-09T00:00:00.000000000",
          "1977-03-01T00:00:00.000000000",
          "1976-09-24T00:00:00.000000000",
          "1978-06-30T00:00:00.000000000",
          "1976-10-11T00:00:00.000000000",
          "1977-10-24T00:00:00.000000000",
          "1976-07-21T00:00:00.000000000",
          "1976-05-03T00:00:00.000000000",
          "1977-02-22T00:00:00.000000000",
          "1977-04-08T00:00:00.000000000",
          "1977-05-19T00:00:00.000000000",
          "1977-04-19T00:00:00.000000000",
          "1977-12-21T00:00:00.000000000",
          "1977-02-23T00:00:00.000000000",
          "1976-08-27T00:00:00.000000000",
          "1977-02-01T00:00:00.000000000",
          "1976-05-18T00:00:00.000000000",
          "1977-09-14T00:00:00.000000000",
          "1976-05-05T00:00:00.000000000",
          "1976-05-28T00:00:00.000000000",
          "1976-09-11T00:00:00.000000000",
          "1976-06-19T00:00:00.000000000",
          "1977-05-22T00:00:00.000000000",
          "1977-12-06T00:00:00.000000000",
          "1977-08-15T00:00:00.000000000",
          "1978-07-13T00:00:00.000000000",
          "1977-09-28T00:00:00.000000000",
          "1977-09-09T00:00:00.000000000",
          "1976-04-20T00:00:00.000000000",
          "1976-07-01T00:00:00.000000000",
          "1976-05-22T00:00:00.000000000",
          "1976-05-22T00:00:00.000000000",
          "1976-05-22T00:00:00.000000000",
          "1976-12-13T00:00:00.000000000",
          "1977-08-09T00:00:00.000000000",
          "1977-01-19T00:00:00.000000000",
          "1976-08-01T00:00:00.000000000",
          "1976-10-02T00:00:00.000000000",
          "1978-06-01T00:00:00.000000000",
          "1977-05-04T00:00:00.000000000",
          "1977-12-06T00:00:00.000000000",
          "1976-08-02T00:00:00.000000000",
          "1977-05-15T00:00:00.000000000",
          "1978-02-01T00:00:00.000000000",
          "1976-07-06T00:00:00.000000000",
          "1976-05-13T00:00:00.000000000",
          "1977-08-12T00:00:00.000000000",
          "1976-09-13T00:00:00.000000000",
          "1976-04-21T00:00:00.000000000",
          "1976-04-07T00:00:00.000000000",
          "1979-06-27T00:00:00.000000000",
          "1976-06-19T00:00:00.000000000",
          "1977-09-08T00:00:00.000000000",
          "1976-10-12T00:00:00.000000000",
          "1979-06-27T00:00:00.000000000",
          "1977-05-14T00:00:00.000000000",
          "1976-10-15T00:00:00.000000000",
          "1978-11-08T00:00:00.000000000",
          "1978-09-15T00:00:00.000000000",
          "1977-12-30T00:00:00.000000000",
          "1977-11-07T00:00:00.000000000",
          "1977-08-01T00:00:00.000000000",
          "1976-03-27T00:00:00.000000000",
          "1976-12-22T00:00:00.000000000",
          "1977-09-05T00:00:00.000000000",
          "1976-12-17T00:00:00.000000000",
          "1977-05-18T00:00:00.000000000",
          "1976-04-23T00:00:00.000000000",
          "1977-10-01T00:00:00.000000000",
          "1977-02-16T00:00:00.000000000",
          "1976-04-14T00:00:00.000000000",
          "1976-09-15T00:00:00.000000000",
          "1976-03-28T00:00:00.000000000",
          "1976-05-22T00:00:00.000000000",
          "1977-07-15T00:00:00.000000000",
          "1977-09-25T00:00:00.000000000",
          "1976-05-07T00:00:00.000000000",
          "1976-09-16T00:00:00.000000000",
          "1978-05-14T00:00:00.000000000",
          "1976-09-29T00:00:00.000000000",
          "1977-05-09T00:00:00.000000000",
          "1977-05-09T00:00:00.000000000",
          "1976-10-22T00:00:00.000000000",
          "1976-03-27T00:00:00.000000000",
          "1976-05-05T00:00:00.000000000",
          "1976-07-29T00:00:00.000000000",
          "1976-09-14T00:00:00.000000000",
          "1977-04-20T00:00:00.000000000",
          "1978-11-10T00:00:00.000000000",
          "1977-08-23T00:00:00.000000000",
          "1976-04-15T00:00:00.000000000",
          "1978-01-26T00:00:00.000000000",
          "1977-09-07T00:00:00.000000000",
          "1977-12-23T00:00:00.000000000",
          "1978-12-07T00:00:00.000000000",
          "1976-12-15T00:00:00.000000000",
          "1976-08-29T00:00:00.000000000",
          "1977-08-31T00:00:00.000000000",
          "1977-06-18T00:00:00.000000000",
          "1976-06-01T00:00:00.000000000",
          "1977-05-27T00:00:00.000000000",
          "1976-12-24T00:00:00.000000000",
          "1977-03-21T00:00:00.000000000",
          "1978-10-25T00:00:00.000000000",
          "1979-08-08T00:00:00.000000000",
          "1978-06-01T00:00:00.000000000",
          "1977-05-22T00:00:00.000000000",
          "1976-10-20T00:00:00.000000000",
          "1976-11-04T00:00:00.000000000",
          "1977-05-12T00:00:00.000000000",
          "1978-01-26T00:00:00.000000000",
          "1976-12-06T00:00:00.000000000",
          "1977-03-23T00:00:00.000000000",
          "1976-03-27T00:00:00.000000000",
          "1977-08-26T00:00:00.000000000",
          "1976-09-22T00:00:00.000000000",
          "1976-07-20T00:00:00.000000000",
          "1977-06-12T00:00:00.000000000",
          "1977-01-27T00:00:00.000000000",
          "1977-05-11T00:00:00.000000000",
          "1976-12-02T00:00:00.000000000",
          "1979-05-11T00:00:00.000000000",
          "1977-04-13T00:00:00.000000000",
          "1976-11-05T00:00:00.000000000",
          "1976-07-26T00:00:00.000000000",
          "1977-05-30T00:00:00.000000000",
          "1977-05-13T00:00:00.000000000",
          "1976-05-14T00:00:00.000000000",
          "1976-04-19T00:00:00.000000000",
          "1976-07-13T00:00:00.000000000",
          "1978-05-26T00:00:00.000000000",
          "1977-06-11T00:00:00.000000000",
          "1977-04-19T00:00:00.000000000",
          "1977-08-05T00:00:00.000000000",
          "1976-04-06T00:00:00.000000000",
          "1977-03-04T00:00:00.000000000",
          "1977-08-13T00:00:00.000000000",
          "1977-04-14T00:00:00.000000000",
          "1978-09-29T00:00:00.000000000",
          "1977-08-01T00:00:00.000000000",
          "1977-05-20T00:00:00.000000000",
          "1977-10-01T00:00:00.000000000",
          "1976-04-19T00:00:00.000000000",
          "1976-11-30T00:00:00.000000000",
          "1978-09-16T00:00:00.000000000",
          "1977-09-15T00:00:00.000000000",
          "1976-06-10T00:00:00.000000000",
          "1976-05-29T00:00:00.000000000",
          "1977-06-05T00:00:00.000000000",
          "1976-06-02T00:00:00.000000000",
          "1980-03-20T00:00:00.000000000",
          "1976-09-14T00:00:00.000000000",
          "1976-06-16T00:00:00.000000000",
          "1978-10-15T00:00:00.000000000",
          "1977-04-07T00:00:00.000000000",
          "1976-07-21T00:00:00.000000000",
          "1980-03-19T00:00:00.000000000",
          "1977-01-19T00:00:00.000000000",
          "1977-02-12T00:00:00.000000000",
          "1978-08-03T00:00:00.000000000",
          "1976-10-09T00:00:00.000000000",
          "1976-05-16T00:00:00.000000000",
          "1976-09-26T00:00:00.000000000",
          "1977-08-09T00:00:00.000000000",
          "1977-09-21T00:00:00.000000000",
          "1976-08-08T00:00:00.000000000",
          "1976-04-02T00:00:00.000000000",
          "1976-09-03T00:00:00.000000000",
          "1978-08-13T00:00:00.000000000",
          "1976-10-14T00:00:00.000000000",
          "1977-05-14T00:00:00.000000000",
          "1976-08-07T00:00:00.000000000",
          "1976-07-23T00:00:00.000000000",
          "1976-05-02T00:00:00.000000000",
          "1976-10-02T00:00:00.000000000",
          "1976-12-03T00:00:00.000000000",
          "1976-07-16T00:00:00.000000000",
          "1977-04-29T00:00:00.000000000",
          "1976-07-17T00:00:00.000000000",
          "1977-12-08T00:00:00.000000000",
          "1976-07-23T00:00:00.000000000",
          "1976-08-18T00:00:00.000000000",
          "1976-05-13T00:00:00.000000000",
          "1976-11-08T00:00:00.000000000",
          "1976-09-24T00:00:00.000000000",
          "1976-11-03T00:00:00.000000000",
          "1976-12-28T00:00:00.000000000",
          "1976-12-28T00:00:00.000000000",
          "1979-10-16T00:00:00.000000000",
          "1977-11-22T00:00:00.000000000",
          "1979-09-08T00:00:00.000000000",
          "1976-11-02T00:00:00.000000000",
          "1976-05-28T00:00:00.000000000",
          "1978-12-04T00:00:00.000000000",
          "1977-05-16T00:00:00.000000000",
          "1977-05-16T00:00:00.000000000",
          "1977-01-11T00:00:00.000000000",
          "1976-04-05T00:00:00.000000000",
          "1976-10-08T00:00:00.000000000",
          "1977-06-11T00:00:00.000000000",
          "1977-05-11T00:00:00.000000000",
          "1977-01-21T00:00:00.000000000",
          "1977-05-09T00:00:00.000000000",
          "1977-07-27T00:00:00.000000000",
          "1977-02-05T00:00:00.000000000",
          "1977-03-01T00:00:00.000000000",
          "1976-10-01T00:00:00.000000000",
          "1977-03-01T00:00:00.000000000",
          "1976-07-23T00:00:00.000000000",
          "1976-07-23T00:00:00.000000000",
          "1976-10-30T00:00:00.000000000",
          "1977-10-05T00:00:00.000000000",
          "1976-12-13T00:00:00.000000000",
          "1977-09-02T00:00:00.000000000",
          "1978-05-02T00:00:00.000000000",
          "1977-04-12T00:00:00.000000000",
          "1976-05-07T00:00:00.000000000",
          "1976-11-13T00:00:00.000000000",
          "1977-03-18T00:00:00.000000000",
          "1977-04-05T00:00:00.000000000",
          "1976-04-30T00:00:00.000000000",
          "1977-08-11T00:00:00.000000000",
          "1976-04-15T00:00:00.000000000",
          "1976-08-13T00:00:00.000000000",
          "1976-04-30T00:00:00.000000000",
          "1978-02-07T00:00:00.000000000",
          "1976-12-30T00:00:00.000000000",
          "1976-04-08T00:00:00.000000000",
          "1976-05-26T00:00:00.000000000",
          "1977-05-31T00:00:00.000000000",
          "1977-03-11T00:00:00.000000000",
          "1978-05-21T00:00:00.000000000",
          "1976-06-01T00:00:00.000000000",
          "1977-05-08T00:00:00.000000000",
          "1977-08-24T00:00:00.000000000",
          "1977-06-16T00:00:00.000000000",
          "1976-12-06T00:00:00.000000000",
          "1976-04-08T00:00:00.000000000",
          "1977-06-23T00:00:00.000000000",
          "1976-08-20T00:00:00.000000000",
          "1977-05-01T00:00:00.000000000",
          "1977-09-07T00:00:00.000000000",
          "1976-12-04T00:00:00.000000000",
          "1978-09-25T00:00:00.000000000",
          "1976-09-16T00:00:00.000000000",
          "1978-10-25T00:00:00.000000000",
          "1976-09-22T00:00:00.000000000",
          "1976-08-31T00:00:00.000000000",
          "1976-09-30T00:00:00.000000000",
          "1976-12-29T00:00:00.000000000",
          "1977-05-24T00:00:00.000000000",
          "1976-12-28T00:00:00.000000000",
          "1978-06-26T00:00:00.000000000",
          "1977-01-01T00:00:00.000000000",
          "1976-11-02T00:00:00.000000000",
          "1977-07-07T00:00:00.000000000",
          "1976-04-01T00:00:00.000000000",
          "1976-12-08T00:00:00.000000000",
          "1976-10-01T00:00:00.000000000",
          "1977-06-01T00:00:00.000000000",
          "1978-09-15T00:00:00.000000000",
          "1976-09-10T00:00:00.000000000",
          "1976-05-28T00:00:00.000000000",
          "1977-06-03T00:00:00.000000000",
          "1977-05-15T00:00:00.000000000",
          "1977-01-27T00:00:00.000000000",
          "1976-12-20T00:00:00.000000000",
          "1977-03-22T00:00:00.000000000",
          "1976-12-10T00:00:00.000000000",
          "1978-01-28T00:00:00.000000000",
          "1976-09-12T00:00:00.000000000",
          "1977-08-12T00:00:00.000000000",
          "1977-03-01T00:00:00.000000000",
          "1977-06-16T00:00:00.000000000",
          "1977-12-09T00:00:00.000000000",
          "1978-05-15T00:00:00.000000000",
          "1976-04-04T00:00:00.000000000",
          "1977-09-17T00:00:00.000000000",
          "1977-04-24T00:00:00.000000000",
          "1977-04-26T00:00:00.000000000",
          "1976-05-29T00:00:00.000000000",
          "1977-10-19T00:00:00.000000000",
          "1976-06-08T00:00:00.000000000",
          "1977-07-02T00:00:00.000000000",
          "1978-01-20T00:00:00.000000000",
          "1976-11-09T00:00:00.000000000",
          "1977-02-08T00:00:00.000000000",
          "1977-12-06T00:00:00.000000000",
          "1976-08-11T00:00:00.000000000",
          "1977-10-11T00:00:00.000000000",
          "1977-12-06T00:00:00.000000000",
          "1977-12-06T00:00:00.000000000",
          "1977-12-06T00:00:00.000000000",
          "1976-09-20T00:00:00.000000000",
          "1976-03-25T00:00:00.000000000",
          "1977-05-11T00:00:00.000000000",
          "1977-02-01T00:00:00.000000000",
          "1976-08-15T00:00:00.000000000",
          "1977-03-12T00:00:00.000000000",
          "1976-07-31T00:00:00.000000000",
          "1977-02-28T00:00:00.000000000",
          "1977-02-23T00:00:00.000000000",
          "1977-05-27T00:00:00.000000000",
          "1976-12-01T00:00:00.000000000",
          "1977-04-19T00:00:00.000000000",
          "1978-07-21T00:00:00.000000000",
          "1977-04-06T00:00:00.000000000",
          "1977-01-27T00:00:00.000000000",
          "1976-07-07T00:00:00.000000000",
          "1977-09-20T00:00:00.000000000",
          "1977-08-05T00:00:00.000000000",
          "1977-06-18T00:00:00.000000000",
          "1977-07-07T00:00:00.000000000",
          "1976-07-07T00:00:00.000000000",
          "1977-12-22T00:00:00.000000000",
          "1976-08-05T00:00:00.000000000",
          "1977-05-12T00:00:00.000000000",
          "1976-08-01T00:00:00.000000000",
          "1976-12-17T00:00:00.000000000",
          "1976-12-22T00:00:00.000000000",
          "1976-08-01T00:00:00.000000000",
          "1977-01-21T00:00:00.000000000",
          "1977-03-03T00:00:00.000000000",
          "1977-04-30T00:00:00.000000000",
          "1977-07-29T00:00:00.000000000",
          "1976-11-22T00:00:00.000000000",
          "1977-12-21T00:00:00.000000000",
          "1978-11-10T00:00:00.000000000",
          "1977-06-03T00:00:00.000000000",
          "1977-09-17T00:00:00.000000000",
          "1976-07-06T00:00:00.000000000",
          "1977-03-21T00:00:00.000000000",
          "1976-10-24T00:00:00.000000000",
          "1977-05-22T00:00:00.000000000",
          "1977-08-18T00:00:00.000000000",
          "1977-09-05T00:00:00.000000000",
          "1976-10-07T00:00:00.000000000",
          "1976-09-27T00:00:00.000000000",
          "1977-07-04T00:00:00.000000000",
          "1978-03-24T00:00:00.000000000",
          "1977-04-23T00:00:00.000000000",
          "1977-09-22T00:00:00.000000000",
          "1976-11-20T00:00:00.000000000",
          "1977-04-28T00:00:00.000000000",
          "1977-11-06T00:00:00.000000000",
          "1976-06-09T00:00:00.000000000",
          "1976-10-30T00:00:00.000000000",
          "1978-04-13T00:00:00.000000000",
          "1977-11-15T00:00:00.000000000",
          "1976-10-21T00:00:00.000000000",
          "1976-08-18T00:00:00.000000000",
          "1977-03-31T00:00:00.000000000",
          "1980-06-20T00:00:00.000000000",
          "1976-09-09T00:00:00.000000000",
          "1978-07-08T00:00:00.000000000",
          "1977-03-18T00:00:00.000000000",
          "1977-10-07T00:00:00.000000000",
          "1977-07-13T00:00:00.000000000",
          "1977-07-22T00:00:00.000000000",
          "1978-01-30T00:00:00.000000000",
          "1977-09-17T00:00:00.000000000",
          "1977-02-03T00:00:00.000000000",
          "1976-06-01T00:00:00.000000000",
          "1976-11-29T00:00:00.000000000",
          "1977-10-24T00:00:00.000000000",
          "1977-04-12T00:00:00.000000000",
          "1977-02-02T00:00:00.000000000",
          "1976-10-18T00:00:00.000000000",
          "1976-09-14T00:00:00.000000000",
          "1977-10-25T00:00:00.000000000",
          "1977-05-10T00:00:00.000000000",
          "1976-10-19T00:00:00.000000000",
          "1976-03-28T00:00:00.000000000",
          "1977-07-01T00:00:00.000000000",
          "1979-08-14T00:00:00.000000000",
          "1977-09-16T00:00:00.000000000",
          "1977-03-30T00:00:00.000000000",
          "1977-11-21T00:00:00.000000000",
          "1976-07-27T00:00:00.000000000",
          "1977-01-01T00:00:00.000000000",
          "1981-03-23T00:00:00.000000000",
          "1977-05-01T00:00:00.000000000",
          "1977-02-24T00:00:00.000000000",
          "1978-07-01T00:00:00.000000000",
          "1977-04-06T00:00:00.000000000",
          "1977-02-11T00:00:00.000000000",
          "1977-04-28T00:00:00.000000000",
          "1977-05-11T00:00:00.000000000",
          "1976-06-11T00:00:00.000000000",
          "1977-05-19T00:00:00.000000000",
          "1977-03-19T00:00:00.000000000",
          "1977-08-03T00:00:00.000000000",
          "1976-11-23T00:00:00.000000000",
          "1976-10-25T00:00:00.000000000",
          "1976-08-28T00:00:00.000000000",
          "1977-04-19T00:00:00.000000000",
          "1977-06-30T00:00:00.000000000",
          "1977-06-30T00:00:00.000000000",
          "1978-01-23T00:00:00.000000000",
          "1976-07-06T00:00:00.000000000",
          "1976-09-09T00:00:00.000000000",
          "1976-12-22T00:00:00.000000000",
          "1976-07-01T00:00:00.000000000",
          "1977-05-01T00:00:00.000000000",
          "1977-02-23T00:00:00.000000000",
          "1976-10-22T00:00:00.000000000",
          "1978-05-25T00:00:00.000000000",
          "1977-12-06T00:00:00.000000000",
          "1976-07-12T00:00:00.000000000",
          "1976-08-18T00:00:00.000000000",
          "1976-04-20T00:00:00.000000000",
          "1977-12-08T00:00:00.000000000",
          "1977-06-21T00:00:00.000000000",
          "1976-08-22T00:00:00.000000000",
          "1976-07-01T00:00:00.000000000",
          "1976-09-30T00:00:00.000000000",
          "1976-05-28T00:00:00.000000000",
          "1976-08-24T00:00:00.000000000",
          "1976-04-21T00:00:00.000000000",
          "1976-07-29T00:00:00.000000000",
          "1976-12-15T00:00:00.000000000",
          "1976-11-22T00:00:00.000000000",
          "1976-07-10T00:00:00.000000000",
          "1976-06-17T00:00:00.000000000",
          "1977-08-20T00:00:00.000000000",
          "1976-08-11T00:00:00.000000000",
          "1976-08-11T00:00:00.000000000",
          "1976-07-14T00:00:00.000000000",
          "1977-09-01T00:00:00.000000000",
          "1977-09-01T00:00:00.000000000",
          "1979-10-11T00:00:00.000000000",
          "1976-09-09T00:00:00.000000000",
          "1976-05-21T00:00:00.000000000",
          "1977-04-21T00:00:00.000000000",
          "1977-01-31T00:00:00.000000000",
          "1977-04-29T00:00:00.000000000",
          "1977-05-25T00:00:00.000000000",
          "1977-05-24T00:00:00.000000000",
          "1977-05-28T00:00:00.000000000",
          "1976-09-13T00:00:00.000000000",
          "1977-10-18T00:00:00.000000000",
          "1978-02-02T00:00:00.000000000",
          "1976-09-10T00:00:00.000000000",
          "1977-04-08T00:00:00.000000000",
          "1976-04-23T00:00:00.000000000",
          "1976-11-30T00:00:00.000000000",
          "1977-07-04T00:00:00.000000000",
          "1976-09-10T00:00:00.000000000",
          "1977-09-01T00:00:00.000000000",
          "1977-03-14T00:00:00.000000000",
          "1976-05-30T00:00:00.000000000",
          "1976-10-20T00:00:00.000000000",
          "1977-05-13T00:00:00.000000000",
          "1976-06-18T00:00:00.000000000",
          "1977-03-17T00:00:00.000000000",
          "1976-12-24T00:00:00.000000000",
          "1977-09-02T00:00:00.000000000",
          "1977-05-01T00:00:00.000000000",
          "1977-05-11T00:00:00.000000000",
          "1977-01-11T00:00:00.000000000",
          "1977-01-21T00:00:00.000000000",
          "1977-03-25T00:00:00.000000000",
          "1977-02-16T00:00:00.000000000",
          "1977-11-23T00:00:00.000000000",
          "1976-08-11T00:00:00.000000000",
          "1978-05-26T00:00:00.000000000",
          "1976-09-15T00:00:00.000000000",
          "1976-04-09T00:00:00.000000000",
          "1977-05-14T00:00:00.000000000",
          "1976-05-10T00:00:00.000000000",
          "1977-12-30T00:00:00.000000000",
          "1976-11-11T00:00:00.000000000",
          "1980-02-27T00:00:00.000000000",
          "1977-01-05T00:00:00.000000000",
          "1979-03-01T00:00:00.000000000",
          "1976-06-16T00:00:00.000000000",
          "1976-11-01T00:00:00.000000000",
          "1977-05-15T00:00:00.000000000",
          "1977-02-02T00:00:00.000000000",
          "1976-06-08T00:00:00.000000000",
          "1977-10-20T00:00:00.000000000",
          "1978-07-21T00:00:00.000000000",
          "1976-07-21T00:00:00.000000000",
          "1976-04-05T00:00:00.000000000",
          "1976-07-17T00:00:00.000000000",
          "1976-10-18T00:00:00.000000000",
          "1976-10-18T00:00:00.000000000",
          "1977-02-10T00:00:00.000000000",
          "1978-02-28T00:00:00.000000000",
          "1976-10-12T00:00:00.000000000",
          "1976-10-11T00:00:00.000000000",
          "1976-06-07T00:00:00.000000000",
          "1976-10-07T00:00:00.000000000",
          "1978-02-23T00:00:00.000000000",
          "1978-02-23T00:00:00.000000000",
          "1976-09-04T00:00:00.000000000",
          "1976-05-20T00:00:00.000000000",
          "1976-11-16T00:00:00.000000000",
          "1978-03-26T00:00:00.000000000",
          "1977-02-16T00:00:00.000000000",
          "1977-09-14T00:00:00.000000000",
          "1976-04-05T00:00:00.000000000",
          "1977-01-20T00:00:00.000000000",
          "1978-09-19T00:00:00.000000000",
          "1977-09-24T00:00:00.000000000",
          "1977-06-22T00:00:00.000000000",
          "1977-10-05T00:00:00.000000000",
          "1977-04-03T00:00:00.000000000",
          "1977-07-17T00:00:00.000000000",
          "1977-07-17T00:00:00.000000000",
          "1976-10-11T00:00:00.000000000",
          "1976-11-02T00:00:00.000000000",
          "1976-11-27T00:00:00.000000000",
          "1977-03-28T00:00:00.000000000",
          "1976-05-05T00:00:00.000000000",
          "1978-03-09T00:00:00.000000000",
          "1978-03-09T00:00:00.000000000",
          "1978-03-08T00:00:00.000000000",
          "1976-09-22T00:00:00.000000000",
          "1977-08-11T00:00:00.000000000",
          "1976-05-30T00:00:00.000000000",
          "1976-06-15T00:00:00.000000000",
          "1976-06-01T00:00:00.000000000",
          "1977-04-15T00:00:00.000000000",
          "1976-12-27T00:00:00.000000000",
          "1976-12-17T00:00:00.000000000",
          "1976-04-28T00:00:00.000000000",
          "1977-11-26T00:00:00.000000000",
          "1977-04-11T00:00:00.000000000",
          "1977-05-20T00:00:00.000000000",
          "1977-05-20T00:00:00.000000000",
          "1977-02-18T00:00:00.000000000",
          "1977-03-22T00:00:00.000000000",
          "1976-05-01T00:00:00.000000000",
          "1976-09-27T00:00:00.000000000",
          "1976-09-13T00:00:00.000000000",
          "1976-07-27T00:00:00.000000000",
          "1977-04-08T00:00:00.000000000",
          "1976-10-20T00:00:00.000000000",
          "1977-09-11T00:00:00.000000000",
          "1977-02-16T00:00:00.000000000",
          "1976-09-01T00:00:00.000000000",
          "1976-09-12T00:00:00.000000000",
          "1976-03-29T00:00:00.000000000",
          "1976-12-08T00:00:00.000000000",
          "1976-07-23T00:00:00.000000000",
          "1976-04-07T00:00:00.000000000",
          "1978-05-18T00:00:00.000000000",
          "1977-11-11T00:00:00.000000000",
          "1977-11-11T00:00:00.000000000",
          "1983-05-14T00:00:00.000000000",
          "1976-11-19T00:00:00.000000000",
          "1978-05-22T00:00:00.000000000",
          "1978-05-22T00:00:00.000000000",
          "1977-03-23T00:00:00.000000000",
          "1977-05-15T00:00:00.000000000",
          "1977-02-23T00:00:00.000000000",
          "1977-02-23T00:00:00.000000000",
          "1976-11-03T00:00:00.000000000",
          "1978-01-06T00:00:00.000000000",
          "1977-06-08T00:00:00.000000000",
          "1980-03-12T00:00:00.000000000",
          "1976-09-21T00:00:00.000000000",
          "1976-05-30T00:00:00.000000000",
          "1976-10-21T00:00:00.000000000",
          "1977-05-01T00:00:00.000000000",
          "1977-02-25T00:00:00.000000000",
          "1978-07-05T00:00:00.000000000",
          "1977-12-06T00:00:00.000000000",
          "1977-08-21T00:00:00.000000000",
          "1981-02-19T00:00:00.000000000",
          "1977-02-21T00:00:00.000000000",
          "1976-06-30T00:00:00.000000000",
          "1976-05-15T00:00:00.000000000",
          "1976-07-20T00:00:00.000000000",
          "1978-08-03T00:00:00.000000000",
          "1977-05-17T00:00:00.000000000",
          "1976-10-15T00:00:00.000000000",
          "1976-11-04T00:00:00.000000000",
          "1977-01-24T00:00:00.000000000",
          "1976-12-11T00:00:00.000000000",
          "1977-06-13T00:00:00.000000000",
          "1976-06-17T00:00:00.000000000",
          "1977-10-08T00:00:00.000000000",
          "1976-10-20T00:00:00.000000000",
          "1978-05-30T00:00:00.000000000",
          "1976-12-08T00:00:00.000000000",
          "1976-11-17T00:00:00.000000000",
          "1979-06-12T00:00:00.000000000",
          "1979-03-10T00:00:00.000000000",
          "1976-09-25T00:00:00.000000000",
          "1979-11-01T00:00:00.000000000",
          "1977-04-06T00:00:00.000000000",
          "1977-03-15T00:00:00.000000000",
          "1978-02-23T00:00:00.000000000",
          "1978-01-14T00:00:00.000000000",
          "1976-03-31T00:00:00.000000000",
          "1976-07-17T00:00:00.000000000",
          "1976-07-06T00:00:00.000000000",
          "1978-11-11T00:00:00.000000000",
          "1978-06-06T00:00:00.000000000",
          "1977-10-17T00:00:00.000000000",
          "1976-06-13T00:00:00.000000000",
          "1976-11-19T00:00:00.000000000",
          "1976-09-03T00:00:00.000000000",
          "1977-04-22T00:00:00.000000000",
          "1976-06-01T00:00:00.000000000",
          "1976-04-15T00:00:00.000000000",
          "1976-06-10T00:00:00.000000000",
          "1976-08-17T00:00:00.000000000",
          "1977-04-15T00:00:00.000000000",
          "1977-08-02T00:00:00.000000000",
          "1977-06-09T00:00:00.000000000",
          "1976-12-22T00:00:00.000000000",
          "1978-03-09T00:00:00.000000000",
          "1977-09-01T00:00:00.000000000",
          "1978-04-23T00:00:00.000000000",
          "1976-11-02T00:00:00.000000000",
          "1977-08-15T00:00:00.000000000",
          "1977-03-24T00:00:00.000000000",
          "1977-05-12T00:00:00.000000000",
          "1976-03-28T00:00:00.000000000",
          "1978-02-24T00:00:00.000000000",
          "1977-08-18T00:00:00.000000000",
          "1977-09-01T00:00:00.000000000",
          "1977-05-16T00:00:00.000000000",
          "1977-05-01T00:00:00.000000000",
          "1976-12-24T00:00:00.000000000",
          "1976-08-13T00:00:00.000000000",
          "1976-09-20T00:00:00.000000000",
          "1976-04-02T00:00:00.000000000",
          "1977-02-12T00:00:00.000000000",
          "1976-07-01T00:00:00.000000000",
          "1976-11-01T00:00:00.000000000",
          "1978-05-18T00:00:00.000000000",
          "1980-02-21T00:00:00.000000000",
          "1977-03-28T00:00:00.000000000",
          "1978-09-11T00:00:00.000000000",
          "1976-06-03T00:00:00.000000000",
          "1976-05-14T00:00:00.000000000",
          "1976-05-22T00:00:00.000000000",
          "1976-10-17T00:00:00.000000000",
          "1976-11-09T00:00:00.000000000",
          "1976-07-21T00:00:00.000000000",
          "1976-06-18T00:00:00.000000000",
          "1977-08-25T00:00:00.000000000",
          "1977-04-22T00:00:00.000000000",
          "1978-05-13T00:00:00.000000000",
          "1977-11-13T00:00:00.000000000",
          "1977-11-08T00:00:00.000000000",
          "1977-02-14T00:00:00.000000000",
          "1977-11-03T00:00:00.000000000",
          "1976-09-14T00:00:00.000000000",
          "1976-11-22T00:00:00.000000000",
          "1976-03-27T00:00:00.000000000",
          "1977-05-23T00:00:00.000000000",
          "1977-01-14T00:00:00.000000000",
          "1976-07-22T00:00:00.000000000",
          "1978-03-01T00:00:00.000000000",
          "1976-09-29T00:00:00.000000000",
          "1977-11-26T00:00:00.000000000",
          "1977-06-10T00:00:00.000000000",
          "1976-08-10T00:00:00.000000000",
          "1976-08-04T00:00:00.000000000",
          "1978-07-01T00:00:00.000000000",
          "1977-12-30T00:00:00.000000000",
          "1976-04-14T00:00:00.000000000",
          "1976-05-01T00:00:00.000000000",
          "1978-01-10T00:00:00.000000000",
          "1976-08-18T00:00:00.000000000",
          "1976-11-30T00:00:00.000000000",
          "1976-12-03T00:00:00.000000000",
          "1977-11-09T00:00:00.000000000",
          "1977-03-25T00:00:00.000000000",
          "1976-12-26T00:00:00.000000000",
          "1976-05-05T00:00:00.000000000",
          "1976-08-19T00:00:00.000000000",
          "1976-05-05T00:00:00.000000000",
          "1978-02-03T00:00:00.000000000",
          "1977-03-30T00:00:00.000000000",
          "1976-06-20T00:00:00.000000000",
          "1976-12-10T00:00:00.000000000",
          "1976-07-10T00:00:00.000000000",
          "1976-11-07T00:00:00.000000000",
          "1976-08-17T00:00:00.000000000",
          "1978-07-25T00:00:00.000000000",
          "1976-05-28T00:00:00.000000000",
          "1978-09-18T00:00:00.000000000",
          "1976-07-07T00:00:00.000000000",
          "1978-01-14T00:00:00.000000000",
          "1977-04-06T00:00:00.000000000",
          "1976-11-24T00:00:00.000000000",
          "1976-09-16T00:00:00.000000000",
          "1976-10-01T00:00:00.000000000",
          "1977-02-24T00:00:00.000000000",
          "1977-12-06T00:00:00.000000000",
          "1977-05-18T00:00:00.000000000",
          "1976-08-16T00:00:00.000000000",
          "1976-09-30T00:00:00.000000000",
          "1977-12-06T00:00:00.000000000",
          "1977-11-14T00:00:00.000000000",
          "1977-01-01T00:00:00.000000000",
          "1976-11-20T00:00:00.000000000",
          "1977-08-03T00:00:00.000000000",
          "1977-08-05T00:00:00.000000000",
          "1977-11-14T00:00:00.000000000",
          "1976-06-16T00:00:00.000000000",
          "1977-11-14T00:00:00.000000000",
          "1976-05-20T00:00:00.000000000",
          "1977-05-18T00:00:00.000000000",
          "1976-06-16T00:00:00.000000000",
          "1976-05-06T00:00:00.000000000",
          "1976-05-06T00:00:00.000000000",
          "1976-06-16T00:00:00.000000000",
          "1977-07-01T00:00:00.000000000",
          "1976-07-21T00:00:00.000000000",
          "1976-08-06T00:00:00.000000000",
          "1977-02-24T00:00:00.000000000",
          "1977-03-18T00:00:00.000000000",
          "1976-03-29T00:00:00.000000000",
          "1977-07-29T00:00:00.000000000",
          "1976-06-17T00:00:00.000000000",
          "1978-05-21T00:00:00.000000000",
          "1977-12-06T00:00:00.000000000",
          "1977-12-05T00:00:00.000000000",
          "1976-12-07T00:00:00.000000000",
          "1977-12-07T00:00:00.000000000",
          "1978-06-15T00:00:00.000000000",
          "1977-11-22T00:00:00.000000000",
          "1976-11-13T00:00:00.000000000",
          "1976-12-07T00:00:00.000000000",
          "1977-11-28T00:00:00.000000000",
          "1978-01-13T00:00:00.000000000",
          "1977-07-26T00:00:00.000000000",
          "1976-11-20T00:00:00.000000000",
          "1976-08-05T00:00:00.000000000",
          "1977-03-01T00:00:00.000000000",
          "1977-03-29T00:00:00.000000000",
          "1977-09-30T00:00:00.000000000",
          "1977-02-12T00:00:00.000000000",
          "1976-12-07T00:00:00.000000000",
          "1977-04-13T00:00:00.000000000",
          "1976-08-04T00:00:00.000000000",
          "1977-06-15T00:00:00.000000000",
          "1976-08-19T00:00:00.000000000",
          "1976-05-18T00:00:00.000000000",
          "1976-04-17T00:00:00.000000000",
          "1976-08-19T00:00:00.000000000",
          "1976-04-23T00:00:00.000000000",
          "1977-06-01T00:00:00.000000000",
          "1977-05-16T00:00:00.000000000",
          "1978-03-29T00:00:00.000000000",
          "1977-12-22T00:00:00.000000000",
          "1976-11-20T00:00:00.000000000",
          "1977-04-17T00:00:00.000000000",
          "1977-04-28T00:00:00.000000000",
          "1977-03-23T00:00:00.000000000",
          "1977-02-22T00:00:00.000000000",
          "1977-12-06T00:00:00.000000000",
          "1977-01-03T00:00:00.000000000",
          "1976-03-30T00:00:00.000000000",
          "1976-05-26T00:00:00.000000000",
          "1976-07-29T00:00:00.000000000",
          "1976-11-11T00:00:00.000000000",
          "1976-08-16T00:00:00.000000000",
          "1977-08-04T00:00:00.000000000",
          "1977-08-15T00:00:00.000000000",
          "1976-10-19T00:00:00.000000000",
          "1976-05-28T00:00:00.000000000",
          "1976-10-11T00:00:00.000000000",
          "1977-02-28T00:00:00.000000000",
          "1976-11-11T00:00:00.000000000",
          "1977-02-04T00:00:00.000000000",
          "1977-03-10T00:00:00.000000000",
          "1976-11-01T00:00:00.000000000",
          "1977-10-01T00:00:00.000000000",
          "1977-02-03T00:00:00.000000000",
          "1978-06-30T00:00:00.000000000",
          "1977-12-23T00:00:00.000000000",
          "1976-10-19T00:00:00.000000000",
          "1976-06-25T00:00:00.000000000",
          "1977-08-15T00:00:00.000000000",
          "1977-02-07T00:00:00.000000000",
          "1976-05-04T00:00:00.000000000",
          "1977-07-13T00:00:00.000000000",
          "1978-04-07T00:00:00.000000000",
          "1976-06-20T00:00:00.000000000",
          "1977-01-12T00:00:00.000000000",
          "1977-05-05T00:00:00.000000000",
          "1976-04-30T00:00:00.000000000",
          "1976-06-25T00:00:00.000000000",
          "1977-06-30T00:00:00.000000000",
          "1976-04-04T00:00:00.000000000",
          "1976-12-21T00:00:00.000000000",
          "1976-06-25T00:00:00.000000000",
          "1977-11-15T00:00:00.000000000",
          "1977-12-09T00:00:00.000000000",
          "1976-05-27T00:00:00.000000000",
          "1981-04-22T00:00:00.000000000",
          "1977-01-15T00:00:00.000000000",
          "1976-12-21T00:00:00.000000000",
          "1977-04-29T00:00:00.000000000",
          "1976-08-19T00:00:00.000000000",
          "1977-06-30T00:00:00.000000000",
          "1976-05-07T00:00:00.000000000",
          "1977-12-23T00:00:00.000000000",
          "1976-12-22T00:00:00.000000000",
          "1977-05-21T00:00:00.000000000",
          "1978-04-11T00:00:00.000000000",
          "1977-05-08T00:00:00.000000000",
          "1978-06-01T00:00:00.000000000",
          "1977-09-15T00:00:00.000000000",
          "1977-01-12T00:00:00.000000000",
          "1977-08-31T00:00:00.000000000",
          "1977-06-03T00:00:00.000000000",
          "1977-01-04T00:00:00.000000000",
          "1979-06-01T00:00:00.000000000",
          "1978-06-29T00:00:00.000000000",
          "1976-06-03T00:00:00.000000000",
          "1976-07-27T00:00:00.000000000",
          "1977-01-21T00:00:00.000000000",
          "1978-08-14T00:00:00.000000000",
          "1977-09-10T00:00:00.000000000",
          "1976-09-03T00:00:00.000000000",
          "1977-11-23T00:00:00.000000000",
          "1976-11-25T00:00:00.000000000",
          "1976-11-25T00:00:00.000000000",
          "1977-12-06T00:00:00.000000000",
          "1977-01-04T00:00:00.000000000",
          "1977-04-22T00:00:00.000000000",
          "1976-06-10T00:00:00.000000000",
          "1976-11-22T00:00:00.000000000",
          "1976-10-11T00:00:00.000000000",
          "1976-08-26T00:00:00.000000000",
          "1977-06-24T00:00:00.000000000",
          "1978-05-16T00:00:00.000000000",
          "1977-05-16T00:00:00.000000000",
          "1977-06-22T00:00:00.000000000",
          "1976-09-19T00:00:00.000000000",
          "1976-08-09T00:00:00.000000000",
          "1976-11-16T00:00:00.000000000",
          "1976-11-15T00:00:00.000000000",
          "1976-11-02T00:00:00.000000000",
          "1977-07-07T00:00:00.000000000",
          "1976-08-19T00:00:00.000000000",
          "1977-04-01T00:00:00.000000000",
          "1977-07-06T00:00:00.000000000",
          "1977-04-15T00:00:00.000000000",
          "1976-12-01T00:00:00.000000000",
          "1977-02-03T00:00:00.000000000",
          "1976-07-27T00:00:00.000000000",
          "1976-11-01T00:00:00.000000000",
          "1976-11-09T00:00:00.000000000",
          "1977-03-01T00:00:00.000000000",
          "1978-03-30T00:00:00.000000000",
          "1976-06-14T00:00:00.000000000",
          "1976-05-10T00:00:00.000000000",
          "1976-05-13T00:00:00.000000000",
          "1977-06-19T00:00:00.000000000",
          "1977-01-12T00:00:00.000000000",
          "1977-09-20T00:00:00.000000000",
          "1977-05-20T00:00:00.000000000",
          "1977-04-07T00:00:00.000000000",
          "1976-04-26T00:00:00.000000000",
          "1977-04-24T00:00:00.000000000",
          "1976-12-19T00:00:00.000000000",
          "1978-10-02T00:00:00.000000000",
          "1976-11-18T00:00:00.000000000",
          "1976-06-10T00:00:00.000000000",
          "1976-09-06T00:00:00.000000000",
          "1976-10-18T00:00:00.000000000",
          "1976-06-05T00:00:00.000000000",
          "1977-07-04T00:00:00.000000000",
          "1976-11-09T00:00:00.000000000",
          "1977-02-01T00:00:00.000000000",
          "1976-04-20T00:00:00.000000000",
          "1978-04-17T00:00:00.000000000",
          "1978-01-26T00:00:00.000000000",
          "1977-09-09T00:00:00.000000000",
          "1978-01-26T00:00:00.000000000",
          "1977-11-18T00:00:00.000000000",
          "1976-06-14T00:00:00.000000000",
          "1976-07-21T00:00:00.000000000",
          "1977-07-04T00:00:00.000000000",
          "1976-12-07T00:00:00.000000000",
          "1976-06-16T00:00:00.000000000",
          "1976-09-30T00:00:00.000000000",
          "1977-02-01T00:00:00.000000000",
          "1976-11-04T00:00:00.000000000",
          "1977-08-19T00:00:00.000000000",
          "1976-05-11T00:00:00.000000000",
          "1977-04-25T00:00:00.000000000",
          "1976-11-26T00:00:00.000000000",
          "1977-09-06T00:00:00.000000000",
          "1977-10-12T00:00:00.000000000",
          "1978-02-12T00:00:00.000000000",
          "1977-02-26T00:00:00.000000000",
          "1977-06-03T00:00:00.000000000",
          "1979-08-14T00:00:00.000000000",
          "1976-11-20T00:00:00.000000000",
          "1977-03-18T00:00:00.000000000",
          "1976-08-16T00:00:00.000000000",
          "1977-04-28T00:00:00.000000000",
          "1977-11-01T00:00:00.000000000",
          "1976-07-27T00:00:00.000000000",
          "1976-04-17T00:00:00.000000000",
          "1976-07-31T00:00:00.000000000",
          "1976-04-05T00:00:00.000000000",
          "1978-06-27T00:00:00.000000000",
          "1976-06-18T00:00:00.000000000",
          "1976-10-14T00:00:00.000000000",
          "1977-10-07T00:00:00.000000000",
          "1977-05-15T00:00:00.000000000",
          "1978-06-27T00:00:00.000000000",
          "1977-09-29T00:00:00.000000000",
          "1976-09-20T00:00:00.000000000",
          "1976-04-05T00:00:00.000000000",
          "1976-12-07T00:00:00.000000000",
          "1978-02-01T00:00:00.000000000",
          "1977-06-17T00:00:00.000000000",
          "1976-11-30T00:00:00.000000000",
          "1977-02-11T00:00:00.000000000",
          "1977-05-25T00:00:00.000000000",
          "1976-09-16T00:00:00.000000000",
          "1978-03-16T00:00:00.000000000",
          "1976-08-20T00:00:00.000000000",
          "1976-11-17T00:00:00.000000000",
          "1976-11-22T00:00:00.000000000",
          "1976-08-04T00:00:00.000000000",
          "1977-02-15T00:00:00.000000000",
          "1977-06-01T00:00:00.000000000",
          "1976-10-20T00:00:00.000000000",
          "1978-03-06T00:00:00.000000000",
          "1977-09-07T00:00:00.000000000",
          "1977-09-07T00:00:00.000000000",
          "1976-08-17T00:00:00.000000000",
          "1979-01-07T00:00:00.000000000",
          "1977-04-20T00:00:00.000000000",
          "1977-05-17T00:00:00.000000000",
          "1977-05-17T00:00:00.000000000",
          "1977-10-27T00:00:00.000000000",
          "1977-09-11T00:00:00.000000000",
          "1977-01-19T00:00:00.000000000",
          "1976-12-03T00:00:00.000000000",
          "1976-08-11T00:00:00.000000000",
          "1976-08-03T00:00:00.000000000",
          "1976-06-15T00:00:00.000000000",
          "1977-07-31T00:00:00.000000000",
          "1978-12-01T00:00:00.000000000",
          "1976-12-01T00:00:00.000000000",
          "1976-09-01T00:00:00.000000000",
          "1977-05-01T00:00:00.000000000",
          "1977-05-11T00:00:00.000000000",
          "1976-04-14T00:00:00.000000000",
          "1976-10-09T00:00:00.000000000",
          "1977-07-17T00:00:00.000000000",
          "1977-08-16T00:00:00.000000000",
          "1976-07-21T00:00:00.000000000",
          "1977-08-31T00:00:00.000000000",
          "1976-09-21T00:00:00.000000000",
          "1976-09-21T00:00:00.000000000",
          "1976-11-12T00:00:00.000000000",
          "1976-10-27T00:00:00.000000000",
          "1976-09-22T00:00:00.000000000",
          "1977-09-01T00:00:00.000000000",
          "1976-07-02T00:00:00.000000000",
          "1976-07-02T00:00:00.000000000",
          "1977-12-01T00:00:00.000000000",
          "1976-08-20T00:00:00.000000000",
          "1977-01-02T00:00:00.000000000",
          "1978-12-11T00:00:00.000000000",
          "1976-04-09T00:00:00.000000000",
          "1976-11-19T00:00:00.000000000",
          "1976-11-07T00:00:00.000000000",
          "1977-08-26T00:00:00.000000000",
          "1977-05-20T00:00:00.000000000",
          "1977-05-20T00:00:00.000000000",
          "1976-07-26T00:00:00.000000000",
          "1976-09-09T00:00:00.000000000",
          "1977-04-26T00:00:00.000000000",
          "1976-10-13T00:00:00.000000000",
          "1976-07-29T00:00:00.000000000",
          "1978-02-23T00:00:00.000000000",
          "1976-04-27T00:00:00.000000000",
          "1976-05-15T00:00:00.000000000",
          "1978-10-24T00:00:00.000000000",
          "1977-05-22T00:00:00.000000000",
          "1976-11-01T00:00:00.000000000",
          "1976-06-01T00:00:00.000000000",
          "1976-05-17T00:00:00.000000000",
          "1978-03-15T00:00:00.000000000",
          "1977-02-19T00:00:00.000000000",
          "1978-06-01T00:00:00.000000000",
          "1976-09-29T00:00:00.000000000",
          "1976-11-22T00:00:00.000000000",
          "1976-11-20T00:00:00.000000000",
          "1978-01-09T00:00:00.000000000",
          "1977-01-25T00:00:00.000000000",
          "1977-03-16T00:00:00.000000000",
          "1976-07-07T00:00:00.000000000",
          "1976-06-19T00:00:00.000000000",
          "1976-05-04T00:00:00.000000000",
          "1978-04-29T00:00:00.000000000",
          "1976-04-29T00:00:00.000000000",
          "1977-06-13T00:00:00.000000000",
          "1976-12-06T00:00:00.000000000",
          "1976-09-02T00:00:00.000000000",
          "1977-07-21T00:00:00.000000000",
          "1977-10-01T00:00:00.000000000",
          "1977-05-18T00:00:00.000000000",
          "1977-05-19T00:00:00.000000000",
          "1976-08-24T00:00:00.000000000",
          "1977-06-24T00:00:00.000000000",
          "1978-05-19T00:00:00.000000000",
          "1977-12-21T00:00:00.000000000",
          "1977-12-06T00:00:00.000000000",
          "1977-05-23T00:00:00.000000000",
          "1976-10-30T00:00:00.000000000",
          "1977-04-21T00:00:00.000000000",
          "1977-02-05T00:00:00.000000000",
          "1977-02-08T00:00:00.000000000",
          "1976-09-24T00:00:00.000000000",
          "1977-08-01T00:00:00.000000000",
          "1977-02-08T00:00:00.000000000",
          "1977-11-09T00:00:00.000000000",
          "1976-07-27T00:00:00.000000000",
          "1977-06-10T00:00:00.000000000",
          "1976-07-10T00:00:00.000000000",
          "1977-06-08T00:00:00.000000000",
          "1977-09-26T00:00:00.000000000",
          "1976-09-27T00:00:00.000000000",
          "1976-09-05T00:00:00.000000000",
          "1978-03-03T00:00:00.000000000",
          "1977-02-19T00:00:00.000000000",
          "1976-12-16T00:00:00.000000000",
          "1977-03-02T00:00:00.000000000",
          "1976-11-19T00:00:00.000000000",
          "1976-06-01T00:00:00.000000000",
          "1976-09-11T00:00:00.000000000",
          "1977-02-01T00:00:00.000000000",
          "1976-06-21T00:00:00.000000000",
          "1976-05-18T00:00:00.000000000",
          "1977-05-01T00:00:00.000000000",
          "1976-11-18T00:00:00.000000000",
          "1977-03-22T00:00:00.000000000",
          "1977-05-01T00:00:00.000000000",
          "1976-06-08T00:00:00.000000000",
          "1978-02-21T00:00:00.000000000",
          "1977-08-18T00:00:00.000000000",
          "1977-09-07T00:00:00.000000000",
          "1977-09-13T00:00:00.000000000",
          "1977-01-27T00:00:00.000000000",
          "1977-07-18T00:00:00.000000000",
          "1976-10-22T00:00:00.000000000",
          "1976-05-24T00:00:00.000000000",
          "1977-08-10T00:00:00.000000000",
          "1977-06-02T00:00:00.000000000",
          "1978-02-25T00:00:00.000000000",
          "1978-05-20T00:00:00.000000000",
          "1977-01-28T00:00:00.000000000",
          "1977-08-29T00:00:00.000000000",
          "1976-09-16T00:00:00.000000000",
          "1977-01-21T00:00:00.000000000",
          "1976-11-22T00:00:00.000000000",
          "1977-08-10T00:00:00.000000000",
          "1977-09-01T00:00:00.000000000",
          "1977-02-11T00:00:00.000000000",
          "1976-06-01T00:00:00.000000000",
          "1976-11-19T00:00:00.000000000",
          "1977-09-08T00:00:00.000000000",
          "1976-10-15T00:00:00.000000000",
          "1977-03-23T00:00:00.000000000",
          "1977-04-21T00:00:00.000000000",
          "1977-06-15T00:00:00.000000000",
          "1977-04-15T00:00:00.000000000",
          "1978-03-11T00:00:00.000000000",
          "1976-07-22T00:00:00.000000000",
          "1977-06-09T00:00:00.000000000",
          "1976-10-29T00:00:00.000000000",
          "1976-12-15T00:00:00.000000000",
          "1976-09-23T00:00:00.000000000",
          "1979-08-01T00:00:00.000000000",
          "1976-08-13T00:00:00.000000000",
          "1976-06-02T00:00:00.000000000",
          "1977-04-26T00:00:00.000000000",
          "1976-06-29T00:00:00.000000000",
          "1976-10-13T00:00:00.000000000",
          "1976-11-09T00:00:00.000000000",
          "1976-11-09T00:00:00.000000000",
          "1978-05-22T00:00:00.000000000",
          "1976-08-27T00:00:00.000000000",
          "1976-06-18T00:00:00.000000000",
          "1976-06-22T00:00:00.000000000",
          "1977-04-21T00:00:00.000000000",
          "1977-01-25T00:00:00.000000000",
          "1976-08-05T00:00:00.000000000",
          "1976-10-15T00:00:00.000000000",
          "1977-09-01T00:00:00.000000000",
          "1976-11-24T00:00:00.000000000",
          "1976-06-30T00:00:00.000000000",
          "1976-09-28T00:00:00.000000000",
          "1976-07-15T00:00:00.000000000",
          "1976-03-28T00:00:00.000000000",
          "1977-11-18T00:00:00.000000000",
          "1977-11-14T00:00:00.000000000",
          "1977-12-06T00:00:00.000000000",
          "1978-02-25T00:00:00.000000000",
          "1978-10-12T00:00:00.000000000",
          "1977-01-17T00:00:00.000000000",
          "1978-08-15T00:00:00.000000000",
          "1978-10-21T00:00:00.000000000",
          "1977-06-28T00:00:00.000000000",
          "1979-09-14T00:00:00.000000000",
          "1976-10-27T00:00:00.000000000",
          "1977-09-10T00:00:00.000000000",
          "1977-12-06T00:00:00.000000000",
          "1978-09-13T00:00:00.000000000",
          "1976-08-26T00:00:00.000000000",
          "1976-06-11T00:00:00.000000000",
          "1977-06-01T00:00:00.000000000",
          "1976-07-20T00:00:00.000000000",
          "1976-06-16T00:00:00.000000000",
          "1977-04-14T00:00:00.000000000",
          "1977-04-21T00:00:00.000000000",
          "1976-08-25T00:00:00.000000000",
          "1976-11-01T00:00:00.000000000",
          "1976-06-25T00:00:00.000000000",
          "1976-08-13T00:00:00.000000000",
          "1977-04-23T00:00:00.000000000",
          "1977-01-25T00:00:00.000000000",
          "1977-01-25T00:00:00.000000000",
          "1976-04-07T00:00:00.000000000",
          "1976-11-01T00:00:00.000000000",
          "1976-12-10T00:00:00.000000000",
          "1976-09-13T00:00:00.000000000",
          "1976-12-13T00:00:00.000000000",
          "1977-10-10T00:00:00.000000000",
          "1976-06-22T00:00:00.000000000",
          "1976-09-22T00:00:00.000000000",
          "1976-05-13T00:00:00.000000000",
          "1976-04-06T00:00:00.000000000",
          "1976-05-12T00:00:00.000000000",
          "1976-05-12T00:00:00.000000000",
          "1978-05-31T00:00:00.000000000",
          "1977-03-07T00:00:00.000000000",
          "1976-06-04T00:00:00.000000000",
          "1976-08-12T00:00:00.000000000",
          "1977-08-25T00:00:00.000000000",
          "1976-07-21T00:00:00.000000000",
          "1976-10-14T00:00:00.000000000",
          "1977-11-17T00:00:00.000000000",
          "1977-10-22T00:00:00.000000000",
          "1976-07-03T00:00:00.000000000",
          "1976-09-30T00:00:00.000000000",
          "1978-07-22T00:00:00.000000000",
          "1976-10-28T00:00:00.000000000",
          "1977-05-17T00:00:00.000000000",
          "1977-07-21T00:00:00.000000000",
          "1977-06-25T00:00:00.000000000",
          "1976-06-12T00:00:00.000000000",
          "1976-07-24T00:00:00.000000000",
          "1977-04-22T00:00:00.000000000",
          "1977-12-06T00:00:00.000000000",
          "1977-01-28T00:00:00.000000000",
          "1977-02-12T00:00:00.000000000",
          "1976-07-13T00:00:00.000000000",
          "1976-11-20T00:00:00.000000000",
          "1980-05-01T00:00:00.000000000",
          "1976-08-10T00:00:00.000000000",
          "1976-08-10T00:00:00.000000000",
          "1978-02-26T00:00:00.000000000",
          "1976-05-11T00:00:00.000000000",
          "1977-09-07T00:00:00.000000000",
          "1976-09-11T00:00:00.000000000",
          "1976-03-26T00:00:00.000000000",
          "1976-07-04T00:00:00.000000000",
          "1977-07-31T00:00:00.000000000",
          "1976-10-18T00:00:00.000000000",
          "1976-11-13T00:00:00.000000000",
          "1976-11-13T00:00:00.000000000",
          "1977-02-08T00:00:00.000000000",
          "1977-07-15T00:00:00.000000000",
          "1977-07-15T00:00:00.000000000",
          "1977-09-12T00:00:00.000000000",
          "1976-11-03T00:00:00.000000000",
          "1977-10-21T00:00:00.000000000",
          "1978-02-25T00:00:00.000000000",
          "1976-09-15T00:00:00.000000000",
          "1978-07-11T00:00:00.000000000",
          "1977-11-28T00:00:00.000000000",
          "1977-01-13T00:00:00.000000000",
          "1976-10-03T00:00:00.000000000",
          "1978-07-20T00:00:00.000000000",
          "1977-07-28T00:00:00.000000000",
          "1976-08-12T00:00:00.000000000",
          "1978-03-17T00:00:00.000000000",
          "1976-09-14T00:00:00.000000000",
          "1977-05-16T00:00:00.000000000",
          "1977-06-14T00:00:00.000000000",
          "1977-08-25T00:00:00.000000000",
          "1976-11-19T00:00:00.000000000",
          "1976-05-04T00:00:00.000000000",
          "1977-02-23T00:00:00.000000000",
          "1976-09-02T00:00:00.000000000",
          "1976-05-11T00:00:00.000000000",
          "1977-10-27T00:00:00.000000000",
          "1977-08-31T00:00:00.000000000",
          "1976-05-30T00:00:00.000000000",
          "1977-11-01T00:00:00.000000000",
          "1976-09-18T00:00:00.000000000",
          "1976-07-27T00:00:00.000000000",
          "1978-04-15T00:00:00.000000000",
          "1977-03-01T00:00:00.000000000",
          "1978-02-16T00:00:00.000000000",
          "1976-10-23T00:00:00.000000000",
          "1980-06-17T00:00:00.000000000",
          "1977-07-28T00:00:00.000000000",
          "1978-08-25T00:00:00.000000000",
          "1976-11-05T00:00:00.000000000",
          "1976-06-03T00:00:00.000000000",
          "1976-12-01T00:00:00.000000000",
          "1976-08-06T00:00:00.000000000",
          "1977-05-11T00:00:00.000000000",
          "1976-08-22T00:00:00.000000000",
          "1976-10-26T00:00:00.000000000",
          "1978-06-20T00:00:00.000000000",
          "1977-06-29T00:00:00.000000000",
          "1977-12-20T00:00:00.000000000",
          "1976-12-28T00:00:00.000000000",
          "1976-08-29T00:00:00.000000000",
          "1976-09-05T00:00:00.000000000",
          "1977-06-17T00:00:00.000000000",
          "1976-09-27T00:00:00.000000000",
          "1976-11-30T00:00:00.000000000",
          "1980-06-20T00:00:00.000000000",
          "1976-09-14T00:00:00.000000000",
          "1977-04-29T00:00:00.000000000",
          "1977-03-04T00:00:00.000000000",
          "1976-09-09T00:00:00.000000000",
          "1977-08-10T00:00:00.000000000",
          "1976-05-22T00:00:00.000000000",
          "1978-03-20T00:00:00.000000000",
          "1976-09-23T00:00:00.000000000",
          "1976-10-08T00:00:00.000000000",
          "1977-03-30T00:00:00.000000000",
          "1977-11-16T00:00:00.000000000",
          "1977-09-01T00:00:00.000000000",
          "1976-04-15T00:00:00.000000000",
          "1977-08-12T00:00:00.000000000",
          "1976-07-15T00:00:00.000000000",
          "1976-03-29T00:00:00.000000000",
          "1976-09-22T00:00:00.000000000",
          "1976-12-08T00:00:00.000000000",
          "1981-09-01T00:00:00.000000000",
          "1977-12-28T00:00:00.000000000",
          "1976-09-08T00:00:00.000000000",
          "1976-07-29T00:00:00.000000000",
          "1976-08-11T00:00:00.000000000",
          "1976-05-12T00:00:00.000000000",
          "1977-07-07T00:00:00.000000000",
          "1977-07-05T00:00:00.000000000",
          "1977-01-10T00:00:00.000000000",
          "1977-01-17T00:00:00.000000000",
          "1976-06-29T00:00:00.000000000",
          "1976-07-19T00:00:00.000000000",
          "1977-08-22T00:00:00.000000000",
          "1976-12-01T00:00:00.000000000",
          "1977-02-10T00:00:00.000000000",
          "1976-10-14T00:00:00.000000000",
          "1977-09-05T00:00:00.000000000",
          "1978-06-04T00:00:00.000000000",
          "1977-11-27T00:00:00.000000000",
          "1976-07-22T00:00:00.000000000",
          "1977-07-27T00:00:00.000000000",
          "1977-04-12T00:00:00.000000000",
          "1977-09-01T00:00:00.000000000",
          "1979-12-06T00:00:00.000000000",
          "1977-12-22T00:00:00.000000000",
          "1976-07-03T00:00:00.000000000",
          "1977-04-12T00:00:00.000000000",
          "1977-04-12T00:00:00.000000000",
          "1976-11-01T00:00:00.000000000",
          "1978-03-20T00:00:00.000000000",
          "1976-10-17T00:00:00.000000000",
          "1977-07-01T00:00:00.000000000",
          "1976-11-05T00:00:00.000000000",
          "1976-12-11T00:00:00.000000000",
          "1976-06-24T00:00:00.000000000",
          "1978-05-09T00:00:00.000000000",
          "1977-02-08T00:00:00.000000000",
          "1976-08-05T00:00:00.000000000",
          "1976-10-22T00:00:00.000000000",
          "1977-09-26T00:00:00.000000000",
          "1977-03-27T00:00:00.000000000",
          "1977-07-27T00:00:00.000000000",
          "1977-05-05T00:00:00.000000000",
          "1976-12-01T00:00:00.000000000",
          "1976-10-21T00:00:00.000000000",
          "1977-12-06T00:00:00.000000000",
          "1977-12-28T00:00:00.000000000",
          "1977-12-29T00:00:00.000000000",
          "1978-11-28T00:00:00.000000000",
          "1976-07-12T00:00:00.000000000",
          "1977-01-30T00:00:00.000000000",
          "1977-03-21T00:00:00.000000000",
          "1976-08-10T00:00:00.000000000",
          "1976-11-02T00:00:00.000000000",
          "1977-09-13T00:00:00.000000000",
          "1978-05-12T00:00:00.000000000",
          "1978-07-05T00:00:00.000000000",
          "1976-06-18T00:00:00.000000000",
          "1976-06-16T00:00:00.000000000",
          "1977-02-22T00:00:00.000000000",
          "1976-09-24T00:00:00.000000000",
          "1976-07-21T00:00:00.000000000",
          "1976-10-25T00:00:00.000000000",
          "1977-02-23T00:00:00.000000000",
          "1976-11-06T00:00:00.000000000",
          "1977-12-24T00:00:00.000000000",
          "1977-04-06T00:00:00.000000000",
          "1977-08-30T00:00:00.000000000",
          "1977-11-23T00:00:00.000000000",
          "1977-05-01T00:00:00.000000000",
          "1976-12-29T00:00:00.000000000",
          "1976-04-24T00:00:00.000000000",
          "1977-08-04T00:00:00.000000000",
          "1976-06-04T00:00:00.000000000",
          "1977-03-22T00:00:00.000000000",
          "1977-06-08T00:00:00.000000000",
          "1977-02-14T00:00:00.000000000",
          "1976-11-11T00:00:00.000000000",
          "1976-11-30T00:00:00.000000000",
          "1976-07-16T00:00:00.000000000",
          "1976-06-29T00:00:00.000000000",
          "1976-08-03T00:00:00.000000000",
          "1976-05-15T00:00:00.000000000",
          "1977-08-31T00:00:00.000000000",
          "1976-08-20T00:00:00.000000000",
          "1978-03-11T00:00:00.000000000",
          "1977-03-10T00:00:00.000000000",
          "1978-05-23T00:00:00.000000000",
          "1977-01-04T00:00:00.000000000",
          "1976-10-09T00:00:00.000000000",
          "1976-10-09T00:00:00.000000000",
          "1976-10-09T00:00:00.000000000",
          "1978-03-08T00:00:00.000000000",
          "1976-12-07T00:00:00.000000000",
          "1978-06-05T00:00:00.000000000",
          "1976-10-11T00:00:00.000000000",
          "1976-04-28T00:00:00.000000000",
          "1978-05-25T00:00:00.000000000",
          "1976-07-01T00:00:00.000000000",
          "1978-10-20T00:00:00.000000000",
          "1977-03-19T00:00:00.000000000",
          "1976-06-08T00:00:00.000000000",
          "1976-08-13T00:00:00.000000000",
          "1980-01-01T00:00:00.000000000",
          "1977-01-24T00:00:00.000000000",
          "1976-05-27T00:00:00.000000000",
          "1976-09-04T00:00:00.000000000",
          "1976-06-08T00:00:00.000000000",
          "1976-05-20T00:00:00.000000000",
          "1976-06-27T00:00:00.000000000",
          "1977-10-11T00:00:00.000000000",
          "1976-05-27T00:00:00.000000000",
          "1976-07-23T00:00:00.000000000",
          "1976-12-13T00:00:00.000000000",
          "1976-12-13T00:00:00.000000000",
          "1976-09-08T00:00:00.000000000",
          "1976-12-19T00:00:00.000000000",
          "1977-02-17T00:00:00.000000000",
          "1976-09-17T00:00:00.000000000",
          "1977-04-06T00:00:00.000000000",
          "1976-08-16T00:00:00.000000000",
          "1976-08-12T00:00:00.000000000",
          "1976-11-30T00:00:00.000000000",
          "1976-09-08T00:00:00.000000000",
          "1977-02-07T00:00:00.000000000",
          "1976-12-24T00:00:00.000000000",
          "1976-09-15T00:00:00.000000000",
          "1979-10-01T00:00:00.000000000",
          "1977-05-01T00:00:00.000000000",
          "1978-02-02T00:00:00.000000000",
          "1976-08-15T00:00:00.000000000",
          "1978-07-21T00:00:00.000000000",
          "1976-08-09T00:00:00.000000000",
          "1976-09-30T00:00:00.000000000",
          "1977-03-28T00:00:00.000000000",
          "1976-06-03T00:00:00.000000000",
          "1978-04-14T00:00:00.000000000",
          "1976-12-23T00:00:00.000000000",
          "1977-03-08T00:00:00.000000000",
          "1977-04-26T00:00:00.000000000",
          "1977-05-15T00:00:00.000000000",
          "1980-05-02T00:00:00.000000000",
          "1977-01-20T00:00:00.000000000",
          "1976-12-07T00:00:00.000000000",
          "1977-01-01T00:00:00.000000000",
          "1977-06-09T00:00:00.000000000",
          "1977-12-22T00:00:00.000000000",
          "1977-01-20T00:00:00.000000000",
          "1978-05-25T00:00:00.000000000",
          "1976-04-04T00:00:00.000000000",
          "1977-06-17T00:00:00.000000000",
          "1979-03-10T00:00:00.000000000",
          "1976-10-06T00:00:00.000000000",
          "1978-03-16T00:00:00.000000000",
          "1977-07-01T00:00:00.000000000",
          "1977-09-05T00:00:00.000000000",
          "1977-12-27T00:00:00.000000000",
          "1980-02-07T00:00:00.000000000",
          "1976-10-05T00:00:00.000000000",
          "1977-01-14T00:00:00.000000000",
          "1976-06-18T00:00:00.000000000",
          "1976-04-25T00:00:00.000000000",
          "1978-05-17T00:00:00.000000000",
          "1976-09-20T00:00:00.000000000",
          "1977-04-13T00:00:00.000000000",
          "1977-09-13T00:00:00.000000000",
          "1976-09-15T00:00:00.000000000",
          "1976-06-23T00:00:00.000000000",
          "1977-01-31T00:00:00.000000000",
          "1976-08-07T00:00:00.000000000",
          "1977-07-22T00:00:00.000000000",
          "1977-02-04T00:00:00.000000000",
          "1978-02-03T00:00:00.000000000",
          "1977-06-04T00:00:00.000000000",
          "1976-04-07T00:00:00.000000000",
          "1977-12-09T00:00:00.000000000",
          "1976-07-01T00:00:00.000000000",
          "1976-11-25T00:00:00.000000000",
          "1977-12-08T00:00:00.000000000",
          "1978-12-06T00:00:00.000000000",
          "1977-04-01T00:00:00.000000000",
          "1976-04-29T00:00:00.000000000",
          "1977-07-17T00:00:00.000000000",
          "1976-10-17T00:00:00.000000000",
          "1977-02-19T00:00:00.000000000",
          "1977-07-18T00:00:00.000000000",
          "1978-05-10T00:00:00.000000000",
          "1977-01-20T00:00:00.000000000",
          "1976-08-20T00:00:00.000000000",
          "1976-06-25T00:00:00.000000000",
          "1977-06-24T00:00:00.000000000",
          "1977-06-02T00:00:00.000000000",
          "1977-12-21T00:00:00.000000000",
          "1977-05-12T00:00:00.000000000",
          "1976-08-21T00:00:00.000000000",
          "1976-07-06T00:00:00.000000000",
          "1976-10-15T00:00:00.000000000",
          "1976-04-21T00:00:00.000000000",
          "1976-12-13T00:00:00.000000000",
          "1977-01-07T00:00:00.000000000",
          "1976-05-01T00:00:00.000000000",
          "1976-07-13T00:00:00.000000000",
          "1977-09-09T00:00:00.000000000",
          "1978-02-07T00:00:00.000000000",
          "1977-04-01T00:00:00.000000000",
          "1979-04-02T00:00:00.000000000",
          "1976-07-07T00:00:00.000000000",
          "1977-08-09T00:00:00.000000000",
          "1976-04-14T00:00:00.000000000",
          "1976-04-04T00:00:00.000000000",
          "1977-12-21T00:00:00.000000000",
          "1978-12-07T00:00:00.000000000",
          "1976-05-29T00:00:00.000000000",
          "1977-04-22T00:00:00.000000000",
          "1977-12-10T00:00:00.000000000",
          "1976-09-30T00:00:00.000000000",
          "1977-08-30T00:00:00.000000000",
          "1976-05-07T00:00:00.000000000",
          "1976-08-14T00:00:00.000000000",
          "1977-01-13T00:00:00.000000000",
          "1977-08-01T00:00:00.000000000",
          "1977-08-08T00:00:00.000000000",
          "1976-09-17T00:00:00.000000000",
          "1977-11-12T00:00:00.000000000",
          "1978-05-18T00:00:00.000000000",
          "1976-03-28T00:00:00.000000000",
          "1976-06-16T00:00:00.000000000",
          "1976-05-04T00:00:00.000000000",
          "1977-07-01T00:00:00.000000000",
          "1976-07-15T00:00:00.000000000",
          "1977-05-07T00:00:00.000000000",
          "1977-05-12T00:00:00.000000000",
          "1977-10-24T00:00:00.000000000",
          "1977-01-26T00:00:00.000000000",
          "1976-10-14T00:00:00.000000000",
          "1977-05-19T00:00:00.000000000",
          "1977-01-15T00:00:00.000000000",
          "1976-07-02T00:00:00.000000000",
          "1977-12-03T00:00:00.000000000",
          "1977-12-08T00:00:00.000000000",
          "1977-07-20T00:00:00.000000000",
          "1976-03-29T00:00:00.000000000",
          "1977-05-19T00:00:00.000000000",
          "1977-06-21T00:00:00.000000000",
          "1976-07-27T00:00:00.000000000",
          "1977-09-06T00:00:00.000000000",
          "1976-09-23T00:00:00.000000000",
          "1976-06-13T00:00:00.000000000",
          "1976-04-12T00:00:00.000000000",
          "1976-06-13T00:00:00.000000000",
          "1976-12-31T00:00:00.000000000",
          "1976-07-08T00:00:00.000000000",
          "1977-01-25T00:00:00.000000000",
          "1977-01-25T00:00:00.000000000",
          "1977-03-01T00:00:00.000000000",
          "1977-05-15T00:00:00.000000000",
          "1976-05-10T00:00:00.000000000",
          "1976-12-09T00:00:00.000000000",
          "1978-04-02T00:00:00.000000000",
          "1978-04-02T00:00:00.000000000",
          "1977-10-26T00:00:00.000000000",
          "1976-11-04T00:00:00.000000000",
          "1976-11-04T00:00:00.000000000",
          "1976-08-10T00:00:00.000000000",
          "1976-12-23T00:00:00.000000000",
          "1976-08-31T00:00:00.000000000",
          "1976-08-13T00:00:00.000000000",
          "1977-12-06T00:00:00.000000000",
          "1977-08-03T00:00:00.000000000",
          "1976-10-15T00:00:00.000000000",
          "1976-04-06T00:00:00.000000000",
          "1978-05-21T00:00:00.000000000",
          "1978-05-21T00:00:00.000000000",
          "1976-06-25T00:00:00.000000000",
          "1976-09-26T00:00:00.000000000",
          "1976-05-28T00:00:00.000000000",
          "1976-07-24T00:00:00.000000000",
          "1976-10-27T00:00:00.000000000",
          "1976-03-29T00:00:00.000000000",
          "1977-06-03T00:00:00.000000000",
          "1976-12-22T00:00:00.000000000",
          "1977-12-22T00:00:00.000000000",
          "1976-03-25T00:00:00.000000000",
          "1976-08-11T00:00:00.000000000",
          "1976-09-28T00:00:00.000000000",
          "1976-09-28T00:00:00.000000000",
          "1976-07-08T00:00:00.000000000",
          "1976-11-27T00:00:00.000000000",
          "1977-05-28T00:00:00.000000000",
          "1976-07-06T00:00:00.000000000",
          "1976-06-01T00:00:00.000000000",
          "1976-06-07T00:00:00.000000000",
          "1976-12-08T00:00:00.000000000",
          "1976-06-14T00:00:00.000000000",
          "1977-12-09T00:00:00.000000000",
          "1978-05-19T00:00:00.000000000",
          "1977-01-15T00:00:00.000000000",
          "1978-01-17T00:00:00.000000000",
          "1976-07-17T00:00:00.000000000",
          "1978-12-10T00:00:00.000000000",
          "1976-07-01T00:00:00.000000000",
          "1977-09-13T00:00:00.000000000",
          "1977-01-26T00:00:00.000000000",
          "1976-10-29T00:00:00.000000000",
          "1977-06-29T00:00:00.000000000",
          "1977-11-16T00:00:00.000000000",
          "1977-02-02T00:00:00.000000000",
          "1977-12-05T00:00:00.000000000",
          "1977-08-15T00:00:00.000000000",
          "1976-11-23T00:00:00.000000000",
          "1977-08-22T00:00:00.000000000",
          "1977-05-02T00:00:00.000000000",
          "1977-05-01T00:00:00.000000000",
          "1977-05-27T00:00:00.000000000",
          "1976-08-19T00:00:00.000000000",
          "1978-11-18T00:00:00.000000000",
          "1977-11-25T00:00:00.000000000",
          "1976-11-01T00:00:00.000000000",
          "1976-09-22T00:00:00.000000000",
          "1976-06-21T00:00:00.000000000",
          "1977-04-19T00:00:00.000000000",
          "1976-05-04T00:00:00.000000000",
          "1977-02-12T00:00:00.000000000",
          "1976-03-25T00:00:00.000000000",
          "1977-04-24T00:00:00.000000000",
          "1977-10-01T00:00:00.000000000",
          "1977-03-16T00:00:00.000000000",
          "1978-04-18T00:00:00.000000000",
          "1976-03-27T00:00:00.000000000",
          "1976-09-16T00:00:00.000000000",
          "1978-07-21T00:00:00.000000000",
          "1976-11-24T00:00:00.000000000",
          "1976-12-23T00:00:00.000000000",
          "1977-01-29T00:00:00.000000000",
          "1976-04-02T00:00:00.000000000",
          "1976-09-14T00:00:00.000000000",
          "1976-08-26T00:00:00.000000000",
          "1977-10-03T00:00:00.000000000",
          "1977-02-25T00:00:00.000000000",
          "1977-10-07T00:00:00.000000000",
          "1977-02-25T00:00:00.000000000",
          "1976-07-20T00:00:00.000000000",
          "1977-05-12T00:00:00.000000000",
          "1977-05-27T00:00:00.000000000",
          "1977-11-23T00:00:00.000000000",
          "1977-02-22T00:00:00.000000000",
          "1976-06-18T00:00:00.000000000",
          "1977-01-30T00:00:00.000000000",
          "1976-12-20T00:00:00.000000000",
          "1976-06-17T00:00:00.000000000",
          "1976-07-04T00:00:00.000000000",
          "1976-05-01T00:00:00.000000000",
          "1976-08-20T00:00:00.000000000",
          "1977-11-10T00:00:00.000000000",
          "1977-01-01T00:00:00.000000000",
          "1978-09-20T00:00:00.000000000",
          "1978-02-26T00:00:00.000000000",
          "1976-11-26T00:00:00.000000000",
          "1976-12-27T00:00:00.000000000",
          "1978-12-07T00:00:00.000000000",
          "1976-11-16T00:00:00.000000000",
          "1977-06-24T00:00:00.000000000",
          "1976-12-10T00:00:00.000000000",
          "1977-08-03T00:00:00.000000000",
          "1977-04-28T00:00:00.000000000",
          "1976-06-02T00:00:00.000000000",
          "1977-08-06T00:00:00.000000000",
          "1978-02-18T00:00:00.000000000",
          "1978-01-11T00:00:00.000000000",
          "1976-03-29T00:00:00.000000000",
          "1977-02-10T00:00:00.000000000",
          "1977-03-18T00:00:00.000000000",
          "1977-02-10T00:00:00.000000000",
          "1977-02-03T00:00:00.000000000",
          "1978-05-04T00:00:00.000000000",
          "1976-08-27T00:00:00.000000000",
          "1976-05-15T00:00:00.000000000",
          "1977-02-23T00:00:00.000000000",
          "1978-07-01T00:00:00.000000000",
          "1976-09-04T00:00:00.000000000",
          "1976-07-27T00:00:00.000000000",
          "1976-07-27T00:00:00.000000000",
          "1978-08-03T00:00:00.000000000",
          "1977-05-20T00:00:00.000000000",
          "1976-04-27T00:00:00.000000000",
          "1976-10-01T00:00:00.000000000",
          "1976-04-20T00:00:00.000000000",
          "1977-12-23T00:00:00.000000000",
          "1976-12-02T00:00:00.000000000",
          "1976-05-30T00:00:00.000000000",
          "1976-09-23T00:00:00.000000000",
          "1977-05-01T00:00:00.000000000",
          "1976-07-06T00:00:00.000000000",
          "1976-09-24T00:00:00.000000000",
          "1977-03-19T00:00:00.000000000",
          "1977-01-11T00:00:00.000000000",
          "1976-10-09T00:00:00.000000000",
          "1976-05-08T00:00:00.000000000",
          "1979-10-13T00:00:00.000000000",
          "1976-03-29T00:00:00.000000000",
          "1976-06-25T00:00:00.000000000",
          "1977-01-21T00:00:00.000000000",
          "1977-04-05T00:00:00.000000000",
          "1976-08-28T00:00:00.000000000",
          "1977-09-19T00:00:00.000000000",
          "1977-09-16T00:00:00.000000000",
          "1976-11-19T00:00:00.000000000",
          "1976-07-14T00:00:00.000000000",
          "1976-08-31T00:00:00.000000000",
          "1976-11-09T00:00:00.000000000",
          "1977-05-13T00:00:00.000000000",
          "1977-09-19T00:00:00.000000000",
          "1977-10-26T00:00:00.000000000",
          "1976-09-16T00:00:00.000000000",
          "1977-07-28T00:00:00.000000000",
          "1976-07-18T00:00:00.000000000",
          "1977-06-15T00:00:00.000000000",
          "1976-05-06T00:00:00.000000000",
          "1977-05-16T00:00:00.000000000",
          "1982-09-01T00:00:00.000000000",
          "1976-10-01T00:00:00.000000000",
          "1977-03-19T00:00:00.000000000",
          "1977-05-01T00:00:00.000000000",
          "1977-04-09T00:00:00.000000000",
          "1978-06-02T00:00:00.000000000",
          "1977-05-18T00:00:00.000000000",
          "1977-10-01T00:00:00.000000000",
          "1977-03-03T00:00:00.000000000",
          "1978-07-06T00:00:00.000000000",
          "1977-04-25T00:00:00.000000000",
          "1978-04-20T00:00:00.000000000",
          "1976-03-29T00:00:00.000000000",
          "1977-05-19T00:00:00.000000000",
          "1976-07-30T00:00:00.000000000",
          "1978-01-08T00:00:00.000000000",
          "1977-08-05T00:00:00.000000000",
          "1976-05-15T00:00:00.000000000",
          "1976-06-01T00:00:00.000000000",
          "1976-10-23T00:00:00.000000000",
          "1977-12-06T00:00:00.000000000",
          "1976-10-30T00:00:00.000000000",
          "1976-08-03T00:00:00.000000000",
          "1977-07-12T00:00:00.000000000",
          "1977-07-22T00:00:00.000000000",
          "1977-02-22T00:00:00.000000000",
          "1977-02-28T00:00:00.000000000",
          "1977-01-14T00:00:00.000000000",
          "1977-07-30T00:00:00.000000000",
          "1977-02-05T00:00:00.000000000",
          "1977-01-03T00:00:00.000000000",
          "1976-04-29T00:00:00.000000000",
          "1980-02-28T00:00:00.000000000",
          "1978-01-15T00:00:00.000000000",
          "1976-06-01T00:00:00.000000000",
          "1976-04-16T00:00:00.000000000",
          "1976-07-30T00:00:00.000000000",
          "1976-10-28T00:00:00.000000000",
          "1977-03-31T00:00:00.000000000",
          "1976-06-20T00:00:00.000000000",
          "1977-06-16T00:00:00.000000000",
          "1976-11-01T00:00:00.000000000",
          "1976-03-30T00:00:00.000000000",
          "1976-09-19T00:00:00.000000000",
          "1976-08-27T00:00:00.000000000",
          "1976-10-22T00:00:00.000000000",
          "1976-07-09T00:00:00.000000000",
          "1976-05-24T00:00:00.000000000",
          "1977-04-28T00:00:00.000000000",
          "1976-03-27T00:00:00.000000000",
          "1978-04-12T00:00:00.000000000",
          "1977-02-10T00:00:00.000000000",
          "1978-02-23T00:00:00.000000000",
          "1976-10-27T00:00:00.000000000",
          "1976-05-27T00:00:00.000000000",
          "1977-08-24T00:00:00.000000000",
          "1978-02-28T00:00:00.000000000",
          "1977-02-19T00:00:00.000000000",
          "1976-11-02T00:00:00.000000000",
          "1977-06-07T00:00:00.000000000",
          "1977-05-23T00:00:00.000000000",
          "1977-06-02T00:00:00.000000000",
          "1978-12-03T00:00:00.000000000",
          "1977-03-31T00:00:00.000000000",
          "1976-06-03T00:00:00.000000000",
          "1977-12-04T00:00:00.000000000",
          "1976-05-17T00:00:00.000000000",
          "1976-12-31T00:00:00.000000000",
          "1977-09-30T00:00:00.000000000",
          "1976-09-25T00:00:00.000000000",
          "1977-08-19T00:00:00.000000000",
          "1976-06-22T00:00:00.000000000",
          "1977-10-21T00:00:00.000000000",
          "1978-02-03T00:00:00.000000000",
          "1976-06-22T00:00:00.000000000",
          "1976-09-14T00:00:00.000000000",
          "1976-12-29T00:00:00.000000000",
          "1978-01-29T00:00:00.000000000",
          "1977-03-21T00:00:00.000000000",
          "1977-03-21T00:00:00.000000000",
          "1977-03-21T00:00:00.000000000",
          "1977-06-26T00:00:00.000000000",
          "1976-06-12T00:00:00.000000000",
          "1976-06-12T00:00:00.000000000",
          "1977-05-20T00:00:00.000000000",
          "1976-03-25T00:00:00.000000000",
          "1977-05-12T00:00:00.000000000",
          "1977-08-20T00:00:00.000000000",
          "1976-09-21T00:00:00.000000000",
          "1976-10-20T00:00:00.000000000",
          "1977-09-23T00:00:00.000000000",
          "1978-11-17T00:00:00.000000000",
          "1977-02-08T00:00:00.000000000",
          "1976-04-09T00:00:00.000000000",
          "1976-07-12T00:00:00.000000000",
          "1976-04-30T00:00:00.000000000",
          "1976-08-09T00:00:00.000000000",
          "1976-05-14T00:00:00.000000000",
          "1980-08-01T00:00:00.000000000",
          "1976-09-23T00:00:00.000000000",
          "1977-07-31T00:00:00.000000000",
          "1977-04-12T00:00:00.000000000",
          "1977-06-20T00:00:00.000000000",
          "1976-08-09T00:00:00.000000000",
          "1976-06-14T00:00:00.000000000",
          "1977-09-07T00:00:00.000000000",
          "1976-04-13T00:00:00.000000000",
          "1976-10-05T00:00:00.000000000",
          "1977-05-01T00:00:00.000000000",
          "1977-03-07T00:00:00.000000000",
          "1976-05-13T00:00:00.000000000",
          "1976-09-09T00:00:00.000000000",
          "1976-09-01T00:00:00.000000000",
          "1977-09-30T00:00:00.000000000",
          "1976-05-26T00:00:00.000000000",
          "1977-02-19T00:00:00.000000000",
          "1977-05-12T00:00:00.000000000",
          "1976-04-18T00:00:00.000000000",
          "1976-07-30T00:00:00.000000000",
          "1977-06-07T00:00:00.000000000",
          "1977-03-31T00:00:00.000000000",
          "1977-01-20T00:00:00.000000000",
          "1977-06-12T00:00:00.000000000",
          "1977-09-16T00:00:00.000000000",
          "1978-04-30T00:00:00.000000000",
          "1976-10-20T00:00:00.000000000",
          "1976-08-16T00:00:00.000000000",
          "1977-04-25T00:00:00.000000000",
          "1977-12-08T00:00:00.000000000",
          "1976-10-01T00:00:00.000000000",
          "1977-04-09T00:00:00.000000000",
          "1977-12-10T00:00:00.000000000",
          "1977-07-01T00:00:00.000000000",
          "1977-07-01T00:00:00.000000000",
          "1977-04-20T00:00:00.000000000",
          "1977-05-31T00:00:00.000000000",
          "1978-11-22T00:00:00.000000000",
          "1977-12-06T00:00:00.000000000",
          "1977-06-04T00:00:00.000000000",
          "1977-05-11T00:00:00.000000000",
          "1977-08-19T00:00:00.000000000",
          "1978-09-02T00:00:00.000000000",
          "1976-05-04T00:00:00.000000000",
          "1977-11-22T00:00:00.000000000",
          "1976-10-01T00:00:00.000000000",
          "1976-06-25T00:00:00.000000000",
          "1976-09-27T00:00:00.000000000",
          "1976-04-21T00:00:00.000000000",
          "1976-07-01T00:00:00.000000000",
          "1977-08-11T00:00:00.000000000",
          "1976-11-26T00:00:00.000000000",
          "1977-01-21T00:00:00.000000000",
          "1976-12-02T00:00:00.000000000",
          "1977-06-02T00:00:00.000000000",
          "1977-06-02T00:00:00.000000000",
          "1978-02-25T00:00:00.000000000",
          "1977-02-23T00:00:00.000000000",
          "1976-04-01T00:00:00.000000000",
          "1978-06-24T00:00:00.000000000",
          "1976-12-02T00:00:00.000000000",
          "1977-12-06T00:00:00.000000000",
          "1976-08-01T00:00:00.000000000",
          "1977-12-28T00:00:00.000000000",
          "1977-09-01T00:00:00.000000000",
          "1976-06-01T00:00:00.000000000",
          "1977-05-23T00:00:00.000000000",
          "1979-06-12T00:00:00.000000000",
          "1977-07-23T00:00:00.000000000",
          "1977-05-15T00:00:00.000000000",
          "1977-09-11T00:00:00.000000000",
          "1977-02-17T00:00:00.000000000",
          "1977-02-17T00:00:00.000000000",
          "1978-11-10T00:00:00.000000000",
          "1976-12-13T00:00:00.000000000",
          "1977-08-12T00:00:00.000000000",
          "1979-09-15T00:00:00.000000000",
          "1978-05-22T00:00:00.000000000",
          "1978-08-15T00:00:00.000000000",
          "1977-04-14T00:00:00.000000000",
          "1978-06-11T00:00:00.000000000",
          "1978-06-02T00:00:00.000000000",
          "1976-07-01T00:00:00.000000000",
          "1977-02-05T00:00:00.000000000",
          "1976-10-01T00:00:00.000000000",
          "1977-07-08T00:00:00.000000000",
          "1977-04-20T00:00:00.000000000",
          "1980-05-01T00:00:00.000000000",
          "1976-08-04T00:00:00.000000000",
          "1977-10-26T00:00:00.000000000",
          "1977-04-19T00:00:00.000000000",
          "1978-06-15T00:00:00.000000000",
          "1976-12-01T00:00:00.000000000",
          "1976-08-25T00:00:00.000000000",
          "1976-12-02T00:00:00.000000000",
          "1976-08-03T00:00:00.000000000",
          "1976-06-19T00:00:00.000000000",
          "1977-07-01T00:00:00.000000000",
          "1976-09-06T00:00:00.000000000",
          "1976-08-26T00:00:00.000000000",
          "1977-06-11T00:00:00.000000000",
          "1976-11-06T00:00:00.000000000",
          "1976-10-26T00:00:00.000000000",
          "1976-06-09T00:00:00.000000000",
          "1977-02-15T00:00:00.000000000",
          "1977-10-21T00:00:00.000000000",
          "1977-02-22T00:00:00.000000000",
          "1976-06-18T00:00:00.000000000",
          "1976-10-20T00:00:00.000000000",
          "1976-04-29T00:00:00.000000000",
          "1976-09-02T00:00:00.000000000",
          "1977-03-03T00:00:00.000000000",
          "1976-10-26T00:00:00.000000000",
          "1976-12-16T00:00:00.000000000",
          "1976-06-30T00:00:00.000000000",
          "1976-07-20T00:00:00.000000000",
          "1977-08-22T00:00:00.000000000",
          "1976-12-16T00:00:00.000000000",
          "1976-11-28T00:00:00.000000000",
          "1978-02-02T00:00:00.000000000",
          "1976-05-07T00:00:00.000000000",
          "1977-07-06T00:00:00.000000000",
          "1977-06-08T00:00:00.000000000",
          "1976-06-16T00:00:00.000000000",
          "1976-06-16T00:00:00.000000000",
          "1976-06-07T00:00:00.000000000",
          "1976-05-10T00:00:00.000000000",
          "1977-01-29T00:00:00.000000000",
          "1979-10-06T00:00:00.000000000",
          "1976-11-01T00:00:00.000000000",
          "1978-06-14T00:00:00.000000000",
          "1977-10-20T00:00:00.000000000",
          "1978-05-28T00:00:00.000000000",
          "1978-05-12T00:00:00.000000000",
          "1977-12-28T00:00:00.000000000",
          "1976-08-09T00:00:00.000000000",
          "1977-10-26T00:00:00.000000000",
          "1977-05-22T00:00:00.000000000",
          "1977-12-01T00:00:00.000000000",
          "1978-02-24T00:00:00.000000000",
          "1977-12-18T00:00:00.000000000",
          "1978-12-16T00:00:00.000000000",
          "1976-11-17T00:00:00.000000000",
          "1977-10-21T00:00:00.000000000",
          "1977-08-12T00:00:00.000000000",
          "1976-07-22T00:00:00.000000000",
          "1977-11-02T00:00:00.000000000",
          "1976-12-16T00:00:00.000000000",
          "1977-03-26T00:00:00.000000000",
          "1976-12-15T00:00:00.000000000",
          "1976-12-15T00:00:00.000000000",
          "1976-10-29T00:00:00.000000000",
          "1977-05-22T00:00:00.000000000",
          "1976-06-24T00:00:00.000000000",
          "1976-05-25T00:00:00.000000000",
          "1976-08-26T00:00:00.000000000",
          "1976-08-27T00:00:00.000000000",
          "1976-10-08T00:00:00.000000000",
          "1976-07-08T00:00:00.000000000",
          "1977-10-12T00:00:00.000000000",
          "1977-08-09T00:00:00.000000000",
          "1976-07-08T00:00:00.000000000",
          "1976-08-05T00:00:00.000000000",
          "1976-05-12T00:00:00.000000000",
          "1977-07-07T00:00:00.000000000",
          "1977-04-14T00:00:00.000000000",
          "1977-05-02T00:00:00.000000000",
          "1977-06-16T00:00:00.000000000",
          "1977-11-18T00:00:00.000000000",
          "1976-11-13T00:00:00.000000000",
          "1977-06-12T00:00:00.000000000",
          "1977-06-12T00:00:00.000000000",
          "1976-09-30T00:00:00.000000000",
          "1977-02-05T00:00:00.000000000",
          "1977-02-24T00:00:00.000000000",
          "1977-02-24T00:00:00.000000000",
          "1977-02-24T00:00:00.000000000",
          "1976-11-12T00:00:00.000000000",
          "1976-06-23T00:00:00.000000000",
          "1977-06-10T00:00:00.000000000",
          "1977-12-25T00:00:00.000000000",
          "1977-09-19T00:00:00.000000000",
          "1976-06-24T00:00:00.000000000",
          "1976-05-22T00:00:00.000000000",
          "1977-02-15T00:00:00.000000000",
          "1977-05-11T00:00:00.000000000",
          "1977-06-29T00:00:00.000000000",
          "1977-05-02T00:00:00.000000000",
          "1976-05-31T00:00:00.000000000",
          "1976-06-15T00:00:00.000000000",
          "1976-09-10T00:00:00.000000000",
          "1977-10-19T00:00:00.000000000",
          "1978-01-14T00:00:00.000000000",
          "1982-07-20T00:00:00.000000000",
          "1978-05-17T00:00:00.000000000",
          "1976-10-02T00:00:00.000000000",
          "1976-04-29T00:00:00.000000000",
          "1977-03-23T00:00:00.000000000",
          "1977-12-27T00:00:00.000000000",
          "1976-05-17T00:00:00.000000000",
          "1976-09-24T00:00:00.000000000",
          "1977-08-08T00:00:00.000000000",
          "1977-02-18T00:00:00.000000000",
          "1976-11-19T00:00:00.000000000",
          "1977-03-21T00:00:00.000000000",
          "1978-05-14T00:00:00.000000000",
          "1979-03-01T00:00:00.000000000",
          "1976-08-29T00:00:00.000000000",
          "1977-02-05T00:00:00.000000000",
          "1976-09-18T00:00:00.000000000",
          "1976-08-06T00:00:00.000000000",
          "1978-03-02T00:00:00.000000000",
          "1977-06-09T00:00:00.000000000",
          "1977-02-16T00:00:00.000000000",
          "1977-02-16T00:00:00.000000000",
          "1978-04-13T00:00:00.000000000",
          "1977-12-27T00:00:00.000000000",
          "1976-09-14T00:00:00.000000000",
          "1976-08-27T00:00:00.000000000",
          "1977-02-16T00:00:00.000000000",
          "1976-05-21T00:00:00.000000000",
          "1977-05-10T00:00:00.000000000",
          "1977-02-19T00:00:00.000000000",
          "1976-08-19T00:00:00.000000000",
          "1977-01-01T00:00:00.000000000",
          "1977-05-08T00:00:00.000000000",
          "1976-07-29T00:00:00.000000000",
          "1977-03-16T00:00:00.000000000",
          "1978-07-05T00:00:00.000000000",
          "1980-03-19T00:00:00.000000000",
          "1976-10-19T00:00:00.000000000",
          "1977-01-13T00:00:00.000000000",
          "1976-08-10T00:00:00.000000000",
          "1976-08-13T00:00:00.000000000",
          "1976-06-22T00:00:00.000000000",
          "1977-01-03T00:00:00.000000000",
          "1976-08-21T00:00:00.000000000",
          "1976-10-15T00:00:00.000000000",
          "1976-08-24T00:00:00.000000000",
          "1978-03-30T00:00:00.000000000",
          "1977-08-13T00:00:00.000000000",
          "1976-05-24T00:00:00.000000000",
          "1976-10-18T00:00:00.000000000",
          "1977-02-10T00:00:00.000000000",
          "1977-12-06T00:00:00.000000000",
          "1977-05-12T00:00:00.000000000",
          "1976-06-19T00:00:00.000000000",
          "1976-12-13T00:00:00.000000000",
          "1976-10-14T00:00:00.000000000",
          "1977-03-25T00:00:00.000000000",
          "1977-04-21T00:00:00.000000000",
          "1978-01-06T00:00:00.000000000",
          "1977-06-09T00:00:00.000000000",
          "1976-06-18T00:00:00.000000000",
          "1976-08-07T00:00:00.000000000",
          "1976-05-18T00:00:00.000000000",
          "1978-02-19T00:00:00.000000000",
          "1977-12-21T00:00:00.000000000",
          "1977-01-31T00:00:00.000000000",
          "1977-02-23T00:00:00.000000000",
          "1976-10-11T00:00:00.000000000",
          "1976-05-11T00:00:00.000000000",
          "1977-07-22T00:00:00.000000000",
          "1976-07-09T00:00:00.000000000",
          "1976-11-29T00:00:00.000000000",
          "1977-06-01T00:00:00.000000000",
          "1977-09-30T00:00:00.000000000",
          "1976-08-12T00:00:00.000000000",
          "1978-09-29T00:00:00.000000000",
          "1977-05-08T00:00:00.000000000",
          "1977-05-25T00:00:00.000000000",
          "1978-02-04T00:00:00.000000000",
          "1976-09-02T00:00:00.000000000",
          "1977-01-01T00:00:00.000000000",
          "1976-11-26T00:00:00.000000000",
          "1977-10-07T00:00:00.000000000",
          "1977-06-02T00:00:00.000000000",
          "1976-06-01T00:00:00.000000000",
          "1977-07-13T00:00:00.000000000",
          "1976-05-30T00:00:00.000000000",
          "1977-04-06T00:00:00.000000000",
          "1976-09-15T00:00:00.000000000",
          "1977-12-28T00:00:00.000000000",
          "1976-07-05T00:00:00.000000000",
          "1976-10-06T00:00:00.000000000",
          "1976-11-09T00:00:00.000000000",
          "1976-05-30T00:00:00.000000000",
          "1976-04-26T00:00:00.000000000",
          "1977-10-07T00:00:00.000000000",
          "1976-07-09T00:00:00.000000000",
          "1976-03-26T00:00:00.000000000",
          "1977-04-15T00:00:00.000000000",
          "1976-10-01T00:00:00.000000000",
          "1976-11-20T00:00:00.000000000",
          "1976-08-24T00:00:00.000000000",
          "1977-03-28T00:00:00.000000000",
          "1978-08-03T00:00:00.000000000",
          "1977-11-29T00:00:00.000000000",
          "1976-08-25T00:00:00.000000000",
          "1976-12-10T00:00:00.000000000",
          "1976-07-07T00:00:00.000000000",
          "1976-07-07T00:00:00.000000000",
          "1976-07-08T00:00:00.000000000",
          "1976-12-09T00:00:00.000000000",
          "1977-01-13T00:00:00.000000000",
          "1977-06-21T00:00:00.000000000",
          "1976-07-20T00:00:00.000000000",
          "1976-07-20T00:00:00.000000000",
          "1977-12-01T00:00:00.000000000",
          "1976-09-03T00:00:00.000000000",
          "1977-02-08T00:00:00.000000000",
          "1976-12-08T00:00:00.000000000",
          "1978-05-01T00:00:00.000000000",
          "1977-05-24T00:00:00.000000000",
          "1976-07-23T00:00:00.000000000",
          "1977-05-31T00:00:00.000000000",
          "1979-08-04T00:00:00.000000000",
          "1976-08-06T00:00:00.000000000",
          "1977-07-25T00:00:00.000000000",
          "1976-11-02T00:00:00.000000000",
          "1977-05-01T00:00:00.000000000",
          "1976-08-26T00:00:00.000000000",
          "1978-02-18T00:00:00.000000000",
          "1977-06-01T00:00:00.000000000",
          "1977-07-01T00:00:00.000000000",
          "1976-05-04T00:00:00.000000000",
          "1977-04-18T00:00:00.000000000",
          "1976-09-14T00:00:00.000000000",
          "1976-08-06T00:00:00.000000000",
          "1978-05-30T00:00:00.000000000",
          "1977-03-25T00:00:00.000000000",
          "1977-03-09T00:00:00.000000000",
          "1976-10-15T00:00:00.000000000",
          "1976-08-07T00:00:00.000000000",
          "1976-06-09T00:00:00.000000000",
          "1976-04-29T00:00:00.000000000",
          "1977-02-20T00:00:00.000000000",
          "1976-12-10T00:00:00.000000000",
          "1977-12-05T00:00:00.000000000",
          "1976-09-14T00:00:00.000000000",
          "1976-07-30T00:00:00.000000000",
          "1976-09-11T00:00:00.000000000",
          "1976-11-27T00:00:00.000000000",
          "1976-06-24T00:00:00.000000000",
          "1976-05-27T00:00:00.000000000",
          "1976-08-24T00:00:00.000000000",
          "1978-09-01T00:00:00.000000000",
          "1977-02-10T00:00:00.000000000",
          "1976-08-20T00:00:00.000000000",
          "1980-02-27T00:00:00.000000000",
          "1977-01-26T00:00:00.000000000",
          "1977-08-09T00:00:00.000000000",
          "1977-02-26T00:00:00.000000000",
          "1977-05-27T00:00:00.000000000",
          "1976-03-25T00:00:00.000000000",
          "1976-06-02T00:00:00.000000000",
          "1976-11-06T00:00:00.000000000",
          "1976-12-17T00:00:00.000000000",
          "1976-04-21T00:00:00.000000000",
          "1978-07-21T00:00:00.000000000",
          "1976-07-19T00:00:00.000000000",
          "1976-11-04T00:00:00.000000000",
          "1976-11-16T00:00:00.000000000",
          "1977-04-28T00:00:00.000000000",
          "1976-04-30T00:00:00.000000000",
          "1976-09-02T00:00:00.000000000",
          "1976-08-21T00:00:00.000000000",
          "1978-05-06T00:00:00.000000000",
          "1976-11-20T00:00:00.000000000",
          "1976-08-30T00:00:00.000000000",
          "1976-05-19T00:00:00.000000000",
          "1980-06-12T00:00:00.000000000",
          "1977-08-13T00:00:00.000000000",
          "1977-06-09T00:00:00.000000000",
          "1976-05-19T00:00:00.000000000",
          "1976-04-14T00:00:00.000000000",
          "1977-11-16T00:00:00.000000000",
          "1976-11-15T00:00:00.000000000",
          "1977-09-30T00:00:00.000000000",
          "1977-09-30T00:00:00.000000000",
          "1976-06-11T00:00:00.000000000",
          "1977-01-25T00:00:00.000000000",
          "1977-04-01T00:00:00.000000000",
          "1977-01-05T00:00:00.000000000",
          "1976-10-09T00:00:00.000000000",
          "1977-05-15T00:00:00.000000000",
          "1977-02-13T00:00:00.000000000",
          "1980-08-06T00:00:00.000000000",
          "1976-12-07T00:00:00.000000000",
          "1976-09-10T00:00:00.000000000",
          "1977-05-14T00:00:00.000000000",
          "1976-08-04T00:00:00.000000000",
          "1976-08-21T00:00:00.000000000",
          "1977-12-23T00:00:00.000000000",
          "1976-06-19T00:00:00.000000000",
          "1976-04-06T00:00:00.000000000",
          "1977-10-14T00:00:00.000000000",
          "1977-05-11T00:00:00.000000000",
          "1977-03-23T00:00:00.000000000",
          "1977-03-01T00:00:00.000000000",
          "1976-08-11T00:00:00.000000000",
          "1977-01-12T00:00:00.000000000",
          "1976-12-23T00:00:00.000000000",
          "1977-02-08T00:00:00.000000000",
          "1978-06-09T00:00:00.000000000",
          "1977-07-26T00:00:00.000000000",
          "1976-04-14T00:00:00.000000000",
          "1978-11-27T00:00:00.000000000",
          "1977-11-02T00:00:00.000000000",
          "1977-08-24T00:00:00.000000000",
          "1977-06-22T00:00:00.000000000",
          "1977-02-18T00:00:00.000000000",
          "1977-02-28T00:00:00.000000000",
          "1977-09-29T00:00:00.000000000",
          "1976-04-12T00:00:00.000000000",
          "1978-09-01T00:00:00.000000000",
          "1976-11-13T00:00:00.000000000",
          "1976-06-10T00:00:00.000000000",
          "1977-09-04T00:00:00.000000000",
          "1977-01-11T00:00:00.000000000",
          "1977-01-28T00:00:00.000000000",
          "1977-02-22T00:00:00.000000000",
          "1977-07-16T00:00:00.000000000",
          "1977-06-16T00:00:00.000000000",
          "1977-02-18T00:00:00.000000000",
          "1977-01-26T00:00:00.000000000",
          "1976-05-27T00:00:00.000000000",
          "1978-02-01T00:00:00.000000000",
          "1977-09-05T00:00:00.000000000",
          "1976-07-07T00:00:00.000000000",
          "1977-09-19T00:00:00.000000000",
          "1978-04-01T00:00:00.000000000",
          "1977-11-28T00:00:00.000000000",
          "1977-09-02T00:00:00.000000000",
          "1977-06-09T00:00:00.000000000",
          "1977-03-08T00:00:00.000000000",
          "1976-09-01T00:00:00.000000000",
          "1977-03-22T00:00:00.000000000",
          "1978-02-28T00:00:00.000000000",
          "1976-08-11T00:00:00.000000000",
          "1977-10-11T00:00:00.000000000",
          "1976-09-15T00:00:00.000000000",
          "1977-09-10T00:00:00.000000000",
          "1976-08-19T00:00:00.000000000",
          "1979-10-11T00:00:00.000000000",
          "1979-10-11T00:00:00.000000000",
          "1976-06-03T00:00:00.000000000",
          "1977-02-09T00:00:00.000000000",
          "1976-06-06T00:00:00.000000000",
          "1977-05-06T00:00:00.000000000",
          "1978-07-10T00:00:00.000000000",
          "1977-05-27T00:00:00.000000000",
          "1976-07-07T00:00:00.000000000",
          "1977-09-09T00:00:00.000000000",
          "1977-01-13T00:00:00.000000000",
          "1977-04-20T00:00:00.000000000",
          "1976-09-20T00:00:00.000000000",
          "1977-03-22T00:00:00.000000000",
          "1976-10-06T00:00:00.000000000",
          "1976-04-30T00:00:00.000000000",
          "1977-05-08T00:00:00.000000000",
          "1976-04-15T00:00:00.000000000",
          "1978-01-03T00:00:00.000000000",
          "1977-01-10T00:00:00.000000000",
          "1978-05-17T00:00:00.000000000",
          "1976-09-09T00:00:00.000000000",
          "1976-07-11T00:00:00.000000000",
          "1976-07-11T00:00:00.000000000",
          "1977-09-01T00:00:00.000000000",
          "1977-08-31T00:00:00.000000000",
          "1976-12-10T00:00:00.000000000",
          "1976-05-14T00:00:00.000000000",
          "1977-08-12T00:00:00.000000000",
          "1976-05-04T00:00:00.000000000",
          "1977-03-16T00:00:00.000000000",
          "1976-08-10T00:00:00.000000000",
          "1977-09-02T00:00:00.000000000",
          "1977-05-14T00:00:00.000000000",
          "1976-09-03T00:00:00.000000000",
          "1978-12-01T00:00:00.000000000",
          "1976-06-01T00:00:00.000000000",
          "1977-05-18T00:00:00.000000000",
          "1977-03-10T00:00:00.000000000",
          "1976-12-11T00:00:00.000000000",
          "1976-11-13T00:00:00.000000000",
          "1978-08-25T00:00:00.000000000",
          "1976-08-28T00:00:00.000000000",
          "1976-06-01T00:00:00.000000000",
          "1977-02-08T00:00:00.000000000",
          "1978-05-17T00:00:00.000000000",
          "1977-05-20T00:00:00.000000000",
          "1977-11-02T00:00:00.000000000",
          "1976-12-13T00:00:00.000000000",
          "1977-04-01T00:00:00.000000000",
          "1976-09-08T00:00:00.000000000",
          "1976-04-04T00:00:00.000000000",
          "1977-04-23T00:00:00.000000000",
          "1976-09-09T00:00:00.000000000",
          "1976-12-07T00:00:00.000000000",
          "1980-04-04T00:00:00.000000000",
          "1977-01-12T00:00:00.000000000",
          "1977-02-20T00:00:00.000000000",
          "1977-05-17T00:00:00.000000000",
          "1977-04-14T00:00:00.000000000",
          "1978-05-10T00:00:00.000000000",
          "1976-11-16T00:00:00.000000000",
          "1979-06-13T00:00:00.000000000",
          "1979-03-01T00:00:00.000000000",
          "1978-03-04T00:00:00.000000000",
          "1976-10-20T00:00:00.000000000",
          "1977-08-09T00:00:00.000000000",
          "1980-01-01T00:00:00.000000000",
          "1977-03-16T00:00:00.000000000",
          "1977-01-31T00:00:00.000000000",
          "1977-02-01T00:00:00.000000000",
          "1976-11-03T00:00:00.000000000",
          "1977-07-16T00:00:00.000000000",
          "1976-11-30T00:00:00.000000000",
          "1976-05-28T00:00:00.000000000",
          "1977-02-16T00:00:00.000000000",
          "1976-09-23T00:00:00.000000000",
          "1977-09-06T00:00:00.000000000",
          "1977-02-28T00:00:00.000000000",
          "1976-08-04T00:00:00.000000000",
          "1977-03-10T00:00:00.000000000",
          "1976-09-17T00:00:00.000000000",
          "1976-04-27T00:00:00.000000000",
          "1976-08-16T00:00:00.000000000",
          "1976-09-20T00:00:00.000000000",
          "1976-07-21T00:00:00.000000000",
          "1976-11-25T00:00:00.000000000",
          "1976-10-05T00:00:00.000000000",
          "1976-06-14T00:00:00.000000000",
          "1977-09-23T00:00:00.000000000",
          "1976-12-07T00:00:00.000000000",
          "1976-03-26T00:00:00.000000000",
          "1976-11-11T00:00:00.000000000",
          "1976-05-09T00:00:00.000000000",
          "1976-09-16T00:00:00.000000000",
          "1977-09-05T00:00:00.000000000",
          "1978-07-07T00:00:00.000000000",
          "1976-11-01T00:00:00.000000000",
          "1976-11-23T00:00:00.000000000",
          "1977-10-22T00:00:00.000000000",
          "1976-11-09T00:00:00.000000000",
          "1976-09-01T00:00:00.000000000",
          "1976-08-03T00:00:00.000000000",
          "1976-10-11T00:00:00.000000000",
          "1976-06-03T00:00:00.000000000",
          "1977-10-26T00:00:00.000000000",
          "1977-08-24T00:00:00.000000000",
          "1976-04-26T00:00:00.000000000",
          "1976-05-06T00:00:00.000000000",
          "1976-07-13T00:00:00.000000000",
          "1976-08-12T00:00:00.000000000",
          "1977-08-10T00:00:00.000000000",
          "1976-10-15T00:00:00.000000000",
          "1976-05-27T00:00:00.000000000",
          "1977-02-10T00:00:00.000000000",
          "1976-09-18T00:00:00.000000000",
          "1979-09-13T00:00:00.000000000",
          "1977-01-16T00:00:00.000000000",
          "1978-08-29T00:00:00.000000000",
          "1976-08-04T00:00:00.000000000",
          "1977-01-01T00:00:00.000000000",
          "1976-10-01T00:00:00.000000000",
          "1977-03-14T00:00:00.000000000",
          "1976-07-19T00:00:00.000000000",
          "1976-12-01T00:00:00.000000000",
          "1976-07-15T00:00:00.000000000",
          "1978-02-16T00:00:00.000000000",
          "1977-02-10T00:00:00.000000000",
          "1976-08-28T00:00:00.000000000",
          "1976-08-26T00:00:00.000000000",
          "1977-05-25T00:00:00.000000000",
          "1976-05-01T00:00:00.000000000",
          "1976-10-20T00:00:00.000000000",
          "1976-07-04T00:00:00.000000000",
          "1977-11-25T00:00:00.000000000",
          "1977-03-02T00:00:00.000000000",
          "1976-11-19T00:00:00.000000000",
          "1976-10-20T00:00:00.000000000",
          "1976-07-31T00:00:00.000000000",
          "1977-05-14T00:00:00.000000000",
          "1977-05-19T00:00:00.000000000",
          "1977-06-03T00:00:00.000000000",
          "1977-08-03T00:00:00.000000000",
          "1980-07-06T00:00:00.000000000",
          "1977-12-23T00:00:00.000000000",
          "1978-01-12T00:00:00.000000000",
          "1976-04-12T00:00:00.000000000",
          "1976-07-01T00:00:00.000000000",
          "1977-08-15T00:00:00.000000000",
          "1978-10-28T00:00:00.000000000",
          "1976-12-01T00:00:00.000000000",
          "1976-03-29T00:00:00.000000000",
          "1976-12-08T00:00:00.000000000",
          "1979-09-29T00:00:00.000000000",
          "1978-10-21T00:00:00.000000000",
          "1978-09-23T00:00:00.000000000",
          "1976-11-17T00:00:00.000000000",
          "1976-07-28T00:00:00.000000000",
          "1976-06-22T00:00:00.000000000",
          "1976-05-14T00:00:00.000000000",
          "1978-01-23T00:00:00.000000000",
          "1977-09-23T00:00:00.000000000",
          "1977-05-11T00:00:00.000000000",
          "1976-11-18T00:00:00.000000000",
          "1976-05-20T00:00:00.000000000",
          "1976-12-31T00:00:00.000000000",
          "1977-07-29T00:00:00.000000000",
          "1978-02-26T00:00:00.000000000",
          "1976-09-14T00:00:00.000000000",
          "1977-03-29T00:00:00.000000000",
          "1976-12-14T00:00:00.000000000",
          "1977-07-18T00:00:00.000000000",
          "1976-11-04T00:00:00.000000000",
          "1976-09-14T00:00:00.000000000",
          "1978-05-18T00:00:00.000000000",
          "1976-09-26T00:00:00.000000000",
          "1976-11-03T00:00:00.000000000",
          "1977-06-03T00:00:00.000000000",
          "1977-08-11T00:00:00.000000000",
          "1977-08-05T00:00:00.000000000",
          "1976-08-16T00:00:00.000000000",
          "1977-01-27T00:00:00.000000000",
          "1976-10-11T00:00:00.000000000",
          "1977-06-16T00:00:00.000000000",
          "1976-10-20T00:00:00.000000000",
          "1980-08-26T00:00:00.000000000",
          "1977-05-30T00:00:00.000000000",
          "1977-12-21T00:00:00.000000000",
          "1976-06-08T00:00:00.000000000",
          "1976-06-26T00:00:00.000000000",
          "1980-02-27T00:00:00.000000000",
          "1976-11-22T00:00:00.000000000",
          "1976-10-15T00:00:00.000000000",
          "1976-06-01T00:00:00.000000000",
          "1976-08-17T00:00:00.000000000",
          "1976-09-15T00:00:00.000000000",
          "1976-10-07T00:00:00.000000000",
          "1976-10-07T00:00:00.000000000",
          "1976-07-20T00:00:00.000000000",
          "1977-09-13T00:00:00.000000000",
          "1977-07-01T00:00:00.000000000",
          "1977-11-01T00:00:00.000000000",
          "1978-02-24T00:00:00.000000000",
          "1976-07-27T00:00:00.000000000",
          "1976-07-09T00:00:00.000000000",
          "1976-06-07T00:00:00.000000000",
          "1976-05-30T00:00:00.000000000",
          "1976-11-17T00:00:00.000000000",
          "1976-09-04T00:00:00.000000000",
          "1977-03-15T00:00:00.000000000",
          "1977-12-03T00:00:00.000000000",
          "1977-04-21T00:00:00.000000000",
          "1976-09-16T00:00:00.000000000",
          "1977-08-05T00:00:00.000000000",
          "1977-09-23T00:00:00.000000000",
          "1976-06-19T00:00:00.000000000",
          "1977-04-06T00:00:00.000000000",
          "1976-09-21T00:00:00.000000000",
          "1976-12-21T00:00:00.000000000",
          "1977-01-27T00:00:00.000000000",
          "1979-04-26T00:00:00.000000000",
          "1977-08-15T00:00:00.000000000",
          "1976-07-15T00:00:00.000000000",
          "1978-04-08T00:00:00.000000000",
          "1978-07-24T00:00:00.000000000",
          "1977-09-14T00:00:00.000000000",
          "1976-05-07T00:00:00.000000000",
          "1977-04-20T00:00:00.000000000",
          "1976-10-20T00:00:00.000000000",
          "1976-05-18T00:00:00.000000000",
          "1976-09-29T00:00:00.000000000",
          "1978-03-25T00:00:00.000000000",
          "1977-02-01T00:00:00.000000000",
          "1977-04-09T00:00:00.000000000",
          "1976-06-18T00:00:00.000000000",
          "1977-01-12T00:00:00.000000000",
          "1976-08-26T00:00:00.000000000",
          "1977-01-05T00:00:00.000000000",
          "1976-09-19T00:00:00.000000000",
          "1978-02-06T00:00:00.000000000",
          "1977-01-12T00:00:00.000000000",
          "1976-09-28T00:00:00.000000000",
          "1976-09-22T00:00:00.000000000",
          "1976-10-01T00:00:00.000000000",
          "1977-08-03T00:00:00.000000000",
          "1977-05-01T00:00:00.000000000",
          "1978-08-01T00:00:00.000000000",
          "1977-01-27T00:00:00.000000000",
          "1982-12-18T00:00:00.000000000",
          "1978-09-02T00:00:00.000000000",
          "1977-05-09T00:00:00.000000000",
          "1976-10-14T00:00:00.000000000",
          "1976-08-26T00:00:00.000000000",
          "1976-07-30T00:00:00.000000000",
          "1976-09-22T00:00:00.000000000",
          "1977-05-15T00:00:00.000000000",
          "1976-04-30T00:00:00.000000000",
          "1976-11-26T00:00:00.000000000",
          "1977-12-01T00:00:00.000000000",
          "1977-08-22T00:00:00.000000000",
          "1978-07-17T00:00:00.000000000",
          "1977-01-25T00:00:00.000000000",
          "1976-12-20T00:00:00.000000000",
          "1976-10-17T00:00:00.000000000",
          "1978-05-24T00:00:00.000000000",
          "1977-11-11T00:00:00.000000000",
          "1979-08-03T00:00:00.000000000",
          "1976-05-23T00:00:00.000000000",
          "1976-07-01T00:00:00.000000000",
          "1976-05-21T00:00:00.000000000",
          "1976-06-16T00:00:00.000000000",
          "1976-08-03T00:00:00.000000000",
          "1977-05-04T00:00:00.000000000",
          "1977-12-07T00:00:00.000000000",
          "1976-05-14T00:00:00.000000000",
          "1977-06-19T00:00:00.000000000",
          "1976-11-09T00:00:00.000000000",
          "1976-05-01T00:00:00.000000000",
          "1979-02-27T00:00:00.000000000",
          "1977-07-16T00:00:00.000000000",
          "1977-06-17T00:00:00.000000000",
          "1977-07-05T00:00:00.000000000",
          "1976-05-17T00:00:00.000000000",
          "1976-08-23T00:00:00.000000000",
          "1976-04-02T00:00:00.000000000",
          "1977-01-01T00:00:00.000000000",
          "1976-05-11T00:00:00.000000000",
          "1976-08-01T00:00:00.000000000",
          "1976-08-06T00:00:00.000000000",
          "1977-07-06T00:00:00.000000000",
          "1977-05-13T00:00:00.000000000",
          "1976-10-01T00:00:00.000000000",
          "1978-01-26T00:00:00.000000000",
          "1976-05-15T00:00:00.000000000",
          "1977-09-01T00:00:00.000000000",
          "1977-02-28T00:00:00.000000000",
          "1976-03-29T00:00:00.000000000",
          "1976-04-07T00:00:00.000000000",
          "1976-04-19T00:00:00.000000000",
          "1976-05-01T00:00:00.000000000",
          "1976-05-04T00:00:00.000000000",
          "1978-01-27T00:00:00.000000000",
          "1976-07-21T00:00:00.000000000",
          "1976-05-07T00:00:00.000000000",
          "1977-05-13T00:00:00.000000000",
          "1978-05-25T00:00:00.000000000",
          "1977-01-12T00:00:00.000000000",
          "1977-03-24T00:00:00.000000000",
          "1977-07-18T00:00:00.000000000",
          "1977-04-12T00:00:00.000000000",
          "1977-04-01T00:00:00.000000000",
          "1977-05-20T00:00:00.000000000",
          "1977-05-16T00:00:00.000000000",
          "1977-05-17T00:00:00.000000000",
          "1976-08-21T00:00:00.000000000",
          "1977-08-03T00:00:00.000000000",
          "1976-10-18T00:00:00.000000000",
          "1977-01-01T00:00:00.000000000",
          "1982-09-01T00:00:00.000000000",
          "1978-11-28T00:00:00.000000000",
          "1977-04-20T00:00:00.000000000",
          "1976-11-24T00:00:00.000000000",
          "1977-02-20T00:00:00.000000000",
          "1977-09-18T00:00:00.000000000",
          "1978-08-17T00:00:00.000000000",
          "1976-07-23T00:00:00.000000000",
          "1977-02-02T00:00:00.000000000",
          "1977-05-12T00:00:00.000000000",
          "1976-04-28T00:00:00.000000000",
          "1976-04-29T00:00:00.000000000",
          "1976-04-28T00:00:00.000000000",
          "1977-09-03T00:00:00.000000000",
          "1978-12-20T00:00:00.000000000",
          "1976-05-29T00:00:00.000000000",
          "1976-11-03T00:00:00.000000000",
          "1976-08-03T00:00:00.000000000",
          "1976-08-17T00:00:00.000000000",
          "1977-12-08T00:00:00.000000000",
          "1977-04-04T00:00:00.000000000",
          "1977-06-30T00:00:00.000000000",
          "1977-11-03T00:00:00.000000000",
          "1977-08-03T00:00:00.000000000",
          "1976-06-08T00:00:00.000000000",
          "1976-05-05T00:00:00.000000000",
          "1976-10-11T00:00:00.000000000",
          "1977-02-07T00:00:00.000000000",
          "1976-10-13T00:00:00.000000000",
          "1977-05-19T00:00:00.000000000",
          "1978-10-01T00:00:00.000000000",
          "1977-04-08T00:00:00.000000000",
          "1976-07-28T00:00:00.000000000",
          "1976-09-03T00:00:00.000000000",
          "1976-12-19T00:00:00.000000000",
          "1977-03-30T00:00:00.000000000",
          "1976-12-06T00:00:00.000000000",
          "1977-02-04T00:00:00.000000000",
          "1977-09-06T00:00:00.000000000",
          "1977-09-14T00:00:00.000000000",
          "1977-02-10T00:00:00.000000000",
          "1977-05-27T00:00:00.000000000",
          "1976-04-15T00:00:00.000000000",
          "1977-07-04T00:00:00.000000000",
          "1977-09-14T00:00:00.000000000",
          "1977-01-25T00:00:00.000000000",
          "1977-09-09T00:00:00.000000000",
          "1976-12-16T00:00:00.000000000",
          "1977-03-18T00:00:00.000000000",
          "1976-09-24T00:00:00.000000000",
          "1976-12-03T00:00:00.000000000",
          "1978-12-10T00:00:00.000000000",
          "1977-05-28T00:00:00.000000000",
          "1977-02-20T00:00:00.000000000",
          "1976-09-01T00:00:00.000000000",
          "1977-01-31T00:00:00.000000000",
          "1977-09-15T00:00:00.000000000",
          "1977-11-30T00:00:00.000000000",
          "1976-10-06T00:00:00.000000000",
          "1977-09-05T00:00:00.000000000",
          "1977-02-15T00:00:00.000000000",
          "1977-01-31T00:00:00.000000000",
          "1977-05-27T00:00:00.000000000",
          "1978-02-02T00:00:00.000000000",
          "1977-04-12T00:00:00.000000000",
          "1977-06-15T00:00:00.000000000",
          "1977-06-11T00:00:00.000000000",
          "1977-02-03T00:00:00.000000000",
          "1977-01-16T00:00:00.000000000",
          "1976-05-12T00:00:00.000000000",
          "1977-03-02T00:00:00.000000000",
          "1978-05-11T00:00:00.000000000",
          "1977-05-08T00:00:00.000000000",
          "1977-11-02T00:00:00.000000000",
          "1976-08-08T00:00:00.000000000",
          "1977-06-13T00:00:00.000000000",
          "1976-05-18T00:00:00.000000000",
          "1977-11-22T00:00:00.000000000",
          "1978-02-25T00:00:00.000000000",
          "1977-05-05T00:00:00.000000000",
          "1978-10-08T00:00:00.000000000",
          "1976-04-11T00:00:00.000000000",
          "1977-08-05T00:00:00.000000000",
          "1977-06-11T00:00:00.000000000",
          "1977-02-24T00:00:00.000000000",
          "1976-08-22T00:00:00.000000000",
          "1977-10-08T00:00:00.000000000",
          "1977-03-18T00:00:00.000000000",
          "1976-08-05T00:00:00.000000000",
          "1977-05-16T00:00:00.000000000",
          "1976-09-19T00:00:00.000000000",
          "1977-04-22T00:00:00.000000000",
          "1977-01-10T00:00:00.000000000",
          "1978-01-28T00:00:00.000000000",
          "1976-07-24T00:00:00.000000000",
          "1977-02-10T00:00:00.000000000",
          "1976-04-26T00:00:00.000000000",
          "1977-06-04T00:00:00.000000000",
          "1977-08-12T00:00:00.000000000",
          "1976-12-22T00:00:00.000000000",
          "1977-02-14T00:00:00.000000000",
          "1976-12-17T00:00:00.000000000",
          "1976-09-27T00:00:00.000000000",
          "1976-10-08T00:00:00.000000000",
          "1976-06-03T00:00:00.000000000",
          "1977-03-08T00:00:00.000000000",
          "1976-11-05T00:00:00.000000000",
          "1976-03-29T00:00:00.000000000",
          "1977-03-16T00:00:00.000000000",
          "1978-05-26T00:00:00.000000000",
          "1978-06-26T00:00:00.000000000",
          "1976-12-24T00:00:00.000000000",
          "1976-07-15T00:00:00.000000000",
          "1977-04-14T00:00:00.000000000",
          "1977-04-28T00:00:00.000000000",
          "1976-07-23T00:00:00.000000000",
          "1976-12-23T00:00:00.000000000",
          "1977-05-16T00:00:00.000000000",
          "1976-08-19T00:00:00.000000000",
          "1977-12-24T00:00:00.000000000",
          "1977-06-30T00:00:00.000000000",
          "1976-04-23T00:00:00.000000000",
          "1976-04-01T00:00:00.000000000",
          "1976-06-01T00:00:00.000000000",
          "1976-04-21T00:00:00.000000000",
          "1976-09-16T00:00:00.000000000",
          "1976-10-15T00:00:00.000000000",
          "1977-01-20T00:00:00.000000000",
          "1977-12-06T00:00:00.000000000",
          "1976-09-13T00:00:00.000000000",
          "1978-09-20T00:00:00.000000000",
          "1976-07-01T00:00:00.000000000",
          "1976-06-26T00:00:00.000000000",
          "1976-11-29T00:00:00.000000000",
          "1976-07-17T00:00:00.000000000",
          "1976-11-11T00:00:00.000000000",
          "1976-06-28T00:00:00.000000000",
          "1976-08-26T00:00:00.000000000",
          "1978-04-27T00:00:00.000000000",
          "1976-08-26T00:00:00.000000000",
          "1977-04-06T00:00:00.000000000",
          "1977-03-18T00:00:00.000000000",
          "1977-06-08T00:00:00.000000000",
          "1976-05-05T00:00:00.000000000",
          "1976-07-21T00:00:00.000000000",
          "1976-08-28T00:00:00.000000000",
          "1977-11-09T00:00:00.000000000",
          "1976-07-26T00:00:00.000000000",
          "1977-05-28T00:00:00.000000000",
          "1977-04-01T00:00:00.000000000",
          "1976-11-19T00:00:00.000000000",
          "1977-04-16T00:00:00.000000000",
          "1977-02-25T00:00:00.000000000",
          "1978-12-10T00:00:00.000000000",
          "1977-05-12T00:00:00.000000000",
          "1978-01-17T00:00:00.000000000",
          "1977-10-24T00:00:00.000000000",
          "1976-12-20T00:00:00.000000000",
          "1977-03-12T00:00:00.000000000",
          "1976-06-13T00:00:00.000000000",
          "1978-09-19T00:00:00.000000000",
          "1977-04-11T00:00:00.000000000",
          "1976-08-12T00:00:00.000000000",
          "1977-08-12T00:00:00.000000000",
          "1976-12-11T00:00:00.000000000",
          "1977-05-13T00:00:00.000000000",
          "1978-04-19T00:00:00.000000000",
          "1976-09-14T00:00:00.000000000",
          "1976-06-16T00:00:00.000000000",
          "1976-06-14T00:00:00.000000000",
          "1976-04-17T00:00:00.000000000",
          "1976-07-24T00:00:00.000000000",
          "1976-09-26T00:00:00.000000000",
          "1976-08-04T00:00:00.000000000",
          "1976-11-09T00:00:00.000000000",
          "1976-10-05T00:00:00.000000000",
          "1978-07-18T00:00:00.000000000",
          "1976-05-28T00:00:00.000000000",
          "1978-06-11T00:00:00.000000000",
          "1977-01-21T00:00:00.000000000",
          "1977-08-11T00:00:00.000000000",
          "1976-09-25T00:00:00.000000000",
          "1976-08-09T00:00:00.000000000",
          "1977-02-11T00:00:00.000000000",
          "1976-09-10T00:00:00.000000000",
          "1980-08-13T00:00:00.000000000",
          "1976-07-06T00:00:00.000000000",
          "1977-03-09T00:00:00.000000000",
          "1976-09-24T00:00:00.000000000",
          "1976-05-12T00:00:00.000000000",
          "1977-06-13T00:00:00.000000000",
          "1976-09-23T00:00:00.000000000",
          "1976-08-31T00:00:00.000000000",
          "1976-05-10T00:00:00.000000000",
          "1978-07-12T00:00:00.000000000",
          "1976-10-28T00:00:00.000000000",
          "1976-06-26T00:00:00.000000000",
          "1977-08-07T00:00:00.000000000",
          "1977-07-30T00:00:00.000000000",
          "1981-10-03T00:00:00.000000000",
          "1976-07-29T00:00:00.000000000",
          "1977-02-02T00:00:00.000000000",
          "1976-08-02T00:00:00.000000000",
          "1976-11-12T00:00:00.000000000",
          "1976-11-12T00:00:00.000000000",
          "1976-03-28T00:00:00.000000000",
          "1977-05-16T00:00:00.000000000",
          "1976-09-22T00:00:00.000000000",
          "1976-12-14T00:00:00.000000000",
          "1976-05-01T00:00:00.000000000",
          "1977-11-27T00:00:00.000000000",
          "1976-12-20T00:00:00.000000000",
          "1977-02-01T00:00:00.000000000",
          "1976-08-04T00:00:00.000000000",
          "1978-04-11T00:00:00.000000000",
          "1976-05-28T00:00:00.000000000",
          "1976-09-11T00:00:00.000000000",
          "1976-04-27T00:00:00.000000000",
          "1976-04-23T00:00:00.000000000",
          "1977-07-09T00:00:00.000000000",
          "1976-06-18T00:00:00.000000000",
          "1978-08-15T00:00:00.000000000",
          "1979-10-13T00:00:00.000000000",
          "1976-12-02T00:00:00.000000000",
          "1976-07-16T00:00:00.000000000",
          "1978-03-04T00:00:00.000000000",
          "1978-01-02T00:00:00.000000000",
          "1976-08-06T00:00:00.000000000",
          "1976-12-09T00:00:00.000000000",
          "1977-04-20T00:00:00.000000000",
          "1977-08-15T00:00:00.000000000",
          "1976-05-14T00:00:00.000000000",
          "1978-08-03T00:00:00.000000000",
          "1976-11-15T00:00:00.000000000",
          "1976-07-13T00:00:00.000000000",
          "1976-04-25T00:00:00.000000000",
          "1976-09-12T00:00:00.000000000",
          "1977-04-18T00:00:00.000000000",
          "1976-10-15T00:00:00.000000000",
          "1976-07-07T00:00:00.000000000",
          "1976-11-15T00:00:00.000000000",
          "1976-11-10T00:00:00.000000000",
          "1979-04-16T00:00:00.000000000",
          "1976-10-21T00:00:00.000000000",
          "1977-09-07T00:00:00.000000000",
          "1977-09-23T00:00:00.000000000",
          "1976-04-26T00:00:00.000000000",
          "1978-03-02T00:00:00.000000000",
          "1978-05-12T00:00:00.000000000",
          "1976-10-22T00:00:00.000000000",
          "1977-11-06T00:00:00.000000000",
          "1977-03-22T00:00:00.000000000",
          "1976-11-12T00:00:00.000000000",
          "1977-08-01T00:00:00.000000000",
          "1977-03-18T00:00:00.000000000",
          "1976-09-25T00:00:00.000000000",
          "1977-04-22T00:00:00.000000000",
          "1976-12-23T00:00:00.000000000",
          "1977-04-28T00:00:00.000000000",
          "1977-06-17T00:00:00.000000000",
          "1977-01-27T00:00:00.000000000",
          "1977-05-22T00:00:00.000000000",
          "1976-06-07T00:00:00.000000000",
          "1976-03-29T00:00:00.000000000",
          "1977-08-31T00:00:00.000000000",
          "1976-05-01T00:00:00.000000000",
          "1977-05-16T00:00:00.000000000",
          "1977-09-09T00:00:00.000000000",
          "1977-01-22T00:00:00.000000000",
          "1977-07-28T00:00:00.000000000",
          "1976-09-04T00:00:00.000000000",
          "1977-03-04T00:00:00.000000000",
          "1977-05-01T00:00:00.000000000",
          "1976-07-19T00:00:00.000000000",
          "1976-11-01T00:00:00.000000000",
          "1977-03-17T00:00:00.000000000",
          "1976-06-01T00:00:00.000000000",
          "1977-06-15T00:00:00.000000000",
          "1978-01-11T00:00:00.000000000",
          "1977-08-16T00:00:00.000000000",
          "1977-12-26T00:00:00.000000000",
          "1976-05-01T00:00:00.000000000",
          "1976-06-10T00:00:00.000000000",
          "1977-12-06T00:00:00.000000000",
          "1977-05-30T00:00:00.000000000",
          "1977-07-01T00:00:00.000000000",
          "1977-06-01T00:00:00.000000000",
          "1976-12-15T00:00:00.000000000",
          "1980-08-13T00:00:00.000000000",
          "1978-12-11T00:00:00.000000000",
          "1977-07-22T00:00:00.000000000",
          "1976-04-15T00:00:00.000000000",
          "1978-04-12T00:00:00.000000000",
          "1977-05-10T00:00:00.000000000",
          "1976-06-12T00:00:00.000000000",
          "1976-08-07T00:00:00.000000000",
          "1976-12-12T00:00:00.000000000",
          "1978-05-24T00:00:00.000000000",
          "1976-10-01T00:00:00.000000000",
          "1977-05-15T00:00:00.000000000",
          "1977-04-10T00:00:00.000000000",
          "1977-08-08T00:00:00.000000000",
          "1976-10-12T00:00:00.000000000",
          "1976-11-03T00:00:00.000000000",
          "1977-08-30T00:00:00.000000000",
          "1977-05-04T00:00:00.000000000",
          "1977-07-21T00:00:00.000000000",
          "1977-01-08T00:00:00.000000000",
          "1977-05-15T00:00:00.000000000",
          "1976-07-03T00:00:00.000000000",
          "1976-10-26T00:00:00.000000000",
          "1977-12-18T00:00:00.000000000",
          "1976-09-18T00:00:00.000000000",
          "1977-07-17T00:00:00.000000000",
          "1976-12-24T00:00:00.000000000",
          "1977-09-07T00:00:00.000000000",
          "1978-10-11T00:00:00.000000000",
          "1976-09-19T00:00:00.000000000",
          "1976-06-16T00:00:00.000000000",
          "1976-09-30T00:00:00.000000000",
          "1977-03-30T00:00:00.000000000",
          "1976-06-17T00:00:00.000000000",
          "1977-05-17T00:00:00.000000000",
          "1977-05-17T00:00:00.000000000",
          "1977-09-14T00:00:00.000000000",
          "1978-04-08T00:00:00.000000000",
          "1977-04-23T00:00:00.000000000",
          "1976-08-05T00:00:00.000000000",
          "1976-09-22T00:00:00.000000000",
          "1976-06-17T00:00:00.000000000",
          "1976-05-05T00:00:00.000000000",
          "1977-01-25T00:00:00.000000000",
          "1977-08-19T00:00:00.000000000",
          "1977-02-05T00:00:00.000000000",
          "1976-06-04T00:00:00.000000000",
          "1978-02-12T00:00:00.000000000",
          "1976-10-17T00:00:00.000000000",
          "1976-07-13T00:00:00.000000000",
          "1977-08-14T00:00:00.000000000",
          "1976-10-01T00:00:00.000000000",
          "1977-04-12T00:00:00.000000000",
          "1976-12-28T00:00:00.000000000",
          "1976-07-16T00:00:00.000000000",
          "1976-06-03T00:00:00.000000000",
          "1977-01-11T00:00:00.000000000",
          "1977-08-12T00:00:00.000000000",
          "1977-06-18T00:00:00.000000000",
          "1976-08-15T00:00:00.000000000",
          "1976-08-15T00:00:00.000000000",
          "1977-01-19T00:00:00.000000000",
          "1976-09-06T00:00:00.000000000",
          "1979-08-01T00:00:00.000000000",
          "1977-08-04T00:00:00.000000000",
          "1977-07-21T00:00:00.000000000",
          "1977-02-05T00:00:00.000000000",
          "1977-06-05T00:00:00.000000000",
          "1976-11-23T00:00:00.000000000",
          "1976-11-05T00:00:00.000000000",
          "1976-09-03T00:00:00.000000000",
          "1976-07-06T00:00:00.000000000",
          "1976-03-31T00:00:00.000000000",
          "1978-05-24T00:00:00.000000000",
          "1976-08-25T00:00:00.000000000",
          "1976-05-14T00:00:00.000000000",
          "1976-05-07T00:00:00.000000000",
          "1976-07-31T00:00:00.000000000",
          "1979-08-05T00:00:00.000000000",
          "1977-10-03T00:00:00.000000000",
          "1978-05-26T00:00:00.000000000",
          "1977-01-13T00:00:00.000000000",
          "1979-11-13T00:00:00.000000000",
          "1978-07-31T00:00:00.000000000",
          "1977-12-21T00:00:00.000000000",
          "1976-04-03T00:00:00.000000000",
          "1976-09-01T00:00:00.000000000",
          "1977-04-27T00:00:00.000000000",
          "1976-04-26T00:00:00.000000000",
          "1976-05-12T00:00:00.000000000",
          "1976-10-23T00:00:00.000000000",
          "1976-08-01T00:00:00.000000000",
          "1979-08-05T00:00:00.000000000",
          "1977-02-09T00:00:00.000000000",
          "1976-09-15T00:00:00.000000000",
          "1979-09-21T00:00:00.000000000",
          "1976-04-25T00:00:00.000000000",
          "1976-04-25T00:00:00.000000000",
          "1977-06-01T00:00:00.000000000",
          "1976-09-01T00:00:00.000000000",
          "1976-10-27T00:00:00.000000000",
          "1976-10-08T00:00:00.000000000",
          "1977-05-19T00:00:00.000000000",
          "1978-10-11T00:00:00.000000000",
          "1977-11-01T00:00:00.000000000",
          "1976-10-20T00:00:00.000000000",
          "1976-12-12T00:00:00.000000000",
          "1976-10-01T00:00:00.000000000",
          "1976-12-09T00:00:00.000000000",
          "1977-06-08T00:00:00.000000000",
          "1976-05-18T00:00:00.000000000",
          "1980-02-29T00:00:00.000000000",
          "1976-05-19T00:00:00.000000000",
          "1977-10-11T00:00:00.000000000",
          "1978-02-04T00:00:00.000000000",
          "1977-11-11T00:00:00.000000000",
          "1976-08-16T00:00:00.000000000",
          "1977-04-09T00:00:00.000000000",
          "1976-06-08T00:00:00.000000000",
          "1976-12-21T00:00:00.000000000",
          "1977-09-17T00:00:00.000000000",
          "1976-07-30T00:00:00.000000000",
          "1976-07-08T00:00:00.000000000",
          "1977-02-02T00:00:00.000000000",
          "1980-08-20T00:00:00.000000000",
          "1976-10-28T00:00:00.000000000",
          "1976-05-12T00:00:00.000000000",
          "1977-05-20T00:00:00.000000000",
          "1976-07-24T00:00:00.000000000",
          "1976-05-28T00:00:00.000000000",
          "1976-04-20T00:00:00.000000000",
          "1976-09-14T00:00:00.000000000",
          "1976-08-06T00:00:00.000000000",
          "1978-07-12T00:00:00.000000000",
          "1978-03-10T00:00:00.000000000",
          "1977-02-01T00:00:00.000000000",
          "1977-02-01T00:00:00.000000000",
          "1977-09-04T00:00:00.000000000",
          "1977-05-18T00:00:00.000000000",
          "1977-04-14T00:00:00.000000000",
          "1976-05-15T00:00:00.000000000",
          "1976-04-13T00:00:00.000000000",
          "1977-04-29T00:00:00.000000000",
          "1977-02-04T00:00:00.000000000",
          "1978-05-18T00:00:00.000000000",
          "1977-06-12T00:00:00.000000000",
          "1977-06-13T00:00:00.000000000",
          "1977-05-16T00:00:00.000000000",
          "1977-04-12T00:00:00.000000000",
          "1976-07-18T00:00:00.000000000",
          "1976-09-22T00:00:00.000000000",
          "1976-11-07T00:00:00.000000000",
          "1977-04-29T00:00:00.000000000",
          "1976-05-24T00:00:00.000000000",
          "1976-09-10T00:00:00.000000000",
          "1977-06-28T00:00:00.000000000",
          "1978-01-14T00:00:00.000000000",
          "1977-04-28T00:00:00.000000000",
          "1976-10-08T00:00:00.000000000",
          "1976-07-18T00:00:00.000000000",
          "1977-11-02T00:00:00.000000000",
          "1977-02-03T00:00:00.000000000",
          "1976-11-08T00:00:00.000000000",
          "1976-07-16T00:00:00.000000000",
          "1977-11-12T00:00:00.000000000",
          "1976-10-21T00:00:00.000000000",
          "1976-09-25T00:00:00.000000000",
          "1976-09-27T00:00:00.000000000",
          "1976-04-24T00:00:00.000000000",
          "1976-08-22T00:00:00.000000000",
          "1977-04-02T00:00:00.000000000",
          "1976-05-05T00:00:00.000000000",
          "1977-07-13T00:00:00.000000000",
          "1978-03-10T00:00:00.000000000",
          "1976-10-13T00:00:00.000000000",
          "1977-09-01T00:00:00.000000000",
          "1976-10-12T00:00:00.000000000",
          "1976-11-12T00:00:00.000000000",
          "1976-09-18T00:00:00.000000000",
          "1977-09-21T00:00:00.000000000",
          "1976-04-20T00:00:00.000000000",
          "1977-05-01T00:00:00.000000000",
          "1976-09-16T00:00:00.000000000",
          "1977-12-24T00:00:00.000000000",
          "1977-05-12T00:00:00.000000000",
          "1977-11-09T00:00:00.000000000",
          "1977-08-18T00:00:00.000000000",
          "1976-06-07T00:00:00.000000000",
          "1977-01-20T00:00:00.000000000",
          "1976-03-29T00:00:00.000000000",
          "1976-12-12T00:00:00.000000000",
          "1976-08-26T00:00:00.000000000",
          "1977-05-17T00:00:00.000000000",
          "1979-09-20T00:00:00.000000000",
          "1976-09-04T00:00:00.000000000",
          "1976-08-28T00:00:00.000000000",
          "1977-03-30T00:00:00.000000000",
          "1977-08-02T00:00:00.000000000",
          "1977-04-08T00:00:00.000000000",
          "1977-03-17T00:00:00.000000000",
          "1977-02-15T00:00:00.000000000",
          "1977-01-01T00:00:00.000000000",
          "1978-06-22T00:00:00.000000000",
          "1977-04-14T00:00:00.000000000",
          "1977-10-07T00:00:00.000000000",
          "1976-11-26T00:00:00.000000000",
          "1977-02-10T00:00:00.000000000",
          "1977-05-18T00:00:00.000000000",
          "1976-07-01T00:00:00.000000000",
          "1976-06-30T00:00:00.000000000",
          "1977-12-24T00:00:00.000000000",
          "1976-06-30T00:00:00.000000000",
          "1976-12-16T00:00:00.000000000",
          "1976-08-09T00:00:00.000000000",
          "1976-09-14T00:00:00.000000000",
          "1977-06-27T00:00:00.000000000",
          "1976-07-14T00:00:00.000000000",
          "1976-07-26T00:00:00.000000000",
          "1977-04-07T00:00:00.000000000",
          "1977-03-04T00:00:00.000000000",
          "1976-05-08T00:00:00.000000000",
          "1978-11-08T00:00:00.000000000",
          "1977-05-19T00:00:00.000000000",
          "1976-08-14T00:00:00.000000000",
          "1977-08-13T00:00:00.000000000",
          "1978-10-01T00:00:00.000000000",
          "1977-05-31T00:00:00.000000000",
          "1976-05-14T00:00:00.000000000",
          "1977-05-13T00:00:00.000000000",
          "1977-05-13T00:00:00.000000000",
          "1976-09-27T00:00:00.000000000",
          "1976-09-25T00:00:00.000000000",
          "1976-05-29T00:00:00.000000000",
          "1976-10-15T00:00:00.000000000",
          "1976-06-30T00:00:00.000000000",
          "1977-09-21T00:00:00.000000000",
          "1977-03-01T00:00:00.000000000",
          "1977-12-27T00:00:00.000000000",
          "1976-06-30T00:00:00.000000000",
          "1976-12-21T00:00:00.000000000",
          "1977-02-11T00:00:00.000000000",
          "1976-07-24T00:00:00.000000000",
          "1976-11-19T00:00:00.000000000",
          "1976-05-20T00:00:00.000000000",
          "1976-09-25T00:00:00.000000000",
          "1977-05-23T00:00:00.000000000",
          "1977-12-01T00:00:00.000000000",
          "1976-07-02T00:00:00.000000000",
          "1976-11-15T00:00:00.000000000",
          "1976-11-04T00:00:00.000000000",
          "1976-11-30T00:00:00.000000000",
          "1978-06-13T00:00:00.000000000",
          "1976-12-03T00:00:00.000000000",
          "1976-05-14T00:00:00.000000000",
          "1976-05-01T00:00:00.000000000",
          "1977-06-21T00:00:00.000000000",
          "1977-03-20T00:00:00.000000000",
          "1979-09-14T00:00:00.000000000",
          "1978-06-20T00:00:00.000000000",
          "1978-01-12T00:00:00.000000000",
          "1978-06-17T00:00:00.000000000",
          "1976-06-25T00:00:00.000000000",
          "1978-12-10T00:00:00.000000000",
          "1977-07-01T00:00:00.000000000",
          "1977-08-09T00:00:00.000000000",
          "1976-09-03T00:00:00.000000000",
          "1977-05-11T00:00:00.000000000",
          "1977-01-01T00:00:00.000000000",
          "1976-06-03T00:00:00.000000000",
          "1976-05-26T00:00:00.000000000",
          "1978-06-30T00:00:00.000000000",
          "1977-06-10T00:00:00.000000000",
          "1977-03-29T00:00:00.000000000",
          "1977-05-21T00:00:00.000000000",
          "1976-07-06T00:00:00.000000000",
          "1978-02-25T00:00:00.000000000",
          "1977-01-23T00:00:00.000000000",
          "1976-10-01T00:00:00.000000000",
          "1977-02-04T00:00:00.000000000",
          "1978-09-26T00:00:00.000000000",
          "1977-10-26T00:00:00.000000000",
          "1978-01-19T00:00:00.000000000",
          "1980-05-01T00:00:00.000000000",
          "1977-09-29T00:00:00.000000000",
          "1976-04-16T00:00:00.000000000",
          "1977-10-07T00:00:00.000000000",
          "1977-10-06T00:00:00.000000000",
          "1977-11-02T00:00:00.000000000",
          "1977-07-21T00:00:00.000000000",
          "1976-10-29T00:00:00.000000000",
          "1977-02-01T00:00:00.000000000",
          "1976-08-23T00:00:00.000000000",
          "1976-05-22T00:00:00.000000000",
          "1976-08-03T00:00:00.000000000",
          "1980-11-01T00:00:00.000000000",
          "1976-08-08T00:00:00.000000000",
          "1977-05-15T00:00:00.000000000",
          "1978-12-04T00:00:00.000000000",
          "1976-05-27T00:00:00.000000000",
          "1976-06-07T00:00:00.000000000",
          "1976-08-28T00:00:00.000000000",
          "1977-02-03T00:00:00.000000000",
          "1976-10-20T00:00:00.000000000",
          "1978-07-10T00:00:00.000000000",
          "1976-09-15T00:00:00.000000000",
          "1976-11-29T00:00:00.000000000",
          "1976-12-01T00:00:00.000000000",
          "1978-05-11T00:00:00.000000000",
          "1977-01-24T00:00:00.000000000",
          "1977-02-15T00:00:00.000000000",
          "1976-06-24T00:00:00.000000000",
          "1978-10-01T00:00:00.000000000",
          "1976-05-19T00:00:00.000000000",
          "1976-09-01T00:00:00.000000000",
          "1976-07-16T00:00:00.000000000",
          "1977-04-12T00:00:00.000000000",
          "1977-05-01T00:00:00.000000000",
          "1980-08-27T00:00:00.000000000",
          "1977-04-19T00:00:00.000000000",
          "1976-04-29T00:00:00.000000000",
          "1977-11-22T00:00:00.000000000",
          "1977-11-22T00:00:00.000000000",
          "1976-07-09T00:00:00.000000000",
          "1976-08-05T00:00:00.000000000",
          "1976-12-21T00:00:00.000000000",
          "1978-01-14T00:00:00.000000000",
          "1978-05-21T00:00:00.000000000",
          "1976-10-14T00:00:00.000000000",
          "1976-06-04T00:00:00.000000000",
          "1976-03-27T00:00:00.000000000",
          "1978-12-02T00:00:00.000000000",
          "1976-09-01T00:00:00.000000000",
          "1978-04-14T00:00:00.000000000",
          "1976-11-24T00:00:00.000000000",
          "1979-06-12T00:00:00.000000000",
          "1977-03-01T00:00:00.000000000",
          "1978-09-15T00:00:00.000000000",
          "1976-04-03T00:00:00.000000000",
          "1977-01-17T00:00:00.000000000",
          "1976-11-24T00:00:00.000000000",
          "1979-05-12T00:00:00.000000000",
          "1976-06-30T00:00:00.000000000",
          "1976-09-23T00:00:00.000000000",
          "1978-07-21T00:00:00.000000000",
          "1977-10-05T00:00:00.000000000",
          "1977-06-15T00:00:00.000000000",
          "1977-01-11T00:00:00.000000000",
          "1976-11-05T00:00:00.000000000",
          "1976-09-01T00:00:00.000000000",
          "1976-08-08T00:00:00.000000000",
          "1976-08-16T00:00:00.000000000",
          "1976-11-30T00:00:00.000000000",
          "1977-07-30T00:00:00.000000000",
          "1977-07-24T00:00:00.000000000",
          "1976-12-08T00:00:00.000000000",
          "1977-04-01T00:00:00.000000000",
          "1976-07-30T00:00:00.000000000",
          "1978-09-29T00:00:00.000000000",
          "1978-04-02T00:00:00.000000000",
          "1977-07-14T00:00:00.000000000",
          "1976-09-10T00:00:00.000000000",
          "1977-06-16T00:00:00.000000000",
          "1976-07-08T00:00:00.000000000",
          "1979-01-08T00:00:00.000000000",
          "1977-12-24T00:00:00.000000000",
          "1977-12-24T00:00:00.000000000",
          "1978-04-13T00:00:00.000000000",
          "1978-04-12T00:00:00.000000000",
          "1978-11-30T00:00:00.000000000",
          "1977-08-24T00:00:00.000000000",
          "1976-08-10T00:00:00.000000000",
          "1977-02-17T00:00:00.000000000",
          "1977-04-29T00:00:00.000000000",
          "1977-08-25T00:00:00.000000000",
          "1976-08-13T00:00:00.000000000",
          "1976-04-25T00:00:00.000000000",
          "1976-06-01T00:00:00.000000000",
          "1976-07-21T00:00:00.000000000",
          "1976-12-08T00:00:00.000000000",
          "1977-01-31T00:00:00.000000000",
          "1978-05-27T00:00:00.000000000",
          "1978-05-27T00:00:00.000000000",
          "1977-04-06T00:00:00.000000000",
          "1980-06-09T00:00:00.000000000",
          "1976-04-10T00:00:00.000000000",
          "1976-08-15T00:00:00.000000000",
          "1976-06-09T00:00:00.000000000",
          "1977-06-23T00:00:00.000000000",
          "1977-10-19T00:00:00.000000000",
          "1976-04-09T00:00:00.000000000",
          "1976-04-09T00:00:00.000000000",
          "1976-04-21T00:00:00.000000000",
          "1977-06-02T00:00:00.000000000",
          "1978-01-14T00:00:00.000000000",
          "1977-05-10T00:00:00.000000000",
          "1976-07-24T00:00:00.000000000",
          "1976-08-19T00:00:00.000000000",
          "1977-03-20T00:00:00.000000000",
          "1976-11-24T00:00:00.000000000",
          "1976-11-01T00:00:00.000000000",
          "1976-12-14T00:00:00.000000000",
          "1978-03-01T00:00:00.000000000",
          "1977-07-28T00:00:00.000000000",
          "1977-05-14T00:00:00.000000000",
          "1976-07-07T00:00:00.000000000",
          "1976-08-23T00:00:00.000000000",
          "1977-07-28T00:00:00.000000000",
          "1977-11-16T00:00:00.000000000",
          "1978-01-25T00:00:00.000000000",
          "1977-02-14T00:00:00.000000000",
          "1977-11-05T00:00:00.000000000",
          "1976-08-24T00:00:00.000000000",
          "1977-09-29T00:00:00.000000000",
          "1976-10-11T00:00:00.000000000",
          "1977-11-07T00:00:00.000000000",
          "1976-09-18T00:00:00.000000000",
          "1977-04-05T00:00:00.000000000",
          "1977-04-05T00:00:00.000000000",
          "1976-04-27T00:00:00.000000000",
          "1976-08-09T00:00:00.000000000",
          "1977-05-12T00:00:00.000000000",
          "1977-04-23T00:00:00.000000000",
          "1977-01-13T00:00:00.000000000",
          "1976-08-03T00:00:00.000000000",
          "1977-04-23T00:00:00.000000000",
          "1976-10-02T00:00:00.000000000",
          "1976-06-13T00:00:00.000000000",
          "1977-04-23T00:00:00.000000000",
          "1977-06-01T00:00:00.000000000",
          "1977-04-23T00:00:00.000000000",
          "1976-08-03T00:00:00.000000000",
          "1979-04-20T00:00:00.000000000",
          "1977-04-18T00:00:00.000000000",
          "1977-04-12T00:00:00.000000000",
          "1977-02-28T00:00:00.000000000",
          "1976-04-03T00:00:00.000000000",
          "1976-11-30T00:00:00.000000000",
          "1976-06-27T00:00:00.000000000",
          "1977-05-01T00:00:00.000000000",
          "1977-12-06T00:00:00.000000000",
          "1976-08-05T00:00:00.000000000",
          "1977-06-15T00:00:00.000000000",
          "1976-07-21T00:00:00.000000000",
          "1982-02-04T00:00:00.000000000",
          "1976-12-03T00:00:00.000000000",
          "1977-06-21T00:00:00.000000000",
          "1976-08-09T00:00:00.000000000",
          "1977-08-25T00:00:00.000000000",
          "1977-06-27T00:00:00.000000000",
          "1978-10-01T00:00:00.000000000",
          "1976-06-01T00:00:00.000000000",
          "1977-03-18T00:00:00.000000000",
          "1978-10-31T00:00:00.000000000",
          "1976-11-21T00:00:00.000000000",
          "1978-05-31T00:00:00.000000000",
          "1976-03-28T00:00:00.000000000",
          "1977-05-22T00:00:00.000000000",
          "1979-02-05T00:00:00.000000000",
          "1976-05-07T00:00:00.000000000",
          "1977-05-05T00:00:00.000000000",
          "1977-06-14T00:00:00.000000000",
          "1978-04-20T00:00:00.000000000",
          "1977-12-14T00:00:00.000000000",
          "1976-10-28T00:00:00.000000000",
          "1977-01-16T00:00:00.000000000",
          "1977-12-23T00:00:00.000000000",
          "1977-12-14T00:00:00.000000000",
          "1977-05-15T00:00:00.000000000",
          "1976-08-19T00:00:00.000000000",
          "1976-08-09T00:00:00.000000000",
          "1977-04-22T00:00:00.000000000",
          "1977-07-29T00:00:00.000000000",
          "1976-09-22T00:00:00.000000000",
          "1980-07-06T00:00:00.000000000",
          "1977-04-07T00:00:00.000000000",
          "1976-09-21T00:00:00.000000000",
          "1977-01-27T00:00:00.000000000",
          "1977-05-14T00:00:00.000000000",
          "1977-12-14T00:00:00.000000000",
          "1977-08-12T00:00:00.000000000",
          "1977-10-17T00:00:00.000000000",
          "1977-11-24T00:00:00.000000000",
          "1976-11-02T00:00:00.000000000",
          "1976-06-14T00:00:00.000000000",
          "1978-06-01T00:00:00.000000000",
          "1977-02-27T00:00:00.000000000",
          "1976-12-02T00:00:00.000000000",
          "1978-11-09T00:00:00.000000000",
          "1978-05-23T00:00:00.000000000",
          "1977-05-12T00:00:00.000000000",
          "1976-11-11T00:00:00.000000000",
          "1976-04-04T00:00:00.000000000",
          "1977-07-08T00:00:00.000000000",
          "1976-04-29T00:00:00.000000000",
          "1978-04-18T00:00:00.000000000",
          "1976-06-14T00:00:00.000000000",
          "1976-06-23T00:00:00.000000000",
          "1976-06-17T00:00:00.000000000",
          "1977-05-05T00:00:00.000000000",
          "1976-08-21T00:00:00.000000000",
          "1978-07-01T00:00:00.000000000",
          "1978-07-01T00:00:00.000000000",
          "1976-06-14T00:00:00.000000000",
          "1977-12-06T00:00:00.000000000",
          "1976-09-15T00:00:00.000000000",
          "1977-10-18T00:00:00.000000000",
          "1977-01-12T00:00:00.000000000",
          "1977-04-12T00:00:00.000000000",
          "1976-07-10T00:00:00.000000000",
          "1977-08-26T00:00:00.000000000",
          "1976-06-15T00:00:00.000000000",
          "1977-11-03T00:00:00.000000000",
          "1978-07-12T00:00:00.000000000",
          "1976-07-07T00:00:00.000000000",
          "1976-11-24T00:00:00.000000000",
          "1978-05-18T00:00:00.000000000",
          "1976-10-20T00:00:00.000000000",
          "1976-10-24T00:00:00.000000000",
          "1976-12-03T00:00:00.000000000",
          "1977-05-11T00:00:00.000000000",
          "1978-10-22T00:00:00.000000000",
          "1976-11-12T00:00:00.000000000",
          "1976-05-12T00:00:00.000000000",
          "1978-07-01T00:00:00.000000000",
          "1976-08-05T00:00:00.000000000",
          "1977-04-10T00:00:00.000000000",
          "1977-07-21T00:00:00.000000000",
          "1976-05-06T00:00:00.000000000",
          "1977-05-15T00:00:00.000000000",
          "1976-07-19T00:00:00.000000000",
          "1977-11-26T00:00:00.000000000",
          "1977-05-12T00:00:00.000000000",
          "1978-06-26T00:00:00.000000000",
          "1976-12-04T00:00:00.000000000",
          "1976-10-17T00:00:00.000000000",
          "1976-09-12T00:00:00.000000000",
          "1976-08-26T00:00:00.000000000",
          "1977-07-19T00:00:00.000000000",
          "1978-07-01T00:00:00.000000000",
          "1976-10-26T00:00:00.000000000",
          "1977-07-30T00:00:00.000000000",
          "1977-03-25T00:00:00.000000000",
          "1977-03-20T00:00:00.000000000",
          "1976-09-26T00:00:00.000000000",
          "1976-04-05T00:00:00.000000000",
          "1976-12-01T00:00:00.000000000",
          "1977-08-01T00:00:00.000000000",
          "1976-09-27T00:00:00.000000000",
          "1976-08-23T00:00:00.000000000",
          "1976-04-15T00:00:00.000000000",
          "1976-10-18T00:00:00.000000000",
          "1976-08-02T00:00:00.000000000",
          "1976-10-01T00:00:00.000000000",
          "1976-11-05T00:00:00.000000000",
          "1976-09-28T00:00:00.000000000",
          "1978-08-01T00:00:00.000000000",
          "1976-12-28T00:00:00.000000000",
          "1976-10-20T00:00:00.000000000",
          "1976-10-07T00:00:00.000000000",
          "1976-06-10T00:00:00.000000000",
          "1976-11-26T00:00:00.000000000",
          "1977-03-02T00:00:00.000000000",
          "1976-06-23T00:00:00.000000000",
          "1976-10-01T00:00:00.000000000",
          "1978-01-31T00:00:00.000000000",
          "1976-11-24T00:00:00.000000000",
          "1977-09-04T00:00:00.000000000",
          "1977-04-18T00:00:00.000000000",
          "1976-04-29T00:00:00.000000000",
          "1976-04-10T00:00:00.000000000",
          "1976-08-16T00:00:00.000000000",
          "1977-03-31T00:00:00.000000000",
          "1976-11-16T00:00:00.000000000",
          "1977-09-03T00:00:00.000000000",
          "1976-11-15T00:00:00.000000000",
          "1976-09-25T00:00:00.000000000",
          "1977-03-24T00:00:00.000000000",
          "1978-05-25T00:00:00.000000000",
          "1977-06-09T00:00:00.000000000",
          "1978-05-26T00:00:00.000000000",
          "1976-04-19T00:00:00.000000000",
          "1976-12-16T00:00:00.000000000",
          "1976-06-22T00:00:00.000000000",
          "1976-07-05T00:00:00.000000000",
          "1976-11-04T00:00:00.000000000",
          "1976-06-15T00:00:00.000000000",
          "1976-06-25T00:00:00.000000000",
          "1976-10-21T00:00:00.000000000",
          "1976-11-08T00:00:00.000000000",
          "1978-06-19T00:00:00.000000000",
          "1977-02-16T00:00:00.000000000",
          "1976-10-05T00:00:00.000000000",
          "1976-09-17T00:00:00.000000000",
          "1977-09-01T00:00:00.000000000",
          "1977-01-27T00:00:00.000000000",
          "1976-07-19T00:00:00.000000000",
          "1977-05-12T00:00:00.000000000",
          "1977-01-04T00:00:00.000000000",
          "1977-10-25T00:00:00.000000000",
          "1976-05-13T00:00:00.000000000",
          "1976-09-14T00:00:00.000000000",
          "1977-01-09T00:00:00.000000000",
          "1977-02-10T00:00:00.000000000",
          "1976-05-12T00:00:00.000000000",
          "1977-05-25T00:00:00.000000000",
          "1976-08-14T00:00:00.000000000",
          "1976-07-20T00:00:00.000000000",
          "1976-09-09T00:00:00.000000000",
          "1977-03-03T00:00:00.000000000",
          "1977-01-04T00:00:00.000000000",
          "1976-06-24T00:00:00.000000000",
          "1977-07-20T00:00:00.000000000",
          "1978-01-05T00:00:00.000000000",
          "1976-03-26T00:00:00.000000000",
          "1977-01-25T00:00:00.000000000",
          "1976-12-17T00:00:00.000000000",
          "1977-08-22T00:00:00.000000000",
          "1977-09-24T00:00:00.000000000",
          "1978-10-07T00:00:00.000000000",
          "1976-12-16T00:00:00.000000000",
          "1976-05-13T00:00:00.000000000",
          "1977-02-28T00:00:00.000000000",
          "1977-08-01T00:00:00.000000000",
          "1976-05-13T00:00:00.000000000",
          "1978-01-01T00:00:00.000000000",
          "1977-09-19T00:00:00.000000000",
          "1977-05-21T00:00:00.000000000",
          "1978-08-09T00:00:00.000000000",
          "1976-04-20T00:00:00.000000000",
          "1977-06-09T00:00:00.000000000",
          "1978-08-10T00:00:00.000000000",
          "1976-10-27T00:00:00.000000000",
          "1977-06-14T00:00:00.000000000",
          "1976-05-18T00:00:00.000000000",
          "1977-06-10T00:00:00.000000000",
          "1976-11-11T00:00:00.000000000",
          "1976-11-11T00:00:00.000000000",
          "1977-02-18T00:00:00.000000000",
          "1977-09-19T00:00:00.000000000",
          "1976-06-26T00:00:00.000000000",
          "1976-05-14T00:00:00.000000000",
          "1976-11-23T00:00:00.000000000",
          "1977-08-24T00:00:00.000000000",
          "1976-12-20T00:00:00.000000000",
          "1977-07-01T00:00:00.000000000",
          "1977-05-01T00:00:00.000000000",
          "1977-06-29T00:00:00.000000000",
          "1977-05-12T00:00:00.000000000",
          "1977-05-14T00:00:00.000000000",
          "1980-02-28T00:00:00.000000000",
          "1976-05-26T00:00:00.000000000",
          "1980-05-22T00:00:00.000000000",
          "1978-09-15T00:00:00.000000000",
          "1976-07-05T00:00:00.000000000",
          "1977-04-17T00:00:00.000000000",
          "1980-06-17T00:00:00.000000000",
          "1978-11-10T00:00:00.000000000",
          "1977-08-10T00:00:00.000000000",
          "1977-03-06T00:00:00.000000000",
          "1977-06-24T00:00:00.000000000",
          "1976-07-23T00:00:00.000000000",
          "1976-07-23T00:00:00.000000000",
          "1976-08-26T00:00:00.000000000",
          "1976-09-29T00:00:00.000000000",
          "1977-03-21T00:00:00.000000000",
          "1977-03-21T00:00:00.000000000",
          "1976-07-16T00:00:00.000000000",
          "1976-12-10T00:00:00.000000000",
          "1977-08-07T00:00:00.000000000",
          "1977-05-08T00:00:00.000000000",
          "1977-08-06T00:00:00.000000000",
          "1978-11-09T00:00:00.000000000",
          "1976-05-04T00:00:00.000000000",
          "1976-03-30T00:00:00.000000000",
          "1978-05-14T00:00:00.000000000",
          "1977-02-15T00:00:00.000000000",
          "1976-09-07T00:00:00.000000000",
          "1977-03-24T00:00:00.000000000",
          "1978-05-11T00:00:00.000000000",
          "1976-08-22T00:00:00.000000000",
          "1976-10-14T00:00:00.000000000",
          "1976-07-07T00:00:00.000000000",
          "1976-04-19T00:00:00.000000000",
          "1976-11-13T00:00:00.000000000",
          "1976-08-01T00:00:00.000000000",
          "1977-04-28T00:00:00.000000000",
          "1977-06-10T00:00:00.000000000",
          "1976-06-10T00:00:00.000000000",
          "1976-05-08T00:00:00.000000000",
          "1977-02-01T00:00:00.000000000",
          "1977-02-28T00:00:00.000000000",
          "1977-12-21T00:00:00.000000000",
          "1977-12-05T00:00:00.000000000",
          "1977-09-19T00:00:00.000000000",
          "1977-08-01T00:00:00.000000000",
          "1978-07-26T00:00:00.000000000",
          "1976-05-05T00:00:00.000000000",
          "1979-10-17T00:00:00.000000000",
          "1977-02-21T00:00:00.000000000",
          "1976-09-23T00:00:00.000000000",
          "1979-06-01T00:00:00.000000000",
          "1978-10-20T00:00:00.000000000",
          "1976-12-15T00:00:00.000000000",
          "1979-01-08T00:00:00.000000000",
          "1978-07-28T00:00:00.000000000",
          "1977-12-28T00:00:00.000000000",
          "1977-05-17T00:00:00.000000000",
          "1976-06-29T00:00:00.000000000",
          "1981-01-13T00:00:00.000000000",
          "1978-04-01T00:00:00.000000000",
          "1976-09-02T00:00:00.000000000",
          "1977-08-26T00:00:00.000000000",
          "1977-02-21T00:00:00.000000000",
          "1979-06-12T00:00:00.000000000",
          "1978-02-10T00:00:00.000000000",
          "1976-10-05T00:00:00.000000000",
          "1976-07-17T00:00:00.000000000",
          "1977-04-20T00:00:00.000000000",
          "1976-11-13T00:00:00.000000000",
          "1976-07-08T00:00:00.000000000",
          "1978-06-25T00:00:00.000000000",
          "1976-06-13T00:00:00.000000000",
          "1976-12-13T00:00:00.000000000",
          "1977-04-01T00:00:00.000000000",
          "1977-05-01T00:00:00.000000000",
          "1978-01-11T00:00:00.000000000",
          "1977-04-20T00:00:00.000000000",
          "1976-07-08T00:00:00.000000000",
          "1976-11-25T00:00:00.000000000",
          "1976-05-16T00:00:00.000000000",
          "1976-03-29T00:00:00.000000000",
          "1977-11-30T00:00:00.000000000",
          "1977-02-01T00:00:00.000000000",
          "1977-04-19T00:00:00.000000000",
          "1976-06-23T00:00:00.000000000",
          "1977-11-14T00:00:00.000000000",
          "1977-03-14T00:00:00.000000000",
          "1976-09-16T00:00:00.000000000",
          "1976-07-16T00:00:00.000000000",
          "1976-07-27T00:00:00.000000000",
          "1977-08-31T00:00:00.000000000",
          "1977-06-22T00:00:00.000000000",
          "1977-04-09T00:00:00.000000000",
          "1976-12-10T00:00:00.000000000",
          "1981-01-27T00:00:00.000000000",
          "1977-05-01T00:00:00.000000000",
          "1977-01-05T00:00:00.000000000",
          "1976-08-05T00:00:00.000000000",
          "1977-04-19T00:00:00.000000000",
          "1977-12-06T00:00:00.000000000",
          "1978-08-15T00:00:00.000000000",
          "1978-06-01T00:00:00.000000000",
          "1977-02-14T00:00:00.000000000",
          "1976-07-08T00:00:00.000000000",
          "1977-09-20T00:00:00.000000000",
          "1978-10-24T00:00:00.000000000",
          "1976-10-16T00:00:00.000000000",
          "1977-02-05T00:00:00.000000000",
          "1977-09-19T00:00:00.000000000",
          "1976-05-14T00:00:00.000000000",
          "1977-11-01T00:00:00.000000000",
          "1977-02-11T00:00:00.000000000",
          "1977-01-03T00:00:00.000000000",
          "1977-04-21T00:00:00.000000000",
          "1977-01-01T00:00:00.000000000",
          "1977-01-01T00:00:00.000000000",
          "1976-07-27T00:00:00.000000000",
          "1976-11-13T00:00:00.000000000",
          "1976-11-13T00:00:00.000000000",
          "1977-05-17T00:00:00.000000000",
          "1977-05-17T00:00:00.000000000",
          "1978-05-23T00:00:00.000000000",
          "1976-12-01T00:00:00.000000000",
          "1976-04-19T00:00:00.000000000",
          "1977-06-02T00:00:00.000000000",
          "1976-08-18T00:00:00.000000000",
          "1978-02-14T00:00:00.000000000",
          "1976-05-26T00:00:00.000000000",
          "1977-09-17T00:00:00.000000000",
          "1977-11-20T00:00:00.000000000",
          "1976-11-02T00:00:00.000000000",
          "1976-05-20T00:00:00.000000000",
          "1976-05-24T00:00:00.000000000",
          "1976-09-23T00:00:00.000000000",
          "1976-05-26T00:00:00.000000000",
          "1976-07-16T00:00:00.000000000",
          "1976-11-02T00:00:00.000000000",
          "1976-05-20T00:00:00.000000000",
          "1976-04-14T00:00:00.000000000",
          "1977-04-22T00:00:00.000000000",
          "1978-07-18T00:00:00.000000000",
          "1976-06-13T00:00:00.000000000",
          "1978-05-11T00:00:00.000000000",
          "1977-05-07T00:00:00.000000000",
          "1977-09-18T00:00:00.000000000",
          "1977-09-18T00:00:00.000000000",
          "1977-01-12T00:00:00.000000000",
          "1977-04-06T00:00:00.000000000",
          "1976-11-13T00:00:00.000000000",
          "1976-11-13T00:00:00.000000000",
          "1978-12-06T00:00:00.000000000",
          "1978-07-06T00:00:00.000000000",
          "1977-04-11T00:00:00.000000000",
          "1977-02-12T00:00:00.000000000",
          "1976-07-29T00:00:00.000000000",
          "1977-05-13T00:00:00.000000000",
          "1976-10-07T00:00:00.000000000",
          "1977-03-25T00:00:00.000000000",
          "1977-04-29T00:00:00.000000000",
          "1977-09-01T00:00:00.000000000",
          "1977-06-09T00:00:00.000000000",
          "1977-04-29T00:00:00.000000000",
          "1977-08-26T00:00:00.000000000",
          "1976-04-29T00:00:00.000000000",
          "1977-02-03T00:00:00.000000000",
          "1976-10-01T00:00:00.000000000",
          "1976-09-29T00:00:00.000000000",
          "1977-08-15T00:00:00.000000000",
          "1976-09-22T00:00:00.000000000",
          "1977-09-20T00:00:00.000000000",
          "1976-04-28T00:00:00.000000000",
          "1977-05-18T00:00:00.000000000",
          "1978-01-29T00:00:00.000000000",
          "1976-12-07T00:00:00.000000000",
          "1977-11-30T00:00:00.000000000",
          "1976-10-28T00:00:00.000000000",
          "1976-08-13T00:00:00.000000000",
          "1977-03-02T00:00:00.000000000",
          "1976-03-30T00:00:00.000000000",
          "1976-09-27T00:00:00.000000000",
          "1976-05-31T00:00:00.000000000",
          "1976-08-06T00:00:00.000000000",
          "1976-07-17T00:00:00.000000000",
          "1976-04-23T00:00:00.000000000",
          "1976-09-14T00:00:00.000000000",
          "1977-05-21T00:00:00.000000000",
          "1976-08-04T00:00:00.000000000",
          "1976-05-07T00:00:00.000000000",
          "1976-12-03T00:00:00.000000000",
          "1976-09-15T00:00:00.000000000",
          "1976-11-08T00:00:00.000000000",
          "1978-08-03T00:00:00.000000000",
          "1976-12-17T00:00:00.000000000",
          "1977-08-17T00:00:00.000000000",
          "1977-04-27T00:00:00.000000000",
          "1976-07-11T00:00:00.000000000",
          "1980-11-01T00:00:00.000000000",
          "1976-12-12T00:00:00.000000000",
          "1977-03-08T00:00:00.000000000",
          "1976-11-06T00:00:00.000000000",
          "1976-12-05T00:00:00.000000000",
          "1976-11-19T00:00:00.000000000",
          "1977-12-06T00:00:00.000000000",
          "1977-12-30T00:00:00.000000000",
          "1977-03-10T00:00:00.000000000",
          "1977-08-17T00:00:00.000000000",
          "1979-07-15T00:00:00.000000000",
          "1976-05-12T00:00:00.000000000",
          "1976-06-30T00:00:00.000000000",
          "1976-04-03T00:00:00.000000000",
          "1976-11-19T00:00:00.000000000",
          "1977-04-01T00:00:00.000000000",
          "1976-09-27T00:00:00.000000000",
          "1976-05-17T00:00:00.000000000",
          "1978-01-27T00:00:00.000000000",
          "1976-08-16T00:00:00.000000000",
          "1976-09-30T00:00:00.000000000",
          "1976-06-24T00:00:00.000000000",
          "1976-06-01T00:00:00.000000000",
          "1976-06-09T00:00:00.000000000",
          "1976-05-29T00:00:00.000000000",
          "1976-10-24T00:00:00.000000000",
          "1976-10-24T00:00:00.000000000",
          "1976-11-20T00:00:00.000000000",
          "1977-01-12T00:00:00.000000000",
          "1977-05-14T00:00:00.000000000",
          "1977-05-12T00:00:00.000000000",
          "1977-02-16T00:00:00.000000000",
          "1977-08-04T00:00:00.000000000",
          "1978-01-25T00:00:00.000000000",
          "1976-04-20T00:00:00.000000000",
          "1976-10-23T00:00:00.000000000",
          "1976-09-28T00:00:00.000000000",
          "1977-11-11T00:00:00.000000000",
          "1976-11-26T00:00:00.000000000",
          "1976-04-02T00:00:00.000000000",
          "1978-07-20T00:00:00.000000000",
          "1978-04-08T00:00:00.000000000",
          "1976-05-27T00:00:00.000000000",
          "1976-12-22T00:00:00.000000000",
          "1977-08-10T00:00:00.000000000",
          "1976-10-15T00:00:00.000000000",
          "1976-07-18T00:00:00.000000000",
          "1976-11-11T00:00:00.000000000",
          "1977-01-04T00:00:00.000000000",
          "1977-05-12T00:00:00.000000000",
          "1976-09-17T00:00:00.000000000",
          "1977-11-10T00:00:00.000000000",
          "1977-02-20T00:00:00.000000000",
          "1976-09-02T00:00:00.000000000",
          "1977-03-22T00:00:00.000000000",
          "1976-10-25T00:00:00.000000000",
          "1976-06-19T00:00:00.000000000",
          "1978-09-23T00:00:00.000000000",
          "1977-10-03T00:00:00.000000000",
          "1978-09-23T00:00:00.000000000",
          "1977-09-01T00:00:00.000000000",
          "1976-07-03T00:00:00.000000000",
          "1977-08-08T00:00:00.000000000",
          "1976-07-23T00:00:00.000000000",
          "1978-05-06T00:00:00.000000000",
          "1976-04-23T00:00:00.000000000",
          "1976-10-12T00:00:00.000000000",
          "1978-11-10T00:00:00.000000000",
          "1976-04-21T00:00:00.000000000",
          "1976-07-17T00:00:00.000000000",
          "1976-07-13T00:00:00.000000000",
          "1977-03-23T00:00:00.000000000",
          "1977-05-13T00:00:00.000000000",
          "1977-05-17T00:00:00.000000000",
          "1978-03-30T00:00:00.000000000",
          "1976-08-16T00:00:00.000000000",
          "1976-05-13T00:00:00.000000000",
          "1976-07-06T00:00:00.000000000",
          "1977-10-19T00:00:00.000000000",
          "1976-09-15T00:00:00.000000000",
          "1977-10-18T00:00:00.000000000",
          "1976-07-07T00:00:00.000000000",
          "1976-09-13T00:00:00.000000000",
          "1977-03-14T00:00:00.000000000",
          "1976-11-26T00:00:00.000000000",
          "1976-11-10T00:00:00.000000000",
          "1976-10-14T00:00:00.000000000",
          "1976-11-19T00:00:00.000000000",
          "1978-01-02T00:00:00.000000000",
          "1977-05-16T00:00:00.000000000",
          "1976-12-31T00:00:00.000000000",
          "1976-11-24T00:00:00.000000000",
          "1978-06-15T00:00:00.000000000",
          "1977-08-08T00:00:00.000000000",
          "1977-09-15T00:00:00.000000000",
          "1976-10-01T00:00:00.000000000",
          "1976-03-28T00:00:00.000000000",
          "1977-06-03T00:00:00.000000000",
          "1977-01-17T00:00:00.000000000",
          "1976-07-21T00:00:00.000000000",
          "1976-04-26T00:00:00.000000000",
          "1976-05-06T00:00:00.000000000",
          "1976-08-15T00:00:00.000000000",
          "1976-06-14T00:00:00.000000000",
          "1977-06-01T00:00:00.000000000",
          "1976-12-14T00:00:00.000000000",
          "1978-06-08T00:00:00.000000000",
          "1977-02-14T00:00:00.000000000",
          "1976-10-15T00:00:00.000000000",
          "1976-12-16T00:00:00.000000000",
          "1977-03-18T00:00:00.000000000",
          "1976-08-11T00:00:00.000000000",
          "1977-06-03T00:00:00.000000000",
          "1977-10-27T00:00:00.000000000",
          "1976-10-26T00:00:00.000000000",
          "1977-07-21T00:00:00.000000000",
          "1976-06-03T00:00:00.000000000",
          "1976-10-13T00:00:00.000000000",
          "1976-06-25T00:00:00.000000000",
          "1977-02-01T00:00:00.000000000",
          "1976-10-01T00:00:00.000000000",
          "1976-09-01T00:00:00.000000000",
          "1977-09-01T00:00:00.000000000",
          "1977-03-26T00:00:00.000000000",
          "1977-11-02T00:00:00.000000000",
          "1977-02-28T00:00:00.000000000",
          "1976-04-01T00:00:00.000000000",
          "1976-07-31T00:00:00.000000000",
          "1976-08-11T00:00:00.000000000",
          "1977-10-27T00:00:00.000000000",
          "1976-07-27T00:00:00.000000000",
          "1977-08-13T00:00:00.000000000",
          "1977-07-15T00:00:00.000000000",
          "1978-12-21T00:00:00.000000000",
          "1976-09-29T00:00:00.000000000",
          "1977-05-19T00:00:00.000000000",
          "1977-11-01T00:00:00.000000000",
          "1976-05-04T00:00:00.000000000",
          "1976-04-21T00:00:00.000000000",
          "1976-04-23T00:00:00.000000000",
          "1977-09-06T00:00:00.000000000",
          "1977-09-06T00:00:00.000000000",
          "1977-06-06T00:00:00.000000000",
          "1977-05-16T00:00:00.000000000",
          "1977-07-23T00:00:00.000000000",
          "1978-11-10T00:00:00.000000000",
          "1976-06-24T00:00:00.000000000",
          "1977-11-28T00:00:00.000000000",
          "1976-11-15T00:00:00.000000000",
          "1976-08-11T00:00:00.000000000",
          "1976-05-08T00:00:00.000000000",
          "1977-03-24T00:00:00.000000000",
          "1976-11-16T00:00:00.000000000",
          "1977-05-14T00:00:00.000000000",
          "1976-08-21T00:00:00.000000000",
          "1976-09-30T00:00:00.000000000",
          "1976-05-27T00:00:00.000000000",
          "1976-05-20T00:00:00.000000000",
          "1979-06-12T00:00:00.000000000",
          "1977-08-14T00:00:00.000000000",
          "1977-01-27T00:00:00.000000000",
          "1976-06-19T00:00:00.000000000",
          "1976-08-07T00:00:00.000000000",
          "1977-04-27T00:00:00.000000000",
          "1976-10-15T00:00:00.000000000",
          "1977-05-13T00:00:00.000000000",
          "1976-10-16T00:00:00.000000000",
          "1976-07-06T00:00:00.000000000",
          "1977-04-21T00:00:00.000000000",
          "1976-04-03T00:00:00.000000000",
          "1977-02-28T00:00:00.000000000",
          "1976-06-30T00:00:00.000000000",
          "1976-07-21T00:00:00.000000000",
          "1977-08-19T00:00:00.000000000",
          "1976-04-07T00:00:00.000000000",
          "1976-07-07T00:00:00.000000000",
          "1976-04-21T00:00:00.000000000",
          "1976-05-21T00:00:00.000000000",
          "1977-05-04T00:00:00.000000000",
          "1977-02-08T00:00:00.000000000",
          "1976-08-15T00:00:00.000000000",
          "1976-08-05T00:00:00.000000000",
          "1977-04-18T00:00:00.000000000",
          "1976-10-15T00:00:00.000000000",
          "1977-05-10T00:00:00.000000000",
          "1977-05-15T00:00:00.000000000",
          "1978-12-27T00:00:00.000000000",
          "1976-10-13T00:00:00.000000000",
          "1976-08-16T00:00:00.000000000",
          "1977-01-02T00:00:00.000000000",
          "1977-04-23T00:00:00.000000000",
          "1976-10-19T00:00:00.000000000",
          "1976-10-08T00:00:00.000000000",
          "1976-07-12T00:00:00.000000000",
          "1978-06-05T00:00:00.000000000",
          "1977-02-26T00:00:00.000000000",
          "1977-08-09T00:00:00.000000000",
          "1977-01-18T00:00:00.000000000",
          "1976-05-06T00:00:00.000000000",
          "1976-06-30T00:00:00.000000000",
          "1976-12-22T00:00:00.000000000",
          "1977-04-10T00:00:00.000000000",
          "1976-04-04T00:00:00.000000000",
          "1977-03-16T00:00:00.000000000",
          "1977-07-19T00:00:00.000000000",
          "1976-10-01T00:00:00.000000000",
          "1977-05-12T00:00:00.000000000",
          "1976-06-23T00:00:00.000000000",
          "1976-07-13T00:00:00.000000000",
          "1977-01-18T00:00:00.000000000",
          "1977-09-09T00:00:00.000000000",
          "1976-06-04T00:00:00.000000000",
          "1976-10-20T00:00:00.000000000",
          "1977-01-20T00:00:00.000000000",
          "1976-05-26T00:00:00.000000000",
          "1976-09-29T00:00:00.000000000",
          "1976-07-31T00:00:00.000000000",
          "1976-08-10T00:00:00.000000000",
          "1976-09-20T00:00:00.000000000",
          "1977-05-27T00:00:00.000000000",
          "1976-09-20T00:00:00.000000000",
          "1976-09-30T00:00:00.000000000",
          "1976-09-01T00:00:00.000000000",
          "1978-04-14T00:00:00.000000000",
          "1976-04-01T00:00:00.000000000",
          "1976-12-02T00:00:00.000000000",
          "1976-07-30T00:00:00.000000000",
          "1976-04-03T00:00:00.000000000",
          "1976-10-02T00:00:00.000000000",
          "1977-02-05T00:00:00.000000000",
          "1977-12-08T00:00:00.000000000",
          "1976-10-30T00:00:00.000000000",
          "1978-04-14T00:00:00.000000000",
          "1976-03-26T00:00:00.000000000",
          "1977-11-14T00:00:00.000000000",
          "1977-06-04T00:00:00.000000000",
          "1978-07-18T00:00:00.000000000",
          "1977-11-21T00:00:00.000000000",
          "1977-01-21T00:00:00.000000000",
          "1976-05-29T00:00:00.000000000",
          "1976-08-13T00:00:00.000000000",
          "1976-09-18T00:00:00.000000000",
          "1976-05-29T00:00:00.000000000",
          "1976-05-04T00:00:00.000000000",
          "1978-02-25T00:00:00.000000000",
          "1978-07-18T00:00:00.000000000",
          "1976-04-18T00:00:00.000000000",
          "1978-04-18T00:00:00.000000000",
          "1976-10-28T00:00:00.000000000",
          "1976-06-14T00:00:00.000000000",
          "1977-12-14T00:00:00.000000000",
          "1978-06-20T00:00:00.000000000",
          "1978-07-28T00:00:00.000000000",
          "1977-05-01T00:00:00.000000000",
          "1976-11-25T00:00:00.000000000",
          "1977-06-15T00:00:00.000000000",
          "1977-02-03T00:00:00.000000000",
          "1976-05-19T00:00:00.000000000",
          "1976-03-29T00:00:00.000000000",
          "1976-10-28T00:00:00.000000000",
          "1976-07-10T00:00:00.000000000",
          "1976-12-14T00:00:00.000000000",
          "1978-01-25T00:00:00.000000000",
          "1976-11-01T00:00:00.000000000",
          "1978-06-30T00:00:00.000000000",
          "1976-11-10T00:00:00.000000000",
          "1976-09-17T00:00:00.000000000",
          "1976-04-15T00:00:00.000000000",
          "1977-11-22T00:00:00.000000000",
          "1976-05-22T00:00:00.000000000",
          "1977-07-15T00:00:00.000000000",
          "1977-05-10T00:00:00.000000000",
          "1976-10-28T00:00:00.000000000",
          "1977-09-29T00:00:00.000000000",
          "1977-05-10T00:00:00.000000000",
          "1976-09-01T00:00:00.000000000",
          "1976-11-05T00:00:00.000000000",
          "1976-11-19T00:00:00.000000000",
          "1977-02-12T00:00:00.000000000",
          "1977-08-19T00:00:00.000000000",
          "1976-06-26T00:00:00.000000000",
          "1977-05-18T00:00:00.000000000",
          "1977-06-03T00:00:00.000000000",
          "1976-03-26T00:00:00.000000000",
          "1976-07-06T00:00:00.000000000",
          "1976-04-04T00:00:00.000000000",
          "1977-04-01T00:00:00.000000000",
          "1977-05-05T00:00:00.000000000",
          "1977-05-13T00:00:00.000000000",
          "1977-05-05T00:00:00.000000000",
          "1976-10-18T00:00:00.000000000",
          "1977-04-20T00:00:00.000000000",
          "1976-09-07T00:00:00.000000000",
          "1976-08-24T00:00:00.000000000",
          "1977-07-03T00:00:00.000000000",
          "1976-06-24T00:00:00.000000000",
          "1977-12-08T00:00:00.000000000",
          "1976-06-26T00:00:00.000000000",
          "1976-10-12T00:00:00.000000000",
          "1976-04-01T00:00:00.000000000",
          "1979-01-26T00:00:00.000000000",
          "1977-12-29T00:00:00.000000000",
          "1976-07-07T00:00:00.000000000",
          "1977-10-27T00:00:00.000000000",
          "1976-03-26T00:00:00.000000000",
          "1977-06-15T00:00:00.000000000",
          "1976-05-01T00:00:00.000000000",
          "1976-04-21T00:00:00.000000000",
          "1976-06-13T00:00:00.000000000",
          "1976-03-28T00:00:00.000000000",
          "1977-06-02T00:00:00.000000000",
          "1977-04-07T00:00:00.000000000",
          "1976-06-03T00:00:00.000000000",
          "1978-06-27T00:00:00.000000000",
          "1976-12-07T00:00:00.000000000",
          "1977-04-08T00:00:00.000000000",
          "1976-04-26T00:00:00.000000000",
          "1976-08-20T00:00:00.000000000",
          "1976-05-12T00:00:00.000000000",
          "1977-09-04T00:00:00.000000000",
          "1977-12-12T00:00:00.000000000",
          "1977-01-21T00:00:00.000000000",
          "1976-11-20T00:00:00.000000000",
          "1976-08-16T00:00:00.000000000",
          "1977-03-01T00:00:00.000000000",
          "1976-09-30T00:00:00.000000000",
          "1976-09-30T00:00:00.000000000",
          "1978-04-05T00:00:00.000000000",
          "1976-06-06T00:00:00.000000000",
          "1977-11-06T00:00:00.000000000",
          "1977-03-01T00:00:00.000000000",
          "1977-03-23T00:00:00.000000000",
          "1977-03-22T00:00:00.000000000",
          "1976-05-28T00:00:00.000000000",
          "1976-06-27T00:00:00.000000000",
          "1977-03-11T00:00:00.000000000",
          "1977-11-03T00:00:00.000000000",
          "1977-05-27T00:00:00.000000000",
          "1976-05-17T00:00:00.000000000",
          "1976-03-27T00:00:00.000000000",
          "1976-06-01T00:00:00.000000000",
          "1976-05-17T00:00:00.000000000",
          "1979-08-10T00:00:00.000000000",
          "1976-09-16T00:00:00.000000000",
          "1976-12-10T00:00:00.000000000",
          "1977-04-20T00:00:00.000000000",
          "1977-01-11T00:00:00.000000000",
          "1979-11-16T00:00:00.000000000",
          "1978-02-16T00:00:00.000000000",
          "1978-05-01T00:00:00.000000000",
          "1976-12-08T00:00:00.000000000",
          "1976-04-13T00:00:00.000000000",
          "1978-03-27T00:00:00.000000000",
          "1983-01-07T00:00:00.000000000",
          "1977-08-25T00:00:00.000000000",
          "1978-05-16T00:00:00.000000000",
          "1977-06-30T00:00:00.000000000",
          "1977-03-02T00:00:00.000000000",
          "1977-10-27T00:00:00.000000000",
          "1978-03-08T00:00:00.000000000",
          "1976-10-01T00:00:00.000000000",
          "1976-08-06T00:00:00.000000000",
          "1976-07-23T00:00:00.000000000",
          "1978-06-24T00:00:00.000000000",
          "1977-07-01T00:00:00.000000000",
          "1977-03-16T00:00:00.000000000",
          "1976-12-06T00:00:00.000000000",
          "1976-06-22T00:00:00.000000000",
          "1978-03-27T00:00:00.000000000",
          "1977-03-02T00:00:00.000000000",
          "1976-06-02T00:00:00.000000000",
          "1976-05-26T00:00:00.000000000",
          "1977-07-26T00:00:00.000000000",
          "1976-11-09T00:00:00.000000000",
          "1980-08-18T00:00:00.000000000",
          "1979-10-17T00:00:00.000000000",
          "1976-05-07T00:00:00.000000000",
          "1977-03-12T00:00:00.000000000",
          "1976-07-08T00:00:00.000000000",
          "1976-11-10T00:00:00.000000000",
          "1976-07-12T00:00:00.000000000",
          "1977-08-16T00:00:00.000000000",
          "1976-12-13T00:00:00.000000000",
          "1976-03-26T00:00:00.000000000",
          "1977-09-01T00:00:00.000000000",
          "1976-11-01T00:00:00.000000000",
          "1976-04-09T00:00:00.000000000",
          "1977-01-21T00:00:00.000000000",
          "1977-01-20T00:00:00.000000000",
          "1977-08-20T00:00:00.000000000",
          "1976-09-23T00:00:00.000000000",
          "1976-04-05T00:00:00.000000000",
          "1976-07-01T00:00:00.000000000",
          "1977-10-24T00:00:00.000000000",
          "1976-05-10T00:00:00.000000000",
          "1977-05-15T00:00:00.000000000",
          "1977-06-10T00:00:00.000000000",
          "1976-05-22T00:00:00.000000000",
          "1976-12-18T00:00:00.000000000",
          "1976-07-15T00:00:00.000000000",
          "1976-07-13T00:00:00.000000000",
          "1977-03-10T00:00:00.000000000",
          "1976-06-10T00:00:00.000000000",
          "1976-12-27T00:00:00.000000000",
          "1977-03-17T00:00:00.000000000",
          "1978-12-23T00:00:00.000000000",
          "1976-09-03T00:00:00.000000000",
          "1976-06-18T00:00:00.000000000",
          "1976-03-28T00:00:00.000000000",
          "1977-02-01T00:00:00.000000000",
          "1976-09-25T00:00:00.000000000",
          "1976-08-07T00:00:00.000000000",
          "1976-04-20T00:00:00.000000000",
          "1977-08-11T00:00:00.000000000",
          "1977-12-28T00:00:00.000000000",
          "1978-06-20T00:00:00.000000000",
          "1976-12-23T00:00:00.000000000",
          "1978-05-17T00:00:00.000000000",
          "1977-10-01T00:00:00.000000000",
          "1976-12-03T00:00:00.000000000",
          "1976-07-12T00:00:00.000000000",
          "1976-07-19T00:00:00.000000000",
          "1978-05-28T00:00:00.000000000",
          "1977-08-23T00:00:00.000000000",
          "1977-01-01T00:00:00.000000000",
          "1976-07-08T00:00:00.000000000",
          "1976-04-30T00:00:00.000000000",
          "1978-05-10T00:00:00.000000000",
          "1976-08-20T00:00:00.000000000",
          "1976-10-09T00:00:00.000000000",
          "1976-04-22T00:00:00.000000000",
          "1977-04-29T00:00:00.000000000",
          "1977-04-14T00:00:00.000000000",
          "1981-11-07T00:00:00.000000000",
          "1977-03-07T00:00:00.000000000",
          "1978-03-09T00:00:00.000000000",
          "1977-06-01T00:00:00.000000000",
          "1976-07-28T00:00:00.000000000",
          "1977-03-21T00:00:00.000000000",
          "1976-11-23T00:00:00.000000000",
          "1976-10-08T00:00:00.000000000",
          "1976-08-10T00:00:00.000000000",
          "1976-09-17T00:00:00.000000000",
          "1977-02-06T00:00:00.000000000",
          "1977-01-01T00:00:00.000000000",
          "1977-05-06T00:00:00.000000000",
          "1976-07-27T00:00:00.000000000",
          "1976-06-19T00:00:00.000000000",
          "1976-04-02T00:00:00.000000000",
          "1977-01-01T00:00:00.000000000",
          "1977-06-18T00:00:00.000000000",
          "1977-06-18T00:00:00.000000000",
          "1977-04-15T00:00:00.000000000",
          "1980-08-11T00:00:00.000000000",
          "1976-12-21T00:00:00.000000000",
          "1977-08-27T00:00:00.000000000",
          "1977-05-17T00:00:00.000000000",
          "1978-07-01T00:00:00.000000000",
          "1977-08-03T00:00:00.000000000",
          "1976-09-21T00:00:00.000000000",
          "1977-04-29T00:00:00.000000000",
          "1980-02-23T00:00:00.000000000",
          "1977-02-15T00:00:00.000000000",
          "1977-03-25T00:00:00.000000000",
          "1977-01-28T00:00:00.000000000",
          "1976-05-10T00:00:00.000000000",
          "1977-07-13T00:00:00.000000000",
          "1976-11-22T00:00:00.000000000",
          "1976-09-26T00:00:00.000000000",
          "1978-07-08T00:00:00.000000000",
          "1978-06-27T00:00:00.000000000",
          "1976-10-27T00:00:00.000000000",
          "1977-08-29T00:00:00.000000000",
          "1977-08-19T00:00:00.000000000",
          "1977-10-12T00:00:00.000000000",
          "1976-09-25T00:00:00.000000000",
          "1977-02-14T00:00:00.000000000",
          "1977-07-03T00:00:00.000000000",
          "1977-12-28T00:00:00.000000000",
          "1978-04-19T00:00:00.000000000",
          "1977-06-19T00:00:00.000000000",
          "1976-08-06T00:00:00.000000000",
          "1977-03-24T00:00:00.000000000",
          "1977-06-29T00:00:00.000000000",
          "1976-04-29T00:00:00.000000000",
          "1976-09-16T00:00:00.000000000",
          "1976-06-14T00:00:00.000000000",
          "1976-05-24T00:00:00.000000000",
          "1978-05-28T00:00:00.000000000",
          "1976-07-01T00:00:00.000000000",
          "1976-09-15T00:00:00.000000000",
          "1977-08-24T00:00:00.000000000",
          "1976-09-01T00:00:00.000000000",
          "1976-12-16T00:00:00.000000000",
          "1976-06-15T00:00:00.000000000",
          "1977-04-10T00:00:00.000000000",
          "1978-10-01T00:00:00.000000000",
          "1976-07-29T00:00:00.000000000",
          "1977-07-15T00:00:00.000000000",
          "1976-12-13T00:00:00.000000000",
          "1977-04-04T00:00:00.000000000",
          "1983-05-14T00:00:00.000000000",
          "1977-12-06T00:00:00.000000000",
          "1977-01-14T00:00:00.000000000",
          "1976-05-12T00:00:00.000000000",
          "1976-10-14T00:00:00.000000000",
          "1977-07-06T00:00:00.000000000",
          "1976-08-12T00:00:00.000000000",
          "1977-04-22T00:00:00.000000000",
          "1977-08-31T00:00:00.000000000",
          "1977-10-05T00:00:00.000000000",
          "1976-12-01T00:00:00.000000000",
          "1977-07-27T00:00:00.000000000",
          "1976-05-19T00:00:00.000000000",
          "1976-10-28T00:00:00.000000000",
          "1976-04-08T00:00:00.000000000",
          "1976-09-14T00:00:00.000000000",
          "1976-07-27T00:00:00.000000000",
          "1979-05-12T00:00:00.000000000",
          "1976-05-08T00:00:00.000000000",
          "1976-06-26T00:00:00.000000000",
          "1976-06-23T00:00:00.000000000",
          "1976-11-01T00:00:00.000000000",
          "1977-07-21T00:00:00.000000000",
          "1977-04-13T00:00:00.000000000",
          "1976-06-22T00:00:00.000000000",
          "1977-10-10T00:00:00.000000000",
          "1977-07-20T00:00:00.000000000",
          "1977-07-04T00:00:00.000000000",
          "1977-04-06T00:00:00.000000000",
          "1976-09-11T00:00:00.000000000",
          "1977-04-29T00:00:00.000000000",
          "1976-08-05T00:00:00.000000000",
          "1976-06-01T00:00:00.000000000",
          "1977-01-25T00:00:00.000000000",
          "1977-07-07T00:00:00.000000000",
          "1976-11-29T00:00:00.000000000",
          "1976-05-14T00:00:00.000000000",
          "1977-08-22T00:00:00.000000000",
          "1977-04-06T00:00:00.000000000",
          "1979-05-12T00:00:00.000000000",
          "1978-10-06T00:00:00.000000000",
          "1978-12-20T00:00:00.000000000",
          "1977-03-19T00:00:00.000000000",
          "1978-08-01T00:00:00.000000000",
          "1977-07-07T00:00:00.000000000",
          "1978-07-07T00:00:00.000000000",
          "1977-03-28T00:00:00.000000000",
          "1976-12-15T00:00:00.000000000",
          "1976-12-17T00:00:00.000000000",
          "1977-06-02T00:00:00.000000000",
          "1977-08-30T00:00:00.000000000",
          "1977-10-10T00:00:00.000000000",
          "1976-11-09T00:00:00.000000000",
          "1977-04-21T00:00:00.000000000",
          "1978-02-20T00:00:00.000000000",
          "1977-01-31T00:00:00.000000000",
          "1977-01-04T00:00:00.000000000",
          "1976-09-01T00:00:00.000000000",
          "1976-08-04T00:00:00.000000000",
          "1976-10-19T00:00:00.000000000",
          "1977-07-20T00:00:00.000000000",
          "1978-08-08T00:00:00.000000000",
          "1976-07-18T00:00:00.000000000",
          "1978-02-02T00:00:00.000000000",
          "1976-06-24T00:00:00.000000000",
          "1977-06-13T00:00:00.000000000",
          "1977-08-10T00:00:00.000000000",
          "1976-06-18T00:00:00.000000000",
          "1976-10-08T00:00:00.000000000",
          "1976-07-05T00:00:00.000000000",
          "1976-08-15T00:00:00.000000000",
          "1977-12-21T00:00:00.000000000",
          "1978-10-24T00:00:00.000000000",
          "1978-10-23T00:00:00.000000000",
          "1977-05-29T00:00:00.000000000",
          "1976-08-14T00:00:00.000000000",
          "1976-10-08T00:00:00.000000000",
          "1978-11-17T00:00:00.000000000",
          "1977-05-19T00:00:00.000000000",
          "1977-11-01T00:00:00.000000000",
          "1976-09-15T00:00:00.000000000",
          "1977-07-13T00:00:00.000000000",
          "1978-02-24T00:00:00.000000000",
          "1976-07-11T00:00:00.000000000",
          "1977-06-15T00:00:00.000000000",
          "1976-10-13T00:00:00.000000000",
          "1976-12-15T00:00:00.000000000",
          "1977-07-28T00:00:00.000000000",
          "1976-10-28T00:00:00.000000000",
          "1977-06-21T00:00:00.000000000",
          "1976-09-28T00:00:00.000000000",
          "1977-04-18T00:00:00.000000000",
          "1976-08-12T00:00:00.000000000",
          "1977-01-27T00:00:00.000000000",
          "1978-06-26T00:00:00.000000000",
          "1976-05-03T00:00:00.000000000",
          "1976-08-31T00:00:00.000000000",
          "1976-12-13T00:00:00.000000000",
          "1976-05-04T00:00:00.000000000",
          "1976-11-01T00:00:00.000000000",
          "1976-06-09T00:00:00.000000000",
          "1978-06-29T00:00:00.000000000",
          "1977-08-02T00:00:00.000000000",
          "1976-07-24T00:00:00.000000000",
          "1977-10-26T00:00:00.000000000",
          "1976-05-05T00:00:00.000000000",
          "1976-11-04T00:00:00.000000000",
          "1976-10-15T00:00:00.000000000",
          "1976-07-02T00:00:00.000000000",
          "1978-01-20T00:00:00.000000000",
          "1977-07-01T00:00:00.000000000",
          "1976-10-15T00:00:00.000000000",
          "1976-06-04T00:00:00.000000000",
          "1977-06-19T00:00:00.000000000",
          "1977-02-06T00:00:00.000000000",
          "1977-06-02T00:00:00.000000000",
          "1977-02-06T00:00:00.000000000",
          "1980-03-12T00:00:00.000000000",
          "1977-04-06T00:00:00.000000000",
          "1977-08-02T00:00:00.000000000",
          "1976-04-22T00:00:00.000000000",
          "1977-11-11T00:00:00.000000000",
          "1976-11-25T00:00:00.000000000",
          "1977-12-06T00:00:00.000000000",
          "1976-06-21T00:00:00.000000000",
          "1978-07-01T00:00:00.000000000",
          "1976-05-26T00:00:00.000000000",
          "1977-01-05T00:00:00.000000000",
          "1976-10-09T00:00:00.000000000",
          "1977-03-11T00:00:00.000000000",
          "1977-03-10T00:00:00.000000000",
          "1976-06-24T00:00:00.000000000",
          "1977-09-10T00:00:00.000000000",
          "1976-06-11T00:00:00.000000000",
          "1976-06-11T00:00:00.000000000",
          "1977-08-05T00:00:00.000000000",
          "1977-01-27T00:00:00.000000000",
          "1976-06-06T00:00:00.000000000",
          "1976-08-08T00:00:00.000000000",
          "1976-05-12T00:00:00.000000000",
          "1977-06-09T00:00:00.000000000",
          "1977-03-21T00:00:00.000000000",
          "1977-04-26T00:00:00.000000000",
          "1979-04-16T00:00:00.000000000",
          "1976-05-31T00:00:00.000000000",
          "1977-11-01T00:00:00.000000000",
          "1976-12-08T00:00:00.000000000",
          "1976-11-01T00:00:00.000000000",
          "1977-05-15T00:00:00.000000000",
          "1983-04-04T00:00:00.000000000",
          "1977-01-04T00:00:00.000000000",
          "1976-09-16T00:00:00.000000000",
          "1976-08-17T00:00:00.000000000",
          "1977-04-01T00:00:00.000000000",
          "1978-11-27T00:00:00.000000000",
          "1976-10-19T00:00:00.000000000",
          "1977-02-02T00:00:00.000000000",
          "1976-06-15T00:00:00.000000000",
          "1976-10-14T00:00:00.000000000",
          "1976-07-27T00:00:00.000000000",
          "1976-07-23T00:00:00.000000000",
          "1977-07-03T00:00:00.000000000",
          "1976-05-21T00:00:00.000000000",
          "1976-11-04T00:00:00.000000000",
          "1976-07-17T00:00:00.000000000",
          "1976-08-27T00:00:00.000000000",
          "1977-03-26T00:00:00.000000000",
          "1978-02-25T00:00:00.000000000",
          "1978-07-21T00:00:00.000000000",
          "1977-05-05T00:00:00.000000000",
          "1976-07-07T00:00:00.000000000",
          "1977-07-18T00:00:00.000000000",
          "1978-07-05T00:00:00.000000000",
          "1977-01-07T00:00:00.000000000",
          "1976-10-05T00:00:00.000000000",
          "1976-04-06T00:00:00.000000000",
          "1976-12-15T00:00:00.000000000",
          "1977-04-22T00:00:00.000000000",
          "1977-05-31T00:00:00.000000000",
          "1976-08-17T00:00:00.000000000",
          "1977-10-27T00:00:00.000000000",
          "1977-04-18T00:00:00.000000000",
          "1977-12-08T00:00:00.000000000",
          "1977-03-09T00:00:00.000000000",
          "1977-04-04T00:00:00.000000000",
          "1977-07-04T00:00:00.000000000",
          "1976-04-01T00:00:00.000000000",
          "1976-09-13T00:00:00.000000000",
          "1976-08-06T00:00:00.000000000",
          "1977-11-01T00:00:00.000000000",
          "1978-05-04T00:00:00.000000000",
          "1976-11-25T00:00:00.000000000",
          "1979-10-17T00:00:00.000000000",
          "1978-10-06T00:00:00.000000000",
          "1977-05-14T00:00:00.000000000",
          "1976-10-28T00:00:00.000000000",
          "1977-05-16T00:00:00.000000000",
          "1976-06-15T00:00:00.000000000",
          "1976-08-07T00:00:00.000000000",
          "1976-11-25T00:00:00.000000000",
          "1978-06-26T00:00:00.000000000",
          "1976-09-14T00:00:00.000000000",
          "1976-05-28T00:00:00.000000000",
          "1976-07-07T00:00:00.000000000",
          "1977-11-24T00:00:00.000000000",
          "1976-12-21T00:00:00.000000000",
          "1978-08-22T00:00:00.000000000",
          "1976-05-14T00:00:00.000000000",
          "1977-11-29T00:00:00.000000000",
          "1977-06-26T00:00:00.000000000",
          "1976-12-10T00:00:00.000000000",
          "1976-07-06T00:00:00.000000000",
          "1976-11-25T00:00:00.000000000",
          "1976-08-27T00:00:00.000000000",
          "1976-07-29T00:00:00.000000000",
          "1976-06-23T00:00:00.000000000",
          "1979-01-03T00:00:00.000000000",
          "1977-08-24T00:00:00.000000000",
          "1977-01-12T00:00:00.000000000",
          "1976-11-13T00:00:00.000000000",
          "1977-01-01T00:00:00.000000000",
          "1978-02-12T00:00:00.000000000",
          "1978-07-01T00:00:00.000000000",
          "1978-04-11T00:00:00.000000000",
          "1976-04-29T00:00:00.000000000",
          "1977-01-14T00:00:00.000000000",
          "1976-12-15T00:00:00.000000000",
          "1978-03-24T00:00:00.000000000",
          "1976-05-07T00:00:00.000000000",
          "1976-07-21T00:00:00.000000000",
          "1978-12-15T00:00:00.000000000",
          "1976-05-27T00:00:00.000000000",
          "1977-04-27T00:00:00.000000000",
          "1977-07-17T00:00:00.000000000",
          "1978-11-10T00:00:00.000000000",
          "1976-09-30T00:00:00.000000000",
          "1977-08-19T00:00:00.000000000",
          "1978-03-01T00:00:00.000000000",
          "1978-01-24T00:00:00.000000000",
          "1976-04-18T00:00:00.000000000",
          "1976-11-25T00:00:00.000000000",
          "1980-11-01T00:00:00.000000000",
          "1977-03-30T00:00:00.000000000",
          "1976-09-21T00:00:00.000000000",
          "1977-02-19T00:00:00.000000000",
          "1977-08-04T00:00:00.000000000",
          "1977-03-03T00:00:00.000000000",
          "1977-12-06T00:00:00.000000000",
          "1976-10-18T00:00:00.000000000",
          "1976-05-25T00:00:00.000000000",
          "1976-04-01T00:00:00.000000000",
          "1976-05-28T00:00:00.000000000",
          "1976-11-20T00:00:00.000000000",
          "1977-01-26T00:00:00.000000000",
          "1977-11-02T00:00:00.000000000",
          "1976-07-09T00:00:00.000000000",
          "1977-08-17T00:00:00.000000000",
          "1977-09-11T00:00:00.000000000",
          "1978-05-17T00:00:00.000000000",
          "1976-10-01T00:00:00.000000000",
          "1977-01-21T00:00:00.000000000",
          "1978-01-23T00:00:00.000000000",
          "1976-04-11T00:00:00.000000000",
          "1976-10-04T00:00:00.000000000",
          "1977-03-17T00:00:00.000000000",
          "1977-12-28T00:00:00.000000000",
          "1977-09-01T00:00:00.000000000",
          "1978-01-24T00:00:00.000000000",
          "1976-08-20T00:00:00.000000000",
          "1976-07-01T00:00:00.000000000",
          "1981-02-19T00:00:00.000000000",
          "1977-03-31T00:00:00.000000000",
          "1977-08-29T00:00:00.000000000",
          "1976-10-26T00:00:00.000000000",
          "1976-05-14T00:00:00.000000000",
          "1977-01-17T00:00:00.000000000",
          "1976-04-22T00:00:00.000000000",
          "1978-08-03T00:00:00.000000000",
          "1978-08-03T00:00:00.000000000",
          "1976-05-01T00:00:00.000000000",
          "1977-03-02T00:00:00.000000000",
          "1976-08-28T00:00:00.000000000",
          "1977-07-11T00:00:00.000000000",
          "1976-07-28T00:00:00.000000000",
          "1978-01-15T00:00:00.000000000",
          "1976-10-20T00:00:00.000000000",
          "1976-04-21T00:00:00.000000000",
          "1977-03-03T00:00:00.000000000",
          "1979-09-14T00:00:00.000000000",
          "1976-06-28T00:00:00.000000000",
          "1977-01-05T00:00:00.000000000",
          "1977-04-26T00:00:00.000000000",
          "1977-05-14T00:00:00.000000000",
          "1977-06-15T00:00:00.000000000",
          "1977-01-30T00:00:00.000000000",
          "1977-01-26T00:00:00.000000000",
          "1977-04-16T00:00:00.000000000",
          "1976-09-10T00:00:00.000000000",
          "1977-02-21T00:00:00.000000000",
          "1976-06-17T00:00:00.000000000",
          "1977-02-04T00:00:00.000000000",
          "1976-05-17T00:00:00.000000000",
          "1976-09-16T00:00:00.000000000",
          "1977-03-03T00:00:00.000000000",
          "1976-10-28T00:00:00.000000000",
          "1976-12-23T00:00:00.000000000",
          "1978-01-31T00:00:00.000000000",
          "1976-10-20T00:00:00.000000000",
          "1976-05-07T00:00:00.000000000",
          "1976-04-23T00:00:00.000000000",
          "1977-03-26T00:00:00.000000000",
          "1977-05-15T00:00:00.000000000",
          "1977-07-22T00:00:00.000000000",
          "1977-10-23T00:00:00.000000000",
          "1976-06-11T00:00:00.000000000",
          "1977-01-14T00:00:00.000000000",
          "1976-08-23T00:00:00.000000000",
          "1977-09-01T00:00:00.000000000",
          "1976-07-03T00:00:00.000000000",
          "1977-01-18T00:00:00.000000000",
          "1976-10-23T00:00:00.000000000",
          "1976-07-26T00:00:00.000000000",
          "1976-06-02T00:00:00.000000000",
          "1977-04-01T00:00:00.000000000",
          "1977-01-14T00:00:00.000000000",
          "1978-05-31T00:00:00.000000000",
          "1977-01-14T00:00:00.000000000",
          "1980-06-12T00:00:00.000000000",
          "1976-11-04T00:00:00.000000000",
          "1979-02-09T00:00:00.000000000",
          "1976-07-03T00:00:00.000000000",
          "1976-07-21T00:00:00.000000000",
          "1978-03-16T00:00:00.000000000",
          "1978-10-17T00:00:00.000000000",
          "1976-08-24T00:00:00.000000000",
          "1976-05-10T00:00:00.000000000",
          "1977-05-16T00:00:00.000000000",
          "1976-06-29T00:00:00.000000000",
          "1977-12-06T00:00:00.000000000",
          "1977-04-26T00:00:00.000000000",
          "1977-12-29T00:00:00.000000000",
          "1977-12-07T00:00:00.000000000",
          "1977-02-16T00:00:00.000000000",
          "1976-09-22T00:00:00.000000000",
          "1977-01-12T00:00:00.000000000",
          "1976-11-01T00:00:00.000000000",
          "1977-09-23T00:00:00.000000000",
          "1977-01-12T00:00:00.000000000",
          "1976-11-06T00:00:00.000000000",
          "1977-09-17T00:00:00.000000000",
          "1976-09-22T00:00:00.000000000",
          "1976-11-05T00:00:00.000000000",
          "1976-11-06T00:00:00.000000000",
          "1977-03-11T00:00:00.000000000",
          "1976-06-09T00:00:00.000000000",
          "1976-10-13T00:00:00.000000000",
          "1977-04-07T00:00:00.000000000",
          "1976-06-10T00:00:00.000000000",
          "1976-07-07T00:00:00.000000000",
          "1977-01-28T00:00:00.000000000",
          "1977-07-30T00:00:00.000000000",
          "1977-02-17T00:00:00.000000000",
          "1977-04-12T00:00:00.000000000",
          "1977-02-23T00:00:00.000000000",
          "1977-09-16T00:00:00.000000000",
          "1980-06-12T00:00:00.000000000",
          "1976-07-08T00:00:00.000000000",
          "1976-07-13T00:00:00.000000000",
          "1977-05-12T00:00:00.000000000",
          "1977-02-14T00:00:00.000000000",
          "1977-06-09T00:00:00.000000000",
          "1976-05-26T00:00:00.000000000",
          "1977-05-04T00:00:00.000000000",
          "1976-07-10T00:00:00.000000000",
          "1977-04-01T00:00:00.000000000",
          "1977-03-01T00:00:00.000000000",
          "1977-12-06T00:00:00.000000000",
          "1978-01-13T00:00:00.000000000",
          "1977-01-29T00:00:00.000000000",
          "1977-02-02T00:00:00.000000000",
          "1977-02-01T00:00:00.000000000",
          "1976-04-01T00:00:00.000000000",
          "1976-10-01T00:00:00.000000000",
          "1977-01-12T00:00:00.000000000",
          "1977-08-04T00:00:00.000000000",
          "1977-03-22T00:00:00.000000000",
          "1976-06-08T00:00:00.000000000",
          "1977-02-09T00:00:00.000000000",
          "1977-01-13T00:00:00.000000000",
          "1977-01-05T00:00:00.000000000",
          "1976-05-03T00:00:00.000000000",
          "1977-08-14T00:00:00.000000000",
          "1977-11-23T00:00:00.000000000",
          "1976-07-23T00:00:00.000000000",
          "1976-10-16T00:00:00.000000000",
          "1977-05-02T00:00:00.000000000",
          "1977-03-08T00:00:00.000000000",
          "1976-09-16T00:00:00.000000000",
          "1978-08-03T00:00:00.000000000",
          "1978-08-03T00:00:00.000000000",
          "1976-03-29T00:00:00.000000000",
          "1978-06-11T00:00:00.000000000",
          "1978-03-22T00:00:00.000000000",
          "1976-09-30T00:00:00.000000000",
          "1976-07-23T00:00:00.000000000",
          "1977-06-30T00:00:00.000000000",
          "1978-06-30T00:00:00.000000000",
          "1976-07-26T00:00:00.000000000",
          "1977-05-31T00:00:00.000000000",
          "1976-12-01T00:00:00.000000000",
          "1976-10-30T00:00:00.000000000",
          "1976-09-19T00:00:00.000000000",
          "1977-05-18T00:00:00.000000000",
          "1976-04-14T00:00:00.000000000",
          "1976-04-14T00:00:00.000000000",
          "1977-10-19T00:00:00.000000000",
          "1977-02-24T00:00:00.000000000",
          "1977-05-20T00:00:00.000000000",
          "1978-04-08T00:00:00.000000000",
          "1976-04-02T00:00:00.000000000",
          "1977-03-17T00:00:00.000000000",
          "1977-10-18T00:00:00.000000000",
          "1976-07-30T00:00:00.000000000",
          "1976-10-16T00:00:00.000000000",
          "1977-07-05T00:00:00.000000000",
          "1977-10-24T00:00:00.000000000",
          "1976-12-01T00:00:00.000000000",
          "1976-04-23T00:00:00.000000000",
          "1978-08-06T00:00:00.000000000",
          "1977-03-30T00:00:00.000000000",
          "1977-06-30T00:00:00.000000000",
          "1976-04-27T00:00:00.000000000",
          "1978-02-01T00:00:00.000000000",
          "1977-08-05T00:00:00.000000000",
          "1977-07-21T00:00:00.000000000",
          "1977-04-15T00:00:00.000000000",
          "1977-01-25T00:00:00.000000000",
          "1976-04-19T00:00:00.000000000",
          "1976-05-15T00:00:00.000000000",
          "1977-04-16T00:00:00.000000000",
          "1976-12-03T00:00:00.000000000",
          "1977-02-02T00:00:00.000000000",
          "1977-06-30T00:00:00.000000000",
          "1976-07-06T00:00:00.000000000",
          "1977-04-05T00:00:00.000000000",
          "1976-10-29T00:00:00.000000000",
          "1977-12-24T00:00:00.000000000",
          "1978-05-23T00:00:00.000000000",
          "1977-07-22T00:00:00.000000000",
          "1977-07-22T00:00:00.000000000",
          "1977-10-24T00:00:00.000000000",
          "1977-01-29T00:00:00.000000000",
          "1977-04-23T00:00:00.000000000",
          "1976-10-30T00:00:00.000000000",
          "1978-05-24T00:00:00.000000000",
          "1977-05-14T00:00:00.000000000",
          "1976-11-28T00:00:00.000000000",
          "1976-10-05T00:00:00.000000000",
          "1977-09-05T00:00:00.000000000",
          "1977-11-02T00:00:00.000000000",
          "1977-05-01T00:00:00.000000000",
          "1976-06-28T00:00:00.000000000",
          "1977-03-01T00:00:00.000000000",
          "1976-12-15T00:00:00.000000000",
          "1978-04-23T00:00:00.000000000",
          "1976-07-20T00:00:00.000000000",
          "1977-06-09T00:00:00.000000000",
          "1976-07-21T00:00:00.000000000",
          "1977-07-12T00:00:00.000000000",
          "1977-09-11T00:00:00.000000000",
          "1976-11-01T00:00:00.000000000",
          "1976-07-01T00:00:00.000000000",
          "1977-02-03T00:00:00.000000000",
          "1978-05-18T00:00:00.000000000",
          "1978-05-18T00:00:00.000000000",
          "1977-02-26T00:00:00.000000000",
          "1977-02-26T00:00:00.000000000",
          "1976-07-21T00:00:00.000000000",
          "1976-05-04T00:00:00.000000000",
          "1976-06-01T00:00:00.000000000",
          "1977-08-10T00:00:00.000000000",
          "1979-09-24T00:00:00.000000000",
          "1976-10-09T00:00:00.000000000",
          "1976-10-01T00:00:00.000000000",
          "1976-09-24T00:00:00.000000000",
          "1976-05-14T00:00:00.000000000",
          "1978-07-25T00:00:00.000000000",
          "1976-07-22T00:00:00.000000000",
          "1976-10-12T00:00:00.000000000",
          "1978-06-26T00:00:00.000000000",
          "1976-11-13T00:00:00.000000000",
          "1976-07-07T00:00:00.000000000",
          "1976-06-25T00:00:00.000000000",
          "1977-12-13T00:00:00.000000000",
          "1977-01-16T00:00:00.000000000",
          "1978-07-13T00:00:00.000000000",
          "1976-11-17T00:00:00.000000000",
          "1976-07-14T00:00:00.000000000",
          "1980-08-27T00:00:00.000000000",
          "1976-12-06T00:00:00.000000000",
          "1976-10-15T00:00:00.000000000",
          "1976-04-23T00:00:00.000000000",
          "1976-08-02T00:00:00.000000000",
          "1978-02-04T00:00:00.000000000",
          "1976-05-18T00:00:00.000000000",
          "1977-09-13T00:00:00.000000000",
          "1976-04-05T00:00:00.000000000",
          "1977-07-12T00:00:00.000000000",
          "1981-12-06T00:00:00.000000000",
          "1977-01-13T00:00:00.000000000",
          "1976-10-01T00:00:00.000000000",
          "1976-12-15T00:00:00.000000000",
          "1976-11-13T00:00:00.000000000",
          "1976-08-17T00:00:00.000000000",
          "1977-05-21T00:00:00.000000000",
          "1977-04-27T00:00:00.000000000",
          "1977-01-06T00:00:00.000000000",
          "1977-05-15T00:00:00.000000000",
          "1976-10-30T00:00:00.000000000",
          "1976-04-14T00:00:00.000000000",
          "1977-09-07T00:00:00.000000000",
          "1976-12-03T00:00:00.000000000",
          "1976-12-01T00:00:00.000000000",
          "1976-08-30T00:00:00.000000000",
          "1976-06-23T00:00:00.000000000",
          "1976-08-04T00:00:00.000000000",
          "1976-09-23T00:00:00.000000000",
          "1977-06-04T00:00:00.000000000",
          "1977-05-15T00:00:00.000000000",
          "1977-07-31T00:00:00.000000000",
          "1976-10-06T00:00:00.000000000",
          "1977-02-26T00:00:00.000000000",
          "1977-03-09T00:00:00.000000000",
          "1976-06-17T00:00:00.000000000",
          "1976-03-26T00:00:00.000000000",
          "1976-03-26T00:00:00.000000000",
          "1977-12-22T00:00:00.000000000",
          "1976-11-11T00:00:00.000000000",
          "1981-12-04T00:00:00.000000000",
          "1976-08-01T00:00:00.000000000",
          "1976-08-04T00:00:00.000000000",
          "1976-06-24T00:00:00.000000000",
          "1977-02-01T00:00:00.000000000",
          "1976-08-16T00:00:00.000000000",
          "1977-09-16T00:00:00.000000000",
          "1976-04-02T00:00:00.000000000",
          "1976-10-14T00:00:00.000000000",
          "1977-09-06T00:00:00.000000000",
          "1977-06-09T00:00:00.000000000",
          "1976-10-24T00:00:00.000000000",
          "1977-05-16T00:00:00.000000000",
          "1976-05-02T00:00:00.000000000",
          "1976-11-11T00:00:00.000000000",
          "1977-01-08T00:00:00.000000000",
          "1977-11-01T00:00:00.000000000",
          "1976-10-19T00:00:00.000000000",
          "1976-09-10T00:00:00.000000000",
          "1979-01-08T00:00:00.000000000",
          "1977-09-01T00:00:00.000000000",
          "1977-03-21T00:00:00.000000000",
          "1977-02-16T00:00:00.000000000",
          "1976-06-15T00:00:00.000000000",
          "1977-01-12T00:00:00.000000000",
          "1976-10-27T00:00:00.000000000",
          "1976-04-02T00:00:00.000000000",
          "1977-01-12T00:00:00.000000000",
          "1976-12-07T00:00:00.000000000",
          "1976-10-29T00:00:00.000000000",
          "1976-10-30T00:00:00.000000000",
          "1976-06-01T00:00:00.000000000",
          "1979-01-04T00:00:00.000000000",
          "1980-02-28T00:00:00.000000000",
          "1976-04-24T00:00:00.000000000",
          "1980-09-09T00:00:00.000000000",
          "1977-09-13T00:00:00.000000000",
          "1976-03-26T00:00:00.000000000",
          "1977-07-06T00:00:00.000000000",
          "1976-08-06T00:00:00.000000000",
          "1977-03-22T00:00:00.000000000",
          "1977-03-08T00:00:00.000000000",
          "1977-03-07T00:00:00.000000000",
          "1977-03-21T00:00:00.000000000",
          "1977-01-27T00:00:00.000000000",
          "1976-03-31T00:00:00.000000000",
          "1976-10-12T00:00:00.000000000",
          "1976-09-28T00:00:00.000000000",
          "1977-01-25T00:00:00.000000000",
          "1977-03-19T00:00:00.000000000",
          "1976-06-04T00:00:00.000000000",
          "1979-07-25T00:00:00.000000000",
          "1976-12-29T00:00:00.000000000",
          "1977-01-08T00:00:00.000000000",
          "1976-07-01T00:00:00.000000000",
          "1979-01-02T00:00:00.000000000",
          "1977-04-11T00:00:00.000000000",
          "1977-03-23T00:00:00.000000000",
          "1976-11-18T00:00:00.000000000",
          "1976-09-01T00:00:00.000000000",
          "1977-05-30T00:00:00.000000000",
          "1976-07-13T00:00:00.000000000",
          "1976-04-15T00:00:00.000000000",
          "1976-07-04T00:00:00.000000000",
          "1976-07-04T00:00:00.000000000",
          "1977-04-12T00:00:00.000000000",
          "1978-10-06T00:00:00.000000000",
          "1976-12-02T00:00:00.000000000",
          "1978-05-28T00:00:00.000000000",
          "1976-07-18T00:00:00.000000000",
          "1977-06-07T00:00:00.000000000",
          "1977-05-23T00:00:00.000000000",
          "1977-07-21T00:00:00.000000000",
          "1977-09-13T00:00:00.000000000",
          "1977-05-18T00:00:00.000000000",
          "1976-12-24T00:00:00.000000000",
          "1976-06-06T00:00:00.000000000",
          "1976-05-12T00:00:00.000000000",
          "1976-06-23T00:00:00.000000000",
          "1977-07-10T00:00:00.000000000",
          "1977-10-11T00:00:00.000000000",
          "1976-04-14T00:00:00.000000000",
          "1976-04-14T00:00:00.000000000",
          "1977-05-26T00:00:00.000000000",
          "1976-09-18T00:00:00.000000000",
          "1977-02-01T00:00:00.000000000",
          "1978-02-16T00:00:00.000000000",
          "1977-10-01T00:00:00.000000000",
          "1977-01-11T00:00:00.000000000",
          "1977-02-18T00:00:00.000000000",
          "1976-06-19T00:00:00.000000000",
          "1977-05-20T00:00:00.000000000",
          "1978-10-23T00:00:00.000000000",
          "1977-09-24T00:00:00.000000000",
          "1976-05-25T00:00:00.000000000",
          "1976-05-07T00:00:00.000000000",
          "1976-06-19T00:00:00.000000000",
          "1976-05-07T00:00:00.000000000",
          "1976-07-27T00:00:00.000000000",
          "1976-05-20T00:00:00.000000000",
          "1976-04-14T00:00:00.000000000",
          "1976-09-17T00:00:00.000000000",
          "1978-01-12T00:00:00.000000000",
          "1976-07-02T00:00:00.000000000",
          "1976-04-14T00:00:00.000000000",
          "1976-04-14T00:00:00.000000000",
          "1977-11-10T00:00:00.000000000",
          "1976-07-30T00:00:00.000000000",
          "1980-06-01T00:00:00.000000000",
          "1981-05-01T00:00:00.000000000",
          "1976-07-16T00:00:00.000000000",
          "1977-09-14T00:00:00.000000000",
          "1977-02-26T00:00:00.000000000",
          "1978-03-03T00:00:00.000000000",
          "1977-02-22T00:00:00.000000000",
          "1977-01-10T00:00:00.000000000",
          "1978-03-03T00:00:00.000000000",
          "1977-06-06T00:00:00.000000000",
          "1978-05-24T00:00:00.000000000",
          "1977-10-27T00:00:00.000000000",
          "1976-12-16T00:00:00.000000000",
          "1976-08-19T00:00:00.000000000",
          "1976-04-15T00:00:00.000000000",
          "1976-05-26T00:00:00.000000000",
          "1976-08-21T00:00:00.000000000",
          "1977-06-30T00:00:00.000000000",
          "1976-09-15T00:00:00.000000000",
          "1978-05-28T00:00:00.000000000",
          "1977-11-05T00:00:00.000000000",
          "1976-04-09T00:00:00.000000000",
          "1977-02-28T00:00:00.000000000",
          "1978-08-10T00:00:00.000000000",
          "1978-05-12T00:00:00.000000000",
          "1977-03-16T00:00:00.000000000",
          "1976-11-29T00:00:00.000000000",
          "1977-07-20T00:00:00.000000000",
          "1976-09-03T00:00:00.000000000",
          "1977-07-20T00:00:00.000000000",
          "1976-08-31T00:00:00.000000000",
          "1976-04-15T00:00:00.000000000",
          "1976-05-20T00:00:00.000000000",
          "1976-12-17T00:00:00.000000000",
          "1979-01-06T00:00:00.000000000",
          "1977-09-13T00:00:00.000000000",
          "1977-06-09T00:00:00.000000000",
          "1979-11-13T00:00:00.000000000",
          "1978-02-26T00:00:00.000000000",
          "1976-11-02T00:00:00.000000000",
          "1976-11-02T00:00:00.000000000",
          "1976-11-02T00:00:00.000000000",
          "1977-07-14T00:00:00.000000000",
          "1977-07-14T00:00:00.000000000",
          "1979-12-11T00:00:00.000000000",
          "1976-11-05T00:00:00.000000000",
          "1978-02-24T00:00:00.000000000",
          "1979-06-12T00:00:00.000000000",
          "1976-08-14T00:00:00.000000000",
          "1976-09-16T00:00:00.000000000",
          "1976-12-04T00:00:00.000000000",
          "1976-07-11T00:00:00.000000000",
          "1977-08-12T00:00:00.000000000",
          "1977-10-19T00:00:00.000000000",
          "1977-04-01T00:00:00.000000000",
          "1978-09-02T00:00:00.000000000",
          "1976-12-10T00:00:00.000000000",
          "1976-06-30T00:00:00.000000000",
          "1976-11-29T00:00:00.000000000",
          "1976-05-01T00:00:00.000000000",
          "1976-05-27T00:00:00.000000000",
          "1976-06-15T00:00:00.000000000",
          "1977-12-09T00:00:00.000000000",
          "1976-06-22T00:00:00.000000000",
          "1977-01-28T00:00:00.000000000",
          "1976-05-22T00:00:00.000000000",
          "1977-01-02T00:00:00.000000000",
          "1977-01-12T00:00:00.000000000",
          "1976-08-27T00:00:00.000000000",
          "1977-04-28T00:00:00.000000000",
          "1976-05-12T00:00:00.000000000",
          "1976-06-12T00:00:00.000000000",
          "1976-08-19T00:00:00.000000000",
          "1977-11-16T00:00:00.000000000",
          "1977-04-14T00:00:00.000000000",
          "1977-04-06T00:00:00.000000000",
          "1977-02-01T00:00:00.000000000",
          "1976-08-17T00:00:00.000000000",
          "1976-06-15T00:00:00.000000000",
          "1977-01-17T00:00:00.000000000",
          "1976-08-24T00:00:00.000000000",
          "1976-10-24T00:00:00.000000000",
          "1978-06-30T00:00:00.000000000",
          "1976-06-23T00:00:00.000000000",
          "1977-03-16T00:00:00.000000000",
          "1977-06-15T00:00:00.000000000",
          "1976-04-05T00:00:00.000000000",
          "1976-11-10T00:00:00.000000000",
          "1976-09-24T00:00:00.000000000",
          "1977-09-22T00:00:00.000000000",
          "1976-11-06T00:00:00.000000000",
          "1977-02-28T00:00:00.000000000",
          "1976-04-02T00:00:00.000000000",
          "1978-07-07T00:00:00.000000000",
          "1978-08-22T00:00:00.000000000",
          "1977-06-20T00:00:00.000000000",
          "1978-03-09T00:00:00.000000000",
          "1976-11-23T00:00:00.000000000",
          "1977-09-20T00:00:00.000000000",
          "1980-05-01T00:00:00.000000000",
          "1976-11-16T00:00:00.000000000",
          "1976-06-03T00:00:00.000000000",
          "1977-10-12T00:00:00.000000000",
          "1976-04-15T00:00:00.000000000",
          "1976-09-27T00:00:00.000000000",
          "1976-11-01T00:00:00.000000000",
          "1977-07-15T00:00:00.000000000",
          "1976-10-02T00:00:00.000000000",
          "1978-03-05T00:00:00.000000000",
          "1977-05-05T00:00:00.000000000",
          "1977-05-14T00:00:00.000000000",
          "1977-03-30T00:00:00.000000000",
          "1977-01-15T00:00:00.000000000",
          "1976-04-02T00:00:00.000000000",
          "1976-06-01T00:00:00.000000000",
          "1976-04-07T00:00:00.000000000",
          "1977-05-31T00:00:00.000000000",
          "1978-01-10T00:00:00.000000000",
          "1977-05-31T00:00:00.000000000",
          "1978-01-16T00:00:00.000000000",
          "1978-01-10T00:00:00.000000000",
          "1976-10-29T00:00:00.000000000",
          "1977-07-14T00:00:00.000000000",
          "1978-01-26T00:00:00.000000000",
          "1976-12-14T00:00:00.000000000",
          "1976-11-29T00:00:00.000000000",
          "1976-08-29T00:00:00.000000000",
          "1976-08-29T00:00:00.000000000",
          "1977-07-17T00:00:00.000000000",
          "1976-09-29T00:00:00.000000000",
          "1976-05-10T00:00:00.000000000",
          "1976-07-14T00:00:00.000000000",
          "1979-11-23T00:00:00.000000000",
          "1978-12-06T00:00:00.000000000",
          "1976-08-26T00:00:00.000000000",
          "1976-09-02T00:00:00.000000000",
          "1976-10-02T00:00:00.000000000",
          "1977-01-20T00:00:00.000000000",
          "1976-11-15T00:00:00.000000000",
          "1976-11-24T00:00:00.000000000",
          "1978-05-13T00:00:00.000000000",
          "1977-04-01T00:00:00.000000000",
          "1976-12-13T00:00:00.000000000",
          "1978-09-26T00:00:00.000000000",
          "1976-07-06T00:00:00.000000000",
          "1979-08-28T00:00:00.000000000",
          "1977-11-22T00:00:00.000000000",
          "1976-10-26T00:00:00.000000000",
          "1976-05-27T00:00:00.000000000",
          "1977-12-06T00:00:00.000000000",
          "1976-06-12T00:00:00.000000000",
          "1977-08-19T00:00:00.000000000",
          "1977-03-04T00:00:00.000000000",
          "1976-10-05T00:00:00.000000000",
          "1976-08-17T00:00:00.000000000",
          "1976-04-29T00:00:00.000000000",
          "1977-03-12T00:00:00.000000000",
          "1978-12-15T00:00:00.000000000",
          "1977-01-04T00:00:00.000000000",
          "1977-09-17T00:00:00.000000000",
          "1977-01-20T00:00:00.000000000",
          "1977-01-07T00:00:00.000000000",
          "1976-06-03T00:00:00.000000000",
          "1976-08-31T00:00:00.000000000",
          "1976-06-12T00:00:00.000000000",
          "1977-01-08T00:00:00.000000000",
          "1977-04-15T00:00:00.000000000",
          "1976-07-28T00:00:00.000000000",
          "1976-08-31T00:00:00.000000000",
          "1976-05-13T00:00:00.000000000",
          "1978-11-24T00:00:00.000000000",
          "1977-03-10T00:00:00.000000000",
          "1977-05-06T00:00:00.000000000",
          "1977-08-01T00:00:00.000000000",
          "1978-09-18T00:00:00.000000000",
          "1976-09-16T00:00:00.000000000",
          "1976-03-29T00:00:00.000000000",
          "1977-05-05T00:00:00.000000000",
          "1977-12-06T00:00:00.000000000",
          "1976-07-22T00:00:00.000000000",
          "1978-04-11T00:00:00.000000000",
          "1977-08-22T00:00:00.000000000",
          "1977-07-28T00:00:00.000000000",
          "1976-06-03T00:00:00.000000000",
          "1977-05-27T00:00:00.000000000",
          "1977-01-28T00:00:00.000000000",
          "1977-02-16T00:00:00.000000000",
          "1977-07-01T00:00:00.000000000",
          "1977-12-01T00:00:00.000000000",
          "1976-06-04T00:00:00.000000000",
          "1976-10-27T00:00:00.000000000",
          "1976-04-29T00:00:00.000000000",
          "1976-08-28T00:00:00.000000000",
          "1978-04-17T00:00:00.000000000",
          "1976-09-03T00:00:00.000000000",
          "1977-08-20T00:00:00.000000000",
          "1976-11-08T00:00:00.000000000",
          "1977-03-01T00:00:00.000000000",
          "1976-12-01T00:00:00.000000000",
          "1977-02-20T00:00:00.000000000",
          "1977-01-08T00:00:00.000000000",
          "1976-07-31T00:00:00.000000000",
          "1977-03-09T00:00:00.000000000",
          "1976-09-14T00:00:00.000000000",
          "1977-04-03T00:00:00.000000000",
          "1977-09-23T00:00:00.000000000",
          "1977-04-14T00:00:00.000000000",
          "1978-02-14T00:00:00.000000000",
          "1977-04-24T00:00:00.000000000",
          "1977-05-28T00:00:00.000000000",
          "1976-04-12T00:00:00.000000000",
          "1976-09-24T00:00:00.000000000",
          "1976-10-20T00:00:00.000000000",
          "1977-09-25T00:00:00.000000000",
          "1976-12-13T00:00:00.000000000",
          "1976-07-10T00:00:00.000000000",
          "1976-11-02T00:00:00.000000000",
          "1976-07-25T00:00:00.000000000",
          "1977-04-17T00:00:00.000000000",
          "1977-02-01T00:00:00.000000000",
          "1976-03-26T00:00:00.000000000",
          "1977-05-22T00:00:00.000000000",
          "1976-03-25T00:00:00.000000000",
          "1976-11-05T00:00:00.000000000",
          "1978-01-08T00:00:00.000000000",
          "1977-08-25T00:00:00.000000000",
          "1976-03-29T00:00:00.000000000",
          "1977-06-16T00:00:00.000000000",
          "1976-06-01T00:00:00.000000000",
          "1977-05-23T00:00:00.000000000",
          "1976-09-24T00:00:00.000000000",
          "1976-09-11T00:00:00.000000000",
          "1977-10-24T00:00:00.000000000",
          "1976-06-18T00:00:00.000000000",
          "1976-03-31T00:00:00.000000000",
          "1976-07-06T00:00:00.000000000",
          "1977-12-22T00:00:00.000000000",
          "1978-01-04T00:00:00.000000000",
          "1977-07-01T00:00:00.000000000",
          "1977-07-01T00:00:00.000000000",
          "1976-08-24T00:00:00.000000000",
          "1977-06-15T00:00:00.000000000",
          "1976-06-11T00:00:00.000000000",
          "1976-12-01T00:00:00.000000000",
          "1976-11-02T00:00:00.000000000",
          "1976-12-10T00:00:00.000000000",
          "1977-03-26T00:00:00.000000000",
          "1976-04-13T00:00:00.000000000",
          "1977-12-23T00:00:00.000000000",
          "1976-05-15T00:00:00.000000000",
          "1978-12-01T00:00:00.000000000",
          "1976-07-08T00:00:00.000000000",
          "1977-04-10T00:00:00.000000000",
          "1976-12-15T00:00:00.000000000",
          "1976-03-26T00:00:00.000000000",
          "1976-12-24T00:00:00.000000000",
          "1977-05-16T00:00:00.000000000",
          "1976-09-14T00:00:00.000000000",
          "1977-04-14T00:00:00.000000000",
          "1976-04-14T00:00:00.000000000",
          "1977-05-27T00:00:00.000000000",
          "1977-07-01T00:00:00.000000000",
          "1976-10-14T00:00:00.000000000",
          "1976-07-11T00:00:00.000000000",
          "1976-11-09T00:00:00.000000000",
          "1977-04-22T00:00:00.000000000",
          "1976-08-10T00:00:00.000000000",
          "1977-01-05T00:00:00.000000000",
          "1977-05-11T00:00:00.000000000",
          "1976-05-04T00:00:00.000000000",
          "1976-06-03T00:00:00.000000000",
          "1977-08-18T00:00:00.000000000",
          "1980-09-01T00:00:00.000000000",
          "1976-05-16T00:00:00.000000000",
          "1977-07-26T00:00:00.000000000",
          "1977-06-01T00:00:00.000000000",
          "1977-10-18T00:00:00.000000000",
          "1976-07-13T00:00:00.000000000",
          "1976-07-13T00:00:00.000000000",
          "1976-12-03T00:00:00.000000000",
          "1977-12-23T00:00:00.000000000",
          "1976-05-04T00:00:00.000000000",
          "1976-07-16T00:00:00.000000000",
          "1977-09-16T00:00:00.000000000",
          "1978-05-27T00:00:00.000000000",
          "1976-12-11T00:00:00.000000000",
          "1976-08-05T00:00:00.000000000",
          "1976-08-13T00:00:00.000000000",
          "1976-09-10T00:00:00.000000000",
          "1976-08-24T00:00:00.000000000",
          "1976-11-09T00:00:00.000000000",
          "1976-11-20T00:00:00.000000000",
          "1976-10-20T00:00:00.000000000",
          "1977-05-13T00:00:00.000000000",
          "1976-07-29T00:00:00.000000000",
          "1976-07-29T00:00:00.000000000",
          "1977-05-17T00:00:00.000000000",
          "1977-03-01T00:00:00.000000000",
          "1979-01-04T00:00:00.000000000",
          "1976-04-19T00:00:00.000000000",
          "1978-02-26T00:00:00.000000000",
          "1978-07-28T00:00:00.000000000",
          "1977-04-05T00:00:00.000000000",
          "1976-09-21T00:00:00.000000000",
          "1977-09-10T00:00:00.000000000",
          "1976-12-17T00:00:00.000000000",
          "1976-07-06T00:00:00.000000000",
          "1977-11-05T00:00:00.000000000",
          "1977-07-18T00:00:00.000000000",
          "1976-10-23T00:00:00.000000000",
          "1976-11-24T00:00:00.000000000",
          "1977-07-07T00:00:00.000000000",
          "1976-06-18T00:00:00.000000000",
          "1976-11-14T00:00:00.000000000",
          "1976-09-06T00:00:00.000000000",
          "1978-05-10T00:00:00.000000000",
          "1978-05-26T00:00:00.000000000",
          "1977-04-09T00:00:00.000000000",
          "1979-09-15T00:00:00.000000000",
          "1976-06-11T00:00:00.000000000",
          "1977-12-06T00:00:00.000000000",
          "1978-09-16T00:00:00.000000000",
          "1978-10-30T00:00:00.000000000",
          "1976-06-14T00:00:00.000000000",
          "1979-01-04T00:00:00.000000000",
          "1977-12-28T00:00:00.000000000",
          "1977-01-17T00:00:00.000000000",
          "1976-04-08T00:00:00.000000000",
          "1977-09-07T00:00:00.000000000",
          "1976-12-04T00:00:00.000000000",
          "1977-05-09T00:00:00.000000000",
          "1976-11-12T00:00:00.000000000",
          "1976-08-18T00:00:00.000000000",
          "1976-06-13T00:00:00.000000000",
          "1976-09-20T00:00:00.000000000",
          "1978-05-18T00:00:00.000000000",
          "1978-04-01T00:00:00.000000000",
          "1977-02-14T00:00:00.000000000",
          "1977-05-15T00:00:00.000000000",
          "1976-05-31T00:00:00.000000000",
          "1976-11-19T00:00:00.000000000",
          "1977-03-03T00:00:00.000000000",
          "1977-04-14T00:00:00.000000000",
          "1976-11-23T00:00:00.000000000",
          "1976-08-05T00:00:00.000000000",
          "1977-08-05T00:00:00.000000000",
          "1977-03-14T00:00:00.000000000",
          "1976-08-19T00:00:00.000000000",
          "1977-05-16T00:00:00.000000000",
          "1978-02-03T00:00:00.000000000",
          "1978-06-19T00:00:00.000000000",
          "1978-06-29T00:00:00.000000000",
          "1978-06-23T00:00:00.000000000",
          "1976-12-16T00:00:00.000000000",
          "1977-01-19T00:00:00.000000000",
          "1976-09-10T00:00:00.000000000",
          "1976-07-08T00:00:00.000000000",
          "1976-12-14T00:00:00.000000000",
          "1976-12-14T00:00:00.000000000",
          "1976-06-12T00:00:00.000000000",
          "1978-10-06T00:00:00.000000000",
          "1976-07-20T00:00:00.000000000",
          "1977-09-20T00:00:00.000000000",
          "1976-07-30T00:00:00.000000000",
          "1977-11-27T00:00:00.000000000",
          "1978-08-16T00:00:00.000000000",
          "1976-05-30T00:00:00.000000000",
          "1977-01-01T00:00:00.000000000",
          "1976-11-04T00:00:00.000000000",
          "1977-05-14T00:00:00.000000000",
          "1976-04-01T00:00:00.000000000",
          "1976-09-15T00:00:00.000000000",
          "1979-04-29T00:00:00.000000000",
          "1978-04-26T00:00:00.000000000",
          "1977-05-12T00:00:00.000000000",
          "1977-06-04T00:00:00.000000000",
          "1978-06-27T00:00:00.000000000",
          "1977-04-29T00:00:00.000000000",
          "1976-08-10T00:00:00.000000000",
          "1977-05-19T00:00:00.000000000",
          "1976-06-13T00:00:00.000000000",
          "1977-11-25T00:00:00.000000000",
          "1976-10-26T00:00:00.000000000",
          "1976-10-15T00:00:00.000000000",
          "1977-06-21T00:00:00.000000000",
          "1976-07-30T00:00:00.000000000",
          "1976-03-29T00:00:00.000000000",
          "1976-09-07T00:00:00.000000000",
          "1977-04-13T00:00:00.000000000",
          "1978-04-24T00:00:00.000000000",
          "1978-04-20T00:00:00.000000000",
          "1978-04-20T00:00:00.000000000",
          "1976-05-28T00:00:00.000000000",
          "1978-06-19T00:00:00.000000000",
          "1976-04-15T00:00:00.000000000",
          "1977-10-01T00:00:00.000000000",
          "1976-03-30T00:00:00.000000000",
          "1976-06-04T00:00:00.000000000",
          "1979-05-12T00:00:00.000000000",
          "1977-01-18T00:00:00.000000000",
          "1976-08-12T00:00:00.000000000",
          "1976-08-18T00:00:00.000000000",
          "1976-06-16T00:00:00.000000000",
          "1976-05-02T00:00:00.000000000",
          "1976-08-10T00:00:00.000000000",
          "1976-06-01T00:00:00.000000000",
          "1977-06-06T00:00:00.000000000",
          "1980-06-26T00:00:00.000000000",
          "1977-06-14T00:00:00.000000000",
          "1976-11-11T00:00:00.000000000",
          "1976-09-21T00:00:00.000000000",
          "1976-09-22T00:00:00.000000000",
          "1976-11-17T00:00:00.000000000",
          "1976-07-02T00:00:00.000000000",
          "1978-08-13T00:00:00.000000000",
          "1976-08-29T00:00:00.000000000",
          "1977-06-22T00:00:00.000000000",
          "1976-08-11T00:00:00.000000000",
          "1977-05-12T00:00:00.000000000",
          "1977-02-07T00:00:00.000000000",
          "1977-01-27T00:00:00.000000000",
          "1976-06-01T00:00:00.000000000",
          "1980-05-05T00:00:00.000000000",
          "1977-01-14T00:00:00.000000000",
          "1976-05-11T00:00:00.000000000",
          "1976-06-02T00:00:00.000000000",
          "1978-02-01T00:00:00.000000000",
          "1977-05-21T00:00:00.000000000",
          "1977-03-19T00:00:00.000000000",
          "1977-03-19T00:00:00.000000000",
          "1976-05-07T00:00:00.000000000",
          "1978-02-26T00:00:00.000000000",
          "1977-07-13T00:00:00.000000000",
          "1977-07-20T00:00:00.000000000",
          "1977-08-14T00:00:00.000000000",
          "1977-06-08T00:00:00.000000000",
          "1977-04-21T00:00:00.000000000",
          "1977-09-10T00:00:00.000000000",
          "1977-06-22T00:00:00.000000000",
          "1977-12-07T00:00:00.000000000",
          "1977-02-11T00:00:00.000000000",
          "1976-09-26T00:00:00.000000000",
          "1976-04-20T00:00:00.000000000",
          "1977-05-02T00:00:00.000000000",
          "1976-11-30T00:00:00.000000000",
          "1977-12-22T00:00:00.000000000",
          "1977-09-05T00:00:00.000000000",
          "1976-09-28T00:00:00.000000000",
          "1976-11-22T00:00:00.000000000",
          "1976-07-06T00:00:00.000000000",
          "1978-05-18T00:00:00.000000000",
          "1977-10-15T00:00:00.000000000",
          "1976-06-01T00:00:00.000000000",
          "1977-04-29T00:00:00.000000000",
          "1977-02-14T00:00:00.000000000",
          "1979-09-15T00:00:00.000000000",
          "1978-08-10T00:00:00.000000000",
          "1976-08-28T00:00:00.000000000",
          "1978-06-20T00:00:00.000000000",
          "1977-04-22T00:00:00.000000000",
          "1977-01-20T00:00:00.000000000",
          "1978-10-08T00:00:00.000000000",
          "1976-05-21T00:00:00.000000000",
          "1976-08-12T00:00:00.000000000",
          "1978-04-26T00:00:00.000000000",
          "1977-06-17T00:00:00.000000000",
          "1977-05-17T00:00:00.000000000",
          "1976-08-10T00:00:00.000000000",
          "1976-11-08T00:00:00.000000000",
          "1976-11-11T00:00:00.000000000",
          "1976-08-12T00:00:00.000000000",
          "1976-07-14T00:00:00.000000000",
          "1976-06-15T00:00:00.000000000",
          "1976-06-06T00:00:00.000000000",
          "1980-03-17T00:00:00.000000000",
          "1976-09-03T00:00:00.000000000",
          "1977-06-08T00:00:00.000000000",
          "1976-07-10T00:00:00.000000000",
          "1977-02-16T00:00:00.000000000",
          "1977-02-26T00:00:00.000000000",
          "1977-05-13T00:00:00.000000000",
          "1976-08-08T00:00:00.000000000",
          "1977-06-17T00:00:00.000000000",
          "1976-09-01T00:00:00.000000000",
          "1977-06-21T00:00:00.000000000",
          "1977-04-23T00:00:00.000000000",
          "1977-06-23T00:00:00.000000000",
          "1977-09-22T00:00:00.000000000",
          "1976-05-25T00:00:00.000000000",
          "1976-04-24T00:00:00.000000000",
          "1977-02-18T00:00:00.000000000",
          "1977-12-06T00:00:00.000000000",
          "1979-04-01T00:00:00.000000000",
          "1978-05-28T00:00:00.000000000",
          "1978-10-20T00:00:00.000000000",
          "1976-05-25T00:00:00.000000000",
          "1977-10-01T00:00:00.000000000",
          "1976-06-13T00:00:00.000000000",
          "1976-09-22T00:00:00.000000000",
          "1978-03-28T00:00:00.000000000",
          "1976-08-21T00:00:00.000000000",
          "1976-08-05T00:00:00.000000000",
          "1976-12-09T00:00:00.000000000",
          "1977-03-22T00:00:00.000000000",
          "1977-03-22T00:00:00.000000000",
          "1976-11-13T00:00:00.000000000",
          "1976-08-14T00:00:00.000000000",
          "1976-08-15T00:00:00.000000000",
          "1976-08-16T00:00:00.000000000",
          "1977-06-17T00:00:00.000000000",
          "1976-12-07T00:00:00.000000000",
          "1976-08-10T00:00:00.000000000",
          "1976-03-30T00:00:00.000000000",
          "1976-06-13T00:00:00.000000000",
          "1977-11-04T00:00:00.000000000",
          "1976-08-03T00:00:00.000000000",
          "1978-01-27T00:00:00.000000000",
          "1977-06-22T00:00:00.000000000",
          "1977-04-28T00:00:00.000000000",
          "1976-09-01T00:00:00.000000000",
          "1976-06-06T00:00:00.000000000",
          "1977-01-21T00:00:00.000000000",
          "1977-02-26T00:00:00.000000000",
          "1978-09-14T00:00:00.000000000",
          "1977-04-21T00:00:00.000000000",
          "1978-10-11T00:00:00.000000000",
          "1976-10-15T00:00:00.000000000",
          "1977-10-01T00:00:00.000000000",
          "1976-11-18T00:00:00.000000000",
          "1976-10-28T00:00:00.000000000",
          "1978-02-21T00:00:00.000000000",
          "1978-02-07T00:00:00.000000000",
          "1976-08-10T00:00:00.000000000",
          "1977-06-15T00:00:00.000000000",
          "1977-01-12T00:00:00.000000000",
          "1977-09-03T00:00:00.000000000",
          "1976-11-19T00:00:00.000000000",
          "1977-05-29T00:00:00.000000000",
          "1976-04-14T00:00:00.000000000",
          "1977-05-01T00:00:00.000000000",
          "1977-09-05T00:00:00.000000000",
          "1977-04-19T00:00:00.000000000",
          "1977-06-15T00:00:00.000000000",
          "1977-06-15T00:00:00.000000000",
          "1976-12-21T00:00:00.000000000",
          "1976-06-14T00:00:00.000000000",
          "1976-08-13T00:00:00.000000000",
          "1976-05-01T00:00:00.000000000",
          "1976-08-10T00:00:00.000000000",
          "1976-11-25T00:00:00.000000000",
          "1977-04-21T00:00:00.000000000",
          "1977-02-04T00:00:00.000000000",
          "1976-12-08T00:00:00.000000000",
          "1977-09-02T00:00:00.000000000",
          "1978-01-25T00:00:00.000000000",
          "1977-09-24T00:00:00.000000000",
          "1977-06-09T00:00:00.000000000",
          "1977-11-19T00:00:00.000000000",
          "1977-03-12T00:00:00.000000000",
          "1979-09-21T00:00:00.000000000",
          "1976-08-13T00:00:00.000000000",
          "1978-05-22T00:00:00.000000000",
          "1977-11-17T00:00:00.000000000",
          "1977-02-08T00:00:00.000000000",
          "1976-05-25T00:00:00.000000000",
          "1977-08-01T00:00:00.000000000",
          "1976-12-14T00:00:00.000000000",
          "1976-05-13T00:00:00.000000000",
          "1977-06-09T00:00:00.000000000",
          "1977-03-01T00:00:00.000000000",
          "1978-07-10T00:00:00.000000000",
          "1977-06-02T00:00:00.000000000",
          "1976-10-24T00:00:00.000000000",
          "1976-09-29T00:00:00.000000000",
          "1976-06-14T00:00:00.000000000",
          "1976-06-25T00:00:00.000000000",
          "1978-03-14T00:00:00.000000000",
          "1978-04-04T00:00:00.000000000",
          "1977-09-30T00:00:00.000000000",
          "1978-03-23T00:00:00.000000000",
          "1976-05-17T00:00:00.000000000",
          "1978-05-18T00:00:00.000000000",
          "1977-10-11T00:00:00.000000000",
          "1977-11-21T00:00:00.000000000",
          "1976-09-15T00:00:00.000000000",
          "1977-04-07T00:00:00.000000000",
          "1978-08-19T00:00:00.000000000",
          "1976-04-02T00:00:00.000000000",
          "1976-04-02T00:00:00.000000000",
          "1976-10-30T00:00:00.000000000",
          "1979-05-12T00:00:00.000000000",
          "1976-05-08T00:00:00.000000000",
          "1977-03-17T00:00:00.000000000",
          "1976-10-16T00:00:00.000000000",
          "1977-01-06T00:00:00.000000000",
          "1976-07-11T00:00:00.000000000",
          "1976-10-28T00:00:00.000000000",
          "1977-04-13T00:00:00.000000000",
          "1976-10-06T00:00:00.000000000",
          "1980-08-16T00:00:00.000000000",
          "1977-06-18T00:00:00.000000000",
          "1977-03-17T00:00:00.000000000",
          "1976-05-14T00:00:00.000000000",
          "1976-05-14T00:00:00.000000000",
          "1978-03-01T00:00:00.000000000",
          "1976-04-02T00:00:00.000000000",
          "1976-07-16T00:00:00.000000000",
          "1976-09-18T00:00:00.000000000",
          "1977-02-01T00:00:00.000000000",
          "1976-05-30T00:00:00.000000000",
          "1976-11-13T00:00:00.000000000",
          "1978-04-23T00:00:00.000000000",
          "1976-10-01T00:00:00.000000000",
          "1977-03-24T00:00:00.000000000",
          "1977-05-13T00:00:00.000000000",
          "1976-07-03T00:00:00.000000000",
          "1976-07-21T00:00:00.000000000",
          "1976-07-08T00:00:00.000000000",
          "1976-07-15T00:00:00.000000000",
          "1976-07-15T00:00:00.000000000",
          "1976-07-15T00:00:00.000000000",
          "1977-02-16T00:00:00.000000000",
          "1976-08-31T00:00:00.000000000",
          "1977-11-27T00:00:00.000000000",
          "1976-05-13T00:00:00.000000000",
          "1976-06-24T00:00:00.000000000",
          "1977-09-04T00:00:00.000000000",
          "1977-12-09T00:00:00.000000000",
          "1977-04-13T00:00:00.000000000",
          "1976-10-15T00:00:00.000000000",
          "1977-05-15T00:00:00.000000000",
          "1976-04-26T00:00:00.000000000",
          "1976-06-07T00:00:00.000000000",
          "1976-10-21T00:00:00.000000000",
          "1977-09-28T00:00:00.000000000",
          "1977-04-16T00:00:00.000000000",
          "1977-05-17T00:00:00.000000000",
          "1976-07-15T00:00:00.000000000",
          "1978-05-03T00:00:00.000000000",
          "1976-09-26T00:00:00.000000000",
          "1977-03-29T00:00:00.000000000",
          "1977-06-09T00:00:00.000000000",
          "1977-03-15T00:00:00.000000000",
          "1977-05-13T00:00:00.000000000",
          "1978-05-04T00:00:00.000000000",
          "1977-08-09T00:00:00.000000000",
          "1978-05-31T00:00:00.000000000",
          "1978-05-31T00:00:00.000000000",
          "1977-09-04T00:00:00.000000000",
          "1977-01-26T00:00:00.000000000",
          "1977-04-08T00:00:00.000000000",
          "1978-01-10T00:00:00.000000000",
          "1976-04-05T00:00:00.000000000",
          "1976-06-01T00:00:00.000000000",
          "1977-09-01T00:00:00.000000000",
          "1976-12-01T00:00:00.000000000",
          "1976-07-16T00:00:00.000000000",
          "1977-07-24T00:00:00.000000000",
          "1976-09-10T00:00:00.000000000",
          "1976-09-11T00:00:00.000000000",
          "1976-11-12T00:00:00.000000000",
          "1976-07-09T00:00:00.000000000",
          "1977-06-29T00:00:00.000000000",
          "1977-02-05T00:00:00.000000000",
          "1978-07-18T00:00:00.000000000",
          "1976-06-30T00:00:00.000000000",
          "1977-06-04T00:00:00.000000000",
          "1976-04-10T00:00:00.000000000",
          "1976-12-13T00:00:00.000000000",
          "1976-12-31T00:00:00.000000000",
          "1977-07-01T00:00:00.000000000",
          "1978-10-12T00:00:00.000000000",
          "1976-12-03T00:00:00.000000000",
          "1977-06-22T00:00:00.000000000",
          "1976-12-31T00:00:00.000000000",
          "1977-12-06T00:00:00.000000000",
          "1978-04-23T00:00:00.000000000",
          "1976-04-19T00:00:00.000000000",
          "1976-11-01T00:00:00.000000000",
          "1976-04-21T00:00:00.000000000",
          "1977-12-05T00:00:00.000000000",
          "1981-06-19T00:00:00.000000000",
          "1976-05-01T00:00:00.000000000",
          "1977-06-12T00:00:00.000000000",
          "1976-12-15T00:00:00.000000000",
          "1978-05-01T00:00:00.000000000",
          "1978-03-23T00:00:00.000000000",
          "1979-10-20T00:00:00.000000000",
          "1976-12-10T00:00:00.000000000",
          "1978-02-06T00:00:00.000000000",
          "1976-06-16T00:00:00.000000000",
          "1976-11-06T00:00:00.000000000",
          "1976-09-25T00:00:00.000000000",
          "1977-02-08T00:00:00.000000000",
          "1977-05-24T00:00:00.000000000",
          "1976-03-27T00:00:00.000000000",
          "1978-02-01T00:00:00.000000000",
          "1976-04-29T00:00:00.000000000",
          "1976-05-28T00:00:00.000000000",
          "1977-04-18T00:00:00.000000000",
          "1978-09-22T00:00:00.000000000",
          "1977-02-09T00:00:00.000000000",
          "1976-08-25T00:00:00.000000000",
          "1976-08-12T00:00:00.000000000",
          "1978-04-05T00:00:00.000000000",
          "1978-09-01T00:00:00.000000000",
          "1977-11-05T00:00:00.000000000",
          "1976-04-02T00:00:00.000000000",
          "1976-09-02T00:00:00.000000000",
          "1976-08-18T00:00:00.000000000",
          "1980-03-18T00:00:00.000000000",
          "1976-11-13T00:00:00.000000000",
          "1976-12-07T00:00:00.000000000",
          "1977-01-22T00:00:00.000000000",
          "1976-04-28T00:00:00.000000000",
          "1976-12-08T00:00:00.000000000",
          "1977-09-09T00:00:00.000000000",
          "1976-12-07T00:00:00.000000000",
          "1976-12-08T00:00:00.000000000",
          "1976-06-10T00:00:00.000000000",
          "1976-10-04T00:00:00.000000000",
          "1976-05-11T00:00:00.000000000",
          "1976-06-29T00:00:00.000000000",
          "1976-05-11T00:00:00.000000000",
          "1976-04-02T00:00:00.000000000",
          "1976-06-01T00:00:00.000000000",
          "1976-06-10T00:00:00.000000000",
          "1976-07-21T00:00:00.000000000",
          "1976-06-30T00:00:00.000000000",
          "1976-05-03T00:00:00.000000000",
          "1976-05-07T00:00:00.000000000",
          "1978-01-01T00:00:00.000000000",
          "1976-08-10T00:00:00.000000000",
          "1978-06-23T00:00:00.000000000",
          "1977-09-05T00:00:00.000000000",
          "1976-07-01T00:00:00.000000000",
          "1977-02-16T00:00:00.000000000",
          "1977-04-29T00:00:00.000000000",
          "1977-12-06T00:00:00.000000000",
          "1976-05-25T00:00:00.000000000",
          "1976-09-22T00:00:00.000000000",
          "1978-07-27T00:00:00.000000000",
          "1977-03-22T00:00:00.000000000",
          "1978-05-01T00:00:00.000000000",
          "1978-01-30T00:00:00.000000000",
          "1976-07-07T00:00:00.000000000",
          "1977-08-27T00:00:00.000000000",
          "1977-09-01T00:00:00.000000000",
          "1978-03-14T00:00:00.000000000",
          "1976-10-01T00:00:00.000000000",
          "1977-02-19T00:00:00.000000000",
          "1977-07-05T00:00:00.000000000",
          "1980-06-04T00:00:00.000000000",
          "1977-06-27T00:00:00.000000000",
          "1977-11-01T00:00:00.000000000",
          "1976-08-20T00:00:00.000000000",
          "1977-02-26T00:00:00.000000000",
          "1977-06-03T00:00:00.000000000",
          "1977-03-06T00:00:00.000000000",
          "1979-10-15T00:00:00.000000000",
          "1976-05-28T00:00:00.000000000",
          "1979-01-01T00:00:00.000000000",
          "1977-04-19T00:00:00.000000000",
          "1977-04-14T00:00:00.000000000",
          "1977-08-02T00:00:00.000000000",
          "1976-09-10T00:00:00.000000000",
          "1976-10-26T00:00:00.000000000",
          "1976-09-28T00:00:00.000000000",
          "1976-06-23T00:00:00.000000000",
          "1976-04-13T00:00:00.000000000",
          "1978-10-03T00:00:00.000000000",
          "1976-03-31T00:00:00.000000000",
          "1978-01-14T00:00:00.000000000",
          "1978-10-12T00:00:00.000000000",
          "1976-11-28T00:00:00.000000000",
          "1977-04-04T00:00:00.000000000",
          "1976-06-16T00:00:00.000000000",
          "1977-01-27T00:00:00.000000000",
          "1976-06-11T00:00:00.000000000",
          "1977-02-28T00:00:00.000000000",
          "1977-09-01T00:00:00.000000000",
          "1976-08-22T00:00:00.000000000",
          "1977-04-26T00:00:00.000000000",
          "1976-09-13T00:00:00.000000000",
          "1976-08-12T00:00:00.000000000",
          "1976-06-08T00:00:00.000000000",
          "1976-05-03T00:00:00.000000000",
          "1976-04-08T00:00:00.000000000",
          "1976-12-13T00:00:00.000000000",
          "1976-10-02T00:00:00.000000000",
          "1977-10-03T00:00:00.000000000",
          "1977-09-01T00:00:00.000000000",
          "1976-06-10T00:00:00.000000000",
          "1976-05-15T00:00:00.000000000",
          "1976-11-11T00:00:00.000000000",
          "1976-12-12T00:00:00.000000000",
          "1976-08-12T00:00:00.000000000",
          "1979-08-02T00:00:00.000000000",
          "1977-04-17T00:00:00.000000000",
          "1977-01-01T00:00:00.000000000",
          "1976-04-06T00:00:00.000000000",
          "1976-09-16T00:00:00.000000000",
          "1978-08-03T00:00:00.000000000",
          "1976-11-26T00:00:00.000000000",
          "1977-09-15T00:00:00.000000000",
          "1979-10-11T00:00:00.000000000",
          "1977-11-17T00:00:00.000000000",
          "1977-10-01T00:00:00.000000000",
          "1978-09-01T00:00:00.000000000",
          "1977-01-12T00:00:00.000000000",
          "1976-05-22T00:00:00.000000000",
          "1976-04-20T00:00:00.000000000",
          "1978-07-12T00:00:00.000000000",
          "1976-04-15T00:00:00.000000000",
          "1977-05-07T00:00:00.000000000",
          "1978-08-13T00:00:00.000000000",
          "1977-01-28T00:00:00.000000000",
          "1976-11-24T00:00:00.000000000",
          "1976-11-24T00:00:00.000000000",
          "1976-04-29T00:00:00.000000000",
          "1976-10-19T00:00:00.000000000",
          "1976-07-06T00:00:00.000000000",
          "1976-10-13T00:00:00.000000000",
          "1977-03-04T00:00:00.000000000",
          "1977-04-08T00:00:00.000000000",
          "1976-09-20T00:00:00.000000000",
          "1976-08-12T00:00:00.000000000",
          "1976-04-21T00:00:00.000000000",
          "1976-09-17T00:00:00.000000000",
          "1977-05-16T00:00:00.000000000",
          "1978-11-28T00:00:00.000000000",
          "1977-01-14T00:00:00.000000000",
          "1977-06-11T00:00:00.000000000",
          "1978-08-14T00:00:00.000000000",
          "1976-12-22T00:00:00.000000000",
          "1977-07-19T00:00:00.000000000",
          "1977-04-03T00:00:00.000000000",
          "1977-02-28T00:00:00.000000000",
          "1977-04-23T00:00:00.000000000",
          "1976-06-13T00:00:00.000000000",
          "1976-10-12T00:00:00.000000000",
          "1976-09-10T00:00:00.000000000",
          "1976-03-25T00:00:00.000000000",
          "1976-03-31T00:00:00.000000000",
          "1976-10-12T00:00:00.000000000",
          "1977-08-25T00:00:00.000000000",
          "1978-03-01T00:00:00.000000000",
          "1976-09-15T00:00:00.000000000",
          "1979-09-11T00:00:00.000000000",
          "1978-05-01T00:00:00.000000000",
          "1977-07-20T00:00:00.000000000",
          "1976-11-03T00:00:00.000000000",
          "1978-02-04T00:00:00.000000000",
          "1976-06-08T00:00:00.000000000",
          "1977-07-01T00:00:00.000000000",
          "1977-08-15T00:00:00.000000000",
          "1977-07-01T00:00:00.000000000",
          "1977-07-01T00:00:00.000000000",
          "1977-02-15T00:00:00.000000000",
          "1977-07-05T00:00:00.000000000",
          "1977-05-26T00:00:00.000000000",
          "1977-09-09T00:00:00.000000000",
          "1976-08-01T00:00:00.000000000",
          "1979-01-01T00:00:00.000000000",
          "1976-10-16T00:00:00.000000000",
          "1976-09-18T00:00:00.000000000",
          "1977-05-28T00:00:00.000000000",
          "1977-05-31T00:00:00.000000000",
          "1976-04-20T00:00:00.000000000",
          "1976-04-20T00:00:00.000000000",
          "1976-05-26T00:00:00.000000000",
          "1978-07-24T00:00:00.000000000",
          "1977-08-05T00:00:00.000000000",
          "1976-10-17T00:00:00.000000000",
          "1977-06-16T00:00:00.000000000",
          "1976-07-20T00:00:00.000000000",
          "1976-06-09T00:00:00.000000000",
          "1976-03-28T00:00:00.000000000",
          "1977-12-07T00:00:00.000000000",
          "1979-01-31T00:00:00.000000000",
          "1977-11-12T00:00:00.000000000",
          "1976-04-05T00:00:00.000000000",
          "1976-07-21T00:00:00.000000000",
          "1976-06-12T00:00:00.000000000",
          "1977-01-01T00:00:00.000000000",
          "1977-09-22T00:00:00.000000000",
          "1977-05-20T00:00:00.000000000",
          "1977-02-16T00:00:00.000000000",
          "1977-02-04T00:00:00.000000000",
          "1976-09-25T00:00:00.000000000",
          "1978-03-29T00:00:00.000000000",
          "1976-05-14T00:00:00.000000000",
          "1976-11-22T00:00:00.000000000",
          "1976-04-20T00:00:00.000000000",
          "1977-08-19T00:00:00.000000000",
          "1977-05-22T00:00:00.000000000",
          "1977-04-30T00:00:00.000000000",
          "1977-03-27T00:00:00.000000000",
          "1977-09-06T00:00:00.000000000",
          "1977-10-15T00:00:00.000000000",
          "1977-02-17T00:00:00.000000000",
          "1976-12-29T00:00:00.000000000",
          "1978-11-01T00:00:00.000000000",
          "1977-11-15T00:00:00.000000000",
          "1978-03-20T00:00:00.000000000",
          "1978-12-08T00:00:00.000000000",
          "1977-03-08T00:00:00.000000000",
          "1976-12-02T00:00:00.000000000",
          "1977-07-13T00:00:00.000000000",
          "1978-07-18T00:00:00.000000000",
          "1978-01-29T00:00:00.000000000",
          "1976-08-27T00:00:00.000000000",
          "1976-06-04T00:00:00.000000000",
          "1978-09-15T00:00:00.000000000",
          "1976-06-09T00:00:00.000000000",
          "1977-04-06T00:00:00.000000000",
          "1976-10-12T00:00:00.000000000",
          "1976-10-20T00:00:00.000000000",
          "1977-12-05T00:00:00.000000000",
          "1977-09-16T00:00:00.000000000",
          "1977-05-17T00:00:00.000000000",
          "1976-09-26T00:00:00.000000000",
          "1977-11-05T00:00:00.000000000",
          "1977-02-14T00:00:00.000000000",
          "1977-05-17T00:00:00.000000000",
          "1976-04-09T00:00:00.000000000",
          "1977-03-18T00:00:00.000000000",
          "1976-06-08T00:00:00.000000000",
          "1976-08-11T00:00:00.000000000",
          "1976-05-05T00:00:00.000000000",
          "1978-01-12T00:00:00.000000000",
          "1976-04-14T00:00:00.000000000",
          "1976-12-16T00:00:00.000000000",
          "1976-09-13T00:00:00.000000000",
          "1976-08-29T00:00:00.000000000",
          "1977-05-16T00:00:00.000000000",
          "1976-03-30T00:00:00.000000000",
          "1976-06-09T00:00:00.000000000",
          "1977-05-18T00:00:00.000000000",
          "1976-05-07T00:00:00.000000000",
          "1977-05-14T00:00:00.000000000",
          "1976-08-06T00:00:00.000000000",
          "1977-05-21T00:00:00.000000000",
          "1976-07-14T00:00:00.000000000",
          "1981-07-31T00:00:00.000000000",
          "1976-06-11T00:00:00.000000000",
          "1976-04-24T00:00:00.000000000",
          "1978-02-17T00:00:00.000000000",
          "1977-08-21T00:00:00.000000000",
          "1978-05-19T00:00:00.000000000",
          "1978-05-04T00:00:00.000000000",
          "1976-07-28T00:00:00.000000000",
          "1977-12-22T00:00:00.000000000",
          "1978-10-07T00:00:00.000000000",
          "1977-09-02T00:00:00.000000000",
          "1977-03-28T00:00:00.000000000",
          "1977-01-05T00:00:00.000000000",
          "1977-06-21T00:00:00.000000000",
          "1977-01-28T00:00:00.000000000",
          "1977-11-01T00:00:00.000000000",
          "1976-03-31T00:00:00.000000000",
          "1976-09-22T00:00:00.000000000",
          "1976-08-03T00:00:00.000000000",
          "1977-01-05T00:00:00.000000000",
          "1977-05-18T00:00:00.000000000",
          "1977-08-17T00:00:00.000000000",
          "1978-07-07T00:00:00.000000000",
          "1976-05-29T00:00:00.000000000",
          "1977-12-06T00:00:00.000000000",
          "1978-07-19T00:00:00.000000000",
          "1976-03-28T00:00:00.000000000",
          "1976-04-03T00:00:00.000000000",
          "1977-07-04T00:00:00.000000000",
          "1976-10-02T00:00:00.000000000",
          "1976-12-09T00:00:00.000000000",
          "1977-12-06T00:00:00.000000000",
          "1976-04-29T00:00:00.000000000",
          "1977-08-20T00:00:00.000000000",
          "1976-07-01T00:00:00.000000000",
          "1977-05-24T00:00:00.000000000",
          "1978-05-22T00:00:00.000000000",
          "1977-04-01T00:00:00.000000000",
          "1978-12-02T00:00:00.000000000",
          "1977-12-06T00:00:00.000000000",
          "1976-05-17T00:00:00.000000000",
          "1976-09-13T00:00:00.000000000",
          "1976-11-03T00:00:00.000000000",
          "1976-04-23T00:00:00.000000000",
          "1977-02-22T00:00:00.000000000",
          "1977-05-13T00:00:00.000000000",
          "1976-04-03T00:00:00.000000000",
          "1976-09-07T00:00:00.000000000",
          "1976-12-15T00:00:00.000000000",
          "1977-03-16T00:00:00.000000000",
          "1977-05-05T00:00:00.000000000",
          "1977-06-06T00:00:00.000000000",
          "1979-09-15T00:00:00.000000000",
          "1976-09-01T00:00:00.000000000",
          "1977-02-21T00:00:00.000000000",
          "1976-08-19T00:00:00.000000000",
          "1978-07-10T00:00:00.000000000",
          "1978-06-26T00:00:00.000000000",
          "1978-02-23T00:00:00.000000000",
          "1976-08-06T00:00:00.000000000",
          "1976-08-09T00:00:00.000000000",
          "1976-11-24T00:00:00.000000000",
          "1976-05-19T00:00:00.000000000",
          "1978-10-01T00:00:00.000000000",
          "1978-01-08T00:00:00.000000000",
          "1977-05-30T00:00:00.000000000",
          "1977-05-25T00:00:00.000000000",
          "1976-07-30T00:00:00.000000000",
          "1977-12-05T00:00:00.000000000",
          "1976-11-04T00:00:00.000000000",
          "1976-11-10T00:00:00.000000000",
          "1976-11-24T00:00:00.000000000",
          "1976-09-29T00:00:00.000000000",
          "1976-06-01T00:00:00.000000000",
          "1976-03-27T00:00:00.000000000",
          "1976-08-10T00:00:00.000000000",
          "1977-06-02T00:00:00.000000000",
          "1976-11-24T00:00:00.000000000",
          "1976-08-12T00:00:00.000000000",
          "1976-11-10T00:00:00.000000000",
          "1977-12-10T00:00:00.000000000",
          "1979-08-03T00:00:00.000000000",
          "1979-08-04T00:00:00.000000000",
          "1976-12-22T00:00:00.000000000",
          "1976-07-21T00:00:00.000000000",
          "1977-02-12T00:00:00.000000000",
          "1977-04-19T00:00:00.000000000",
          "1976-05-25T00:00:00.000000000",
          "1976-08-26T00:00:00.000000000",
          "1976-05-15T00:00:00.000000000",
          "1976-12-10T00:00:00.000000000",
          "1976-12-18T00:00:00.000000000",
          "1976-03-25T00:00:00.000000000",
          "1977-07-19T00:00:00.000000000",
          "1978-10-03T00:00:00.000000000",
          "1977-11-03T00:00:00.000000000",
          "1976-05-01T00:00:00.000000000",
          "1978-07-25T00:00:00.000000000",
          "1981-12-01T00:00:00.000000000",
          "1977-12-06T00:00:00.000000000",
          "1976-12-03T00:00:00.000000000",
          "1976-04-14T00:00:00.000000000",
          "1978-07-09T00:00:00.000000000",
          "1979-12-30T00:00:00.000000000",
          "1977-06-10T00:00:00.000000000",
          "1978-04-25T00:00:00.000000000",
          "1976-09-10T00:00:00.000000000",
          "1977-02-25T00:00:00.000000000",
          "1976-11-02T00:00:00.000000000",
          "1976-05-26T00:00:00.000000000",
          "1977-06-08T00:00:00.000000000",
          "1976-12-17T00:00:00.000000000",
          "1977-06-13T00:00:00.000000000",
          "1977-09-16T00:00:00.000000000",
          "1976-05-24T00:00:00.000000000",
          "1976-12-31T00:00:00.000000000",
          "1976-04-10T00:00:00.000000000",
          "1976-10-02T00:00:00.000000000",
          "1977-07-13T00:00:00.000000000",
          "1980-06-26T00:00:00.000000000",
          "1976-08-29T00:00:00.000000000",
          "1977-09-01T00:00:00.000000000",
          "1977-05-14T00:00:00.000000000",
          "1976-06-30T00:00:00.000000000",
          "1976-10-20T00:00:00.000000000",
          "1976-04-21T00:00:00.000000000",
          "1976-04-19T00:00:00.000000000",
          "1977-08-27T00:00:00.000000000",
          "1977-05-06T00:00:00.000000000",
          "1977-05-13T00:00:00.000000000",
          "1977-12-06T00:00:00.000000000",
          "1976-09-23T00:00:00.000000000",
          "1977-06-20T00:00:00.000000000",
          "1977-02-19T00:00:00.000000000",
          "1977-02-18T00:00:00.000000000",
          "1976-12-15T00:00:00.000000000",
          "1976-06-04T00:00:00.000000000",
          "1976-09-16T00:00:00.000000000",
          "1976-06-02T00:00:00.000000000",
          "1976-12-14T00:00:00.000000000",
          "1977-08-02T00:00:00.000000000",
          "1977-01-20T00:00:00.000000000",
          "1980-09-01T00:00:00.000000000",
          "1978-04-01T00:00:00.000000000",
          "1976-11-04T00:00:00.000000000",
          "1977-06-12T00:00:00.000000000",
          "1978-08-14T00:00:00.000000000",
          "1977-11-15T00:00:00.000000000",
          "1977-09-28T00:00:00.000000000",
          "1976-06-11T00:00:00.000000000",
          "1977-09-14T00:00:00.000000000",
          "1977-06-12T00:00:00.000000000",
          "1976-09-21T00:00:00.000000000",
          "1977-05-13T00:00:00.000000000",
          "1976-09-23T00:00:00.000000000",
          "1976-09-10T00:00:00.000000000",
          "1977-01-26T00:00:00.000000000",
          "1976-07-17T00:00:00.000000000",
          "1977-06-28T00:00:00.000000000",
          "1977-04-28T00:00:00.000000000",
          "1977-08-23T00:00:00.000000000",
          "1977-08-23T00:00:00.000000000",
          "1976-07-22T00:00:00.000000000",
          "1978-04-19T00:00:00.000000000",
          "1976-12-23T00:00:00.000000000",
          "1978-02-16T00:00:00.000000000",
          "1977-01-16T00:00:00.000000000",
          "1976-03-26T00:00:00.000000000",
          "1976-10-22T00:00:00.000000000",
          "1976-06-15T00:00:00.000000000",
          "1977-02-10T00:00:00.000000000",
          "1976-05-13T00:00:00.000000000",
          "1979-10-20T00:00:00.000000000",
          "1976-07-07T00:00:00.000000000",
          "1976-12-17T00:00:00.000000000",
          "1976-08-05T00:00:00.000000000",
          "1977-08-06T00:00:00.000000000",
          "1976-12-03T00:00:00.000000000",
          "1976-12-24T00:00:00.000000000",
          "1977-01-20T00:00:00.000000000",
          "1976-11-07T00:00:00.000000000",
          "1977-09-19T00:00:00.000000000",
          "1979-08-09T00:00:00.000000000",
          "1976-10-20T00:00:00.000000000",
          "1976-05-25T00:00:00.000000000",
          "1977-06-17T00:00:00.000000000",
          "1976-11-08T00:00:00.000000000",
          "1976-12-12T00:00:00.000000000",
          "1976-09-18T00:00:00.000000000",
          "1976-09-28T00:00:00.000000000",
          "1976-07-08T00:00:00.000000000",
          "1977-07-08T00:00:00.000000000",
          "1978-10-04T00:00:00.000000000",
          "1978-10-04T00:00:00.000000000",
          "1976-07-27T00:00:00.000000000",
          "1978-03-01T00:00:00.000000000",
          "1977-12-06T00:00:00.000000000",
          "1977-09-26T00:00:00.000000000",
          "1976-12-13T00:00:00.000000000",
          "1976-11-03T00:00:00.000000000",
          "1977-01-17T00:00:00.000000000",
          "1976-10-25T00:00:00.000000000",
          "1976-07-23T00:00:00.000000000",
          "1976-03-25T00:00:00.000000000",
          "1977-02-28T00:00:00.000000000",
          "1976-09-15T00:00:00.000000000",
          "1976-05-17T00:00:00.000000000",
          "1978-04-14T00:00:00.000000000",
          "1976-10-02T00:00:00.000000000",
          "1977-02-09T00:00:00.000000000",
          "1976-09-27T00:00:00.000000000",
          "1977-09-25T00:00:00.000000000",
          "1976-07-16T00:00:00.000000000",
          "1977-05-11T00:00:00.000000000",
          "1976-05-26T00:00:00.000000000",
          "1976-08-03T00:00:00.000000000",
          "1976-12-01T00:00:00.000000000",
          "1976-04-29T00:00:00.000000000",
          "1976-05-19T00:00:00.000000000",
          "1978-06-20T00:00:00.000000000",
          "1976-08-04T00:00:00.000000000",
          "1976-04-06T00:00:00.000000000",
          "1977-05-07T00:00:00.000000000",
          "1976-12-13T00:00:00.000000000",
          "1976-08-21T00:00:00.000000000",
          "1978-03-06T00:00:00.000000000",
          "1976-08-19T00:00:00.000000000",
          "1977-01-30T00:00:00.000000000",
          "1976-12-13T00:00:00.000000000",
          "1976-06-04T00:00:00.000000000",
          "1976-08-17T00:00:00.000000000",
          "1977-06-09T00:00:00.000000000",
          "1977-09-16T00:00:00.000000000",
          "1976-05-14T00:00:00.000000000",
          "1977-07-01T00:00:00.000000000",
          "1977-04-12T00:00:00.000000000",
          "1976-05-03T00:00:00.000000000",
          "1976-11-15T00:00:00.000000000",
          "1976-09-17T00:00:00.000000000",
          "1976-10-15T00:00:00.000000000",
          "1977-12-22T00:00:00.000000000",
          "1976-09-21T00:00:00.000000000",
          "1978-11-21T00:00:00.000000000",
          "1976-06-19T00:00:00.000000000",
          "1977-09-24T00:00:00.000000000",
          "1976-07-23T00:00:00.000000000",
          "1977-07-14T00:00:00.000000000",
          "1976-09-18T00:00:00.000000000",
          "1977-03-30T00:00:00.000000000",
          "1976-09-11T00:00:00.000000000",
          "1978-10-06T00:00:00.000000000",
          "1977-02-15T00:00:00.000000000",
          "1979-10-13T00:00:00.000000000",
          "1976-03-26T00:00:00.000000000",
          "1977-03-15T00:00:00.000000000",
          "1976-10-23T00:00:00.000000000",
          "1976-10-23T00:00:00.000000000",
          "1976-08-22T00:00:00.000000000",
          "1976-11-13T00:00:00.000000000",
          "1978-03-27T00:00:00.000000000",
          "1977-03-20T00:00:00.000000000",
          "1977-04-30T00:00:00.000000000",
          "1976-06-19T00:00:00.000000000",
          "1977-07-20T00:00:00.000000000",
          "1977-02-01T00:00:00.000000000",
          "1976-11-17T00:00:00.000000000",
          "1977-06-08T00:00:00.000000000",
          "1976-09-14T00:00:00.000000000",
          "1977-05-01T00:00:00.000000000",
          "1980-02-29T00:00:00.000000000",
          "1977-04-20T00:00:00.000000000",
          "1976-06-10T00:00:00.000000000",
          "1977-07-01T00:00:00.000000000",
          "1976-12-10T00:00:00.000000000",
          "1978-01-04T00:00:00.000000000",
          "1976-07-01T00:00:00.000000000",
          "1976-10-01T00:00:00.000000000",
          "1976-11-24T00:00:00.000000000",
          "1978-05-26T00:00:00.000000000",
          "1979-07-20T00:00:00.000000000",
          "1976-11-03T00:00:00.000000000",
          "1978-02-01T00:00:00.000000000",
          "1980-02-23T00:00:00.000000000"
         ],
         "xaxis": "x",
         "yaxis": "y"
        },
        {
         "bingroup": "x",
         "hovertemplate": "periodo=Pre-dictadura<br>fecha_detencion=%{x}<br>count=%{y}<extra></extra>",
         "legendgroup": "Pre-dictadura",
         "marker": {
          "color": "#EF553B",
          "pattern": {
           "shape": ""
          }
         },
         "name": "Pre-dictadura",
         "nbinsx": 50,
         "orientation": "v",
         "showlegend": true,
         "type": "histogram",
         "x": [
          "1975-05-04T00:00:00.000000000",
          "1975-12-03T00:00:00.000000000",
          "1975-07-25T00:00:00.000000000",
          "1975-12-08T00:00:00.000000000",
          "1975-09-19T00:00:00.000000000",
          "1976-03-01T00:00:00.000000000",
          "1974-10-08T00:00:00.000000000",
          "1974-08-20T00:00:00.000000000",
          "1976-03-22T00:00:00.000000000",
          "1975-08-21T00:00:00.000000000",
          "1975-09-14T00:00:00.000000000",
          "1975-07-01T00:00:00.000000000",
          "1975-03-16T00:00:00.000000000",
          "1975-04-05T00:00:00.000000000",
          "1975-09-04T00:00:00.000000000",
          "1976-01-13T00:00:00.000000000",
          "1975-04-01T00:00:00.000000000",
          "1975-12-08T00:00:00.000000000",
          "1975-02-14T00:00:00.000000000",
          "1975-03-13T00:00:00.000000000",
          "1975-04-05T00:00:00.000000000",
          "1975-02-05T00:00:00.000000000",
          "1976-02-19T00:00:00.000000000",
          "1976-02-25T00:00:00.000000000",
          "1976-02-01T00:00:00.000000000",
          "1975-06-24T00:00:00.000000000",
          "1976-03-24T00:00:00.000000000",
          "1975-11-20T00:00:00.000000000",
          "1976-02-12T00:00:00.000000000",
          "1976-02-15T00:00:00.000000000",
          "1975-11-18T00:00:00.000000000",
          "1975-03-21T00:00:00.000000000",
          "1976-03-07T00:00:00.000000000",
          "1975-12-15T00:00:00.000000000",
          "1975-12-30T00:00:00.000000000",
          "1975-06-17T00:00:00.000000000",
          "1976-01-08T00:00:00.000000000",
          "1972-04-01T00:00:00.000000000",
          "1976-03-12T00:00:00.000000000",
          "1976-01-18T00:00:00.000000000",
          "1976-01-17T00:00:00.000000000",
          "1975-02-17T00:00:00.000000000",
          "1976-03-18T00:00:00.000000000",
          "1975-01-01T00:00:00.000000000",
          "1975-09-03T00:00:00.000000000",
          "1975-08-04T00:00:00.000000000",
          "1976-02-18T00:00:00.000000000",
          "1976-03-19T00:00:00.000000000",
          "1975-07-24T00:00:00.000000000",
          "1976-01-08T00:00:00.000000000",
          "1976-03-23T00:00:00.000000000",
          "1976-03-19T00:00:00.000000000",
          "1976-02-17T00:00:00.000000000",
          "1976-01-08T00:00:00.000000000",
          "1974-01-20T00:00:00.000000000",
          "1975-12-04T00:00:00.000000000",
          "1976-03-18T00:00:00.000000000",
          "1976-03-18T00:00:00.000000000",
          "1976-02-29T00:00:00.000000000",
          "1975-03-13T00:00:00.000000000",
          "1975-03-24T00:00:00.000000000",
          "1975-03-24T00:00:00.000000000",
          "1975-12-12T00:00:00.000000000",
          "1975-04-16T00:00:00.000000000",
          "1975-07-18T00:00:00.000000000",
          "1975-07-23T00:00:00.000000000",
          "1976-03-21T00:00:00.000000000",
          "1976-03-10T00:00:00.000000000",
          "1976-03-10T00:00:00.000000000",
          "1976-02-29T00:00:00.000000000",
          "1976-03-10T00:00:00.000000000",
          "1976-02-29T00:00:00.000000000",
          "1975-12-18T00:00:00.000000000",
          "1976-01-10T00:00:00.000000000",
          "1976-02-14T00:00:00.000000000",
          "1975-06-24T00:00:00.000000000",
          "1975-12-19T00:00:00.000000000",
          "1976-03-02T00:00:00.000000000",
          "1975-10-09T00:00:00.000000000",
          "1976-03-09T00:00:00.000000000",
          "1970-12-29T00:00:00.000000000",
          "1975-09-20T00:00:00.000000000",
          "1975-08-07T00:00:00.000000000",
          "1974-12-05T00:00:00.000000000",
          "1973-03-31T00:00:00.000000000",
          "1976-02-16T00:00:00.000000000",
          "1976-03-19T00:00:00.000000000",
          "1975-08-14T00:00:00.000000000",
          "1976-03-01T00:00:00.000000000",
          "1976-03-01T00:00:00.000000000",
          "1974-08-22T00:00:00.000000000",
          "1974-12-12T00:00:00.000000000",
          "1973-04-20T00:00:00.000000000",
          "1974-09-13T00:00:00.000000000",
          "1976-03-16T00:00:00.000000000",
          "1975-10-29T00:00:00.000000000",
          "1975-03-17T00:00:00.000000000",
          "1975-09-19T00:00:00.000000000",
          "1975-02-24T00:00:00.000000000",
          "1976-02-16T00:00:00.000000000",
          "1975-10-24T00:00:00.000000000",
          "1975-01-05T00:00:00.000000000",
          "1974-10-12T00:00:00.000000000",
          "1976-01-03T00:00:00.000000000",
          "1976-03-17T00:00:00.000000000",
          "1974-12-05T00:00:00.000000000",
          "1975-02-20T00:00:00.000000000",
          "1975-02-16T00:00:00.000000000",
          "1975-09-13T00:00:00.000000000",
          "1976-03-18T00:00:00.000000000",
          "1975-03-13T00:00:00.000000000",
          "1976-01-08T00:00:00.000000000",
          "1975-12-20T00:00:00.000000000",
          "1974-11-02T00:00:00.000000000",
          "1974-08-22T00:00:00.000000000",
          "1975-07-27T00:00:00.000000000",
          "1975-11-01T00:00:00.000000000",
          "1975-03-21T00:00:00.000000000",
          "1976-02-12T00:00:00.000000000",
          "1975-12-11T00:00:00.000000000",
          "1975-06-20T00:00:00.000000000",
          "1976-03-20T00:00:00.000000000",
          "1976-03-03T00:00:00.000000000",
          "1976-03-16T00:00:00.000000000",
          "1976-01-01T00:00:00.000000000",
          "1975-10-31T00:00:00.000000000",
          "1975-10-08T00:00:00.000000000",
          "1975-09-07T00:00:00.000000000",
          "1976-01-04T00:00:00.000000000",
          "1976-03-18T00:00:00.000000000",
          "1975-12-19T00:00:00.000000000",
          "1976-03-16T00:00:00.000000000",
          "1971-04-01T00:00:00.000000000",
          "1974-11-03T00:00:00.000000000",
          "1972-11-28T00:00:00.000000000",
          "1975-08-08T00:00:00.000000000",
          "1975-07-10T00:00:00.000000000",
          "1976-03-19T00:00:00.000000000",
          "1974-09-26T00:00:00.000000000",
          "1975-10-13T00:00:00.000000000",
          "1976-03-08T00:00:00.000000000",
          "1974-11-08T00:00:00.000000000",
          "1975-12-24T00:00:00.000000000",
          "1974-12-13T00:00:00.000000000",
          "1976-01-08T00:00:00.000000000",
          "1975-12-23T00:00:00.000000000",
          "1976-02-06T00:00:00.000000000",
          "1975-08-01T00:00:00.000000000",
          "1976-03-24T00:00:00.000000000",
          "1975-09-19T00:00:00.000000000",
          "1973-12-21T00:00:00.000000000",
          "1975-12-02T00:00:00.000000000",
          "1976-03-18T00:00:00.000000000",
          "1976-01-01T00:00:00.000000000",
          "1975-03-25T00:00:00.000000000",
          "1975-12-01T00:00:00.000000000",
          "1976-03-16T00:00:00.000000000",
          "1976-03-24T00:00:00.000000000",
          "1976-02-03T00:00:00.000000000",
          "1976-02-26T00:00:00.000000000",
          "1976-01-15T00:00:00.000000000",
          "1975-02-17T00:00:00.000000000",
          "1975-06-01T00:00:00.000000000",
          "1975-05-13T00:00:00.000000000",
          "1975-08-21T00:00:00.000000000",
          "1975-07-25T00:00:00.000000000",
          "1970-12-29T00:00:00.000000000",
          "1975-06-14T00:00:00.000000000",
          "1976-03-24T00:00:00.000000000",
          "1975-12-11T00:00:00.000000000",
          "1976-03-01T00:00:00.000000000",
          "1976-02-20T00:00:00.000000000",
          "1975-09-30T00:00:00.000000000",
          "1975-12-16T00:00:00.000000000",
          "1971-09-16T00:00:00.000000000",
          "1975-12-23T00:00:00.000000000",
          "1976-02-25T00:00:00.000000000",
          "1976-02-03T00:00:00.000000000",
          "1975-07-03T00:00:00.000000000",
          "1975-10-07T00:00:00.000000000",
          "1975-08-21T00:00:00.000000000",
          "1975-12-14T00:00:00.000000000",
          "1976-03-21T00:00:00.000000000",
          "1975-09-25T00:00:00.000000000",
          "1976-01-25T00:00:00.000000000",
          "1976-02-06T00:00:00.000000000",
          "1975-08-20T00:00:00.000000000",
          "1975-10-18T00:00:00.000000000",
          "1975-10-18T00:00:00.000000000",
          "1975-05-27T00:00:00.000000000",
          "1975-06-19T00:00:00.000000000",
          "1976-02-27T00:00:00.000000000",
          "1974-08-06T00:00:00.000000000",
          "1974-08-06T00:00:00.000000000",
          "1975-01-24T00:00:00.000000000",
          "1976-03-24T00:00:00.000000000",
          "1976-01-01T00:00:00.000000000",
          "1976-03-17T00:00:00.000000000",
          "1975-12-23T00:00:00.000000000",
          "1975-11-01T00:00:00.000000000",
          "1975-09-05T00:00:00.000000000",
          "1974-10-08T00:00:00.000000000",
          "1976-01-08T00:00:00.000000000",
          "1975-12-24T00:00:00.000000000",
          "1975-06-12T00:00:00.000000000",
          "1974-12-12T00:00:00.000000000",
          "1975-12-10T00:00:00.000000000",
          "1974-11-20T00:00:00.000000000",
          "1975-08-24T00:00:00.000000000",
          "1974-11-08T00:00:00.000000000",
          "1975-12-23T00:00:00.000000000",
          "1975-02-11T00:00:00.000000000",
          "1975-12-17T00:00:00.000000000",
          "1975-07-25T00:00:00.000000000",
          "1975-04-06T00:00:00.000000000",
          "1975-12-27T00:00:00.000000000",
          "1976-01-07T00:00:00.000000000",
          "1975-11-29T00:00:00.000000000",
          "1975-12-01T00:00:00.000000000",
          "1975-04-12T00:00:00.000000000",
          "1975-11-08T00:00:00.000000000",
          "1976-01-21T00:00:00.000000000",
          "1976-01-26T00:00:00.000000000",
          "1975-01-24T00:00:00.000000000",
          "1975-12-08T00:00:00.000000000",
          "1975-08-15T00:00:00.000000000",
          "1975-03-16T00:00:00.000000000",
          "1975-12-17T00:00:00.000000000",
          "1976-03-16T00:00:00.000000000",
          "1975-08-06T00:00:00.000000000",
          "1974-12-12T00:00:00.000000000",
          "1974-09-10T00:00:00.000000000",
          "1975-06-14T00:00:00.000000000",
          "1976-03-24T00:00:00.000000000",
          "1975-07-25T00:00:00.000000000",
          "1974-11-20T00:00:00.000000000",
          "1975-11-18T00:00:00.000000000",
          "1973-09-06T00:00:00.000000000",
          "1975-12-12T00:00:00.000000000",
          "1975-10-15T00:00:00.000000000",
          "1976-01-22T00:00:00.000000000",
          "1974-11-03T00:00:00.000000000",
          "1976-01-13T00:00:00.000000000",
          "1976-02-18T00:00:00.000000000",
          "1975-12-16T00:00:00.000000000",
          "1975-11-21T00:00:00.000000000",
          "1975-03-05T00:00:00.000000000",
          "1975-06-12T00:00:00.000000000",
          "1975-12-15T00:00:00.000000000",
          "1975-08-27T00:00:00.000000000",
          "1971-04-27T00:00:00.000000000",
          "1974-12-12T00:00:00.000000000",
          "1970-04-24T00:00:00.000000000",
          "1975-04-25T00:00:00.000000000",
          "1974-11-28T00:00:00.000000000",
          "1975-08-27T00:00:00.000000000",
          "1974-11-29T00:00:00.000000000",
          "1975-03-21T00:00:00.000000000",
          "1975-08-23T00:00:00.000000000",
          "1974-12-01T00:00:00.000000000",
          "1975-03-21T00:00:00.000000000",
          "1976-02-13T00:00:00.000000000",
          "1975-02-09T00:00:00.000000000",
          "1976-03-05T00:00:00.000000000",
          "1975-08-21T00:00:00.000000000",
          "1975-08-01T00:00:00.000000000",
          "1974-11-19T00:00:00.000000000",
          "1976-03-20T00:00:00.000000000",
          "1976-02-12T00:00:00.000000000",
          "1976-03-01T00:00:00.000000000",
          "1976-02-26T00:00:00.000000000",
          "1976-03-15T00:00:00.000000000",
          "1974-12-19T00:00:00.000000000",
          "1976-02-03T00:00:00.000000000",
          "1975-12-30T00:00:00.000000000",
          "1975-07-18T00:00:00.000000000",
          "1975-02-20T00:00:00.000000000",
          "1976-03-24T00:00:00.000000000",
          "1975-05-12T00:00:00.000000000",
          "1974-11-08T00:00:00.000000000",
          "1975-10-20T00:00:00.000000000",
          "1975-07-18T00:00:00.000000000",
          "1975-06-30T00:00:00.000000000",
          "1975-12-18T00:00:00.000000000",
          "1976-03-11T00:00:00.000000000",
          "1975-10-18T00:00:00.000000000",
          "1975-07-09T00:00:00.000000000",
          "1976-03-20T00:00:00.000000000",
          "1976-01-26T00:00:00.000000000",
          "1975-06-14T00:00:00.000000000",
          "1975-08-31T00:00:00.000000000",
          "1975-05-10T00:00:00.000000000",
          "1976-01-21T00:00:00.000000000",
          "1974-10-30T00:00:00.000000000",
          "1976-01-08T00:00:00.000000000",
          "1975-06-01T00:00:00.000000000",
          "1975-10-18T00:00:00.000000000",
          "1975-03-16T00:00:00.000000000",
          "1976-02-12T00:00:00.000000000",
          "1976-02-12T00:00:00.000000000",
          "1975-07-31T00:00:00.000000000",
          "1975-01-25T00:00:00.000000000",
          "1975-08-01T00:00:00.000000000",
          "1976-02-11T00:00:00.000000000",
          "1975-09-01T00:00:00.000000000",
          "1976-01-27T00:00:00.000000000",
          "1975-08-12T00:00:00.000000000",
          "1976-02-17T00:00:00.000000000",
          "1974-12-13T00:00:00.000000000",
          "1976-02-15T00:00:00.000000000",
          "1975-03-21T00:00:00.000000000",
          "1976-02-19T00:00:00.000000000",
          "1976-03-09T00:00:00.000000000",
          "1976-02-20T00:00:00.000000000",
          "1975-06-14T00:00:00.000000000",
          "1976-03-20T00:00:00.000000000",
          "1975-04-05T00:00:00.000000000",
          "1976-01-18T00:00:00.000000000",
          "1975-09-04T00:00:00.000000000",
          "1975-01-06T00:00:00.000000000",
          "1974-09-27T00:00:00.000000000",
          "1974-02-06T00:00:00.000000000",
          "1976-03-18T00:00:00.000000000",
          "1976-02-01T00:00:00.000000000",
          "1975-12-06T00:00:00.000000000",
          "1975-05-08T00:00:00.000000000",
          "1974-11-08T00:00:00.000000000",
          "1976-03-05T00:00:00.000000000",
          "1975-01-03T00:00:00.000000000",
          "1976-02-17T00:00:00.000000000",
          "1975-12-06T00:00:00.000000000",
          "1974-09-22T00:00:00.000000000",
          "1975-03-16T00:00:00.000000000",
          "1975-12-24T00:00:00.000000000",
          "1976-01-18T00:00:00.000000000",
          "1976-03-05T00:00:00.000000000",
          "1975-04-24T00:00:00.000000000",
          "1975-12-23T00:00:00.000000000",
          "1975-10-09T00:00:00.000000000",
          "1976-03-23T00:00:00.000000000",
          "1975-05-21T00:00:00.000000000",
          "1975-12-08T00:00:00.000000000",
          "1976-03-18T00:00:00.000000000",
          "1975-01-10T00:00:00.000000000",
          "1976-02-12T00:00:00.000000000",
          "1976-02-11T00:00:00.000000000",
          "1975-04-27T00:00:00.000000000",
          "1973-07-29T00:00:00.000000000",
          "1976-03-15T00:00:00.000000000",
          "1975-11-17T00:00:00.000000000",
          "1976-03-08T00:00:00.000000000",
          "1972-10-16T00:00:00.000000000",
          "1976-01-07T00:00:00.000000000",
          "1976-03-01T00:00:00.000000000",
          "1974-12-02T00:00:00.000000000",
          "1975-12-23T00:00:00.000000000",
          "1976-03-16T00:00:00.000000000",
          "1975-10-28T00:00:00.000000000",
          "1975-03-21T00:00:00.000000000",
          "1974-08-22T00:00:00.000000000",
          "1975-12-11T00:00:00.000000000",
          "1976-03-05T00:00:00.000000000",
          "1975-12-12T00:00:00.000000000",
          "1976-02-22T00:00:00.000000000",
          "1975-12-13T00:00:00.000000000",
          "1975-12-06T00:00:00.000000000",
          "1975-03-21T00:00:00.000000000",
          "1971-02-01T00:00:00.000000000",
          "1976-01-15T00:00:00.000000000",
          "1976-03-19T00:00:00.000000000",
          "1975-09-10T00:00:00.000000000",
          "1975-03-21T00:00:00.000000000",
          "1976-03-04T00:00:00.000000000",
          "1976-03-24T00:00:00.000000000",
          "1975-08-16T00:00:00.000000000",
          "1976-03-24T00:00:00.000000000",
          "1976-01-21T00:00:00.000000000",
          "1976-02-18T00:00:00.000000000",
          "1975-07-08T00:00:00.000000000",
          "1975-12-01T00:00:00.000000000",
          "1975-05-25T00:00:00.000000000",
          "1975-10-20T00:00:00.000000000",
          "1975-08-19T00:00:00.000000000",
          "1975-07-05T00:00:00.000000000",
          "1976-02-08T00:00:00.000000000",
          "1975-11-10T00:00:00.000000000",
          "1975-05-13T00:00:00.000000000",
          "1975-08-31T00:00:00.000000000",
          "1975-06-10T00:00:00.000000000",
          "1975-12-11T00:00:00.000000000",
          "1976-02-17T00:00:00.000000000",
          "1975-04-16T00:00:00.000000000",
          "1975-10-01T00:00:00.000000000",
          "1975-03-01T00:00:00.000000000",
          "1975-10-28T00:00:00.000000000",
          "1975-05-23T00:00:00.000000000",
          "1976-03-20T00:00:00.000000000",
          "1975-09-01T00:00:00.000000000",
          "1975-12-18T00:00:00.000000000",
          "1974-08-20T00:00:00.000000000",
          "1975-09-04T00:00:00.000000000",
          "1975-12-04T00:00:00.000000000",
          "1975-11-11T00:00:00.000000000",
          "1974-11-08T00:00:00.000000000",
          "1975-09-16T00:00:00.000000000",
          "1976-01-01T00:00:00.000000000",
          "1975-04-07T00:00:00.000000000",
          "1976-01-20T00:00:00.000000000",
          "1975-08-01T00:00:00.000000000",
          "1975-10-16T00:00:00.000000000",
          "1976-03-09T00:00:00.000000000",
          "1975-06-30T00:00:00.000000000",
          "1976-02-20T00:00:00.000000000",
          "1976-02-09T00:00:00.000000000",
          "1975-12-01T00:00:00.000000000",
          "1976-03-24T00:00:00.000000000",
          "1975-12-12T00:00:00.000000000",
          "1975-12-12T00:00:00.000000000",
          "1975-02-18T00:00:00.000000000",
          "1974-09-13T00:00:00.000000000",
          "1975-02-12T00:00:00.000000000",
          "1975-09-05T00:00:00.000000000",
          "1976-01-08T00:00:00.000000000",
          "1975-11-19T00:00:00.000000000",
          "1975-07-08T00:00:00.000000000",
          "1975-10-15T00:00:00.000000000",
          "1975-09-07T00:00:00.000000000",
          "1975-12-24T00:00:00.000000000",
          "1975-12-27T00:00:00.000000000",
          "1976-02-14T00:00:00.000000000",
          "1975-08-17T00:00:00.000000000",
          "1975-03-19T00:00:00.000000000",
          "1975-06-12T00:00:00.000000000",
          "1975-06-01T00:00:00.000000000",
          "1970-12-29T00:00:00.000000000",
          "1975-10-20T00:00:00.000000000",
          "1975-12-12T00:00:00.000000000",
          "1972-04-26T00:00:00.000000000",
          "1975-06-14T00:00:00.000000000",
          "1975-12-30T00:00:00.000000000",
          "1974-10-12T00:00:00.000000000",
          "1975-12-11T00:00:00.000000000",
          "1975-01-23T00:00:00.000000000",
          "1976-03-24T00:00:00.000000000",
          "1975-12-23T00:00:00.000000000",
          "1974-09-13T00:00:00.000000000",
          "1976-01-15T00:00:00.000000000",
          "1975-02-14T00:00:00.000000000",
          "1976-01-01T00:00:00.000000000",
          "1975-08-21T00:00:00.000000000",
          "1975-12-08T00:00:00.000000000",
          "1975-12-10T00:00:00.000000000",
          "1975-09-19T00:00:00.000000000",
          "1975-03-21T00:00:00.000000000",
          "1974-11-15T00:00:00.000000000",
          "1975-12-23T00:00:00.000000000",
          "1975-08-22T00:00:00.000000000",
          "1976-03-13T00:00:00.000000000",
          "1975-09-30T00:00:00.000000000",
          "1975-07-25T00:00:00.000000000",
          "1971-11-30T00:00:00.000000000",
          "1975-05-13T00:00:00.000000000",
          "1975-04-07T00:00:00.000000000",
          "1975-02-15T00:00:00.000000000",
          "1976-03-01T00:00:00.000000000",
          "1976-01-19T00:00:00.000000000",
          "1975-08-15T00:00:00.000000000",
          "1976-02-27T00:00:00.000000000",
          "1975-10-01T00:00:00.000000000",
          "1974-12-01T00:00:00.000000000",
          "1974-10-30T00:00:00.000000000",
          "1975-12-01T00:00:00.000000000",
          "1975-12-09T00:00:00.000000000",
          "1976-02-13T00:00:00.000000000",
          "1975-04-14T00:00:00.000000000",
          "1975-12-08T00:00:00.000000000",
          "1975-12-08T00:00:00.000000000",
          "1975-09-10T00:00:00.000000000",
          "1976-02-27T00:00:00.000000000",
          "1976-02-07T00:00:00.000000000",
          "1975-04-07T00:00:00.000000000",
          "1974-09-16T00:00:00.000000000",
          "1976-01-08T00:00:00.000000000",
          "1974-11-07T00:00:00.000000000",
          "1976-02-27T00:00:00.000000000",
          "1976-01-09T00:00:00.000000000",
          "1976-02-27T00:00:00.000000000",
          "1975-12-13T00:00:00.000000000",
          "1976-02-27T00:00:00.000000000",
          "1976-02-27T00:00:00.000000000",
          "1976-03-24T00:00:00.000000000",
          "1975-09-04T00:00:00.000000000",
          "1975-02-09T00:00:00.000000000",
          "1974-12-12T00:00:00.000000000",
          "1975-09-05T00:00:00.000000000",
          "1975-06-22T00:00:00.000000000",
          "1976-03-20T00:00:00.000000000",
          "1976-03-24T00:00:00.000000000",
          "1976-03-09T00:00:00.000000000",
          "1975-08-22T00:00:00.000000000",
          "1975-12-11T00:00:00.000000000",
          "1975-12-11T00:00:00.000000000",
          "1975-09-20T00:00:00.000000000",
          "1976-03-24T00:00:00.000000000",
          "1976-02-24T00:00:00.000000000",
          "1974-08-06T00:00:00.000000000",
          "1975-01-23T00:00:00.000000000",
          "1971-07-13T00:00:00.000000000",
          "1975-12-17T00:00:00.000000000",
          "1975-05-09T00:00:00.000000000",
          "1974-01-15T00:00:00.000000000",
          "1975-03-21T00:00:00.000000000",
          "1975-05-07T00:00:00.000000000",
          "1975-02-28T00:00:00.000000000",
          "1974-11-15T00:00:00.000000000",
          "1975-04-05T00:00:00.000000000",
          "1975-04-30T00:00:00.000000000",
          "1975-12-09T00:00:00.000000000",
          "1975-03-21T00:00:00.000000000",
          "1975-01-01T00:00:00.000000000",
          "1974-09-03T00:00:00.000000000",
          "1976-02-05T00:00:00.000000000",
          "1975-01-31T00:00:00.000000000",
          "1975-12-09T00:00:00.000000000",
          "1975-08-28T00:00:00.000000000",
          "1975-12-13T00:00:00.000000000",
          "1976-03-01T00:00:00.000000000",
          "1975-10-28T00:00:00.000000000",
          "1975-12-27T00:00:00.000000000",
          "1975-12-16T00:00:00.000000000",
          "1975-03-20T00:00:00.000000000",
          "1975-04-07T00:00:00.000000000",
          "1975-10-24T00:00:00.000000000",
          "1976-03-17T00:00:00.000000000",
          "1976-01-21T00:00:00.000000000",
          "1974-06-08T00:00:00.000000000",
          "1976-01-24T00:00:00.000000000",
          "1976-01-28T00:00:00.000000000",
          "1976-03-15T00:00:00.000000000",
          "1975-09-14T00:00:00.000000000",
          "1976-02-18T00:00:00.000000000",
          "1976-01-08T00:00:00.000000000",
          "1975-09-12T00:00:00.000000000",
          "1975-06-27T00:00:00.000000000",
          "1976-03-16T00:00:00.000000000",
          "1970-12-16T00:00:00.000000000",
          "1975-12-16T00:00:00.000000000",
          "1975-11-04T00:00:00.000000000",
          "1974-09-29T00:00:00.000000000",
          "1976-02-27T00:00:00.000000000",
          "1975-11-14T00:00:00.000000000",
          "1976-02-08T00:00:00.000000000",
          "1976-01-12T00:00:00.000000000",
          "1975-04-26T00:00:00.000000000",
          "1975-03-13T00:00:00.000000000",
          "1976-03-18T00:00:00.000000000",
          "1975-10-10T00:00:00.000000000",
          "1975-02-09T00:00:00.000000000",
          "1975-03-14T00:00:00.000000000",
          "1976-02-19T00:00:00.000000000",
          "1976-02-08T00:00:00.000000000",
          "1970-11-28T00:00:00.000000000",
          "1974-10-22T00:00:00.000000000",
          "1975-12-17T00:00:00.000000000",
          "1976-02-19T00:00:00.000000000",
          "1975-03-20T00:00:00.000000000",
          "1975-08-06T00:00:00.000000000",
          "1975-03-30T00:00:00.000000000",
          "1976-03-12T00:00:00.000000000",
          "1975-07-27T00:00:00.000000000",
          "1975-06-15T00:00:00.000000000",
          "1975-08-23T00:00:00.000000000",
          "1975-10-23T00:00:00.000000000",
          "1975-08-23T00:00:00.000000000",
          "1975-09-24T00:00:00.000000000",
          "1974-05-30T00:00:00.000000000",
          "1975-12-30T00:00:00.000000000",
          "1975-01-06T00:00:00.000000000",
          "1976-01-21T00:00:00.000000000",
          "1975-10-29T00:00:00.000000000",
          "1974-10-08T00:00:00.000000000",
          "1976-01-10T00:00:00.000000000",
          "1976-02-16T00:00:00.000000000",
          "1975-06-02T00:00:00.000000000",
          "1975-08-20T00:00:00.000000000",
          "1971-07-13T00:00:00.000000000",
          "1975-10-04T00:00:00.000000000",
          "1976-02-01T00:00:00.000000000",
          "1975-11-21T00:00:00.000000000",
          "1975-11-29T00:00:00.000000000",
          "1975-10-19T00:00:00.000000000",
          "1974-12-02T00:00:00.000000000",
          "1975-12-23T00:00:00.000000000",
          "1976-01-28T00:00:00.000000000",
          "1975-05-14T00:00:00.000000000",
          "1976-01-01T00:00:00.000000000",
          "1976-01-01T00:00:00.000000000",
          "1976-03-08T00:00:00.000000000",
          "1974-12-06T00:00:00.000000000",
          "1975-09-08T00:00:00.000000000",
          "1975-12-01T00:00:00.000000000",
          "1976-02-10T00:00:00.000000000",
          "1975-03-26T00:00:00.000000000",
          "1976-03-13T00:00:00.000000000",
          "1975-10-14T00:00:00.000000000",
          "1975-12-04T00:00:00.000000000",
          "1974-10-22T00:00:00.000000000",
          "1975-07-23T00:00:00.000000000",
          "1975-12-26T00:00:00.000000000",
          "1976-02-01T00:00:00.000000000",
          "1975-11-22T00:00:00.000000000",
          "1975-11-22T00:00:00.000000000",
          "1974-05-30T00:00:00.000000000",
          "1976-01-07T00:00:00.000000000",
          "1974-06-23T00:00:00.000000000",
          "1975-11-21T00:00:00.000000000",
          "1974-11-14T00:00:00.000000000",
          "1976-03-17T00:00:00.000000000",
          "1976-02-20T00:00:00.000000000",
          "1974-09-29T00:00:00.000000000",
          "1975-03-16T00:00:00.000000000",
          "1975-04-11T00:00:00.000000000",
          "1975-05-10T00:00:00.000000000",
          "1974-08-05T00:00:00.000000000",
          "1975-04-19T00:00:00.000000000",
          "1976-03-16T00:00:00.000000000",
          "1975-06-22T00:00:00.000000000",
          "1976-03-12T00:00:00.000000000",
          "1976-03-20T00:00:00.000000000",
          "1976-01-26T00:00:00.000000000",
          "1974-11-03T00:00:00.000000000",
          "1975-02-14T00:00:00.000000000",
          "1976-03-13T00:00:00.000000000",
          "1974-11-18T00:00:00.000000000",
          "1976-02-26T00:00:00.000000000",
          "1976-01-08T00:00:00.000000000",
          "1976-03-17T00:00:00.000000000",
          "1976-03-18T00:00:00.000000000",
          "1975-11-12T00:00:00.000000000",
          "1976-02-15T00:00:00.000000000",
          "1975-07-02T00:00:00.000000000",
          "1976-03-15T00:00:00.000000000",
          "1976-01-05T00:00:00.000000000",
          "1975-07-27T00:00:00.000000000",
          "1975-04-29T00:00:00.000000000",
          "1976-02-04T00:00:00.000000000",
          "1974-10-20T00:00:00.000000000",
          "1970-12-29T00:00:00.000000000",
          "1975-08-16T00:00:00.000000000",
          "1975-07-25T00:00:00.000000000",
          "1976-03-09T00:00:00.000000000",
          "1974-10-23T00:00:00.000000000",
          "1975-08-12T00:00:00.000000000",
          "1975-12-11T00:00:00.000000000",
          "1971-07-02T00:00:00.000000000",
          "1975-07-02T00:00:00.000000000",
          "1975-09-08T00:00:00.000000000",
          "1975-10-15T00:00:00.000000000",
          "1975-09-08T00:00:00.000000000",
          "1975-10-14T00:00:00.000000000",
          "1976-03-24T00:00:00.000000000",
          "1975-10-03T00:00:00.000000000",
          "1975-08-26T00:00:00.000000000",
          "1975-10-04T00:00:00.000000000",
          "1976-03-13T00:00:00.000000000",
          "1975-12-09T00:00:00.000000000",
          "1976-01-16T00:00:00.000000000",
          "1976-03-09T00:00:00.000000000",
          "1975-08-01T00:00:00.000000000",
          "1972-05-24T00:00:00.000000000",
          "1975-10-29T00:00:00.000000000",
          "1976-01-22T00:00:00.000000000",
          "1975-12-23T00:00:00.000000000",
          "1975-12-05T00:00:00.000000000",
          "1974-09-01T00:00:00.000000000",
          "1976-03-23T00:00:00.000000000",
          "1975-04-07T00:00:00.000000000",
          "1974-10-19T00:00:00.000000000",
          "1974-08-07T00:00:00.000000000",
          "1975-10-15T00:00:00.000000000",
          "1975-12-19T00:00:00.000000000",
          "1973-12-05T00:00:00.000000000",
          "1975-06-07T00:00:00.000000000",
          "1975-05-13T00:00:00.000000000",
          "1976-01-20T00:00:00.000000000",
          "1976-01-20T00:00:00.000000000",
          "1971-07-03T00:00:00.000000000",
          "1975-12-16T00:00:00.000000000",
          "1976-03-01T00:00:00.000000000",
          "1974-07-05T00:00:00.000000000",
          "1975-07-26T00:00:00.000000000",
          "1975-07-25T00:00:00.000000000",
          "1975-09-05T00:00:00.000000000",
          "1976-03-22T00:00:00.000000000",
          "1975-08-01T00:00:00.000000000",
          "1976-01-15T00:00:00.000000000",
          "1974-09-01T00:00:00.000000000",
          "1972-09-08T00:00:00.000000000",
          "1975-08-14T00:00:00.000000000",
          "1975-08-14T00:00:00.000000000",
          "1975-08-14T00:00:00.000000000",
          "1971-06-22T00:00:00.000000000",
          "1971-09-17T00:00:00.000000000",
          "1976-03-09T00:00:00.000000000",
          "1975-12-28T00:00:00.000000000",
          "1976-01-27T00:00:00.000000000",
          "1976-03-11T00:00:00.000000000",
          "1975-09-10T00:00:00.000000000",
          "1974-10-23T00:00:00.000000000",
          "1975-12-03T00:00:00.000000000",
          "1975-11-07T00:00:00.000000000",
          "1975-06-01T00:00:00.000000000",
          "1976-01-06T00:00:00.000000000",
          "1975-12-24T00:00:00.000000000",
          "1976-02-19T00:00:00.000000000",
          "1976-01-08T00:00:00.000000000",
          "1976-01-01T00:00:00.000000000",
          "1975-08-15T00:00:00.000000000",
          "1975-04-12T00:00:00.000000000",
          "1975-02-11T00:00:00.000000000",
          "1975-01-06T00:00:00.000000000",
          "1976-03-19T00:00:00.000000000",
          "1975-08-29T00:00:00.000000000",
          "1975-09-05T00:00:00.000000000",
          "1975-12-16T00:00:00.000000000",
          "1976-03-24T00:00:00.000000000",
          "1975-12-16T00:00:00.000000000",
          "1976-02-26T00:00:00.000000000",
          "1975-03-26T00:00:00.000000000",
          "1976-03-21T00:00:00.000000000",
          "1975-07-25T00:00:00.000000000",
          "1976-03-24T00:00:00.000000000",
          "1973-12-05T00:00:00.000000000",
          "1975-10-10T00:00:00.000000000",
          "1975-04-05T00:00:00.000000000",
          "1976-01-01T00:00:00.000000000",
          "1976-02-01T00:00:00.000000000",
          "1976-03-20T00:00:00.000000000",
          "1972-10-10T00:00:00.000000000",
          "1974-11-03T00:00:00.000000000",
          "1975-09-01T00:00:00.000000000",
          "1976-01-01T00:00:00.000000000",
          "1975-12-13T00:00:00.000000000",
          "1976-01-22T00:00:00.000000000",
          "1975-08-07T00:00:00.000000000",
          "1976-01-26T00:00:00.000000000",
          "1975-12-04T00:00:00.000000000",
          "1976-01-22T00:00:00.000000000",
          "1975-12-15T00:00:00.000000000",
          "1975-12-03T00:00:00.000000000",
          "1975-01-05T00:00:00.000000000",
          "1975-03-16T00:00:00.000000000",
          "1974-07-25T00:00:00.000000000",
          "1975-09-30T00:00:00.000000000",
          "1975-06-24T00:00:00.000000000",
          "1975-04-05T00:00:00.000000000",
          "1976-03-18T00:00:00.000000000",
          "1975-12-29T00:00:00.000000000",
          "1975-12-05T00:00:00.000000000",
          "1975-05-12T00:00:00.000000000",
          "1975-02-15T00:00:00.000000000",
          "1975-08-03T00:00:00.000000000",
          "1974-01-20T00:00:00.000000000",
          "1975-08-17T00:00:00.000000000",
          "1976-03-22T00:00:00.000000000",
          "1976-01-05T00:00:00.000000000",
          "1975-10-17T00:00:00.000000000",
          "1976-02-16T00:00:00.000000000",
          "1976-02-27T00:00:00.000000000",
          "1976-01-27T00:00:00.000000000",
          "1975-11-14T00:00:00.000000000",
          "1975-11-29T00:00:00.000000000",
          "1976-01-09T00:00:00.000000000",
          "1975-09-01T00:00:00.000000000",
          "1975-11-10T00:00:00.000000000",
          "1975-12-08T00:00:00.000000000",
          "1975-07-28T00:00:00.000000000",
          "1976-03-12T00:00:00.000000000",
          "1975-08-16T00:00:00.000000000",
          "1975-11-11T00:00:00.000000000",
          "1975-12-04T00:00:00.000000000",
          "1975-12-11T00:00:00.000000000",
          "1972-02-07T00:00:00.000000000",
          "1975-12-06T00:00:00.000000000",
          "1976-03-24T00:00:00.000000000",
          "1976-03-21T00:00:00.000000000",
          "1975-03-05T00:00:00.000000000",
          "1975-10-02T00:00:00.000000000",
          "1975-12-12T00:00:00.000000000",
          "1975-07-01T00:00:00.000000000",
          "1976-03-16T00:00:00.000000000",
          "1975-12-04T00:00:00.000000000",
          "1976-03-24T00:00:00.000000000",
          "1975-06-04T00:00:00.000000000",
          "1975-06-02T00:00:00.000000000",
          "1975-06-06T00:00:00.000000000",
          "1975-06-14T00:00:00.000000000",
          "1976-02-29T00:00:00.000000000",
          "1976-02-27T00:00:00.000000000",
          "1975-03-20T00:00:00.000000000",
          "1975-03-14T00:00:00.000000000",
          "1975-12-15T00:00:00.000000000",
          "1976-03-16T00:00:00.000000000",
          "1975-08-15T00:00:00.000000000",
          "1975-12-06T00:00:00.000000000",
          "1974-09-28T00:00:00.000000000",
          "1976-03-12T00:00:00.000000000",
          "1975-04-01T00:00:00.000000000",
          "1975-12-19T00:00:00.000000000",
          "1971-08-30T00:00:00.000000000",
          "1976-02-16T00:00:00.000000000",
          "1974-03-14T00:00:00.000000000",
          "1975-04-13T00:00:00.000000000",
          "1976-01-26T00:00:00.000000000",
          "1976-01-20T00:00:00.000000000",
          "1975-09-19T00:00:00.000000000",
          "1976-01-13T00:00:00.000000000",
          "1975-01-05T00:00:00.000000000",
          "1973-10-10T00:00:00.000000000",
          "1975-12-04T00:00:00.000000000",
          "1976-02-26T00:00:00.000000000",
          "1975-09-10T00:00:00.000000000",
          "1975-12-10T00:00:00.000000000",
          "1976-01-05T00:00:00.000000000",
          "1975-12-20T00:00:00.000000000",
          "1975-08-12T00:00:00.000000000",
          "1975-12-13T00:00:00.000000000",
          "1975-12-29T00:00:00.000000000",
          "1975-12-27T00:00:00.000000000",
          "1976-02-16T00:00:00.000000000",
          "1975-12-13T00:00:00.000000000",
          "1975-12-06T00:00:00.000000000",
          "1975-07-15T00:00:00.000000000",
          "1975-04-09T00:00:00.000000000",
          "1976-02-28T00:00:00.000000000",
          "1975-10-04T00:00:00.000000000",
          "1975-05-27T00:00:00.000000000",
          "1975-01-01T00:00:00.000000000",
          "1976-02-06T00:00:00.000000000",
          "1976-01-22T00:00:00.000000000",
          "1975-04-15T00:00:00.000000000",
          "1975-08-16T00:00:00.000000000",
          "1976-03-09T00:00:00.000000000",
          "1975-08-21T00:00:00.000000000",
          "1976-03-17T00:00:00.000000000",
          "1975-11-14T00:00:00.000000000",
          "1976-03-22T00:00:00.000000000",
          "1976-02-15T00:00:00.000000000",
          "1976-01-10T00:00:00.000000000",
          "1975-12-04T00:00:00.000000000",
          "1975-08-30T00:00:00.000000000",
          "1974-10-21T00:00:00.000000000",
          "1975-04-05T00:00:00.000000000",
          "1975-11-04T00:00:00.000000000",
          "1975-04-24T00:00:00.000000000",
          "1976-01-26T00:00:00.000000000",
          "1975-11-04T00:00:00.000000000",
          "1976-01-22T00:00:00.000000000",
          "1971-03-27T00:00:00.000000000",
          "1976-01-08T00:00:00.000000000",
          "1976-01-10T00:00:00.000000000",
          "1975-12-06T00:00:00.000000000",
          "1976-03-20T00:00:00.000000000",
          "1975-11-03T00:00:00.000000000",
          "1974-11-13T00:00:00.000000000",
          "1975-12-11T00:00:00.000000000",
          "1974-11-15T00:00:00.000000000",
          "1976-03-24T00:00:00.000000000",
          "1975-04-19T00:00:00.000000000",
          "1976-02-02T00:00:00.000000000",
          "1976-03-09T00:00:00.000000000",
          "1976-03-18T00:00:00.000000000",
          "1976-03-24T00:00:00.000000000",
          "1975-07-27T00:00:00.000000000",
          "1976-01-08T00:00:00.000000000",
          "1975-08-22T00:00:00.000000000",
          "1975-06-22T00:00:00.000000000",
          "1976-01-31T00:00:00.000000000",
          "1975-12-26T00:00:00.000000000",
          "1976-03-14T00:00:00.000000000",
          "1975-11-04T00:00:00.000000000",
          "1976-03-06T00:00:00.000000000",
          "1976-01-08T00:00:00.000000000",
          "1975-07-31T00:00:00.000000000",
          "1975-12-09T00:00:00.000000000",
          "1976-03-09T00:00:00.000000000",
          "1975-12-19T00:00:00.000000000",
          "1976-02-10T00:00:00.000000000",
          "1976-01-13T00:00:00.000000000",
          "1975-11-08T00:00:00.000000000",
          "1975-09-17T00:00:00.000000000",
          "1975-08-20T00:00:00.000000000",
          "1975-12-11T00:00:00.000000000",
          "1975-05-30T00:00:00.000000000",
          "1975-05-30T00:00:00.000000000",
          "1971-08-30T00:00:00.000000000",
          "1975-12-11T00:00:00.000000000",
          "1975-06-11T00:00:00.000000000",
          "1976-02-27T00:00:00.000000000",
          "1975-10-04T00:00:00.000000000",
          "1975-12-09T00:00:00.000000000",
          "1974-09-20T00:00:00.000000000",
          "1975-04-25T00:00:00.000000000",
          "1975-09-19T00:00:00.000000000",
          "1971-08-30T00:00:00.000000000",
          "1975-04-12T00:00:00.000000000",
          "1975-09-21T00:00:00.000000000",
          "1974-11-14T00:00:00.000000000",
          "1975-04-03T00:00:00.000000000",
          "1975-12-16T00:00:00.000000000",
          "1976-02-12T00:00:00.000000000",
          "1976-03-10T00:00:00.000000000",
          "1975-05-21T00:00:00.000000000",
          "1974-12-27T00:00:00.000000000",
          "1975-11-30T00:00:00.000000000",
          "1976-01-31T00:00:00.000000000",
          "1962-08-23T00:00:00.000000000",
          "1976-03-24T00:00:00.000000000",
          "1975-04-07T00:00:00.000000000",
          "1974-12-12T00:00:00.000000000",
          "1974-08-22T00:00:00.000000000",
          "1974-09-16T00:00:00.000000000",
          "1976-02-17T00:00:00.000000000",
          "1975-12-16T00:00:00.000000000",
          "1974-12-01T00:00:00.000000000",
          "1975-12-02T00:00:00.000000000",
          "1975-08-12T00:00:00.000000000",
          "1976-02-15T00:00:00.000000000",
          "1975-05-07T00:00:00.000000000",
          "1975-01-05T00:00:00.000000000",
          "1975-08-01T00:00:00.000000000",
          "1976-03-18T00:00:00.000000000",
          "1971-07-02T00:00:00.000000000",
          "1976-01-20T00:00:00.000000000",
          "1975-04-10T00:00:00.000000000",
          "1974-12-04T00:00:00.000000000",
          "1976-02-02T00:00:00.000000000",
          "1975-03-21T00:00:00.000000000",
          "1975-03-21T00:00:00.000000000",
          "1975-03-21T00:00:00.000000000",
          "1975-12-10T00:00:00.000000000",
          "1975-05-12T00:00:00.000000000",
          "1975-12-03T00:00:00.000000000",
          "1976-01-30T00:00:00.000000000",
          "1975-12-04T00:00:00.000000000",
          "1976-01-14T00:00:00.000000000",
          "1975-04-03T00:00:00.000000000",
          "1972-02-01T00:00:00.000000000",
          "1975-10-28T00:00:00.000000000",
          "1974-12-04T00:00:00.000000000",
          "1974-12-04T00:00:00.000000000",
          "1975-07-25T00:00:00.000000000",
          "1975-09-11T00:00:00.000000000",
          "1975-07-23T00:00:00.000000000",
          "1976-01-07T00:00:00.000000000",
          "1976-01-07T00:00:00.000000000",
          "1975-09-23T00:00:00.000000000",
          "1976-02-14T00:00:00.000000000",
          "1974-11-29T00:00:00.000000000",
          "1976-03-19T00:00:00.000000000",
          "1974-11-20T00:00:00.000000000",
          "1975-11-08T00:00:00.000000000",
          "1975-04-05T00:00:00.000000000",
          "1975-08-04T00:00:00.000000000",
          "1976-03-13T00:00:00.000000000",
          "1976-03-19T00:00:00.000000000",
          "1975-09-04T00:00:00.000000000",
          "1974-11-14T00:00:00.000000000",
          "1975-10-09T00:00:00.000000000",
          "1975-08-01T00:00:00.000000000",
          "1975-11-24T00:00:00.000000000",
          "1975-09-14T00:00:00.000000000",
          "1975-06-08T00:00:00.000000000",
          "1976-02-17T00:00:00.000000000",
          "1970-12-16T00:00:00.000000000",
          "1974-11-01T00:00:00.000000000",
          "1974-05-30T00:00:00.000000000",
          "1976-01-09T00:00:00.000000000",
          "1975-11-10T00:00:00.000000000",
          "1975-08-01T00:00:00.000000000"
         ],
         "xaxis": "x",
         "yaxis": "y"
        }
       ],
       "layout": {
        "bargap": 0.1,
        "barmode": "relative",
        "legend": {
         "title": {
          "text": "periodo"
         },
         "tracegroupgap": 0
        },
        "template": {
         "data": {
          "bar": [
           {
            "error_x": {
             "color": "#2a3f5f"
            },
            "error_y": {
             "color": "#2a3f5f"
            },
            "marker": {
             "line": {
              "color": "#E5ECF6",
              "width": 0.5
             },
             "pattern": {
              "fillmode": "overlay",
              "size": 10,
              "solidity": 0.2
             }
            },
            "type": "bar"
           }
          ],
          "barpolar": [
           {
            "marker": {
             "line": {
              "color": "#E5ECF6",
              "width": 0.5
             },
             "pattern": {
              "fillmode": "overlay",
              "size": 10,
              "solidity": 0.2
             }
            },
            "type": "barpolar"
           }
          ],
          "carpet": [
           {
            "aaxis": {
             "endlinecolor": "#2a3f5f",
             "gridcolor": "white",
             "linecolor": "white",
             "minorgridcolor": "white",
             "startlinecolor": "#2a3f5f"
            },
            "baxis": {
             "endlinecolor": "#2a3f5f",
             "gridcolor": "white",
             "linecolor": "white",
             "minorgridcolor": "white",
             "startlinecolor": "#2a3f5f"
            },
            "type": "carpet"
           }
          ],
          "choropleth": [
           {
            "colorbar": {
             "outlinewidth": 0,
             "ticks": ""
            },
            "type": "choropleth"
           }
          ],
          "contour": [
           {
            "colorbar": {
             "outlinewidth": 0,
             "ticks": ""
            },
            "colorscale": [
             [
              0,
              "#0d0887"
             ],
             [
              0.1111111111111111,
              "#46039f"
             ],
             [
              0.2222222222222222,
              "#7201a8"
             ],
             [
              0.3333333333333333,
              "#9c179e"
             ],
             [
              0.4444444444444444,
              "#bd3786"
             ],
             [
              0.5555555555555556,
              "#d8576b"
             ],
             [
              0.6666666666666666,
              "#ed7953"
             ],
             [
              0.7777777777777778,
              "#fb9f3a"
             ],
             [
              0.8888888888888888,
              "#fdca26"
             ],
             [
              1,
              "#f0f921"
             ]
            ],
            "type": "contour"
           }
          ],
          "contourcarpet": [
           {
            "colorbar": {
             "outlinewidth": 0,
             "ticks": ""
            },
            "type": "contourcarpet"
           }
          ],
          "heatmap": [
           {
            "colorbar": {
             "outlinewidth": 0,
             "ticks": ""
            },
            "colorscale": [
             [
              0,
              "#0d0887"
             ],
             [
              0.1111111111111111,
              "#46039f"
             ],
             [
              0.2222222222222222,
              "#7201a8"
             ],
             [
              0.3333333333333333,
              "#9c179e"
             ],
             [
              0.4444444444444444,
              "#bd3786"
             ],
             [
              0.5555555555555556,
              "#d8576b"
             ],
             [
              0.6666666666666666,
              "#ed7953"
             ],
             [
              0.7777777777777778,
              "#fb9f3a"
             ],
             [
              0.8888888888888888,
              "#fdca26"
             ],
             [
              1,
              "#f0f921"
             ]
            ],
            "type": "heatmap"
           }
          ],
          "histogram": [
           {
            "marker": {
             "pattern": {
              "fillmode": "overlay",
              "size": 10,
              "solidity": 0.2
             }
            },
            "type": "histogram"
           }
          ],
          "histogram2d": [
           {
            "colorbar": {
             "outlinewidth": 0,
             "ticks": ""
            },
            "colorscale": [
             [
              0,
              "#0d0887"
             ],
             [
              0.1111111111111111,
              "#46039f"
             ],
             [
              0.2222222222222222,
              "#7201a8"
             ],
             [
              0.3333333333333333,
              "#9c179e"
             ],
             [
              0.4444444444444444,
              "#bd3786"
             ],
             [
              0.5555555555555556,
              "#d8576b"
             ],
             [
              0.6666666666666666,
              "#ed7953"
             ],
             [
              0.7777777777777778,
              "#fb9f3a"
             ],
             [
              0.8888888888888888,
              "#fdca26"
             ],
             [
              1,
              "#f0f921"
             ]
            ],
            "type": "histogram2d"
           }
          ],
          "histogram2dcontour": [
           {
            "colorbar": {
             "outlinewidth": 0,
             "ticks": ""
            },
            "colorscale": [
             [
              0,
              "#0d0887"
             ],
             [
              0.1111111111111111,
              "#46039f"
             ],
             [
              0.2222222222222222,
              "#7201a8"
             ],
             [
              0.3333333333333333,
              "#9c179e"
             ],
             [
              0.4444444444444444,
              "#bd3786"
             ],
             [
              0.5555555555555556,
              "#d8576b"
             ],
             [
              0.6666666666666666,
              "#ed7953"
             ],
             [
              0.7777777777777778,
              "#fb9f3a"
             ],
             [
              0.8888888888888888,
              "#fdca26"
             ],
             [
              1,
              "#f0f921"
             ]
            ],
            "type": "histogram2dcontour"
           }
          ],
          "mesh3d": [
           {
            "colorbar": {
             "outlinewidth": 0,
             "ticks": ""
            },
            "type": "mesh3d"
           }
          ],
          "parcoords": [
           {
            "line": {
             "colorbar": {
              "outlinewidth": 0,
              "ticks": ""
             }
            },
            "type": "parcoords"
           }
          ],
          "pie": [
           {
            "automargin": true,
            "type": "pie"
           }
          ],
          "scatter": [
           {
            "fillpattern": {
             "fillmode": "overlay",
             "size": 10,
             "solidity": 0.2
            },
            "type": "scatter"
           }
          ],
          "scatter3d": [
           {
            "line": {
             "colorbar": {
              "outlinewidth": 0,
              "ticks": ""
             }
            },
            "marker": {
             "colorbar": {
              "outlinewidth": 0,
              "ticks": ""
             }
            },
            "type": "scatter3d"
           }
          ],
          "scattercarpet": [
           {
            "marker": {
             "colorbar": {
              "outlinewidth": 0,
              "ticks": ""
             }
            },
            "type": "scattercarpet"
           }
          ],
          "scattergeo": [
           {
            "marker": {
             "colorbar": {
              "outlinewidth": 0,
              "ticks": ""
             }
            },
            "type": "scattergeo"
           }
          ],
          "scattergl": [
           {
            "marker": {
             "colorbar": {
              "outlinewidth": 0,
              "ticks": ""
             }
            },
            "type": "scattergl"
           }
          ],
          "scattermap": [
           {
            "marker": {
             "colorbar": {
              "outlinewidth": 0,
              "ticks": ""
             }
            },
            "type": "scattermap"
           }
          ],
          "scattermapbox": [
           {
            "marker": {
             "colorbar": {
              "outlinewidth": 0,
              "ticks": ""
             }
            },
            "type": "scattermapbox"
           }
          ],
          "scatterpolar": [
           {
            "marker": {
             "colorbar": {
              "outlinewidth": 0,
              "ticks": ""
             }
            },
            "type": "scatterpolar"
           }
          ],
          "scatterpolargl": [
           {
            "marker": {
             "colorbar": {
              "outlinewidth": 0,
              "ticks": ""
             }
            },
            "type": "scatterpolargl"
           }
          ],
          "scatterternary": [
           {
            "marker": {
             "colorbar": {
              "outlinewidth": 0,
              "ticks": ""
             }
            },
            "type": "scatterternary"
           }
          ],
          "surface": [
           {
            "colorbar": {
             "outlinewidth": 0,
             "ticks": ""
            },
            "colorscale": [
             [
              0,
              "#0d0887"
             ],
             [
              0.1111111111111111,
              "#46039f"
             ],
             [
              0.2222222222222222,
              "#7201a8"
             ],
             [
              0.3333333333333333,
              "#9c179e"
             ],
             [
              0.4444444444444444,
              "#bd3786"
             ],
             [
              0.5555555555555556,
              "#d8576b"
             ],
             [
              0.6666666666666666,
              "#ed7953"
             ],
             [
              0.7777777777777778,
              "#fb9f3a"
             ],
             [
              0.8888888888888888,
              "#fdca26"
             ],
             [
              1,
              "#f0f921"
             ]
            ],
            "type": "surface"
           }
          ],
          "table": [
           {
            "cells": {
             "fill": {
              "color": "#EBF0F8"
             },
             "line": {
              "color": "white"
             }
            },
            "header": {
             "fill": {
              "color": "#C8D4E3"
             },
             "line": {
              "color": "white"
             }
            },
            "type": "table"
           }
          ]
         },
         "layout": {
          "annotationdefaults": {
           "arrowcolor": "#2a3f5f",
           "arrowhead": 0,
           "arrowwidth": 1
          },
          "autotypenumbers": "strict",
          "coloraxis": {
           "colorbar": {
            "outlinewidth": 0,
            "ticks": ""
           }
          },
          "colorscale": {
           "diverging": [
            [
             0,
             "#8e0152"
            ],
            [
             0.1,
             "#c51b7d"
            ],
            [
             0.2,
             "#de77ae"
            ],
            [
             0.3,
             "#f1b6da"
            ],
            [
             0.4,
             "#fde0ef"
            ],
            [
             0.5,
             "#f7f7f7"
            ],
            [
             0.6,
             "#e6f5d0"
            ],
            [
             0.7,
             "#b8e186"
            ],
            [
             0.8,
             "#7fbc41"
            ],
            [
             0.9,
             "#4d9221"
            ],
            [
             1,
             "#276419"
            ]
           ],
           "sequential": [
            [
             0,
             "#0d0887"
            ],
            [
             0.1111111111111111,
             "#46039f"
            ],
            [
             0.2222222222222222,
             "#7201a8"
            ],
            [
             0.3333333333333333,
             "#9c179e"
            ],
            [
             0.4444444444444444,
             "#bd3786"
            ],
            [
             0.5555555555555556,
             "#d8576b"
            ],
            [
             0.6666666666666666,
             "#ed7953"
            ],
            [
             0.7777777777777778,
             "#fb9f3a"
            ],
            [
             0.8888888888888888,
             "#fdca26"
            ],
            [
             1,
             "#f0f921"
            ]
           ],
           "sequentialminus": [
            [
             0,
             "#0d0887"
            ],
            [
             0.1111111111111111,
             "#46039f"
            ],
            [
             0.2222222222222222,
             "#7201a8"
            ],
            [
             0.3333333333333333,
             "#9c179e"
            ],
            [
             0.4444444444444444,
             "#bd3786"
            ],
            [
             0.5555555555555556,
             "#d8576b"
            ],
            [
             0.6666666666666666,
             "#ed7953"
            ],
            [
             0.7777777777777778,
             "#fb9f3a"
            ],
            [
             0.8888888888888888,
             "#fdca26"
            ],
            [
             1,
             "#f0f921"
            ]
           ]
          },
          "colorway": [
           "#636efa",
           "#EF553B",
           "#00cc96",
           "#ab63fa",
           "#FFA15A",
           "#19d3f3",
           "#FF6692",
           "#B6E880",
           "#FF97FF",
           "#FECB52"
          ],
          "font": {
           "color": "#2a3f5f"
          },
          "geo": {
           "bgcolor": "white",
           "lakecolor": "white",
           "landcolor": "#E5ECF6",
           "showlakes": true,
           "showland": true,
           "subunitcolor": "white"
          },
          "hoverlabel": {
           "align": "left"
          },
          "hovermode": "closest",
          "mapbox": {
           "style": "light"
          },
          "paper_bgcolor": "white",
          "plot_bgcolor": "#E5ECF6",
          "polar": {
           "angularaxis": {
            "gridcolor": "white",
            "linecolor": "white",
            "ticks": ""
           },
           "bgcolor": "#E5ECF6",
           "radialaxis": {
            "gridcolor": "white",
            "linecolor": "white",
            "ticks": ""
           }
          },
          "scene": {
           "xaxis": {
            "backgroundcolor": "#E5ECF6",
            "gridcolor": "white",
            "gridwidth": 2,
            "linecolor": "white",
            "showbackground": true,
            "ticks": "",
            "zerolinecolor": "white"
           },
           "yaxis": {
            "backgroundcolor": "#E5ECF6",
            "gridcolor": "white",
            "gridwidth": 2,
            "linecolor": "white",
            "showbackground": true,
            "ticks": "",
            "zerolinecolor": "white"
           },
           "zaxis": {
            "backgroundcolor": "#E5ECF6",
            "gridcolor": "white",
            "gridwidth": 2,
            "linecolor": "white",
            "showbackground": true,
            "ticks": "",
            "zerolinecolor": "white"
           }
          },
          "shapedefaults": {
           "line": {
            "color": "#2a3f5f"
           }
          },
          "ternary": {
           "aaxis": {
            "gridcolor": "white",
            "linecolor": "white",
            "ticks": ""
           },
           "baxis": {
            "gridcolor": "white",
            "linecolor": "white",
            "ticks": ""
           },
           "bgcolor": "#E5ECF6",
           "caxis": {
            "gridcolor": "white",
            "linecolor": "white",
            "ticks": ""
           }
          },
          "title": {
           "x": 0.05
          },
          "xaxis": {
           "automargin": true,
           "gridcolor": "white",
           "linecolor": "white",
           "ticks": "",
           "title": {
            "standoff": 15
           },
           "zerolinecolor": "white",
           "zerolinewidth": 2
          },
          "yaxis": {
           "automargin": true,
           "gridcolor": "white",
           "linecolor": "white",
           "ticks": "",
           "title": {
            "standoff": 15
           },
           "zerolinecolor": "white",
           "zerolinewidth": 2
          }
         }
        },
        "title": {
         "text": "Histogram of Year of Detention/Disappearance by Historical Period"
        },
        "xaxis": {
         "anchor": "y",
         "domain": [
          0,
          1
         ],
         "title": {
          "text": "fecha_detencion"
         }
        },
        "yaxis": {
         "anchor": "x",
         "domain": [
          0,
          1
         ],
         "title": {
          "text": "count"
         }
        }
       }
      }
     },
     "metadata": {},
     "output_type": "display_data"
    }
   ],
   "source": [
    "# histogram for year of dissapearance \n",
    "# color by periodo\n",
    "\n",
    "fig = px.histogram(df_clean, x='fecha_detencion', color='periodo', nbins=50, \n",
    "                   title='Histogram of Year of Detention/Disappearance by Historical Period')\n",
    "fig.update_layout(bargap=0.1)\n",
    "fig.show()"
   ]
  },
  {
   "cell_type": "code",
   "execution_count": 46,
   "id": "3981bedf",
   "metadata": {},
   "outputs": [
    {
     "data": {
      "application/vnd.plotly.v1+json": {
       "config": {
        "plotlyServerURL": "https://plot.ly"
       },
       "data": [
        {
         "bingroup": "x",
         "hovertemplate": "Days Between Detention and Assassination=%{x}<br>count=%{y}<extra></extra>",
         "legendgroup": "",
         "marker": {
          "color": "#636efa",
          "pattern": {
           "shape": ""
          }
         },
         "name": "",
         "nbinsx": 30,
         "orientation": "v",
         "showlegend": false,
         "type": "histogram",
         "x": {
          "bdata": "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",
          "dtype": "f8"
         },
         "xaxis": "x",
         "yaxis": "y"
        }
       ],
       "layout": {
        "bargap": 0.1,
        "barmode": "relative",
        "legend": {
         "tracegroupgap": 0
        },
        "template": {
         "data": {
          "bar": [
           {
            "error_x": {
             "color": "#2a3f5f"
            },
            "error_y": {
             "color": "#2a3f5f"
            },
            "marker": {
             "line": {
              "color": "#E5ECF6",
              "width": 0.5
             },
             "pattern": {
              "fillmode": "overlay",
              "size": 10,
              "solidity": 0.2
             }
            },
            "type": "bar"
           }
          ],
          "barpolar": [
           {
            "marker": {
             "line": {
              "color": "#E5ECF6",
              "width": 0.5
             },
             "pattern": {
              "fillmode": "overlay",
              "size": 10,
              "solidity": 0.2
             }
            },
            "type": "barpolar"
           }
          ],
          "carpet": [
           {
            "aaxis": {
             "endlinecolor": "#2a3f5f",
             "gridcolor": "white",
             "linecolor": "white",
             "minorgridcolor": "white",
             "startlinecolor": "#2a3f5f"
            },
            "baxis": {
             "endlinecolor": "#2a3f5f",
             "gridcolor": "white",
             "linecolor": "white",
             "minorgridcolor": "white",
             "startlinecolor": "#2a3f5f"
            },
            "type": "carpet"
           }
          ],
          "choropleth": [
           {
            "colorbar": {
             "outlinewidth": 0,
             "ticks": ""
            },
            "type": "choropleth"
           }
          ],
          "contour": [
           {
            "colorbar": {
             "outlinewidth": 0,
             "ticks": ""
            },
            "colorscale": [
             [
              0,
              "#0d0887"
             ],
             [
              0.1111111111111111,
              "#46039f"
             ],
             [
              0.2222222222222222,
              "#7201a8"
             ],
             [
              0.3333333333333333,
              "#9c179e"
             ],
             [
              0.4444444444444444,
              "#bd3786"
             ],
             [
              0.5555555555555556,
              "#d8576b"
             ],
             [
              0.6666666666666666,
              "#ed7953"
             ],
             [
              0.7777777777777778,
              "#fb9f3a"
             ],
             [
              0.8888888888888888,
              "#fdca26"
             ],
             [
              1,
              "#f0f921"
             ]
            ],
            "type": "contour"
           }
          ],
          "contourcarpet": [
           {
            "colorbar": {
             "outlinewidth": 0,
             "ticks": ""
            },
            "type": "contourcarpet"
           }
          ],
          "heatmap": [
           {
            "colorbar": {
             "outlinewidth": 0,
             "ticks": ""
            },
            "colorscale": [
             [
              0,
              "#0d0887"
             ],
             [
              0.1111111111111111,
              "#46039f"
             ],
             [
              0.2222222222222222,
              "#7201a8"
             ],
             [
              0.3333333333333333,
              "#9c179e"
             ],
             [
              0.4444444444444444,
              "#bd3786"
             ],
             [
              0.5555555555555556,
              "#d8576b"
             ],
             [
              0.6666666666666666,
              "#ed7953"
             ],
             [
              0.7777777777777778,
              "#fb9f3a"
             ],
             [
              0.8888888888888888,
              "#fdca26"
             ],
             [
              1,
              "#f0f921"
             ]
            ],
            "type": "heatmap"
           }
          ],
          "histogram": [
           {
            "marker": {
             "pattern": {
              "fillmode": "overlay",
              "size": 10,
              "solidity": 0.2
             }
            },
            "type": "histogram"
           }
          ],
          "histogram2d": [
           {
            "colorbar": {
             "outlinewidth": 0,
             "ticks": ""
            },
            "colorscale": [
             [
              0,
              "#0d0887"
             ],
             [
              0.1111111111111111,
              "#46039f"
             ],
             [
              0.2222222222222222,
              "#7201a8"
             ],
             [
              0.3333333333333333,
              "#9c179e"
             ],
             [
              0.4444444444444444,
              "#bd3786"
             ],
             [
              0.5555555555555556,
              "#d8576b"
             ],
             [
              0.6666666666666666,
              "#ed7953"
             ],
             [
              0.7777777777777778,
              "#fb9f3a"
             ],
             [
              0.8888888888888888,
              "#fdca26"
             ],
             [
              1,
              "#f0f921"
             ]
            ],
            "type": "histogram2d"
           }
          ],
          "histogram2dcontour": [
           {
            "colorbar": {
             "outlinewidth": 0,
             "ticks": ""
            },
            "colorscale": [
             [
              0,
              "#0d0887"
             ],
             [
              0.1111111111111111,
              "#46039f"
             ],
             [
              0.2222222222222222,
              "#7201a8"
             ],
             [
              0.3333333333333333,
              "#9c179e"
             ],
             [
              0.4444444444444444,
              "#bd3786"
             ],
             [
              0.5555555555555556,
              "#d8576b"
             ],
             [
              0.6666666666666666,
              "#ed7953"
             ],
             [
              0.7777777777777778,
              "#fb9f3a"
             ],
             [
              0.8888888888888888,
              "#fdca26"
             ],
             [
              1,
              "#f0f921"
             ]
            ],
            "type": "histogram2dcontour"
           }
          ],
          "mesh3d": [
           {
            "colorbar": {
             "outlinewidth": 0,
             "ticks": ""
            },
            "type": "mesh3d"
           }
          ],
          "parcoords": [
           {
            "line": {
             "colorbar": {
              "outlinewidth": 0,
              "ticks": ""
             }
            },
            "type": "parcoords"
           }
          ],
          "pie": [
           {
            "automargin": true,
            "type": "pie"
           }
          ],
          "scatter": [
           {
            "fillpattern": {
             "fillmode": "overlay",
             "size": 10,
             "solidity": 0.2
            },
            "type": "scatter"
           }
          ],
          "scatter3d": [
           {
            "line": {
             "colorbar": {
              "outlinewidth": 0,
              "ticks": ""
             }
            },
            "marker": {
             "colorbar": {
              "outlinewidth": 0,
              "ticks": ""
             }
            },
            "type": "scatter3d"
           }
          ],
          "scattercarpet": [
           {
            "marker": {
             "colorbar": {
              "outlinewidth": 0,
              "ticks": ""
             }
            },
            "type": "scattercarpet"
           }
          ],
          "scattergeo": [
           {
            "marker": {
             "colorbar": {
              "outlinewidth": 0,
              "ticks": ""
             }
            },
            "type": "scattergeo"
           }
          ],
          "scattergl": [
           {
            "marker": {
             "colorbar": {
              "outlinewidth": 0,
              "ticks": ""
             }
            },
            "type": "scattergl"
           }
          ],
          "scattermap": [
           {
            "marker": {
             "colorbar": {
              "outlinewidth": 0,
              "ticks": ""
             }
            },
            "type": "scattermap"
           }
          ],
          "scattermapbox": [
           {
            "marker": {
             "colorbar": {
              "outlinewidth": 0,
              "ticks": ""
             }
            },
            "type": "scattermapbox"
           }
          ],
          "scatterpolar": [
           {
            "marker": {
             "colorbar": {
              "outlinewidth": 0,
              "ticks": ""
             }
            },
            "type": "scatterpolar"
           }
          ],
          "scatterpolargl": [
           {
            "marker": {
             "colorbar": {
              "outlinewidth": 0,
              "ticks": ""
             }
            },
            "type": "scatterpolargl"
           }
          ],
          "scatterternary": [
           {
            "marker": {
             "colorbar": {
              "outlinewidth": 0,
              "ticks": ""
             }
            },
            "type": "scatterternary"
           }
          ],
          "surface": [
           {
            "colorbar": {
             "outlinewidth": 0,
             "ticks": ""
            },
            "colorscale": [
             [
              0,
              "#0d0887"
             ],
             [
              0.1111111111111111,
              "#46039f"
             ],
             [
              0.2222222222222222,
              "#7201a8"
             ],
             [
              0.3333333333333333,
              "#9c179e"
             ],
             [
              0.4444444444444444,
              "#bd3786"
             ],
             [
              0.5555555555555556,
              "#d8576b"
             ],
             [
              0.6666666666666666,
              "#ed7953"
             ],
             [
              0.7777777777777778,
              "#fb9f3a"
             ],
             [
              0.8888888888888888,
              "#fdca26"
             ],
             [
              1,
              "#f0f921"
             ]
            ],
            "type": "surface"
           }
          ],
          "table": [
           {
            "cells": {
             "fill": {
              "color": "#EBF0F8"
             },
             "line": {
              "color": "white"
             }
            },
            "header": {
             "fill": {
              "color": "#C8D4E3"
             },
             "line": {
              "color": "white"
             }
            },
            "type": "table"
           }
          ]
         },
         "layout": {
          "annotationdefaults": {
           "arrowcolor": "#2a3f5f",
           "arrowhead": 0,
           "arrowwidth": 1
          },
          "autotypenumbers": "strict",
          "coloraxis": {
           "colorbar": {
            "outlinewidth": 0,
            "ticks": ""
           }
          },
          "colorscale": {
           "diverging": [
            [
             0,
             "#8e0152"
            ],
            [
             0.1,
             "#c51b7d"
            ],
            [
             0.2,
             "#de77ae"
            ],
            [
             0.3,
             "#f1b6da"
            ],
            [
             0.4,
             "#fde0ef"
            ],
            [
             0.5,
             "#f7f7f7"
            ],
            [
             0.6,
             "#e6f5d0"
            ],
            [
             0.7,
             "#b8e186"
            ],
            [
             0.8,
             "#7fbc41"
            ],
            [
             0.9,
             "#4d9221"
            ],
            [
             1,
             "#276419"
            ]
           ],
           "sequential": [
            [
             0,
             "#0d0887"
            ],
            [
             0.1111111111111111,
             "#46039f"
            ],
            [
             0.2222222222222222,
             "#7201a8"
            ],
            [
             0.3333333333333333,
             "#9c179e"
            ],
            [
             0.4444444444444444,
             "#bd3786"
            ],
            [
             0.5555555555555556,
             "#d8576b"
            ],
            [
             0.6666666666666666,
             "#ed7953"
            ],
            [
             0.7777777777777778,
             "#fb9f3a"
            ],
            [
             0.8888888888888888,
             "#fdca26"
            ],
            [
             1,
             "#f0f921"
            ]
           ],
           "sequentialminus": [
            [
             0,
             "#0d0887"
            ],
            [
             0.1111111111111111,
             "#46039f"
            ],
            [
             0.2222222222222222,
             "#7201a8"
            ],
            [
             0.3333333333333333,
             "#9c179e"
            ],
            [
             0.4444444444444444,
             "#bd3786"
            ],
            [
             0.5555555555555556,
             "#d8576b"
            ],
            [
             0.6666666666666666,
             "#ed7953"
            ],
            [
             0.7777777777777778,
             "#fb9f3a"
            ],
            [
             0.8888888888888888,
             "#fdca26"
            ],
            [
             1,
             "#f0f921"
            ]
           ]
          },
          "colorway": [
           "#636efa",
           "#EF553B",
           "#00cc96",
           "#ab63fa",
           "#FFA15A",
           "#19d3f3",
           "#FF6692",
           "#B6E880",
           "#FF97FF",
           "#FECB52"
          ],
          "font": {
           "color": "#2a3f5f"
          },
          "geo": {
           "bgcolor": "white",
           "lakecolor": "white",
           "landcolor": "#E5ECF6",
           "showlakes": true,
           "showland": true,
           "subunitcolor": "white"
          },
          "hoverlabel": {
           "align": "left"
          },
          "hovermode": "closest",
          "mapbox": {
           "style": "light"
          },
          "paper_bgcolor": "white",
          "plot_bgcolor": "#E5ECF6",
          "polar": {
           "angularaxis": {
            "gridcolor": "white",
            "linecolor": "white",
            "ticks": ""
           },
           "bgcolor": "#E5ECF6",
           "radialaxis": {
            "gridcolor": "white",
            "linecolor": "white",
            "ticks": ""
           }
          },
          "scene": {
           "xaxis": {
            "backgroundcolor": "#E5ECF6",
            "gridcolor": "white",
            "gridwidth": 2,
            "linecolor": "white",
            "showbackground": true,
            "ticks": "",
            "zerolinecolor": "white"
           },
           "yaxis": {
            "backgroundcolor": "#E5ECF6",
            "gridcolor": "white",
            "gridwidth": 2,
            "linecolor": "white",
            "showbackground": true,
            "ticks": "",
            "zerolinecolor": "white"
           },
           "zaxis": {
            "backgroundcolor": "#E5ECF6",
            "gridcolor": "white",
            "gridwidth": 2,
            "linecolor": "white",
            "showbackground": true,
            "ticks": "",
            "zerolinecolor": "white"
           }
          },
          "shapedefaults": {
           "line": {
            "color": "#2a3f5f"
           }
          },
          "ternary": {
           "aaxis": {
            "gridcolor": "white",
            "linecolor": "white",
            "ticks": ""
           },
           "baxis": {
            "gridcolor": "white",
            "linecolor": "white",
            "ticks": ""
           },
           "bgcolor": "#E5ECF6",
           "caxis": {
            "gridcolor": "white",
            "linecolor": "white",
            "ticks": ""
           }
          },
          "title": {
           "x": 0.05
          },
          "xaxis": {
           "automargin": true,
           "gridcolor": "white",
           "linecolor": "white",
           "ticks": "",
           "title": {
            "standoff": 15
           },
           "zerolinecolor": "white",
           "zerolinewidth": 2
          },
          "yaxis": {
           "automargin": true,
           "gridcolor": "white",
           "linecolor": "white",
           "ticks": "",
           "title": {
            "standoff": 15
           },
           "zerolinecolor": "white",
           "zerolinewidth": 2
          }
         }
        },
        "title": {
         "text": "Histogram of Time Between Detention and Assassination"
        },
        "xaxis": {
         "anchor": "y",
         "domain": [
          0,
          1
         ],
         "title": {
          "text": "Days Between Detention and Assassination"
         }
        },
        "yaxis": {
         "anchor": "x",
         "domain": [
          0,
          1
         ],
         "title": {
          "text": "count"
         }
        }
       }
      }
     },
     "metadata": {},
     "output_type": "display_data"
    }
   ],
   "source": [
    "# histogram for time between detention and assassination \n",
    "\n",
    "df_clean['time_to_assassination'] = (df_clean['fecha_asesinato'] - df_clean['fecha_detencion']).dt.days\n",
    "fig = px.histogram(df_clean, x='time_to_assassination', nbins=30, \n",
    "                   title='Histogram of Time Between Detention and Assassination',\n",
    "                   labels={'time_to_assassination': 'Days Between Detention and Assassination'})\n",
    "fig.update_layout(bargap=0.1)\n",
    "fig.show()"
   ]
  },
  {
   "cell_type": "markdown",
   "id": "8cdd0d99",
   "metadata": {},
   "source": [
    "### Spatial Information"
   ]
  },
  {
   "cell_type": "code",
   "execution_count": 47,
   "id": "29d319ed",
   "metadata": {},
   "outputs": [
    {
     "data": {
      "application/vnd.plotly.v1+json": {
       "config": {
        "plotlyServerURL": "https://plot.ly"
       },
       "data": [
        {
         "hovertemplate": "Count=%{marker.color}<br>Province=%{y}<extra></extra>",
         "legendgroup": "",
         "marker": {
          "color": {
           "bdata": "HgAfACIAIgBFAFwAjwBYAYUCoQIKBdkHpgw=",
           "dtype": "i2"
          },
          "coloraxis": "coloraxis",
          "line": {
           "width": 0
          },
          "pattern": {
           "shape": ""
          }
         },
         "name": "",
         "orientation": "h",
         "showlegend": false,
         "text": {
          "bdata": "AAAAAAAAPkAAAAAAAAA/QAAAAAAAAEFAAAAAAAAAQUAAAAAAAEBRQAAAAAAAAFdAAAAAAADgYUAAAAAAAIB1QAAAAAAAKIRAAAAAAAAIhUAAAAAAACiUQAAAAAAAZJ9AAAAAAABMqUA=",
          "dtype": "f8"
         },
         "textposition": "outside",
         "texttemplate": "%{text}",
         "type": "bar",
         "x": {
          "bdata": "HgAfACIAIgBFAFwAjwBYAYUCoQIKBdkHpgw=",
          "dtype": "i2"
         },
         "xaxis": "x",
         "y": [
          "CHACO",
          "SAN JUAN",
          "SANTIAGO DEL ESTERO",
          "CORRIENTES",
          "JUJUY",
          "SALTA",
          "MENDOZA",
          "SANTA FE",
          "CORDOBA",
          "TUCUMAN",
          "Other",
          "CIUDAD AUTONOMA DE BUENOS AIRES",
          "BUENOS AIRES"
         ],
         "yaxis": "y"
        }
       ],
       "layout": {
        "barmode": "relative",
        "coloraxis": {
         "colorbar": {
          "title": {
           "text": "Count"
          }
         },
         "colorscale": [
          [
           0,
           "#440154"
          ],
          [
           0.1111111111111111,
           "#482878"
          ],
          [
           0.2222222222222222,
           "#3e4989"
          ],
          [
           0.3333333333333333,
           "#31688e"
          ],
          [
           0.4444444444444444,
           "#26828e"
          ],
          [
           0.5555555555555556,
           "#1f9e89"
          ],
          [
           0.6666666666666666,
           "#35b779"
          ],
          [
           0.7777777777777778,
           "#6ece58"
          ],
          [
           0.8888888888888888,
           "#b5de2b"
          ],
          [
           1,
           "#fde725"
          ]
         ],
         "showscale": false
        },
        "height": 600,
        "legend": {
         "tracegroupgap": 0
        },
        "margin": {
         "b": 40,
         "l": 120,
         "r": 30,
         "t": 60
        },
        "template": {
         "data": {
          "bar": [
           {
            "error_x": {
             "color": "#2a3f5f"
            },
            "error_y": {
             "color": "#2a3f5f"
            },
            "marker": {
             "line": {
              "color": "#E5ECF6",
              "width": 0.5
             },
             "pattern": {
              "fillmode": "overlay",
              "size": 10,
              "solidity": 0.2
             }
            },
            "type": "bar"
           }
          ],
          "barpolar": [
           {
            "marker": {
             "line": {
              "color": "#E5ECF6",
              "width": 0.5
             },
             "pattern": {
              "fillmode": "overlay",
              "size": 10,
              "solidity": 0.2
             }
            },
            "type": "barpolar"
           }
          ],
          "carpet": [
           {
            "aaxis": {
             "endlinecolor": "#2a3f5f",
             "gridcolor": "white",
             "linecolor": "white",
             "minorgridcolor": "white",
             "startlinecolor": "#2a3f5f"
            },
            "baxis": {
             "endlinecolor": "#2a3f5f",
             "gridcolor": "white",
             "linecolor": "white",
             "minorgridcolor": "white",
             "startlinecolor": "#2a3f5f"
            },
            "type": "carpet"
           }
          ],
          "choropleth": [
           {
            "colorbar": {
             "outlinewidth": 0,
             "ticks": ""
            },
            "type": "choropleth"
           }
          ],
          "contour": [
           {
            "colorbar": {
             "outlinewidth": 0,
             "ticks": ""
            },
            "colorscale": [
             [
              0,
              "#0d0887"
             ],
             [
              0.1111111111111111,
              "#46039f"
             ],
             [
              0.2222222222222222,
              "#7201a8"
             ],
             [
              0.3333333333333333,
              "#9c179e"
             ],
             [
              0.4444444444444444,
              "#bd3786"
             ],
             [
              0.5555555555555556,
              "#d8576b"
             ],
             [
              0.6666666666666666,
              "#ed7953"
             ],
             [
              0.7777777777777778,
              "#fb9f3a"
             ],
             [
              0.8888888888888888,
              "#fdca26"
             ],
             [
              1,
              "#f0f921"
             ]
            ],
            "type": "contour"
           }
          ],
          "contourcarpet": [
           {
            "colorbar": {
             "outlinewidth": 0,
             "ticks": ""
            },
            "type": "contourcarpet"
           }
          ],
          "heatmap": [
           {
            "colorbar": {
             "outlinewidth": 0,
             "ticks": ""
            },
            "colorscale": [
             [
              0,
              "#0d0887"
             ],
             [
              0.1111111111111111,
              "#46039f"
             ],
             [
              0.2222222222222222,
              "#7201a8"
             ],
             [
              0.3333333333333333,
              "#9c179e"
             ],
             [
              0.4444444444444444,
              "#bd3786"
             ],
             [
              0.5555555555555556,
              "#d8576b"
             ],
             [
              0.6666666666666666,
              "#ed7953"
             ],
             [
              0.7777777777777778,
              "#fb9f3a"
             ],
             [
              0.8888888888888888,
              "#fdca26"
             ],
             [
              1,
              "#f0f921"
             ]
            ],
            "type": "heatmap"
           }
          ],
          "histogram": [
           {
            "marker": {
             "pattern": {
              "fillmode": "overlay",
              "size": 10,
              "solidity": 0.2
             }
            },
            "type": "histogram"
           }
          ],
          "histogram2d": [
           {
            "colorbar": {
             "outlinewidth": 0,
             "ticks": ""
            },
            "colorscale": [
             [
              0,
              "#0d0887"
             ],
             [
              0.1111111111111111,
              "#46039f"
             ],
             [
              0.2222222222222222,
              "#7201a8"
             ],
             [
              0.3333333333333333,
              "#9c179e"
             ],
             [
              0.4444444444444444,
              "#bd3786"
             ],
             [
              0.5555555555555556,
              "#d8576b"
             ],
             [
              0.6666666666666666,
              "#ed7953"
             ],
             [
              0.7777777777777778,
              "#fb9f3a"
             ],
             [
              0.8888888888888888,
              "#fdca26"
             ],
             [
              1,
              "#f0f921"
             ]
            ],
            "type": "histogram2d"
           }
          ],
          "histogram2dcontour": [
           {
            "colorbar": {
             "outlinewidth": 0,
             "ticks": ""
            },
            "colorscale": [
             [
              0,
              "#0d0887"
             ],
             [
              0.1111111111111111,
              "#46039f"
             ],
             [
              0.2222222222222222,
              "#7201a8"
             ],
             [
              0.3333333333333333,
              "#9c179e"
             ],
             [
              0.4444444444444444,
              "#bd3786"
             ],
             [
              0.5555555555555556,
              "#d8576b"
             ],
             [
              0.6666666666666666,
              "#ed7953"
             ],
             [
              0.7777777777777778,
              "#fb9f3a"
             ],
             [
              0.8888888888888888,
              "#fdca26"
             ],
             [
              1,
              "#f0f921"
             ]
            ],
            "type": "histogram2dcontour"
           }
          ],
          "mesh3d": [
           {
            "colorbar": {
             "outlinewidth": 0,
             "ticks": ""
            },
            "type": "mesh3d"
           }
          ],
          "parcoords": [
           {
            "line": {
             "colorbar": {
              "outlinewidth": 0,
              "ticks": ""
             }
            },
            "type": "parcoords"
           }
          ],
          "pie": [
           {
            "automargin": true,
            "type": "pie"
           }
          ],
          "scatter": [
           {
            "fillpattern": {
             "fillmode": "overlay",
             "size": 10,
             "solidity": 0.2
            },
            "type": "scatter"
           }
          ],
          "scatter3d": [
           {
            "line": {
             "colorbar": {
              "outlinewidth": 0,
              "ticks": ""
             }
            },
            "marker": {
             "colorbar": {
              "outlinewidth": 0,
              "ticks": ""
             }
            },
            "type": "scatter3d"
           }
          ],
          "scattercarpet": [
           {
            "marker": {
             "colorbar": {
              "outlinewidth": 0,
              "ticks": ""
             }
            },
            "type": "scattercarpet"
           }
          ],
          "scattergeo": [
           {
            "marker": {
             "colorbar": {
              "outlinewidth": 0,
              "ticks": ""
             }
            },
            "type": "scattergeo"
           }
          ],
          "scattergl": [
           {
            "marker": {
             "colorbar": {
              "outlinewidth": 0,
              "ticks": ""
             }
            },
            "type": "scattergl"
           }
          ],
          "scattermap": [
           {
            "marker": {
             "colorbar": {
              "outlinewidth": 0,
              "ticks": ""
             }
            },
            "type": "scattermap"
           }
          ],
          "scattermapbox": [
           {
            "marker": {
             "colorbar": {
              "outlinewidth": 0,
              "ticks": ""
             }
            },
            "type": "scattermapbox"
           }
          ],
          "scatterpolar": [
           {
            "marker": {
             "colorbar": {
              "outlinewidth": 0,
              "ticks": ""
             }
            },
            "type": "scatterpolar"
           }
          ],
          "scatterpolargl": [
           {
            "marker": {
             "colorbar": {
              "outlinewidth": 0,
              "ticks": ""
             }
            },
            "type": "scatterpolargl"
           }
          ],
          "scatterternary": [
           {
            "marker": {
             "colorbar": {
              "outlinewidth": 0,
              "ticks": ""
             }
            },
            "type": "scatterternary"
           }
          ],
          "surface": [
           {
            "colorbar": {
             "outlinewidth": 0,
             "ticks": ""
            },
            "colorscale": [
             [
              0,
              "#0d0887"
             ],
             [
              0.1111111111111111,
              "#46039f"
             ],
             [
              0.2222222222222222,
              "#7201a8"
             ],
             [
              0.3333333333333333,
              "#9c179e"
             ],
             [
              0.4444444444444444,
              "#bd3786"
             ],
             [
              0.5555555555555556,
              "#d8576b"
             ],
             [
              0.6666666666666666,
              "#ed7953"
             ],
             [
              0.7777777777777778,
              "#fb9f3a"
             ],
             [
              0.8888888888888888,
              "#fdca26"
             ],
             [
              1,
              "#f0f921"
             ]
            ],
            "type": "surface"
           }
          ],
          "table": [
           {
            "cells": {
             "fill": {
              "color": "#EBF0F8"
             },
             "line": {
              "color": "white"
             }
            },
            "header": {
             "fill": {
              "color": "#C8D4E3"
             },
             "line": {
              "color": "white"
             }
            },
            "type": "table"
           }
          ]
         },
         "layout": {
          "annotationdefaults": {
           "arrowcolor": "#2a3f5f",
           "arrowhead": 0,
           "arrowwidth": 1
          },
          "autotypenumbers": "strict",
          "coloraxis": {
           "colorbar": {
            "outlinewidth": 0,
            "ticks": ""
           }
          },
          "colorscale": {
           "diverging": [
            [
             0,
             "#8e0152"
            ],
            [
             0.1,
             "#c51b7d"
            ],
            [
             0.2,
             "#de77ae"
            ],
            [
             0.3,
             "#f1b6da"
            ],
            [
             0.4,
             "#fde0ef"
            ],
            [
             0.5,
             "#f7f7f7"
            ],
            [
             0.6,
             "#e6f5d0"
            ],
            [
             0.7,
             "#b8e186"
            ],
            [
             0.8,
             "#7fbc41"
            ],
            [
             0.9,
             "#4d9221"
            ],
            [
             1,
             "#276419"
            ]
           ],
           "sequential": [
            [
             0,
             "#0d0887"
            ],
            [
             0.1111111111111111,
             "#46039f"
            ],
            [
             0.2222222222222222,
             "#7201a8"
            ],
            [
             0.3333333333333333,
             "#9c179e"
            ],
            [
             0.4444444444444444,
             "#bd3786"
            ],
            [
             0.5555555555555556,
             "#d8576b"
            ],
            [
             0.6666666666666666,
             "#ed7953"
            ],
            [
             0.7777777777777778,
             "#fb9f3a"
            ],
            [
             0.8888888888888888,
             "#fdca26"
            ],
            [
             1,
             "#f0f921"
            ]
           ],
           "sequentialminus": [
            [
             0,
             "#0d0887"
            ],
            [
             0.1111111111111111,
             "#46039f"
            ],
            [
             0.2222222222222222,
             "#7201a8"
            ],
            [
             0.3333333333333333,
             "#9c179e"
            ],
            [
             0.4444444444444444,
             "#bd3786"
            ],
            [
             0.5555555555555556,
             "#d8576b"
            ],
            [
             0.6666666666666666,
             "#ed7953"
            ],
            [
             0.7777777777777778,
             "#fb9f3a"
            ],
            [
             0.8888888888888888,
             "#fdca26"
            ],
            [
             1,
             "#f0f921"
            ]
           ]
          },
          "colorway": [
           "#636efa",
           "#EF553B",
           "#00cc96",
           "#ab63fa",
           "#FFA15A",
           "#19d3f3",
           "#FF6692",
           "#B6E880",
           "#FF97FF",
           "#FECB52"
          ],
          "font": {
           "color": "#2a3f5f"
          },
          "geo": {
           "bgcolor": "white",
           "lakecolor": "white",
           "landcolor": "#E5ECF6",
           "showlakes": true,
           "showland": true,
           "subunitcolor": "white"
          },
          "hoverlabel": {
           "align": "left"
          },
          "hovermode": "closest",
          "mapbox": {
           "style": "light"
          },
          "paper_bgcolor": "white",
          "plot_bgcolor": "#E5ECF6",
          "polar": {
           "angularaxis": {
            "gridcolor": "white",
            "linecolor": "white",
            "ticks": ""
           },
           "bgcolor": "#E5ECF6",
           "radialaxis": {
            "gridcolor": "white",
            "linecolor": "white",
            "ticks": ""
           }
          },
          "scene": {
           "xaxis": {
            "backgroundcolor": "#E5ECF6",
            "gridcolor": "white",
            "gridwidth": 2,
            "linecolor": "white",
            "showbackground": true,
            "ticks": "",
            "zerolinecolor": "white"
           },
           "yaxis": {
            "backgroundcolor": "#E5ECF6",
            "gridcolor": "white",
            "gridwidth": 2,
            "linecolor": "white",
            "showbackground": true,
            "ticks": "",
            "zerolinecolor": "white"
           },
           "zaxis": {
            "backgroundcolor": "#E5ECF6",
            "gridcolor": "white",
            "gridwidth": 2,
            "linecolor": "white",
            "showbackground": true,
            "ticks": "",
            "zerolinecolor": "white"
           }
          },
          "shapedefaults": {
           "line": {
            "color": "#2a3f5f"
           }
          },
          "ternary": {
           "aaxis": {
            "gridcolor": "white",
            "linecolor": "white",
            "ticks": ""
           },
           "baxis": {
            "gridcolor": "white",
            "linecolor": "white",
            "ticks": ""
           },
           "bgcolor": "#E5ECF6",
           "caxis": {
            "gridcolor": "white",
            "linecolor": "white",
            "ticks": ""
           }
          },
          "title": {
           "x": 0.05
          },
          "xaxis": {
           "automargin": true,
           "gridcolor": "white",
           "linecolor": "white",
           "ticks": "",
           "title": {
            "standoff": 15
           },
           "zerolinecolor": "white",
           "zerolinewidth": 2
          },
          "yaxis": {
           "automargin": true,
           "gridcolor": "white",
           "linecolor": "white",
           "ticks": "",
           "title": {
            "standoff": 15
           },
           "zerolinecolor": "white",
           "zerolinewidth": 2
          }
         }
        },
        "title": {
         "text": "Detenciones por Provincia"
        },
        "xaxis": {
         "anchor": "y",
         "domain": [
          0,
          1
         ],
         "range": [
          0,
          3561.8
         ],
         "title": {
          "text": "Number of Disappearances"
         }
        },
        "yaxis": {
         "anchor": "x",
         "domain": [
          0,
          1
         ],
         "title": {
          "text": "Province"
         }
        }
       }
      }
     },
     "metadata": {},
     "output_type": "display_data"
    }
   ],
   "source": [
    "# bar chart for provincia_detencion_simple (plotly)\n",
    "prov_counts = df_clean['provincia_detencion_simple'].value_counts().reset_index()\n",
    "prov_counts.columns = ['Province', 'Count']\n",
    "prov_counts = prov_counts.sort_values('Count', ascending=True)  # ascending so largest at top for horizontal bars\n",
    "\n",
    "fig = px.bar(\n",
    "    prov_counts,\n",
    "    x='Count',\n",
    "    y='Province',\n",
    "    orientation='h',\n",
    "    color='Count',\n",
    "    color_continuous_scale=px.colors.sequential.Viridis,\n",
    "    text='Count',\n",
    "    title='Detenciones por Provincia'\n",
    ")\n",
    "fig.update_traces(texttemplate='%{text}', textposition='outside', marker_line_width=0)\n",
    "fig.update_layout(\n",
    "    xaxis_title='Number of Disappearances',\n",
    "    yaxis_title='Province',\n",
    "    height=600,\n",
    "    margin=dict(l=120, r=30, t=60, b=40),\n",
    "    coloraxis_showscale=False,\n",
    "    xaxis_range=[0, prov_counts['Count'].max() * 1.1]  # extra space for text\n",
    ")\n",
    "fig.show()\n"
   ]
  },
  {
   "cell_type": "markdown",
   "id": "fdb9e6bf",
   "metadata": {},
   "source": [
    "The plots above, combined with the historical context, show the following trends:\n",
    "\n",
    "- **Victim age:** Most disappearances affected **young adults (20–30 years old)**, reflecting the junta’s focus on **student activists, union members, and politically active youth**.  \n",
    "- **Temporal patterns:**  \n",
    "  - Disappearances of young adults **began before the dictatorship** (e.g., early cases like Felipe Vallese in 1962).  \n",
    "  - From **1975–1980**, there is a marked spike in both young adult and some older victims, coinciding with the **peak of state repression** under the military government.  \n",
    "- **Dictatorship period:** The **majority of disappearances occurred during 1976–1983**, consistent with the documented timeline of Argentina’s “Dirty War.”  \n",
    "- **Duration of captivity:** Most victims were **detained less than 100 days** before assassination or disappearance, showing the regime’s **rapid targeting and elimination**.  \n",
    "- **Geography:** **Buenos Aires Province (BA) and Capital Federal (CABA)** account for the bulk (~60%) of recorded disappearances, reflecting **centralized operations, urban activism, and concentration of detention centers**.  \n",
    "- **Nationality:** Almost all victims were **Argentine**, highlighting the domestic focus of repression, though a small number of foreign or naturalized residents were also targeted.\n"
   ]
  }
 ],
 "metadata": {
  "kernelspec": {
   "display_name": ".venv (3.11.3)",
   "language": "python",
   "name": "python3"
  },
  "language_info": {
   "codemirror_mode": {
    "name": "ipython",
    "version": 3
   },
   "file_extension": ".py",
   "mimetype": "text/x-python",
   "name": "python",
   "nbconvert_exporter": "python",
   "pygments_lexer": "ipython3",
   "version": "3.11.3"
  }
 },
 "nbformat": 4,
 "nbformat_minor": 5
}
